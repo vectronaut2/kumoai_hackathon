{
 "cells": [
  {
   "cell_type": "markdown",
   "id": "75255b04-62ad-47fb-a95b-d1f527d4c760",
   "metadata": {},
   "source": [
    "## Yago semantic graph \n",
    "Usecase - find inconsistencies / anomalies in knowledge graphs"
   ]
  },
  {
   "cell_type": "code",
   "execution_count": null,
   "id": "385a26cc-732f-48cc-ae89-a6f90dacdab8",
   "metadata": {},
   "outputs": [],
   "source": []
  },
  {
   "cell_type": "markdown",
   "id": "3ea59964-9083-48d5-845b-c92272f1596c",
   "metadata": {},
   "source": [
    "## FB15k-237 semantic graph\n",
    "\n",
    "https://www.kaggle.com/datasets/latebloomer/fb15k-237/data\n",
    "\n",
    "https://www.kaggle.com/datasets/latebloomer/freebase-wikidata-mapping"
   ]
  },
  {
   "cell_type": "code",
   "id": "a746ebde-7bf3-4b30-8547-db9f363b6f7b",
   "metadata": {
    "ExecuteTime": {
     "end_time": "2025-08-20T00:23:21.760346Z",
     "start_time": "2025-08-20T00:23:21.608572Z"
    }
   },
   "source": [
    "!pip install kagglehub"
   ],
   "outputs": [
    {
     "name": "stdout",
     "output_type": "stream",
     "text": [
      "zsh:1: command not found: pip\r\n"
     ]
    }
   ],
   "execution_count": 1
  },
  {
   "cell_type": "code",
   "id": "2cc5a3d6-20ce-4366-be01-010454932820",
   "metadata": {
    "ExecuteTime": {
     "end_time": "2025-08-20T00:23:25.508837Z",
     "start_time": "2025-08-20T00:23:25.382229Z"
    }
   },
   "source": [
    "import kagglehub\n",
    "\n",
    "# path = kagglehub.dataset_download(\"latebloomer/fb15k-237\")\n",
    "# print(\"Path to dataset files:\", path)"
   ],
   "outputs": [
    {
     "ename": "ModuleNotFoundError",
     "evalue": "No module named 'kagglehub'",
     "output_type": "error",
     "traceback": [
      "\u001B[31m---------------------------------------------------------------------------\u001B[39m",
      "\u001B[31mModuleNotFoundError\u001B[39m                       Traceback (most recent call last)",
      "\u001B[36mCell\u001B[39m\u001B[36m \u001B[39m\u001B[32mIn[2]\u001B[39m\u001B[32m, line 1\u001B[39m\n\u001B[32m----> \u001B[39m\u001B[32m1\u001B[39m \u001B[38;5;28;01mimport\u001B[39;00m\u001B[38;5;250m \u001B[39m\u001B[34;01mkagglehub\u001B[39;00m\n\u001B[32m      3\u001B[39m \u001B[38;5;66;03m# path = kagglehub.dataset_download(\"latebloomer/fb15k-237\")\u001B[39;00m\n\u001B[32m      4\u001B[39m \u001B[38;5;66;03m# print(\"Path to dataset files:\", path)\u001B[39;00m\n",
      "\u001B[31mModuleNotFoundError\u001B[39m: No module named 'kagglehub'"
     ]
    }
   ],
   "execution_count": 2
  },
  {
   "cell_type": "code",
   "execution_count": 1,
   "id": "1eed983c-bbff-4212-b946-48193716e725",
   "metadata": {},
   "outputs": [],
   "source": [
    "import pandas as pd"
   ]
  },
  {
   "cell_type": "code",
   "execution_count": 2,
   "id": "27520b0a-8a13-4ef1-b05e-8cc615303b0b",
   "metadata": {},
   "outputs": [],
   "source": [
    "data_path = \"../datasets/fb15k-237/\""
   ]
  },
  {
   "cell_type": "code",
   "execution_count": 3,
   "id": "c4aa6d58-9073-4daf-afa2-137e248335c2",
   "metadata": {},
   "outputs": [],
   "source": [
    "column_names = ['src_freebase_id', 'relation', 'dest_freebase_id']\n",
    "triples_df = pd.read_csv(f\"{data_path}/train.txt\", header=None, names=column_names)\n",
    "# df = pd.read_csv(f\"{data_path}/train.txt\", sep='/t', header=None, names=column_names)"
   ]
  },
  {
   "cell_type": "code",
   "execution_count": 4,
   "id": "c4bb0c94-db43-4acb-9896-4c63672d1e9d",
   "metadata": {},
   "outputs": [],
   "source": [
    "triples_df['triple_id'] = triples_df.index"
   ]
  },
  {
   "cell_type": "code",
   "execution_count": 5,
   "id": "6c56b7e9-4713-452e-a6d2-d01ea0584a61",
   "metadata": {},
   "outputs": [
    {
     "name": "stdout",
     "output_type": "stream",
     "text": [
      "<class 'pandas.core.frame.DataFrame'>\n",
      "RangeIndex: 272115 entries, 0 to 272114\n",
      "Data columns (total 4 columns):\n",
      " #   Column            Non-Null Count   Dtype \n",
      "---  ------            --------------   ----- \n",
      " 0   src_freebase_id   272115 non-null  object\n",
      " 1   relation          272115 non-null  object\n",
      " 2   dest_freebase_id  272115 non-null  object\n",
      " 3   triple_id         272115 non-null  int64 \n",
      "dtypes: int64(1), object(3)\n",
      "memory usage: 8.3+ MB\n"
     ]
    }
   ],
   "source": [
    "triples_df.info()"
   ]
  },
  {
   "cell_type": "code",
   "execution_count": 6,
   "id": "9bf2ef77-1432-4bfd-98d4-1321c4dfbd2d",
   "metadata": {},
   "outputs": [
    {
     "data": {
      "text/html": [
       "<div>\n",
       "<style scoped>\n",
       "    .dataframe tbody tr th:only-of-type {\n",
       "        vertical-align: middle;\n",
       "    }\n",
       "\n",
       "    .dataframe tbody tr th {\n",
       "        vertical-align: top;\n",
       "    }\n",
       "\n",
       "    .dataframe thead th {\n",
       "        text-align: right;\n",
       "    }\n",
       "</style>\n",
       "<table border=\"1\" class=\"dataframe\">\n",
       "  <thead>\n",
       "    <tr style=\"text-align: right;\">\n",
       "      <th></th>\n",
       "      <th>src_freebase_id</th>\n",
       "      <th>relation</th>\n",
       "      <th>dest_freebase_id</th>\n",
       "      <th>triple_id</th>\n",
       "    </tr>\n",
       "  </thead>\n",
       "  <tbody>\n",
       "    <tr>\n",
       "      <th>0</th>\n",
       "      <td>/m/027rn</td>\n",
       "      <td>/location/country/form_of_government</td>\n",
       "      <td>/m/06cx9</td>\n",
       "      <td>0</td>\n",
       "    </tr>\n",
       "    <tr>\n",
       "      <th>1</th>\n",
       "      <td>/m/017dcd</td>\n",
       "      <td>/tv/tv_program/regular_cast./tv/regular_tv_app...</td>\n",
       "      <td>/m/06v8s0</td>\n",
       "      <td>1</td>\n",
       "    </tr>\n",
       "    <tr>\n",
       "      <th>2</th>\n",
       "      <td>/m/07s9rl0</td>\n",
       "      <td>/media_common/netflix_genre/titles</td>\n",
       "      <td>/m/0170z3</td>\n",
       "      <td>2</td>\n",
       "    </tr>\n",
       "    <tr>\n",
       "      <th>3</th>\n",
       "      <td>/m/01sl1q</td>\n",
       "      <td>/award/award_winner/awards_won./award/award_ho...</td>\n",
       "      <td>/m/044mz_</td>\n",
       "      <td>3</td>\n",
       "    </tr>\n",
       "    <tr>\n",
       "      <th>4</th>\n",
       "      <td>/m/0cnk2q</td>\n",
       "      <td>/soccer/football_team/current_roster./sports/s...</td>\n",
       "      <td>/m/02nzb8</td>\n",
       "      <td>4</td>\n",
       "    </tr>\n",
       "  </tbody>\n",
       "</table>\n",
       "</div>"
      ],
      "text/plain": [
       "  src_freebase_id                                           relation  \\\n",
       "0        /m/027rn               /location/country/form_of_government   \n",
       "1       /m/017dcd  /tv/tv_program/regular_cast./tv/regular_tv_app...   \n",
       "2      /m/07s9rl0                 /media_common/netflix_genre/titles   \n",
       "3       /m/01sl1q  /award/award_winner/awards_won./award/award_ho...   \n",
       "4       /m/0cnk2q  /soccer/football_team/current_roster./sports/s...   \n",
       "\n",
       "  dest_freebase_id  triple_id  \n",
       "0         /m/06cx9          0  \n",
       "1        /m/06v8s0          1  \n",
       "2        /m/0170z3          2  \n",
       "3        /m/044mz_          3  \n",
       "4        /m/02nzb8          4  "
      ]
     },
     "execution_count": 6,
     "metadata": {},
     "output_type": "execute_result"
    }
   ],
   "source": [
    "triples_df.head(5)"
   ]
  },
  {
   "cell_type": "code",
   "execution_count": 7,
   "id": "7f672bea-3b40-40fb-8562-dc16e84b719c",
   "metadata": {},
   "outputs": [
    {
     "data": {
      "text/html": [
       "<div>\n",
       "<style scoped>\n",
       "    .dataframe tbody tr th:only-of-type {\n",
       "        vertical-align: middle;\n",
       "    }\n",
       "\n",
       "    .dataframe tbody tr th {\n",
       "        vertical-align: top;\n",
       "    }\n",
       "\n",
       "    .dataframe thead th {\n",
       "        text-align: right;\n",
       "    }\n",
       "</style>\n",
       "<table border=\"1\" class=\"dataframe\">\n",
       "  <thead>\n",
       "    <tr style=\"text-align: right;\">\n",
       "      <th></th>\n",
       "      <th>src_freebase_id</th>\n",
       "      <th>dest_freebase_id</th>\n",
       "    </tr>\n",
       "  </thead>\n",
       "  <tbody>\n",
       "    <tr>\n",
       "      <th>count</th>\n",
       "      <td>272115</td>\n",
       "      <td>272115</td>\n",
       "    </tr>\n",
       "    <tr>\n",
       "      <th>unique</th>\n",
       "      <td>13781</td>\n",
       "      <td>13379</td>\n",
       "    </tr>\n",
       "    <tr>\n",
       "      <th>top</th>\n",
       "      <td>/m/09c7w0</td>\n",
       "      <td>/m/09c7w0</td>\n",
       "    </tr>\n",
       "    <tr>\n",
       "      <th>freq</th>\n",
       "      <td>1325</td>\n",
       "      <td>6289</td>\n",
       "    </tr>\n",
       "  </tbody>\n",
       "</table>\n",
       "</div>"
      ],
      "text/plain": [
       "       src_freebase_id dest_freebase_id\n",
       "count           272115           272115\n",
       "unique           13781            13379\n",
       "top          /m/09c7w0        /m/09c7w0\n",
       "freq              1325             6289"
      ]
     },
     "execution_count": 7,
     "metadata": {},
     "output_type": "execute_result"
    }
   ],
   "source": [
    "triples_df[['src_freebase_id', 'dest_freebase_id']].describe()"
   ]
  },
  {
   "cell_type": "code",
   "execution_count": 8,
   "id": "5e7507f6-cd69-4b58-93e2-340c7dc3f14f",
   "metadata": {},
   "outputs": [
    {
     "data": {
      "text/html": [
       "<div>\n",
       "<style scoped>\n",
       "    .dataframe tbody tr th:only-of-type {\n",
       "        vertical-align: middle;\n",
       "    }\n",
       "\n",
       "    .dataframe tbody tr th {\n",
       "        vertical-align: top;\n",
       "    }\n",
       "\n",
       "    .dataframe thead th {\n",
       "        text-align: right;\n",
       "    }\n",
       "</style>\n",
       "<table border=\"1\" class=\"dataframe\">\n",
       "  <thead>\n",
       "    <tr style=\"text-align: right;\">\n",
       "      <th></th>\n",
       "      <th>relation</th>\n",
       "    </tr>\n",
       "  </thead>\n",
       "  <tbody>\n",
       "    <tr>\n",
       "      <th>count</th>\n",
       "      <td>272115</td>\n",
       "    </tr>\n",
       "    <tr>\n",
       "      <th>unique</th>\n",
       "      <td>237</td>\n",
       "    </tr>\n",
       "    <tr>\n",
       "      <th>top</th>\n",
       "      <td>/award/award_nominee/award_nominations./award/...</td>\n",
       "    </tr>\n",
       "    <tr>\n",
       "      <th>freq</th>\n",
       "      <td>15989</td>\n",
       "    </tr>\n",
       "  </tbody>\n",
       "</table>\n",
       "</div>"
      ],
      "text/plain": [
       "                                                 relation\n",
       "count                                              272115\n",
       "unique                                                237\n",
       "top     /award/award_nominee/award_nominations./award/...\n",
       "freq                                                15989"
      ]
     },
     "execution_count": 8,
     "metadata": {},
     "output_type": "execute_result"
    }
   ],
   "source": [
    "triples_df[['relation']].describe()"
   ]
  },
  {
   "cell_type": "code",
   "execution_count": 9,
   "id": "e8a2061a-5e7b-45ec-8b4a-2ddf368a10ec",
   "metadata": {},
   "outputs": [],
   "source": [
    "# triples_df[['relation']].value_counts()"
   ]
  },
  {
   "cell_type": "code",
   "execution_count": 10,
   "id": "8566558d-cd75-40ca-95ef-a1701f9383d1",
   "metadata": {},
   "outputs": [],
   "source": [
    "triples_df['relation'] = triples_df['relation'].astype('category')"
   ]
  },
  {
   "cell_type": "code",
   "execution_count": null,
   "id": "0265e156-e966-42fe-9356-799fbd18cd95",
   "metadata": {},
   "outputs": [],
   "source": []
  },
  {
   "cell_type": "code",
   "execution_count": null,
   "id": "453a5866-f726-4ed7-b902-0027afafb782",
   "metadata": {},
   "outputs": [],
   "source": []
  },
  {
   "cell_type": "code",
   "execution_count": 11,
   "id": "5eb2c472-70fa-4fa2-9736-0b8546651844",
   "metadata": {},
   "outputs": [],
   "source": [
    "freebase_vs_wiki_df =  pd.read_csv(f\"{data_path}/fb_wiki_mapping.tsv\", sep='\\t')\n",
    "# freebase_vs_wiki_df =  pd.read_csv(f\"{data_path}/fb_wiki_mapping.csv\")"
   ]
  },
  {
   "cell_type": "code",
   "execution_count": 12,
   "id": "0af3790d-a89e-45d5-9d42-a956e99e8de3",
   "metadata": {},
   "outputs": [
    {
     "data": {
      "text/html": [
       "<div>\n",
       "<style scoped>\n",
       "    .dataframe tbody tr th:only-of-type {\n",
       "        vertical-align: middle;\n",
       "    }\n",
       "\n",
       "    .dataframe tbody tr th {\n",
       "        vertical-align: top;\n",
       "    }\n",
       "\n",
       "    .dataframe thead th {\n",
       "        text-align: right;\n",
       "    }\n",
       "</style>\n",
       "<table border=\"1\" class=\"dataframe\">\n",
       "  <thead>\n",
       "    <tr style=\"text-align: right;\">\n",
       "      <th></th>\n",
       "      <th>freebase_id</th>\n",
       "      <th>wikidata_id</th>\n",
       "      <th>label</th>\n",
       "    </tr>\n",
       "  </thead>\n",
       "  <tbody>\n",
       "    <tr>\n",
       "      <th>0</th>\n",
       "      <td>/m/010005</td>\n",
       "      <td>Q974334</td>\n",
       "      <td>Corinth</td>\n",
       "    </tr>\n",
       "    <tr>\n",
       "      <th>1</th>\n",
       "      <td>/m/01000j</td>\n",
       "      <td>Q981582</td>\n",
       "      <td>Draper</td>\n",
       "    </tr>\n",
       "    <tr>\n",
       "      <th>2</th>\n",
       "      <td>/m/01000w</td>\n",
       "      <td>Q977417</td>\n",
       "      <td>Cross Roads</td>\n",
       "    </tr>\n",
       "  </tbody>\n",
       "</table>\n",
       "</div>"
      ],
      "text/plain": [
       "  freebase_id wikidata_id        label\n",
       "0   /m/010005     Q974334      Corinth\n",
       "1   /m/01000j     Q981582       Draper\n",
       "2   /m/01000w     Q977417  Cross Roads"
      ]
     },
     "execution_count": 12,
     "metadata": {},
     "output_type": "execute_result"
    }
   ],
   "source": [
    "# freebase_vs_wiki_df[''] = df.index\n",
    "freebase_vs_wiki_df.head(3)"
   ]
  },
  {
   "cell_type": "code",
   "execution_count": 13,
   "id": "0f7a6602-9130-475a-8417-799979088152",
   "metadata": {},
   "outputs": [
    {
     "data": {
      "text/html": [
       "<div>\n",
       "<style scoped>\n",
       "    .dataframe tbody tr th:only-of-type {\n",
       "        vertical-align: middle;\n",
       "    }\n",
       "\n",
       "    .dataframe tbody tr th {\n",
       "        vertical-align: top;\n",
       "    }\n",
       "\n",
       "    .dataframe thead th {\n",
       "        text-align: right;\n",
       "    }\n",
       "</style>\n",
       "<table border=\"1\" class=\"dataframe\">\n",
       "  <thead>\n",
       "    <tr style=\"text-align: right;\">\n",
       "      <th></th>\n",
       "      <th>freebase_id</th>\n",
       "      <th>wikidata_id</th>\n",
       "      <th>label</th>\n",
       "    </tr>\n",
       "  </thead>\n",
       "  <tbody>\n",
       "    <tr>\n",
       "      <th>count</th>\n",
       "      <td>2096636</td>\n",
       "      <td>2096636</td>\n",
       "      <td>2095837</td>\n",
       "    </tr>\n",
       "    <tr>\n",
       "      <th>unique</th>\n",
       "      <td>2094552</td>\n",
       "      <td>2096636</td>\n",
       "      <td>1959699</td>\n",
       "    </tr>\n",
       "    <tr>\n",
       "      <th>top</th>\n",
       "      <td>/m/060gfy</td>\n",
       "      <td>Q974334</td>\n",
       "      <td>Central District</td>\n",
       "    </tr>\n",
       "    <tr>\n",
       "      <th>freq</th>\n",
       "      <td>3</td>\n",
       "      <td>1</td>\n",
       "      <td>373</td>\n",
       "    </tr>\n",
       "  </tbody>\n",
       "</table>\n",
       "</div>"
      ],
      "text/plain": [
       "       freebase_id wikidata_id             label\n",
       "count      2096636     2096636           2095837\n",
       "unique     2094552     2096636           1959699\n",
       "top      /m/060gfy     Q974334  Central District\n",
       "freq             3           1               373"
      ]
     },
     "execution_count": 13,
     "metadata": {},
     "output_type": "execute_result"
    }
   ],
   "source": [
    "freebase_vs_wiki_df.describe()"
   ]
  },
  {
   "cell_type": "code",
   "execution_count": 14,
   "id": "2e0ba3e7-2dae-4983-bc54-6114eb2741f4",
   "metadata": {},
   "outputs": [],
   "source": [
    "freebase_vs_wiki_df['wikidata_int_id'] = freebase_vs_wiki_df.apply(lambda row: int(row['wikidata_id'][1:]), axis=1)"
   ]
  },
  {
   "cell_type": "code",
   "execution_count": 15,
   "id": "c93150d7-f6c8-4e9c-acec-b7b7893502d7",
   "metadata": {},
   "outputs": [],
   "source": [
    "freebase_vs_wiki_df.drop('wikidata_id', axis=1, inplace=True)\n",
    "freebase_vs_wiki_df.rename(columns={'wikidata_int_id':'wikidata_id'}, inplace=True)"
   ]
  },
  {
   "cell_type": "code",
   "execution_count": 16,
   "id": "0f8b2b41-7dd3-4149-b6c2-76fb39022272",
   "metadata": {},
   "outputs": [],
   "source": [
    "# are there any in the join\n",
    "triplets_with_src_wiki_ids_df = pd.merge(triples_df, freebase_vs_wiki_df, left_on='src_freebase_id', right_on='freebase_id')"
   ]
  },
  {
   "cell_type": "code",
   "execution_count": 17,
   "id": "cdc13562-a885-4389-af2d-6135875102ec",
   "metadata": {},
   "outputs": [],
   "source": [
    "# triplets_with_src_wiki_ids_df.info()"
   ]
  },
  {
   "cell_type": "code",
   "execution_count": 18,
   "id": "a3bebc0f-e56a-49a0-adf0-5e09beaea9f3",
   "metadata": {},
   "outputs": [],
   "source": [
    "triplets_with_src_dst_wiki_ids_df = pd.merge(triplets_with_src_wiki_ids_df, freebase_vs_wiki_df, left_on='dest_freebase_id', right_on='freebase_id')"
   ]
  },
  {
   "cell_type": "code",
   "execution_count": 19,
   "id": "5f7531f0-8c5c-4fdf-b7cf-84a7c727d671",
   "metadata": {},
   "outputs": [
    {
     "data": {
      "text/html": [
       "<div>\n",
       "<style scoped>\n",
       "    .dataframe tbody tr th:only-of-type {\n",
       "        vertical-align: middle;\n",
       "    }\n",
       "\n",
       "    .dataframe tbody tr th {\n",
       "        vertical-align: top;\n",
       "    }\n",
       "\n",
       "    .dataframe thead th {\n",
       "        text-align: right;\n",
       "    }\n",
       "</style>\n",
       "<table border=\"1\" class=\"dataframe\">\n",
       "  <thead>\n",
       "    <tr style=\"text-align: right;\">\n",
       "      <th></th>\n",
       "      <th>src_freebase_id</th>\n",
       "      <th>relation</th>\n",
       "      <th>dest_freebase_id</th>\n",
       "      <th>triple_id</th>\n",
       "      <th>freebase_id_x</th>\n",
       "      <th>label_x</th>\n",
       "      <th>wikidata_id_x</th>\n",
       "      <th>freebase_id_y</th>\n",
       "      <th>label_y</th>\n",
       "      <th>wikidata_id_y</th>\n",
       "    </tr>\n",
       "  </thead>\n",
       "  <tbody>\n",
       "    <tr>\n",
       "      <th>0</th>\n",
       "      <td>/m/027rn</td>\n",
       "      <td>/location/country/form_of_government</td>\n",
       "      <td>/m/06cx9</td>\n",
       "      <td>0</td>\n",
       "      <td>/m/027rn</td>\n",
       "      <td>Dominican Republic</td>\n",
       "      <td>786</td>\n",
       "      <td>/m/06cx9</td>\n",
       "      <td>republic</td>\n",
       "      <td>7270</td>\n",
       "    </tr>\n",
       "    <tr>\n",
       "      <th>1</th>\n",
       "      <td>/m/017dcd</td>\n",
       "      <td>/tv/tv_program/regular_cast./tv/regular_tv_app...</td>\n",
       "      <td>/m/06v8s0</td>\n",
       "      <td>1</td>\n",
       "      <td>/m/017dcd</td>\n",
       "      <td>Mighty Morphin Power Rangers</td>\n",
       "      <td>513809</td>\n",
       "      <td>/m/06v8s0</td>\n",
       "      <td>Wendee Lee</td>\n",
       "      <td>2642437</td>\n",
       "    </tr>\n",
       "    <tr>\n",
       "      <th>2</th>\n",
       "      <td>/m/07s9rl0</td>\n",
       "      <td>/media_common/netflix_genre/titles</td>\n",
       "      <td>/m/0170z3</td>\n",
       "      <td>2</td>\n",
       "      <td>/m/07s9rl0</td>\n",
       "      <td>drama film</td>\n",
       "      <td>130232</td>\n",
       "      <td>/m/0170z3</td>\n",
       "      <td>American History X</td>\n",
       "      <td>208572</td>\n",
       "    </tr>\n",
       "  </tbody>\n",
       "</table>\n",
       "</div>"
      ],
      "text/plain": [
       "  src_freebase_id                                           relation  \\\n",
       "0        /m/027rn               /location/country/form_of_government   \n",
       "1       /m/017dcd  /tv/tv_program/regular_cast./tv/regular_tv_app...   \n",
       "2      /m/07s9rl0                 /media_common/netflix_genre/titles   \n",
       "\n",
       "  dest_freebase_id  triple_id freebase_id_x                       label_x  \\\n",
       "0         /m/06cx9          0      /m/027rn            Dominican Republic   \n",
       "1        /m/06v8s0          1     /m/017dcd  Mighty Morphin Power Rangers   \n",
       "2        /m/0170z3          2    /m/07s9rl0                    drama film   \n",
       "\n",
       "   wikidata_id_x freebase_id_y             label_y  wikidata_id_y  \n",
       "0            786      /m/06cx9            republic           7270  \n",
       "1         513809     /m/06v8s0          Wendee Lee        2642437  \n",
       "2         130232     /m/0170z3  American History X         208572  "
      ]
     },
     "execution_count": 19,
     "metadata": {},
     "output_type": "execute_result"
    }
   ],
   "source": [
    "triplets_with_src_dst_wiki_ids_df.head(3)"
   ]
  },
  {
   "cell_type": "code",
   "execution_count": 20,
   "id": "b0dc0cd3-67de-466e-8543-28f05da52338",
   "metadata": {},
   "outputs": [
    {
     "name": "stdout",
     "output_type": "stream",
     "text": [
      "<class 'pandas.core.frame.DataFrame'>\n",
      "RangeIndex: 243636 entries, 0 to 243635\n",
      "Data columns (total 10 columns):\n",
      " #   Column            Non-Null Count   Dtype   \n",
      "---  ------            --------------   -----   \n",
      " 0   src_freebase_id   243636 non-null  object  \n",
      " 1   relation          243636 non-null  category\n",
      " 2   dest_freebase_id  243636 non-null  object  \n",
      " 3   triple_id         243636 non-null  int64   \n",
      " 4   freebase_id_x     243636 non-null  object  \n",
      " 5   label_x           243636 non-null  object  \n",
      " 6   wikidata_id_x     243636 non-null  int64   \n",
      " 7   freebase_id_y     243636 non-null  object  \n",
      " 8   label_y           243636 non-null  object  \n",
      " 9   wikidata_id_y     243636 non-null  int64   \n",
      "dtypes: category(1), int64(3), object(6)\n",
      "memory usage: 17.2+ MB\n"
     ]
    }
   ],
   "source": [
    "triplets_with_src_dst_wiki_ids_df.info()"
   ]
  },
  {
   "cell_type": "code",
   "execution_count": 21,
   "id": "7b66b9f2-bc75-425b-9165-b0bcbcf69aca",
   "metadata": {},
   "outputs": [],
   "source": [
    "triplets_with_src_dst_wiki_ids_df.rename(columns={'wikidata_id_x':'src_wikidata_id', 'wikidata_id_y':'dest_wikidata_id'}, inplace=True)"
   ]
  },
  {
   "cell_type": "code",
   "execution_count": null,
   "id": "7d1a187c-662d-4f35-a293-40dec1b94853",
   "metadata": {},
   "outputs": [],
   "source": []
  },
  {
   "cell_type": "code",
   "execution_count": null,
   "id": "d4a8bbb6-bf78-455f-9885-b6669a9aad6f",
   "metadata": {},
   "outputs": [],
   "source": [
    "# triplets_with_src_dst_wiki_ids_df.to_csv(\"~/Downloads/triplets_with_src_dst_wiki_ids.csv\", index=False)"
   ]
  },
  {
   "cell_type": "code",
   "execution_count": 22,
   "id": "5d3c7de7-c10c-46b2-bb6e-f2950a6fea42",
   "metadata": {},
   "outputs": [],
   "source": [
    "# All nodes and associated triples for freebase / wiki ?\n",
    "import kumoai as kumo"
   ]
  },
  {
   "cell_type": "code",
   "execution_count": 24,
   "id": "781577d8-14bc-4593-924b-11df391001bf",
   "metadata": {},
   "outputs": [],
   "source": [
    "import kumoai.experimental.rfm as rfm\n",
    "import os"
   ]
  },
  {
   "cell_type": "code",
   "execution_count": 26,
   "id": "46423057-8c71-4e8c-aa63-c901b5ff32fe",
   "metadata": {},
   "outputs": [
    {
     "name": "stdout",
     "output_type": "stream",
     "text": [
      "Opening browser page to automatically generate an API key...\n"
     ]
    },
    {
     "name": "stderr",
     "output_type": "stream",
     "text": [
      "[2025-08-17 19:35:40 - kumoai:298 - INFO] Generated token \"sdk-macbook-pro-3.local-2025-08-17-19-35-38-Z\" and saved to KUMO_API_KEY env variable\n"
     ]
    }
   ],
   "source": [
    "if not os.environ.get(\"KUMO_API_KEY\"):\n",
    "    rfm.authenticate()"
   ]
  },
  {
   "cell_type": "code",
   "execution_count": 27,
   "id": "2a213e15-ebf0-4d86-a29d-bc546c9e65e1",
   "metadata": {},
   "outputs": [
    {
     "name": "stderr",
     "output_type": "stream",
     "text": [
      "[2025-08-17 19:35:49 - kumoai:196 - INFO] Successfully initialized the Kumo SDK against deployment https://kumorfm.ai/api, with log level INFO.\n"
     ]
    }
   ],
   "source": [
    "KUMO_API_KEY = os.environ.get(\"KUMO_API_KEY\")\n",
    "rfm.init(api_key=KUMO_API_KEY)"
   ]
  },
  {
   "cell_type": "code",
   "execution_count": 28,
   "id": "60772876-dfa9-41b9-ba33-e7eb34d01a19",
   "metadata": {},
   "outputs": [
    {
     "name": "stdout",
     "output_type": "stream",
     "text": [
      "Detected primary key 'triple_id' in table 'triples'\n"
     ]
    }
   ],
   "source": [
    "triples = rfm.LocalTable(\n",
    "    triplets_with_src_dst_wiki_ids_df[['triple_id', 'src_wikidata_id', 'relation', 'dest_wikidata_id']], \n",
    "    name=\"triples\"\n",
    ").infer_metadata()"
   ]
  },
  {
   "cell_type": "code",
   "execution_count": 29,
   "id": "992faf10-6e3e-4ed5-a4a2-8314f8491204",
   "metadata": {},
   "outputs": [],
   "source": [
    "freebase_vs_wiki = rfm.LocalTable(freebase_vs_wiki_df, name=\"freebase_vs_wiki\", primary_key=\"wikidata_id\").infer_metadata()"
   ]
  },
  {
   "cell_type": "code",
   "execution_count": 30,
   "id": "5609b8d6-4a90-4d50-9d5f-750b51b71083",
   "metadata": {},
   "outputs": [],
   "source": [
    "graph = rfm.LocalGraph(tables=[\n",
    "    triples,\n",
    "    freebase_vs_wiki,\n",
    "])"
   ]
  },
  {
   "cell_type": "code",
   "execution_count": 31,
   "id": "1351e77c-e3c7-4262-9747-628942a3ddab",
   "metadata": {},
   "outputs": [
    {
     "data": {
      "text/plain": [
       "LocalGraph(\n",
       "  tables=[triples, freebase_vs_wiki],\n",
       "  edges=[Edge(src_table='triples', fkey='src_wikidata_id', dst_table='freebase_vs_wiki')],\n",
       ")"
      ]
     },
     "execution_count": 31,
     "metadata": {},
     "output_type": "execute_result"
    }
   ],
   "source": [
    "# graph.link(src_table=\"freebase_vs_wiki\", fkey=\"src_wikidata_id\", dst_table=\"triples\")\n",
    "graph.link(src_table=\"triples\", fkey=\"src_wikidata_id\", dst_table=\"freebase_vs_wiki\")"
   ]
  },
  {
   "cell_type": "code",
   "execution_count": 37,
   "id": "41603c6c-e302-43fe-8158-87b359d552ad",
   "metadata": {},
   "outputs": [
    {
     "data": {
      "text/plain": [
       "LocalGraph(\n",
       "  tables=[triples, freebase_vs_wiki],\n",
       "  edges=[Edge(src_table='triples', fkey='src_wikidata_id', dst_table='freebase_vs_wiki'), Edge(src_table='triples', fkey='dest_wikidata_id', dst_table='freebase_vs_wiki')],\n",
       ")"
      ]
     },
     "execution_count": 37,
     "metadata": {},
     "output_type": "execute_result"
    }
   ],
   "source": [
    "graph.link(src_table=\"triples\", fkey=\"dest_wikidata_id\", dst_table=\"freebase_vs_wiki\")"
   ]
  },
  {
   "cell_type": "code",
   "execution_count": 38,
   "id": "67084f87-e410-41db-a354-48bf192f38a2",
   "metadata": {},
   "outputs": [
    {
     "data": {
      "image/svg+xml": [
       "<?xml version=\"1.0\" encoding=\"UTF-8\" standalone=\"no\"?>\n",
       "<!DOCTYPE svg PUBLIC \"-//W3C//DTD SVG 1.1//EN\"\n",
       " \"http://www.w3.org/Graphics/SVG/1.1/DTD/svg11.dtd\">\n",
       "<!-- Generated by graphviz version 12.2.1 (20241206.2353)\n",
       " -->\n",
       "<!-- Pages: 1 -->\n",
       "<svg width=\"205pt\" height=\"321pt\"\n",
       " viewBox=\"0.00 0.00 204.63 321.00\" xmlns=\"http://www.w3.org/2000/svg\" xmlns:xlink=\"http://www.w3.org/1999/xlink\">\n",
       "<g id=\"graph0\" class=\"graph\" transform=\"scale(1 1) rotate(0) translate(4 317)\">\n",
       "<polygon fill=\"white\" stroke=\"none\" points=\"-4,4 -4,-317 200.63,-317 200.63,4 -4,4\"/>\n",
       "<!-- triples -->\n",
       "<g id=\"node1\" class=\"node\">\n",
       "<title>triples</title>\n",
       "<polygon fill=\"none\" stroke=\"black\" points=\"0,-206 0,-312.5 167.5,-312.5 167.5,-206 0,-206\"/>\n",
       "<text text-anchor=\"middle\" x=\"83.75\" y=\"-295.2\" font-family=\"Times,serif\" font-size=\"14.00\">triples</text>\n",
       "<polyline fill=\"none\" stroke=\"black\" points=\"0,-288 167.5,-288\"/>\n",
       "<text text-anchor=\"start\" x=\"8\" y=\"-270.7\" font-family=\"Times,serif\" font-size=\"14.00\">triple_id: PK (int)</text>\n",
       "<text text-anchor=\"start\" x=\"8\" y=\"-254.2\" font-family=\"Times,serif\" font-size=\"14.00\">src_wikidata_id: FK (int)</text>\n",
       "<text text-anchor=\"start\" x=\"8\" y=\"-237.7\" font-family=\"Times,serif\" font-size=\"14.00\">dest_wikidata_id: FK (int)</text>\n",
       "<polyline fill=\"none\" stroke=\"black\" points=\"0,-230.5 167.5,-230.5\"/>\n",
       "<text text-anchor=\"start\" x=\"8\" y=\"-213.2\" font-family=\"Times,serif\" font-size=\"14.00\">relation: categorical (string)</text>\n",
       "</g>\n",
       "<!-- freebase_vs_wiki -->\n",
       "<g id=\"node2\" class=\"node\">\n",
       "<title>freebase_vs_wiki</title>\n",
       "<polygon fill=\"none\" stroke=\"black\" points=\"12,-0.5 12,-90.5 155.5,-90.5 155.5,-0.5 12,-0.5\"/>\n",
       "<text text-anchor=\"middle\" x=\"83.75\" y=\"-73.2\" font-family=\"Times,serif\" font-size=\"14.00\">freebase_vs_wiki</text>\n",
       "<polyline fill=\"none\" stroke=\"black\" points=\"12,-66 155.5,-66\"/>\n",
       "<text text-anchor=\"start\" x=\"20\" y=\"-48.7\" font-family=\"Times,serif\" font-size=\"14.00\">wikidata_id: PK (int)</text>\n",
       "<polyline fill=\"none\" stroke=\"black\" points=\"12,-41.5 155.5,-41.5\"/>\n",
       "<text text-anchor=\"start\" x=\"20\" y=\"-24.2\" font-family=\"Times,serif\" font-size=\"14.00\">freebase_id: ID (string)</text>\n",
       "<text text-anchor=\"start\" x=\"20\" y=\"-7.7\" font-family=\"Times,serif\" font-size=\"14.00\">label: text (string)</text>\n",
       "</g>\n",
       "<!-- triples&#45;&#45;freebase_vs_wiki -->\n",
       "<g id=\"edge1\" class=\"edge\">\n",
       "<title>triples&#45;&#45;freebase_vs_wiki</title>\n",
       "<path fill=\"none\" stroke=\"black\" d=\"M54.1,-205.8C44.25,-182.23 37.16,-153.94 43.25,-128 46.21,-115.39 51.43,-102.49 57.16,-90.79\"/>\n",
       "<text text-anchor=\"middle\" x=\"80\" y=\"-158.05\" font-family=\"Times,serif\" font-size=\"11.00\"> src_wikidata_id</text>\n",
       "<text text-anchor=\"middle\" x=\"80\" y=\"-144.55\" font-family=\"Times,serif\" font-size=\"11.00\">&lt; &gt;</text>\n",
       "<text text-anchor=\"middle\" x=\"80\" y=\"-131.05\" font-family=\"Times,serif\" font-size=\"11.00\">wikidata_id </text>\n",
       "<text text-anchor=\"middle\" x=\"56.99\" y=\"-102.09\" font-family=\"Times,serif\" font-size=\"11.00\">1</text>\n",
       "<text text-anchor=\"middle\" x=\"43.19\" y=\"-191.81\" font-family=\"Times,serif\" font-size=\"11.00\">*</text>\n",
       "</g>\n",
       "<!-- triples&#45;&#45;freebase_vs_wiki -->\n",
       "<g id=\"edge2\" class=\"edge\">\n",
       "<title>triples&#45;&#45;freebase_vs_wiki</title>\n",
       "<path fill=\"none\" stroke=\"black\" d=\"M107.96,-205.64C116,-182.03 121.77,-153.76 116.75,-128 114.33,-115.56 110.01,-102.62 105.27,-90.82\"/>\n",
       "<text text-anchor=\"middle\" x=\"157.63\" y=\"-158.05\" font-family=\"Times,serif\" font-size=\"11.00\"> dest_wikidata_id</text>\n",
       "<text text-anchor=\"middle\" x=\"157.63\" y=\"-144.55\" font-family=\"Times,serif\" font-size=\"11.00\">&lt; &gt;</text>\n",
       "<text text-anchor=\"middle\" x=\"157.63\" y=\"-131.05\" font-family=\"Times,serif\" font-size=\"11.00\">wikidata_id </text>\n",
       "<text text-anchor=\"middle\" x=\"116.15\" y=\"-97.45\" font-family=\"Times,serif\" font-size=\"11.00\">1</text>\n",
       "<text text-anchor=\"middle\" x=\"106.12\" y=\"-187.05\" font-family=\"Times,serif\" font-size=\"11.00\">*</text>\n",
       "</g>\n",
       "</g>\n",
       "</svg>\n"
      ],
      "text/plain": [
       "<graphviz.graphs.Graph at 0x3251f61d0>"
      ]
     },
     "metadata": {},
     "output_type": "display_data"
    }
   ],
   "source": [
    "graph.visualize();"
   ]
  },
  {
   "cell_type": "code",
   "execution_count": 39,
   "id": "4362a6a5-f722-48d7-84fd-1870c6ca4c1a",
   "metadata": {},
   "outputs": [
    {
     "data": {
      "text/plain": [
       "categorical"
      ]
     },
     "execution_count": 39,
     "metadata": {},
     "output_type": "execute_result"
    }
   ],
   "source": [
    "graph['triples']['relation'].stype"
   ]
  },
  {
   "cell_type": "code",
   "execution_count": 40,
   "id": "67af4edd-3cbf-456d-8afe-29b84033b289",
   "metadata": {},
   "outputs": [
    {
     "data": {
      "application/vnd.jupyter.widget-view+json": {
       "model_id": "b924e5b3aa2940b8b9e6322090358472",
       "version_major": 2,
       "version_minor": 0
      },
      "text/plain": [
       "Output()"
      ]
     },
     "metadata": {},
     "output_type": "display_data"
    },
    {
     "data": {
      "text/html": [
       "<pre style=\"white-space:pre;overflow-x:auto;line-height:normal;font-family:Menlo,'DejaVu Sans Mono',consolas,'Courier New',monospace\"></pre>\n"
      ],
      "text/plain": []
     },
     "metadata": {},
     "output_type": "display_data"
    }
   ],
   "source": [
    "model = rfm.KumoRFM(graph)"
   ]
  },
  {
   "cell_type": "code",
   "execution_count": null,
   "id": "45f67cf5-3354-4059-98a8-897c9171f7bb",
   "metadata": {},
   "outputs": [],
   "source": [
    "# PREDICT triples.relation\n",
    "# Couldn't pick a unique triples.relation for each freebase_vs_wiki. row 1, column 8: Encountered an error, we have found multiple 'relation' values in the 'triples' table for a single 'freebase_vs_wiki'. To fix this, you have two options:\n",
    "## 1. Aggregate the values: If your 'triples' table has a 'created at' column, use an aggregation function to reduce them to one value. \n",
    "##   For example: PREDICT LAST(triples.relation, 0, 30, days).\n",
    "## 2. Rewrite your query: If you are writing a static node prediction predictive query, make sure that you \n",
    "##   either use the same table to define your target and entity, or you have a foreign key from the entity pointing to the target table, not the other way around.\n",
    "\n",
    "\n",
    "# FOR triples.src_wikidata_id=7413907\n",
    "# Invalid entity. row 2, column 4: Entity 'triples.src_wikidata_id' is not a primary key. \n",
    "# The column used in 'FOR EACH' has to be a primary key.\n",
    "\n",
    "# FOR "
   ]
  },
  {
   "cell_type": "code",
   "execution_count": null,
   "id": "a4a212aa-acd0-43b0-9570-32a97d63287e",
   "metadata": {},
   "outputs": [],
   "source": [
    "kumo.init(api_key=KUMO_API_KEY)"
   ]
  },
  {
   "cell_type": "code",
   "execution_count": 41,
   "id": "2dda8820-8bcc-4456-a0e6-49a241cd6b9a",
   "metadata": {},
   "outputs": [
    {
     "ename": "ValueError",
     "evalue": "Failed to parse query 'PREDICT triples.relation\nFOR freebase_vs_wiki.wikidata_id=7413907'. Errors:\nCouldn't pick a unique triples.relation for each freebase_vs_wiki. row 1, column 8: Encountered an error, we have found multiple 'relation' values in the 'triples' table for a single 'freebase_vs_wiki'. To fix this, you have two options:\n1. Aggregate the values: If your 'triples' table has a 'created at' column, use an aggregation function to reduce them to one value. For example: PREDICT LAST(triples.relation, 0, 30, days).\n2. Rewrite your query: If you are writing a static node prediction predictive query, make sure that you either use the same table to define your target and entity, or you have a foreign key from the entity pointing to the target table, not the other way around.",
     "output_type": "error",
     "traceback": [
      "\u001B[31m---------------------------------------------------------------------------\u001B[39m",
      "\u001B[31mValueError\u001B[39m                                Traceback (most recent call last)",
      "\u001B[36mCell\u001B[39m\u001B[36m \u001B[39m\u001B[32mIn[41]\u001B[39m\u001B[32m, line 4\u001B[39m\n\u001B[32m      1\u001B[39m query = \u001B[33m\"\"\"\u001B[39m\u001B[33mPREDICT triples.relation\u001B[39m\n\u001B[32m      2\u001B[39m \u001B[33mFOR freebase_vs_wiki.wikidata_id=7413907\u001B[39m\u001B[33m\"\"\"\u001B[39m\n\u001B[32m----> \u001B[39m\u001B[32m4\u001B[39m df = model.predict(query)\n\u001B[32m      5\u001B[39m display(df)\n",
      "\u001B[36mFile \u001B[39m\u001B[32m~/miniconda3/envs/kumo-hackathon-py311/lib/python3.11/site-packages/kumoai/experimental/rfm/rfm.py:114\u001B[39m, in \u001B[36mKumoRFM.predict\u001B[39m\u001B[34m(self, query, anchor_time, run_mode, num_hops, random_seed, verbose)\u001B[39m\n\u001B[32m     98\u001B[39m \u001B[38;5;250m\u001B[39m\u001B[33;03m\"\"\"Returns predictions for a predictive query.\u001B[39;00m\n\u001B[32m     99\u001B[39m \n\u001B[32m    100\u001B[39m \u001B[33;03mArgs:\u001B[39;00m\n\u001B[32m   (...)\u001B[39m\u001B[32m    111\u001B[39m \u001B[33;03m    The predictions as a :class:`pandas.DataFrame`\u001B[39;00m\n\u001B[32m    112\u001B[39m \u001B[33;03m\"\"\"\u001B[39;00m\n\u001B[32m    113\u001B[39m explain = \u001B[38;5;28;01mFalse\u001B[39;00m\n\u001B[32m--> \u001B[39m\u001B[32m114\u001B[39m query_def = \u001B[38;5;28mself\u001B[39m._parse_query(query)\n\u001B[32m    116\u001B[39m \u001B[38;5;28;01mif\u001B[39;00m explain \u001B[38;5;129;01mand\u001B[39;00m run_mode \u001B[38;5;129;01min\u001B[39;00m {RunMode.NORMAL, RunMode.BEST}:\n\u001B[32m    117\u001B[39m     warnings.warn(\u001B[33mf\u001B[39m\u001B[33m\"\u001B[39m\u001B[33mExplainability is currently only supported for \u001B[39m\u001B[33m\"\u001B[39m\n\u001B[32m    118\u001B[39m                   \u001B[33mf\u001B[39m\u001B[33m\"\u001B[39m\u001B[33mrun mode \u001B[39m\u001B[33m'\u001B[39m\u001B[33mFAST\u001B[39m\u001B[33m'\u001B[39m\u001B[33m (got \u001B[39m\u001B[33m'\u001B[39m\u001B[38;5;132;01m{\u001B[39;00mrun_mode\u001B[38;5;132;01m}\u001B[39;00m\u001B[33m'\u001B[39m\u001B[33m). Provided run \u001B[39m\u001B[33m\"\u001B[39m\n\u001B[32m    119\u001B[39m                   \u001B[33mf\u001B[39m\u001B[33m\"\u001B[39m\u001B[33mmode has been reset. Please lower the run mode to \u001B[39m\u001B[33m\"\u001B[39m\n\u001B[32m    120\u001B[39m                   \u001B[33mf\u001B[39m\u001B[33m\"\u001B[39m\u001B[33msuppress this warning.\u001B[39m\u001B[33m\"\u001B[39m)\n",
      "\u001B[36mFile \u001B[39m\u001B[32m~/miniconda3/envs/kumo-hackathon-py311/lib/python3.11/site-packages/kumoai/experimental/rfm/rfm.py:332\u001B[39m, in \u001B[36mKumoRFM._parse_query\u001B[39m\u001B[34m(self, query)\u001B[39m\n\u001B[32m    330\u001B[39m \u001B[38;5;28;01mexcept\u001B[39;00m \u001B[38;5;167;01mException\u001B[39;00m:\n\u001B[32m    331\u001B[39m     msg = e.detail\n\u001B[32m--> \u001B[39m\u001B[32m332\u001B[39m \u001B[38;5;28;01mraise\u001B[39;00m \u001B[38;5;167;01mValueError\u001B[39;00m(\u001B[33mf\u001B[39m\u001B[33m\"\u001B[39m\u001B[33mFailed to parse query \u001B[39m\u001B[33m'\u001B[39m\u001B[38;5;132;01m{\u001B[39;00mquery\u001B[38;5;132;01m}\u001B[39;00m\u001B[33m'\u001B[39m\u001B[33m. \u001B[39m\u001B[33m\"\u001B[39m\n\u001B[32m    333\u001B[39m                  \u001B[33mf\u001B[39m\u001B[33m\"\u001B[39m\u001B[38;5;132;01m{\u001B[39;00mmsg\u001B[38;5;132;01m}\u001B[39;00m\u001B[33m\"\u001B[39m) \u001B[38;5;28;01mfrom\u001B[39;00m\u001B[38;5;250m \u001B[39m\u001B[38;5;28;01mNone\u001B[39;00m\n",
      "\u001B[31mValueError\u001B[39m: Failed to parse query 'PREDICT triples.relation\nFOR freebase_vs_wiki.wikidata_id=7413907'. Errors:\nCouldn't pick a unique triples.relation for each freebase_vs_wiki. row 1, column 8: Encountered an error, we have found multiple 'relation' values in the 'triples' table for a single 'freebase_vs_wiki'. To fix this, you have two options:\n1. Aggregate the values: If your 'triples' table has a 'created at' column, use an aggregation function to reduce them to one value. For example: PREDICT LAST(triples.relation, 0, 30, days).\n2. Rewrite your query: If you are writing a static node prediction predictive query, make sure that you either use the same table to define your target and entity, or you have a foreign key from the entity pointing to the target table, not the other way around."
     ]
    }
   ],
   "source": [
    "query = \"\"\"PREDICT triples.relation\n",
    "FOR freebase_vs_wiki.wikidata_id=7413907\"\"\"\n",
    "\n",
    "df = model.predict(query)\n",
    "display(df)"
   ]
  },
  {
   "cell_type": "markdown",
   "id": "2ac0966a-a52f-4f05-9c39-1d73a4e570d3",
   "metadata": {},
   "source": [
    "pquery_relations_for_entity = kumo.PredictiveQuery(\n",
    "\tgraph=graph,\n",
    "\tquery=query\n",
    ")\n",
    "\n",
    "pquery_relations_for_entity.validate()"
   ]
  },
  {
   "cell_type": "code",
   "execution_count": 42,
   "id": "978d3e63-fb17-4e3d-9d8c-c8f9a98e5da8",
   "metadata": {},
   "outputs": [
    {
     "data": {
      "text/plain": [
       "GraphDefinition(tables={'triples': TableDefinition(cols=[Column(name='triple_id', stype=ID, dtype=int, timestamp_format=None), Column(name='src_wikidata_id', stype=ID, dtype=int, timestamp_format=None), Column(name='relation', stype=categorical, dtype=string, timestamp_format=None), Column(name='dest_wikidata_id', stype=ID, dtype=int, timestamp_format=None)], source_table=UnavailableSourceTable(table='triples', data_source_type=UNAVAILABLE), pkey='triple_id', time_col=None, end_time_col=None), 'freebase_vs_wiki': TableDefinition(cols=[Column(name='freebase_id', stype=ID, dtype=string, timestamp_format=None), Column(name='label', stype=text, dtype=string, timestamp_format=None), Column(name='wikidata_id', stype=ID, dtype=int, timestamp_format=None)], source_table=UnavailableSourceTable(table='freebase_vs_wiki', data_source_type=UNAVAILABLE), pkey='wikidata_id', time_col=None, end_time_col=None)}, col_groups=[ColumnKeyGroup(columns=(ColumnKey(table_name='freebase_vs_wiki', col_name='wikidata_id'), ColumnKey(table_name='triples', col_name='dest_wikidata_id'), ColumnKey(table_name='triples', col_name='src_wikidata_id')))])"
      ]
     },
     "execution_count": 42,
     "metadata": {},
     "output_type": "execute_result"
    }
   ],
   "source": [
    "graph._to_api_graph_definition()"
   ]
  },
  {
   "cell_type": "code",
   "execution_count": null,
   "id": "5036f4ce-5651-4ca9-9b54-4b129d6a0046",
   "metadata": {},
   "outputs": [],
   "source": []
  },
  {
   "cell_type": "code",
   "execution_count": null,
   "id": "592451b1-b43f-4587-8f23-e2feef99b5f1",
   "metadata": {},
   "outputs": [],
   "source": []
  },
  {
   "cell_type": "code",
   "execution_count": null,
   "id": "7fa98cdf-b537-4790-b8d2-d3be3d7de625",
   "metadata": {},
   "outputs": [],
   "source": []
  }
 ],
 "metadata": {
  "kernelspec": {
   "display_name": "Python 3 (ipykernel)",
   "language": "python",
   "name": "python3"
  },
  "language_info": {
   "codemirror_mode": {
    "name": "ipython",
    "version": 3
   },
   "file_extension": ".py",
   "mimetype": "text/x-python",
   "name": "python",
   "nbconvert_exporter": "python",
   "pygments_lexer": "ipython3",
   "version": "3.11.13"
  }
 },
 "nbformat": 4,
 "nbformat_minor": 5
}
