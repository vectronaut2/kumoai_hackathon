{
 "cells": [
  {
   "cell_type": "markdown",
   "id": "75255b04-62ad-47fb-a95b-d1f527d4c760",
   "metadata": {},
   "source": [
    "## Yago semantic graph \n",
    "Usecase - find inconsistencies / anomalies in knowledge graphs"
   ]
  },
  {
   "cell_type": "code",
   "execution_count": null,
   "id": "385a26cc-732f-48cc-ae89-a6f90dacdab8",
   "metadata": {},
   "outputs": [],
   "source": []
  },
  {
   "cell_type": "markdown",
   "id": "3ea59964-9083-48d5-845b-c92272f1596c",
   "metadata": {},
   "source": [
    "## FB15k-237 semantic graph\n",
    "\n",
    "https://www.kaggle.com/datasets/latebloomer/fb15k-237/data\n",
    "\n",
    "https://www.kaggle.com/datasets/latebloomer/freebase-wikidata-mapping"
   ]
  },
  {
   "cell_type": "code",
   "execution_count": 1,
   "id": "a746ebde-7bf3-4b30-8547-db9f363b6f7b",
   "metadata": {},
   "outputs": [
    {
     "name": "stdout",
     "output_type": "stream",
     "text": [
      "Requirement already satisfied: kagglehub in /Users/ravid/miniconda3/envs/kumo-hackathon-py311/lib/python3.11/site-packages (0.3.12)\n",
      "Requirement already satisfied: packaging in /Users/ravid/miniconda3/envs/kumo-hackathon-py311/lib/python3.11/site-packages (from kagglehub) (25.0)\n",
      "Requirement already satisfied: pyyaml in /Users/ravid/miniconda3/envs/kumo-hackathon-py311/lib/python3.11/site-packages (from kagglehub) (6.0.2)\n",
      "Requirement already satisfied: requests in /Users/ravid/miniconda3/envs/kumo-hackathon-py311/lib/python3.11/site-packages (from kagglehub) (2.32.4)\n",
      "Requirement already satisfied: tqdm in /Users/ravid/miniconda3/envs/kumo-hackathon-py311/lib/python3.11/site-packages (from kagglehub) (4.67.1)\n",
      "Requirement already satisfied: charset_normalizer<4,>=2 in /Users/ravid/miniconda3/envs/kumo-hackathon-py311/lib/python3.11/site-packages (from requests->kagglehub) (3.4.3)\n",
      "Requirement already satisfied: idna<4,>=2.5 in /Users/ravid/miniconda3/envs/kumo-hackathon-py311/lib/python3.11/site-packages (from requests->kagglehub) (3.10)\n",
      "Requirement already satisfied: urllib3<3,>=1.21.1 in /Users/ravid/miniconda3/envs/kumo-hackathon-py311/lib/python3.11/site-packages (from requests->kagglehub) (2.5.0)\n",
      "Requirement already satisfied: certifi>=2017.4.17 in /Users/ravid/miniconda3/envs/kumo-hackathon-py311/lib/python3.11/site-packages (from requests->kagglehub) (2025.8.3)\n"
     ]
    }
   ],
   "source": [
    "!pip install kagglehub"
   ]
  },
  {
   "cell_type": "code",
   "execution_count": 3,
   "id": "2cc5a3d6-20ce-4366-be01-010454932820",
   "metadata": {},
   "outputs": [
    {
     "name": "stdout",
     "output_type": "stream",
     "text": [
      "Downloading from https://www.kaggle.com/api/v1/datasets/download/latebloomer/fb15k-237?dataset_version_number=1...\n"
     ]
    },
    {
     "name": "stderr",
     "output_type": "stream",
     "text": [
      "100%|████████████████████████████████████████████████████████████████████████████████| 3.63M/3.63M [00:00<00:00, 26.4MB/s]"
     ]
    },
    {
     "name": "stdout",
     "output_type": "stream",
     "text": [
      "Extracting files...\n",
      "Path to dataset files: /Users/ravid/.cache/kagglehub/datasets/latebloomer/fb15k-237/versions/1\n"
     ]
    },
    {
     "name": "stderr",
     "output_type": "stream",
     "text": [
      "\n"
     ]
    }
   ],
   "source": [
    "import kagglehub\n",
    "\n",
    "# path = kagglehub.dataset_download(\"latebloomer/fb15k-237\")\n",
    "# print(\"Path to dataset files:\", path)"
   ]
  },
  {
   "cell_type": "code",
   "execution_count": 5,
   "id": "1eed983c-bbff-4212-b946-48193716e725",
   "metadata": {},
   "outputs": [],
   "source": [
    "import pandas as pd"
   ]
  },
  {
   "cell_type": "code",
   "execution_count": 4,
   "id": "27520b0a-8a13-4ef1-b05e-8cc615303b0b",
   "metadata": {},
   "outputs": [],
   "source": [
    "data_path = \"../datasets/fb15k-237/\""
   ]
  },
  {
   "cell_type": "code",
   "execution_count": 21,
   "id": "c4aa6d58-9073-4daf-afa2-137e248335c2",
   "metadata": {},
   "outputs": [],
   "source": [
    "column_names = ['src', 'relation', 'dst']\n",
    "triples_df = pd.read_csv(f\"{data_path}/train.txt\", header=None, names=column_names)\n",
    "# df = pd.read_csv(f\"{data_path}/train.txt\", sep='/t', header=None, names=column_names)"
   ]
  },
  {
   "cell_type": "code",
   "execution_count": 22,
   "id": "6c56b7e9-4713-452e-a6d2-d01ea0584a61",
   "metadata": {},
   "outputs": [
    {
     "name": "stdout",
     "output_type": "stream",
     "text": [
      "<class 'pandas.core.frame.DataFrame'>\n",
      "RangeIndex: 272115 entries, 0 to 272114\n",
      "Data columns (total 3 columns):\n",
      " #   Column    Non-Null Count   Dtype \n",
      "---  ------    --------------   ----- \n",
      " 0   src       272115 non-null  object\n",
      " 1   relation  272115 non-null  object\n",
      " 2   dst       272115 non-null  object\n",
      "dtypes: object(3)\n",
      "memory usage: 6.2+ MB\n"
     ]
    }
   ],
   "source": [
    "triples_df.info()"
   ]
  },
  {
   "cell_type": "code",
   "execution_count": 23,
   "id": "9bf2ef77-1432-4bfd-98d4-1321c4dfbd2d",
   "metadata": {},
   "outputs": [
    {
     "data": {
      "text/html": [
       "<div>\n",
       "<style scoped>\n",
       "    .dataframe tbody tr th:only-of-type {\n",
       "        vertical-align: middle;\n",
       "    }\n",
       "\n",
       "    .dataframe tbody tr th {\n",
       "        vertical-align: top;\n",
       "    }\n",
       "\n",
       "    .dataframe thead th {\n",
       "        text-align: right;\n",
       "    }\n",
       "</style>\n",
       "<table border=\"1\" class=\"dataframe\">\n",
       "  <thead>\n",
       "    <tr style=\"text-align: right;\">\n",
       "      <th></th>\n",
       "      <th>src</th>\n",
       "      <th>relation</th>\n",
       "      <th>dst</th>\n",
       "    </tr>\n",
       "  </thead>\n",
       "  <tbody>\n",
       "    <tr>\n",
       "      <th>0</th>\n",
       "      <td>/m/027rn</td>\n",
       "      <td>/location/country/form_of_government</td>\n",
       "      <td>/m/06cx9</td>\n",
       "    </tr>\n",
       "    <tr>\n",
       "      <th>1</th>\n",
       "      <td>/m/017dcd</td>\n",
       "      <td>/tv/tv_program/regular_cast./tv/regular_tv_app...</td>\n",
       "      <td>/m/06v8s0</td>\n",
       "    </tr>\n",
       "    <tr>\n",
       "      <th>2</th>\n",
       "      <td>/m/07s9rl0</td>\n",
       "      <td>/media_common/netflix_genre/titles</td>\n",
       "      <td>/m/0170z3</td>\n",
       "    </tr>\n",
       "    <tr>\n",
       "      <th>3</th>\n",
       "      <td>/m/01sl1q</td>\n",
       "      <td>/award/award_winner/awards_won./award/award_ho...</td>\n",
       "      <td>/m/044mz_</td>\n",
       "    </tr>\n",
       "    <tr>\n",
       "      <th>4</th>\n",
       "      <td>/m/0cnk2q</td>\n",
       "      <td>/soccer/football_team/current_roster./sports/s...</td>\n",
       "      <td>/m/02nzb8</td>\n",
       "    </tr>\n",
       "  </tbody>\n",
       "</table>\n",
       "</div>"
      ],
      "text/plain": [
       "          src                                           relation        dst\n",
       "0    /m/027rn               /location/country/form_of_government   /m/06cx9\n",
       "1   /m/017dcd  /tv/tv_program/regular_cast./tv/regular_tv_app...  /m/06v8s0\n",
       "2  /m/07s9rl0                 /media_common/netflix_genre/titles  /m/0170z3\n",
       "3   /m/01sl1q  /award/award_winner/awards_won./award/award_ho...  /m/044mz_\n",
       "4   /m/0cnk2q  /soccer/football_team/current_roster./sports/s...  /m/02nzb8"
      ]
     },
     "execution_count": 23,
     "metadata": {},
     "output_type": "execute_result"
    }
   ],
   "source": [
    "triples_df.head(5)"
   ]
  },
  {
   "cell_type": "code",
   "execution_count": 25,
   "id": "5eb2c472-70fa-4fa2-9736-0b8546651844",
   "metadata": {},
   "outputs": [],
   "source": [
    "freebase_vs_wiki_df =  pd.read_csv(f\"{data_path}/fb_wiki_mapping.tsv\", sep='\\t')\n",
    "# freebase_vs_wiki_df =  pd.read_csv(f\"{data_path}/fb_wiki_mapping.csv\")"
   ]
  },
  {
   "cell_type": "code",
   "execution_count": 26,
   "id": "0af3790d-a89e-45d5-9d42-a956e99e8de3",
   "metadata": {},
   "outputs": [
    {
     "data": {
      "text/html": [
       "<div>\n",
       "<style scoped>\n",
       "    .dataframe tbody tr th:only-of-type {\n",
       "        vertical-align: middle;\n",
       "    }\n",
       "\n",
       "    .dataframe tbody tr th {\n",
       "        vertical-align: top;\n",
       "    }\n",
       "\n",
       "    .dataframe thead th {\n",
       "        text-align: right;\n",
       "    }\n",
       "</style>\n",
       "<table border=\"1\" class=\"dataframe\">\n",
       "  <thead>\n",
       "    <tr style=\"text-align: right;\">\n",
       "      <th></th>\n",
       "      <th>freebase_id</th>\n",
       "      <th>wikidata_id</th>\n",
       "      <th>label</th>\n",
       "    </tr>\n",
       "  </thead>\n",
       "  <tbody>\n",
       "    <tr>\n",
       "      <th>0</th>\n",
       "      <td>/m/010005</td>\n",
       "      <td>Q974334</td>\n",
       "      <td>Corinth</td>\n",
       "    </tr>\n",
       "    <tr>\n",
       "      <th>1</th>\n",
       "      <td>/m/01000j</td>\n",
       "      <td>Q981582</td>\n",
       "      <td>Draper</td>\n",
       "    </tr>\n",
       "    <tr>\n",
       "      <th>2</th>\n",
       "      <td>/m/01000w</td>\n",
       "      <td>Q977417</td>\n",
       "      <td>Cross Roads</td>\n",
       "    </tr>\n",
       "  </tbody>\n",
       "</table>\n",
       "</div>"
      ],
      "text/plain": [
       "  freebase_id wikidata_id        label\n",
       "0   /m/010005     Q974334      Corinth\n",
       "1   /m/01000j     Q981582       Draper\n",
       "2   /m/01000w     Q977417  Cross Roads"
      ]
     },
     "execution_count": 26,
     "metadata": {},
     "output_type": "execute_result"
    }
   ],
   "source": [
    "freebase_vs_wiki_df.head(3)"
   ]
  },
  {
   "cell_type": "code",
   "execution_count": null,
   "id": "5d3c7de7-c10c-46b2-bb6e-f2950a6fea42",
   "metadata": {},
   "outputs": [],
   "source": [
    "# All nodes and associated triples for freebase / wiki ?\n"
   ]
  },
  {
   "cell_type": "code",
   "execution_count": 17,
   "id": "781577d8-14bc-4593-924b-11df391001bf",
   "metadata": {},
   "outputs": [],
   "source": [
    "import kumoai.experimental.rfm as rfm"
   ]
  },
  {
   "cell_type": "code",
   "execution_count": 18,
   "id": "46423057-8c71-4e8c-aa63-c901b5ff32fe",
   "metadata": {},
   "outputs": [
    {
     "name": "stdout",
     "output_type": "stream",
     "text": [
      "Opening browser page to automatically generate an API key...\n"
     ]
    },
    {
     "name": "stderr",
     "output_type": "stream",
     "text": [
      "[2025-08-17 11:53:50 - kumoai:298 - INFO] Generated token \"sdk-macbook-pro-3.local-2025-08-17-11-53-48-Z\" and saved to KUMO_API_KEY env variable\n"
     ]
    }
   ],
   "source": [
    "import os\n",
    "\n",
    "if not os.environ.get(\"KUMO_API_KEY\"):\n",
    "    rfm.authenticate()"
   ]
  },
  {
   "cell_type": "code",
   "execution_count": 20,
   "id": "2a213e15-ebf0-4d86-a29d-bc546c9e65e1",
   "metadata": {},
   "outputs": [
    {
     "name": "stderr",
     "output_type": "stream",
     "text": [
      "[2025-08-17 11:58:55 - kumoai:196 - INFO] Successfully initialized the Kumo SDK against deployment https://kumorfm.ai/api, with log level INFO.\n"
     ]
    }
   ],
   "source": [
    "KUMO_API_KEY = os.environ.get(\"KUMO_API_KEY\")\n",
    "rfm.init(api_key=KUMO_API_KEY)"
   ]
  },
  {
   "cell_type": "code",
   "execution_count": 24,
   "id": "60772876-dfa9-41b9-ba33-e7eb34d01a19",
   "metadata": {},
   "outputs": [],
   "source": [
    "triples = rfm.LocalTable(triples_df, name=\"triples\").infer_metadata()"
   ]
  },
  {
   "cell_type": "code",
   "execution_count": 29,
   "id": "992faf10-6e3e-4ed5-a4a2-8314f8491204",
   "metadata": {},
   "outputs": [],
   "source": [
    "freebase_vs_wiki = rfm.LocalTable(freebase_vs_wiki_df, name=\"freebase_vs_wiki\", primary_key=\"freebase_id\").infer_metadata()"
   ]
  },
  {
   "cell_type": "code",
   "execution_count": 30,
   "id": "5609b8d6-4a90-4d50-9d5f-750b51b71083",
   "metadata": {},
   "outputs": [],
   "source": [
    "graph = rfm.LocalGraph(tables=[\n",
    "    triples,\n",
    "    freebase_vs_wiki,\n",
    "])"
   ]
  },
  {
   "cell_type": "code",
   "execution_count": 31,
   "id": "1351e77c-e3c7-4262-9747-628942a3ddab",
   "metadata": {},
   "outputs": [
    {
     "data": {
      "text/plain": [
       "LocalGraph(\n",
       "  tables=[triples, freebase_vs_wiki],\n",
       "  edges=[Edge(src_table='triples', fkey='src', dst_table='freebase_vs_wiki')],\n",
       ")"
      ]
     },
     "execution_count": 31,
     "metadata": {},
     "output_type": "execute_result"
    }
   ],
   "source": [
    "graph.link(src_table=\"triples\", fkey=\"src\", dst_table=\"freebase_vs_wiki\")"
   ]
  },
  {
   "cell_type": "code",
   "execution_count": 32,
   "id": "41603c6c-e302-43fe-8158-87b359d552ad",
   "metadata": {},
   "outputs": [
    {
     "data": {
      "text/plain": [
       "LocalGraph(\n",
       "  tables=[triples, freebase_vs_wiki],\n",
       "  edges=[Edge(src_table='triples', fkey='src', dst_table='freebase_vs_wiki'), Edge(src_table='triples', fkey='dst', dst_table='freebase_vs_wiki')],\n",
       ")"
      ]
     },
     "execution_count": 32,
     "metadata": {},
     "output_type": "execute_result"
    }
   ],
   "source": [
    "graph.link(src_table=\"triples\", fkey=\"dst\", dst_table=\"freebase_vs_wiki\")"
   ]
  },
  {
   "cell_type": "code",
   "execution_count": 33,
   "id": "67084f87-e410-41db-a354-48bf192f38a2",
   "metadata": {},
   "outputs": [
    {
     "data": {
      "image/svg+xml": [
       "<?xml version=\"1.0\" encoding=\"UTF-8\" standalone=\"no\"?>\n",
       "<!DOCTYPE svg PUBLIC \"-//W3C//DTD SVG 1.1//EN\"\n",
       " \"http://www.w3.org/Graphics/SVG/1.1/DTD/svg11.dtd\">\n",
       "<!-- Generated by graphviz version 12.2.1 (20241206.2353)\n",
       " -->\n",
       "<!-- Pages: 1 -->\n",
       "<svg width=\"176pt\" height=\"305pt\"\n",
       " viewBox=\"0.00 0.00 175.50 304.50\" xmlns=\"http://www.w3.org/2000/svg\" xmlns:xlink=\"http://www.w3.org/1999/xlink\">\n",
       "<g id=\"graph0\" class=\"graph\" transform=\"scale(1 1) rotate(0) translate(4 300.5)\">\n",
       "<polygon fill=\"white\" stroke=\"none\" points=\"-4,4 -4,-300.5 171.5,-300.5 171.5,4 -4,4\"/>\n",
       "<!-- triples -->\n",
       "<g id=\"node1\" class=\"node\">\n",
       "<title>triples</title>\n",
       "<polygon fill=\"none\" stroke=\"black\" points=\"0,-206 0,-296 167.5,-296 167.5,-206 0,-206\"/>\n",
       "<text text-anchor=\"middle\" x=\"83.75\" y=\"-278.7\" font-family=\"Times,serif\" font-size=\"14.00\">triples</text>\n",
       "<polyline fill=\"none\" stroke=\"black\" points=\"0,-271.5 167.5,-271.5\"/>\n",
       "<text text-anchor=\"start\" x=\"8\" y=\"-254.2\" font-family=\"Times,serif\" font-size=\"14.00\">src: FK (string)</text>\n",
       "<text text-anchor=\"start\" x=\"8\" y=\"-237.7\" font-family=\"Times,serif\" font-size=\"14.00\">dst: FK (string)</text>\n",
       "<polyline fill=\"none\" stroke=\"black\" points=\"0,-230.5 167.5,-230.5\"/>\n",
       "<text text-anchor=\"start\" x=\"8\" y=\"-213.2\" font-family=\"Times,serif\" font-size=\"14.00\">relation: categorical (string)</text>\n",
       "</g>\n",
       "<!-- freebase_vs_wiki -->\n",
       "<g id=\"node2\" class=\"node\">\n",
       "<title>freebase_vs_wiki</title>\n",
       "<polygon fill=\"none\" stroke=\"black\" points=\"10.5,-0.5 10.5,-90.5 157,-90.5 157,-0.5 10.5,-0.5\"/>\n",
       "<text text-anchor=\"middle\" x=\"83.75\" y=\"-73.2\" font-family=\"Times,serif\" font-size=\"14.00\">freebase_vs_wiki</text>\n",
       "<polyline fill=\"none\" stroke=\"black\" points=\"10.5,-66 157,-66\"/>\n",
       "<text text-anchor=\"start\" x=\"18.5\" y=\"-48.7\" font-family=\"Times,serif\" font-size=\"14.00\">freebase_id: PK (string)</text>\n",
       "<polyline fill=\"none\" stroke=\"black\" points=\"10.5,-41.5 157,-41.5\"/>\n",
       "<text text-anchor=\"start\" x=\"18.5\" y=\"-24.2\" font-family=\"Times,serif\" font-size=\"14.00\">wikidata_id: ID (string)</text>\n",
       "<text text-anchor=\"start\" x=\"18.5\" y=\"-7.7\" font-family=\"Times,serif\" font-size=\"14.00\">label: text (string)</text>\n",
       "</g>\n",
       "<!-- triples&#45;&#45;freebase_vs_wiki -->\n",
       "<g id=\"edge1\" class=\"edge\">\n",
       "<title>triples&#45;&#45;freebase_vs_wiki</title>\n",
       "<path fill=\"none\" stroke=\"black\" d=\"M63.69,-205.56C59.28,-193.76 55.25,-180.85 53,-168.5 49.77,-150.79 49.77,-145.71 53,-128 55.25,-115.65 59.28,-102.74 63.69,-90.94\"/>\n",
       "<text text-anchor=\"middle\" x=\"80.38\" y=\"-158.05\" font-family=\"Times,serif\" font-size=\"11.00\"> src</text>\n",
       "<text text-anchor=\"middle\" x=\"80.38\" y=\"-144.55\" font-family=\"Times,serif\" font-size=\"11.00\">&lt; &gt;</text>\n",
       "<text text-anchor=\"middle\" x=\"80.38\" y=\"-131.05\" font-family=\"Times,serif\" font-size=\"11.00\">freebase_id </text>\n",
       "<text text-anchor=\"middle\" x=\"64.96\" y=\"-102.18\" font-family=\"Times,serif\" font-size=\"11.00\">1</text>\n",
       "<text text-anchor=\"middle\" x=\"53.06\" y=\"-191.28\" font-family=\"Times,serif\" font-size=\"11.00\">*</text>\n",
       "</g>\n",
       "<!-- triples&#45;&#45;freebase_vs_wiki -->\n",
       "<g id=\"edge2\" class=\"edge\">\n",
       "<title>triples&#45;&#45;freebase_vs_wiki</title>\n",
       "<path fill=\"none\" stroke=\"black\" d=\"M99.3,-205.67C102.79,-193.75 105.98,-180.76 107.75,-168.5 110.32,-150.68 110.32,-145.82 107.75,-128 105.98,-115.74 102.79,-102.75 99.3,-90.83\"/>\n",
       "<text text-anchor=\"middle\" x=\"137.05\" y=\"-158.05\" font-family=\"Times,serif\" font-size=\"11.00\"> dst</text>\n",
       "<text text-anchor=\"middle\" x=\"137.05\" y=\"-144.55\" font-family=\"Times,serif\" font-size=\"11.00\">&lt; &gt;</text>\n",
       "<text text-anchor=\"middle\" x=\"137.05\" y=\"-131.05\" font-family=\"Times,serif\" font-size=\"11.00\">freebase_id </text>\n",
       "<text text-anchor=\"middle\" x=\"109.15\" y=\"-98.44\" font-family=\"Times,serif\" font-size=\"11.00\">1</text>\n",
       "<text text-anchor=\"middle\" x=\"96.96\" y=\"-187.16\" font-family=\"Times,serif\" font-size=\"11.00\">*</text>\n",
       "</g>\n",
       "</g>\n",
       "</svg>\n"
      ],
      "text/plain": [
       "<graphviz.graphs.Graph at 0x333052150>"
      ]
     },
     "metadata": {},
     "output_type": "display_data"
    }
   ],
   "source": [
    "graph.visualize();"
   ]
  },
  {
   "cell_type": "code",
   "execution_count": null,
   "id": "67af4edd-3cbf-456d-8afe-29b84033b289",
   "metadata": {},
   "outputs": [],
   "source": []
  },
  {
   "cell_type": "code",
   "execution_count": null,
   "id": "2dda8820-8bcc-4456-a0e6-49a241cd6b9a",
   "metadata": {},
   "outputs": [],
   "source": [
    "query = \"PREDICT SUM(orders.price, 0, 30, days) FOR items.item_id=42\"\n",
    "\n",
    "df = model.predict(query)\n",
    "display(df)"
   ]
  },
  {
   "cell_type": "code",
   "execution_count": null,
   "id": "1ed876db-840f-4d70-9b19-cc45ea335ce9",
   "metadata": {},
   "outputs": [],
   "source": []
  },
  {
   "cell_type": "code",
   "execution_count": null,
   "id": "978d3e63-fb17-4e3d-9d8c-c8f9a98e5da8",
   "metadata": {},
   "outputs": [],
   "source": []
  },
  {
   "cell_type": "code",
   "execution_count": null,
   "id": "5036f4ce-5651-4ca9-9b54-4b129d6a0046",
   "metadata": {},
   "outputs": [],
   "source": []
  },
  {
   "cell_type": "code",
   "execution_count": null,
   "id": "592451b1-b43f-4587-8f23-e2feef99b5f1",
   "metadata": {},
   "outputs": [],
   "source": []
  },
  {
   "cell_type": "code",
   "execution_count": null,
   "id": "7fa98cdf-b537-4790-b8d2-d3be3d7de625",
   "metadata": {},
   "outputs": [],
   "source": []
  }
 ],
 "metadata": {
  "kernelspec": {
   "display_name": "Python [conda env:kumo-hackathon-py311] *",
   "language": "python",
   "name": "conda-env-kumo-hackathon-py311-py"
  },
  "language_info": {
   "codemirror_mode": {
    "name": "ipython",
    "version": 3
   },
   "file_extension": ".py",
   "mimetype": "text/x-python",
   "name": "python",
   "nbconvert_exporter": "python",
   "pygments_lexer": "ipython3",
   "version": "3.11.13"
  }
 },
 "nbformat": 4,
 "nbformat_minor": 5
}
