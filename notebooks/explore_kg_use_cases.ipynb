{
 "cells": [
  {
   "cell_type": "markdown",
   "id": "3ea59964-9083-48d5-845b-c92272f1596c",
   "metadata": {},
   "source": [
    "## FB15k-237 semantic graph\n",
    "\n",
    "https://www.kaggle.com/datasets/latebloomer/fb15k-237/data\n",
    "\n",
    "https://www.kaggle.com/datasets/latebloomer/freebase-wikidata-mapping"
   ]
  },
  {
   "cell_type": "code",
   "execution_count": null,
   "id": "a746ebde-7bf3-4b30-8547-db9f363b6f7b",
   "metadata": {},
   "outputs": [],
   "source": [
    "!pip install kagglehub"
   ]
  },
  {
   "cell_type": "code",
   "execution_count": null,
   "id": "2cc5a3d6-20ce-4366-be01-010454932820",
   "metadata": {},
   "outputs": [],
   "source": [
    "import kagglehub\n",
    "\n",
    "# path = kagglehub.dataset_download(\"latebloomer/fb15k-237\")\n",
    "# print(\"Path to dataset files:\", path)"
   ]
  },
  {
   "cell_type": "code",
   "execution_count": 165,
   "id": "1eed983c-bbff-4212-b946-48193716e725",
   "metadata": {},
   "outputs": [],
   "source": [
    "import pandas as pd\n",
    "import numpy as np"
   ]
  },
  {
   "cell_type": "code",
   "execution_count": 2,
   "id": "27520b0a-8a13-4ef1-b05e-8cc615303b0b",
   "metadata": {},
   "outputs": [],
   "source": [
    "data_path = \"../datasets/fb15k-237/\""
   ]
  },
  {
   "cell_type": "markdown",
   "id": "fc53c651-9279-4c33-8a99-ca1dc0abe264",
   "metadata": {},
   "source": [
    "### Load triples and augment from source"
   ]
  },
  {
   "cell_type": "code",
   "execution_count": 169,
   "id": "c4aa6d58-9073-4daf-afa2-137e248335c2",
   "metadata": {},
   "outputs": [],
   "source": [
    "column_names = ['src_freebase_id', 'relation', 'dest_freebase_id']\n",
    "triples_df = pd.read_csv(f\"{data_path}/train.txt\", header=None, names=column_names)\n",
    "# df = pd.read_csv(f\"{data_path}/train.txt\", sep='/t', header=None, names=column_names)"
   ]
  },
  {
   "cell_type": "code",
   "execution_count": 170,
   "id": "c4bb0c94-db43-4acb-9896-4c63672d1e9d",
   "metadata": {},
   "outputs": [],
   "source": [
    "triples_df['triple_id'] = triples_df.index"
   ]
  },
  {
   "cell_type": "code",
   "execution_count": 171,
   "id": "6c56b7e9-4713-452e-a6d2-d01ea0584a61",
   "metadata": {},
   "outputs": [
    {
     "name": "stdout",
     "output_type": "stream",
     "text": [
      "<class 'pandas.core.frame.DataFrame'>\n",
      "RangeIndex: 272115 entries, 0 to 272114\n",
      "Data columns (total 4 columns):\n",
      " #   Column            Non-Null Count   Dtype \n",
      "---  ------            --------------   ----- \n",
      " 0   src_freebase_id   272115 non-null  object\n",
      " 1   relation          272115 non-null  object\n",
      " 2   dest_freebase_id  272115 non-null  object\n",
      " 3   triple_id         272115 non-null  int64 \n",
      "dtypes: int64(1), object(3)\n",
      "memory usage: 8.3+ MB\n"
     ]
    }
   ],
   "source": [
    "triples_df.info()"
   ]
  },
  {
   "cell_type": "code",
   "execution_count": 172,
   "id": "9bf2ef77-1432-4bfd-98d4-1321c4dfbd2d",
   "metadata": {},
   "outputs": [
    {
     "data": {
      "text/html": [
       "<div>\n",
       "<style scoped>\n",
       "    .dataframe tbody tr th:only-of-type {\n",
       "        vertical-align: middle;\n",
       "    }\n",
       "\n",
       "    .dataframe tbody tr th {\n",
       "        vertical-align: top;\n",
       "    }\n",
       "\n",
       "    .dataframe thead th {\n",
       "        text-align: right;\n",
       "    }\n",
       "</style>\n",
       "<table border=\"1\" class=\"dataframe\">\n",
       "  <thead>\n",
       "    <tr style=\"text-align: right;\">\n",
       "      <th></th>\n",
       "      <th>src_freebase_id</th>\n",
       "      <th>relation</th>\n",
       "      <th>dest_freebase_id</th>\n",
       "      <th>triple_id</th>\n",
       "    </tr>\n",
       "  </thead>\n",
       "  <tbody>\n",
       "    <tr>\n",
       "      <th>0</th>\n",
       "      <td>/m/027rn</td>\n",
       "      <td>/location/country/form_of_government</td>\n",
       "      <td>/m/06cx9</td>\n",
       "      <td>0</td>\n",
       "    </tr>\n",
       "    <tr>\n",
       "      <th>1</th>\n",
       "      <td>/m/017dcd</td>\n",
       "      <td>/tv/tv_program/regular_cast./tv/regular_tv_app...</td>\n",
       "      <td>/m/06v8s0</td>\n",
       "      <td>1</td>\n",
       "    </tr>\n",
       "    <tr>\n",
       "      <th>2</th>\n",
       "      <td>/m/07s9rl0</td>\n",
       "      <td>/media_common/netflix_genre/titles</td>\n",
       "      <td>/m/0170z3</td>\n",
       "      <td>2</td>\n",
       "    </tr>\n",
       "    <tr>\n",
       "      <th>3</th>\n",
       "      <td>/m/01sl1q</td>\n",
       "      <td>/award/award_winner/awards_won./award/award_ho...</td>\n",
       "      <td>/m/044mz_</td>\n",
       "      <td>3</td>\n",
       "    </tr>\n",
       "    <tr>\n",
       "      <th>4</th>\n",
       "      <td>/m/0cnk2q</td>\n",
       "      <td>/soccer/football_team/current_roster./sports/s...</td>\n",
       "      <td>/m/02nzb8</td>\n",
       "      <td>4</td>\n",
       "    </tr>\n",
       "  </tbody>\n",
       "</table>\n",
       "</div>"
      ],
      "text/plain": [
       "  src_freebase_id                                           relation  \\\n",
       "0        /m/027rn               /location/country/form_of_government   \n",
       "1       /m/017dcd  /tv/tv_program/regular_cast./tv/regular_tv_app...   \n",
       "2      /m/07s9rl0                 /media_common/netflix_genre/titles   \n",
       "3       /m/01sl1q  /award/award_winner/awards_won./award/award_ho...   \n",
       "4       /m/0cnk2q  /soccer/football_team/current_roster./sports/s...   \n",
       "\n",
       "  dest_freebase_id  triple_id  \n",
       "0         /m/06cx9          0  \n",
       "1        /m/06v8s0          1  \n",
       "2        /m/0170z3          2  \n",
       "3        /m/044mz_          3  \n",
       "4        /m/02nzb8          4  "
      ]
     },
     "execution_count": 172,
     "metadata": {},
     "output_type": "execute_result"
    }
   ],
   "source": [
    "triples_df.head(5)"
   ]
  },
  {
   "cell_type": "code",
   "execution_count": 173,
   "id": "7f672bea-3b40-40fb-8562-dc16e84b719c",
   "metadata": {},
   "outputs": [
    {
     "data": {
      "text/html": [
       "<div>\n",
       "<style scoped>\n",
       "    .dataframe tbody tr th:only-of-type {\n",
       "        vertical-align: middle;\n",
       "    }\n",
       "\n",
       "    .dataframe tbody tr th {\n",
       "        vertical-align: top;\n",
       "    }\n",
       "\n",
       "    .dataframe thead th {\n",
       "        text-align: right;\n",
       "    }\n",
       "</style>\n",
       "<table border=\"1\" class=\"dataframe\">\n",
       "  <thead>\n",
       "    <tr style=\"text-align: right;\">\n",
       "      <th></th>\n",
       "      <th>src_freebase_id</th>\n",
       "      <th>dest_freebase_id</th>\n",
       "    </tr>\n",
       "  </thead>\n",
       "  <tbody>\n",
       "    <tr>\n",
       "      <th>count</th>\n",
       "      <td>272115</td>\n",
       "      <td>272115</td>\n",
       "    </tr>\n",
       "    <tr>\n",
       "      <th>unique</th>\n",
       "      <td>13781</td>\n",
       "      <td>13379</td>\n",
       "    </tr>\n",
       "    <tr>\n",
       "      <th>top</th>\n",
       "      <td>/m/09c7w0</td>\n",
       "      <td>/m/09c7w0</td>\n",
       "    </tr>\n",
       "    <tr>\n",
       "      <th>freq</th>\n",
       "      <td>1325</td>\n",
       "      <td>6289</td>\n",
       "    </tr>\n",
       "  </tbody>\n",
       "</table>\n",
       "</div>"
      ],
      "text/plain": [
       "       src_freebase_id dest_freebase_id\n",
       "count           272115           272115\n",
       "unique           13781            13379\n",
       "top          /m/09c7w0        /m/09c7w0\n",
       "freq              1325             6289"
      ]
     },
     "execution_count": 173,
     "metadata": {},
     "output_type": "execute_result"
    }
   ],
   "source": [
    "triples_df[['src_freebase_id', 'dest_freebase_id']].describe()"
   ]
  },
  {
   "cell_type": "code",
   "execution_count": 174,
   "id": "5e7507f6-cd69-4b58-93e2-340c7dc3f14f",
   "metadata": {},
   "outputs": [
    {
     "data": {
      "text/html": [
       "<div>\n",
       "<style scoped>\n",
       "    .dataframe tbody tr th:only-of-type {\n",
       "        vertical-align: middle;\n",
       "    }\n",
       "\n",
       "    .dataframe tbody tr th {\n",
       "        vertical-align: top;\n",
       "    }\n",
       "\n",
       "    .dataframe thead th {\n",
       "        text-align: right;\n",
       "    }\n",
       "</style>\n",
       "<table border=\"1\" class=\"dataframe\">\n",
       "  <thead>\n",
       "    <tr style=\"text-align: right;\">\n",
       "      <th></th>\n",
       "      <th>relation</th>\n",
       "    </tr>\n",
       "  </thead>\n",
       "  <tbody>\n",
       "    <tr>\n",
       "      <th>count</th>\n",
       "      <td>272115</td>\n",
       "    </tr>\n",
       "    <tr>\n",
       "      <th>unique</th>\n",
       "      <td>237</td>\n",
       "    </tr>\n",
       "    <tr>\n",
       "      <th>top</th>\n",
       "      <td>/award/award_nominee/award_nominations./award/...</td>\n",
       "    </tr>\n",
       "    <tr>\n",
       "      <th>freq</th>\n",
       "      <td>15989</td>\n",
       "    </tr>\n",
       "  </tbody>\n",
       "</table>\n",
       "</div>"
      ],
      "text/plain": [
       "                                                 relation\n",
       "count                                              272115\n",
       "unique                                                237\n",
       "top     /award/award_nominee/award_nominations./award/...\n",
       "freq                                                15989"
      ]
     },
     "execution_count": 174,
     "metadata": {},
     "output_type": "execute_result"
    }
   ],
   "source": [
    "triples_df[['relation']].describe()"
   ]
  },
  {
   "cell_type": "code",
   "execution_count": 175,
   "id": "e8a2061a-5e7b-45ec-8b4a-2ddf368a10ec",
   "metadata": {},
   "outputs": [],
   "source": [
    "# triples_df[['relation']].value_counts()"
   ]
  },
  {
   "cell_type": "code",
   "execution_count": 176,
   "id": "8566558d-cd75-40ca-95ef-a1701f9383d1",
   "metadata": {},
   "outputs": [],
   "source": [
    "# triples_df['relation'] = triples_df['relation'].astype('category')"
   ]
  },
  {
   "cell_type": "code",
   "execution_count": 177,
   "id": "7d96ea88-46d2-409b-b4fc-df10e8552f72",
   "metadata": {},
   "outputs": [],
   "source": [
    "# add random timestamps to force fit into KumoAI restrictions\n",
    "base_date = pd.Timestamp('2025-01-01')\n",
    "\n",
    "num_triples = len(triples_df)\n",
    "random_days_ago_integers = np.random.randint(1, 90, size=num_triples)\n",
    "\n",
    "time_deltas = pd.to_timedelta(random_days_ago_integers, unit='days')\n",
    "\n",
    "triples_df['timestamp'] = base_date - time_deltas"
   ]
  },
  {
   "cell_type": "markdown",
   "id": "49018c5b-c4f5-43e5-81f5-93a1353fd7f7",
   "metadata": {},
   "source": [
    "### Load augmented triples directly"
   ]
  },
  {
   "cell_type": "code",
   "execution_count": 205,
   "id": "1514cb26-0cec-48eb-826b-ffec2adfca9a",
   "metadata": {},
   "outputs": [],
   "source": [
    "# triples_df.to_csv(f\"{data_path}/derived/fb_train_triples.csv\", index=False)\n",
    "triples_df = pd.read_csv(f\"{data_path}/derived/fb_train_triples.csv\")"
   ]
  },
  {
   "cell_type": "code",
   "execution_count": null,
   "id": "61f879cf-1f72-4948-9829-8bdeb89b840d",
   "metadata": {},
   "outputs": [],
   "source": []
  },
  {
   "cell_type": "code",
   "execution_count": 178,
   "id": "0265e156-e966-42fe-9356-799fbd18cd95",
   "metadata": {},
   "outputs": [],
   "source": [
    "relations_observed = triples_df['relation'].unique()"
   ]
  },
  {
   "cell_type": "code",
   "execution_count": 179,
   "id": "453a5866-f726-4ed7-b902-0027afafb782",
   "metadata": {},
   "outputs": [],
   "source": [
    "relations_df = pd.DataFrame(relations_observed, columns=['relation_name'])\n",
    "relations_df['relation_id'] = relations_df.index"
   ]
  },
  {
   "cell_type": "code",
   "execution_count": 180,
   "id": "9bd0f245-a880-4a39-9aec-234c130a0124",
   "metadata": {},
   "outputs": [
    {
     "data": {
      "text/html": [
       "<div>\n",
       "<style scoped>\n",
       "    .dataframe tbody tr th:only-of-type {\n",
       "        vertical-align: middle;\n",
       "    }\n",
       "\n",
       "    .dataframe tbody tr th {\n",
       "        vertical-align: top;\n",
       "    }\n",
       "\n",
       "    .dataframe thead th {\n",
       "        text-align: right;\n",
       "    }\n",
       "</style>\n",
       "<table border=\"1\" class=\"dataframe\">\n",
       "  <thead>\n",
       "    <tr style=\"text-align: right;\">\n",
       "      <th></th>\n",
       "      <th>relation_name</th>\n",
       "      <th>relation_id</th>\n",
       "    </tr>\n",
       "  </thead>\n",
       "  <tbody>\n",
       "    <tr>\n",
       "      <th>0</th>\n",
       "      <td>/location/country/form_of_government</td>\n",
       "      <td>0</td>\n",
       "    </tr>\n",
       "    <tr>\n",
       "      <th>1</th>\n",
       "      <td>/tv/tv_program/regular_cast./tv/regular_tv_app...</td>\n",
       "      <td>1</td>\n",
       "    </tr>\n",
       "    <tr>\n",
       "      <th>2</th>\n",
       "      <td>/media_common/netflix_genre/titles</td>\n",
       "      <td>2</td>\n",
       "    </tr>\n",
       "    <tr>\n",
       "      <th>3</th>\n",
       "      <td>/award/award_winner/awards_won./award/award_ho...</td>\n",
       "      <td>3</td>\n",
       "    </tr>\n",
       "    <tr>\n",
       "      <th>4</th>\n",
       "      <td>/soccer/football_team/current_roster./sports/s...</td>\n",
       "      <td>4</td>\n",
       "    </tr>\n",
       "  </tbody>\n",
       "</table>\n",
       "</div>"
      ],
      "text/plain": [
       "                                       relation_name  relation_id\n",
       "0               /location/country/form_of_government            0\n",
       "1  /tv/tv_program/regular_cast./tv/regular_tv_app...            1\n",
       "2                 /media_common/netflix_genre/titles            2\n",
       "3  /award/award_winner/awards_won./award/award_ho...            3\n",
       "4  /soccer/football_team/current_roster./sports/s...            4"
      ]
     },
     "execution_count": 180,
     "metadata": {},
     "output_type": "execute_result"
    }
   ],
   "source": [
    "# relations_df['relation_name'] = relations_df['relation_name'].astype('category')\n",
    "relations_df['relation_name'] = relations_df['relation_name'].astype('object')"
   ]
  },
  {
   "cell_type": "code",
   "execution_count": 208,
   "id": "9ede7d2f-fd20-4124-9388-c32bb23998fe",
   "metadata": {},
   "outputs": [],
   "source": [
    "# relations_df.to_csv(f\"{data_path}/derived/relations_with_ids.csv\", index=False)\n",
    "relations_df = pd.read_csv(f\"{data_path}/derived/relations_with_ids.csv\")"
   ]
  },
  {
   "cell_type": "code",
   "execution_count": 209,
   "id": "7ff77b9c-dee3-4ac2-b9fe-9fff9d86cf59",
   "metadata": {},
   "outputs": [
    {
     "data": {
      "text/html": [
       "<div>\n",
       "<style scoped>\n",
       "    .dataframe tbody tr th:only-of-type {\n",
       "        vertical-align: middle;\n",
       "    }\n",
       "\n",
       "    .dataframe tbody tr th {\n",
       "        vertical-align: top;\n",
       "    }\n",
       "\n",
       "    .dataframe thead th {\n",
       "        text-align: right;\n",
       "    }\n",
       "</style>\n",
       "<table border=\"1\" class=\"dataframe\">\n",
       "  <thead>\n",
       "    <tr style=\"text-align: right;\">\n",
       "      <th></th>\n",
       "      <th>relation_name</th>\n",
       "      <th>relation_id</th>\n",
       "    </tr>\n",
       "  </thead>\n",
       "  <tbody>\n",
       "    <tr>\n",
       "      <th>0</th>\n",
       "      <td>/location/country/form_of_government</td>\n",
       "      <td>0</td>\n",
       "    </tr>\n",
       "    <tr>\n",
       "      <th>1</th>\n",
       "      <td>/tv/tv_program/regular_cast./tv/regular_tv_app...</td>\n",
       "      <td>1</td>\n",
       "    </tr>\n",
       "    <tr>\n",
       "      <th>2</th>\n",
       "      <td>/media_common/netflix_genre/titles</td>\n",
       "      <td>2</td>\n",
       "    </tr>\n",
       "    <tr>\n",
       "      <th>3</th>\n",
       "      <td>/award/award_winner/awards_won./award/award_ho...</td>\n",
       "      <td>3</td>\n",
       "    </tr>\n",
       "    <tr>\n",
       "      <th>4</th>\n",
       "      <td>/soccer/football_team/current_roster./sports/s...</td>\n",
       "      <td>4</td>\n",
       "    </tr>\n",
       "  </tbody>\n",
       "</table>\n",
       "</div>"
      ],
      "text/plain": [
       "                                       relation_name  relation_id\n",
       "0               /location/country/form_of_government            0\n",
       "1  /tv/tv_program/regular_cast./tv/regular_tv_app...            1\n",
       "2                 /media_common/netflix_genre/titles            2\n",
       "3  /award/award_winner/awards_won./award/award_ho...            3\n",
       "4  /soccer/football_team/current_roster./sports/s...            4"
      ]
     },
     "execution_count": 209,
     "metadata": {},
     "output_type": "execute_result"
    }
   ],
   "source": [
    "relations_df.head()"
   ]
  },
  {
   "cell_type": "code",
   "execution_count": 182,
   "id": "84adbad4-d2df-48ea-aa3e-0ea896b4e0ef",
   "metadata": {},
   "outputs": [],
   "source": [
    "triples_use_relation_id_df =  pd.merge(triples_df, relations_df, left_on ='relation', right_on='relation_name')\n",
    "# triples_use_relation_id_df.head()"
   ]
  },
  {
   "cell_type": "code",
   "execution_count": null,
   "id": "65cf37de-7d5a-4632-bfb1-21f95309329c",
   "metadata": {},
   "outputs": [],
   "source": []
  },
  {
   "cell_type": "code",
   "execution_count": 11,
   "id": "5eb2c472-70fa-4fa2-9736-0b8546651844",
   "metadata": {},
   "outputs": [],
   "source": [
    "freebase_vs_wiki_df =  pd.read_csv(f\"{data_path}/fb_wiki_mapping.tsv\", sep='\\t')\n",
    "# freebase_vs_wiki_df =  pd.read_csv(f\"{data_path}/fb_wiki_mapping.csv\")"
   ]
  },
  {
   "cell_type": "code",
   "execution_count": 12,
   "id": "0af3790d-a89e-45d5-9d42-a956e99e8de3",
   "metadata": {},
   "outputs": [
    {
     "data": {
      "text/html": [
       "<div>\n",
       "<style scoped>\n",
       "    .dataframe tbody tr th:only-of-type {\n",
       "        vertical-align: middle;\n",
       "    }\n",
       "\n",
       "    .dataframe tbody tr th {\n",
       "        vertical-align: top;\n",
       "    }\n",
       "\n",
       "    .dataframe thead th {\n",
       "        text-align: right;\n",
       "    }\n",
       "</style>\n",
       "<table border=\"1\" class=\"dataframe\">\n",
       "  <thead>\n",
       "    <tr style=\"text-align: right;\">\n",
       "      <th></th>\n",
       "      <th>freebase_id</th>\n",
       "      <th>wikidata_id</th>\n",
       "      <th>label</th>\n",
       "    </tr>\n",
       "  </thead>\n",
       "  <tbody>\n",
       "    <tr>\n",
       "      <th>0</th>\n",
       "      <td>/m/010005</td>\n",
       "      <td>Q974334</td>\n",
       "      <td>Corinth</td>\n",
       "    </tr>\n",
       "    <tr>\n",
       "      <th>1</th>\n",
       "      <td>/m/01000j</td>\n",
       "      <td>Q981582</td>\n",
       "      <td>Draper</td>\n",
       "    </tr>\n",
       "    <tr>\n",
       "      <th>2</th>\n",
       "      <td>/m/01000w</td>\n",
       "      <td>Q977417</td>\n",
       "      <td>Cross Roads</td>\n",
       "    </tr>\n",
       "  </tbody>\n",
       "</table>\n",
       "</div>"
      ],
      "text/plain": [
       "  freebase_id wikidata_id        label\n",
       "0   /m/010005     Q974334      Corinth\n",
       "1   /m/01000j     Q981582       Draper\n",
       "2   /m/01000w     Q977417  Cross Roads"
      ]
     },
     "execution_count": 12,
     "metadata": {},
     "output_type": "execute_result"
    }
   ],
   "source": [
    "# freebase_vs_wiki_df[''] = df.index\n",
    "freebase_vs_wiki_df.head(3)"
   ]
  },
  {
   "cell_type": "code",
   "execution_count": 13,
   "id": "0f7a6602-9130-475a-8417-799979088152",
   "metadata": {},
   "outputs": [
    {
     "data": {
      "text/html": [
       "<div>\n",
       "<style scoped>\n",
       "    .dataframe tbody tr th:only-of-type {\n",
       "        vertical-align: middle;\n",
       "    }\n",
       "\n",
       "    .dataframe tbody tr th {\n",
       "        vertical-align: top;\n",
       "    }\n",
       "\n",
       "    .dataframe thead th {\n",
       "        text-align: right;\n",
       "    }\n",
       "</style>\n",
       "<table border=\"1\" class=\"dataframe\">\n",
       "  <thead>\n",
       "    <tr style=\"text-align: right;\">\n",
       "      <th></th>\n",
       "      <th>freebase_id</th>\n",
       "      <th>wikidata_id</th>\n",
       "      <th>label</th>\n",
       "    </tr>\n",
       "  </thead>\n",
       "  <tbody>\n",
       "    <tr>\n",
       "      <th>count</th>\n",
       "      <td>2096636</td>\n",
       "      <td>2096636</td>\n",
       "      <td>2095837</td>\n",
       "    </tr>\n",
       "    <tr>\n",
       "      <th>unique</th>\n",
       "      <td>2094552</td>\n",
       "      <td>2096636</td>\n",
       "      <td>1959699</td>\n",
       "    </tr>\n",
       "    <tr>\n",
       "      <th>top</th>\n",
       "      <td>/m/060gfy</td>\n",
       "      <td>Q974334</td>\n",
       "      <td>Central District</td>\n",
       "    </tr>\n",
       "    <tr>\n",
       "      <th>freq</th>\n",
       "      <td>3</td>\n",
       "      <td>1</td>\n",
       "      <td>373</td>\n",
       "    </tr>\n",
       "  </tbody>\n",
       "</table>\n",
       "</div>"
      ],
      "text/plain": [
       "       freebase_id wikidata_id             label\n",
       "count      2096636     2096636           2095837\n",
       "unique     2094552     2096636           1959699\n",
       "top      /m/060gfy     Q974334  Central District\n",
       "freq             3           1               373"
      ]
     },
     "execution_count": 13,
     "metadata": {},
     "output_type": "execute_result"
    }
   ],
   "source": [
    "freebase_vs_wiki_df.describe()"
   ]
  },
  {
   "cell_type": "code",
   "execution_count": 14,
   "id": "2e0ba3e7-2dae-4983-bc54-6114eb2741f4",
   "metadata": {},
   "outputs": [],
   "source": [
    "# strip Q from wikidata id for easier use with Kumo AI\n",
    "freebase_vs_wiki_df['wikidata_int_id'] = freebase_vs_wiki_df.apply(lambda row: int(row['wikidata_id'][1:]), axis=1)"
   ]
  },
  {
   "cell_type": "code",
   "execution_count": 15,
   "id": "c93150d7-f6c8-4e9c-acec-b7b7893502d7",
   "metadata": {},
   "outputs": [],
   "source": [
    "freebase_vs_wiki_df.drop('wikidata_id', axis=1, inplace=True)\n",
    "freebase_vs_wiki_df.rename(columns={'wikidata_int_id':'wikidata_id'}, inplace=True)"
   ]
  },
  {
   "cell_type": "code",
   "execution_count": 183,
   "id": "0f8b2b41-7dd3-4149-b6c2-76fb39022272",
   "metadata": {},
   "outputs": [],
   "source": [
    "# are there any in the join\n",
    "triplets_with_src_wiki_ids_df = pd.merge(triples_use_relation_id_df, freebase_vs_wiki_df, left_on='src_freebase_id', right_on='freebase_id')"
   ]
  },
  {
   "cell_type": "code",
   "execution_count": 184,
   "id": "cdc13562-a885-4389-af2d-6135875102ec",
   "metadata": {},
   "outputs": [],
   "source": [
    "# triplets_with_src_wiki_ids_df.info()"
   ]
  },
  {
   "cell_type": "code",
   "execution_count": 185,
   "id": "a3bebc0f-e56a-49a0-adf0-5e09beaea9f3",
   "metadata": {},
   "outputs": [],
   "source": [
    "triplets_with_src_dst_wiki_ids_df = pd.merge(triplets_with_src_wiki_ids_df, freebase_vs_wiki_df, left_on='dest_freebase_id', right_on='freebase_id')"
   ]
  },
  {
   "cell_type": "code",
   "execution_count": 186,
   "id": "5f7531f0-8c5c-4fdf-b7cf-84a7c727d671",
   "metadata": {},
   "outputs": [
    {
     "data": {
      "text/html": [
       "<div>\n",
       "<style scoped>\n",
       "    .dataframe tbody tr th:only-of-type {\n",
       "        vertical-align: middle;\n",
       "    }\n",
       "\n",
       "    .dataframe tbody tr th {\n",
       "        vertical-align: top;\n",
       "    }\n",
       "\n",
       "    .dataframe thead th {\n",
       "        text-align: right;\n",
       "    }\n",
       "</style>\n",
       "<table border=\"1\" class=\"dataframe\">\n",
       "  <thead>\n",
       "    <tr style=\"text-align: right;\">\n",
       "      <th></th>\n",
       "      <th>src_freebase_id</th>\n",
       "      <th>relation</th>\n",
       "      <th>dest_freebase_id</th>\n",
       "      <th>triple_id</th>\n",
       "      <th>timestamp</th>\n",
       "      <th>relation_name</th>\n",
       "      <th>relation_id</th>\n",
       "      <th>freebase_id_x</th>\n",
       "      <th>label_x</th>\n",
       "      <th>wikidata_id_x</th>\n",
       "      <th>freebase_id_y</th>\n",
       "      <th>label_y</th>\n",
       "      <th>wikidata_id_y</th>\n",
       "    </tr>\n",
       "  </thead>\n",
       "  <tbody>\n",
       "    <tr>\n",
       "      <th>0</th>\n",
       "      <td>/m/027rn</td>\n",
       "      <td>/location/country/form_of_government</td>\n",
       "      <td>/m/06cx9</td>\n",
       "      <td>0</td>\n",
       "      <td>2024-10-06</td>\n",
       "      <td>/location/country/form_of_government</td>\n",
       "      <td>0</td>\n",
       "      <td>/m/027rn</td>\n",
       "      <td>Dominican Republic</td>\n",
       "      <td>786</td>\n",
       "      <td>/m/06cx9</td>\n",
       "      <td>republic</td>\n",
       "      <td>7270</td>\n",
       "    </tr>\n",
       "    <tr>\n",
       "      <th>1</th>\n",
       "      <td>/m/017dcd</td>\n",
       "      <td>/tv/tv_program/regular_cast./tv/regular_tv_app...</td>\n",
       "      <td>/m/06v8s0</td>\n",
       "      <td>1</td>\n",
       "      <td>2024-11-05</td>\n",
       "      <td>/tv/tv_program/regular_cast./tv/regular_tv_app...</td>\n",
       "      <td>1</td>\n",
       "      <td>/m/017dcd</td>\n",
       "      <td>Mighty Morphin Power Rangers</td>\n",
       "      <td>513809</td>\n",
       "      <td>/m/06v8s0</td>\n",
       "      <td>Wendee Lee</td>\n",
       "      <td>2642437</td>\n",
       "    </tr>\n",
       "    <tr>\n",
       "      <th>2</th>\n",
       "      <td>/m/07s9rl0</td>\n",
       "      <td>/media_common/netflix_genre/titles</td>\n",
       "      <td>/m/0170z3</td>\n",
       "      <td>2</td>\n",
       "      <td>2024-12-08</td>\n",
       "      <td>/media_common/netflix_genre/titles</td>\n",
       "      <td>2</td>\n",
       "      <td>/m/07s9rl0</td>\n",
       "      <td>drama film</td>\n",
       "      <td>130232</td>\n",
       "      <td>/m/0170z3</td>\n",
       "      <td>American History X</td>\n",
       "      <td>208572</td>\n",
       "    </tr>\n",
       "  </tbody>\n",
       "</table>\n",
       "</div>"
      ],
      "text/plain": [
       "  src_freebase_id                                           relation  \\\n",
       "0        /m/027rn               /location/country/form_of_government   \n",
       "1       /m/017dcd  /tv/tv_program/regular_cast./tv/regular_tv_app...   \n",
       "2      /m/07s9rl0                 /media_common/netflix_genre/titles   \n",
       "\n",
       "  dest_freebase_id  triple_id  timestamp  \\\n",
       "0         /m/06cx9          0 2024-10-06   \n",
       "1        /m/06v8s0          1 2024-11-05   \n",
       "2        /m/0170z3          2 2024-12-08   \n",
       "\n",
       "                                       relation_name  relation_id  \\\n",
       "0               /location/country/form_of_government            0   \n",
       "1  /tv/tv_program/regular_cast./tv/regular_tv_app...            1   \n",
       "2                 /media_common/netflix_genre/titles            2   \n",
       "\n",
       "  freebase_id_x                       label_x  wikidata_id_x freebase_id_y  \\\n",
       "0      /m/027rn            Dominican Republic            786      /m/06cx9   \n",
       "1     /m/017dcd  Mighty Morphin Power Rangers         513809     /m/06v8s0   \n",
       "2    /m/07s9rl0                    drama film         130232     /m/0170z3   \n",
       "\n",
       "              label_y  wikidata_id_y  \n",
       "0            republic           7270  \n",
       "1          Wendee Lee        2642437  \n",
       "2  American History X         208572  "
      ]
     },
     "execution_count": 186,
     "metadata": {},
     "output_type": "execute_result"
    }
   ],
   "source": [
    "triplets_with_src_dst_wiki_ids_df.head(3)"
   ]
  },
  {
   "cell_type": "code",
   "execution_count": 187,
   "id": "b0dc0cd3-67de-466e-8543-28f05da52338",
   "metadata": {},
   "outputs": [
    {
     "name": "stdout",
     "output_type": "stream",
     "text": [
      "<class 'pandas.core.frame.DataFrame'>\n",
      "RangeIndex: 243636 entries, 0 to 243635\n",
      "Data columns (total 13 columns):\n",
      " #   Column            Non-Null Count   Dtype         \n",
      "---  ------            --------------   -----         \n",
      " 0   src_freebase_id   243636 non-null  object        \n",
      " 1   relation          243636 non-null  object        \n",
      " 2   dest_freebase_id  243636 non-null  object        \n",
      " 3   triple_id         243636 non-null  int64         \n",
      " 4   timestamp         243636 non-null  datetime64[ns]\n",
      " 5   relation_name     243636 non-null  object        \n",
      " 6   relation_id       243636 non-null  int64         \n",
      " 7   freebase_id_x     243636 non-null  object        \n",
      " 8   label_x           243636 non-null  object        \n",
      " 9   wikidata_id_x     243636 non-null  int64         \n",
      " 10  freebase_id_y     243636 non-null  object        \n",
      " 11  label_y           243636 non-null  object        \n",
      " 12  wikidata_id_y     243636 non-null  int64         \n",
      "dtypes: datetime64[ns](1), int64(4), object(8)\n",
      "memory usage: 24.2+ MB\n"
     ]
    }
   ],
   "source": [
    "triplets_with_src_dst_wiki_ids_df.info()"
   ]
  },
  {
   "cell_type": "code",
   "execution_count": 188,
   "id": "7b66b9f2-bc75-425b-9165-b0bcbcf69aca",
   "metadata": {},
   "outputs": [],
   "source": [
    "triplets_with_src_dst_wiki_ids_df.rename(columns={'wikidata_id_x':'src_wikidata_id', 'wikidata_id_y':'dest_wikidata_id'}, inplace=True)"
   ]
  },
  {
   "cell_type": "code",
   "execution_count": 210,
   "id": "7d1a187c-662d-4f35-a293-40dec1b94853",
   "metadata": {},
   "outputs": [],
   "source": [
    "# triplets_with_src_dst_wiki_ids_df.to_csv(f\"{data_path}/derived/triplets_with_src_dst_wiki_ids.csv\", index=False)\n",
    "triplets_with_src_dst_wiki_ids_df = pd.read_csv(f\"{data_path}/derived/triplets_with_src_dst_wiki_ids.csv\")"
   ]
  },
  {
   "cell_type": "code",
   "execution_count": null,
   "id": "d4a8bbb6-bf78-455f-9885-b6669a9aad6f",
   "metadata": {},
   "outputs": [],
   "source": []
  },
  {
   "cell_type": "code",
   "execution_count": 22,
   "id": "5d3c7de7-c10c-46b2-bb6e-f2950a6fea42",
   "metadata": {},
   "outputs": [],
   "source": [
    "# All nodes and associated triples for freebase / wiki ?\n",
    "import kumoai as kumo"
   ]
  },
  {
   "cell_type": "code",
   "execution_count": 24,
   "id": "781577d8-14bc-4593-924b-11df391001bf",
   "metadata": {},
   "outputs": [],
   "source": [
    "import kumoai.experimental.rfm as rfm\n",
    "import os"
   ]
  },
  {
   "cell_type": "code",
   "execution_count": 26,
   "id": "46423057-8c71-4e8c-aa63-c901b5ff32fe",
   "metadata": {},
   "outputs": [
    {
     "name": "stdout",
     "output_type": "stream",
     "text": [
      "Opening browser page to automatically generate an API key...\n"
     ]
    },
    {
     "name": "stderr",
     "output_type": "stream",
     "text": [
      "[2025-08-17 19:35:40 - kumoai:298 - INFO] Generated token \"sdk-macbook-pro-3.local-2025-08-17-19-35-38-Z\" and saved to KUMO_API_KEY env variable\n"
     ]
    }
   ],
   "source": [
    "if not os.environ.get(\"KUMO_API_KEY\"):\n",
    "    rfm.authenticate()"
   ]
  },
  {
   "cell_type": "code",
   "execution_count": 27,
   "id": "2a213e15-ebf0-4d86-a29d-bc546c9e65e1",
   "metadata": {},
   "outputs": [
    {
     "name": "stderr",
     "output_type": "stream",
     "text": [
      "[2025-08-17 19:35:49 - kumoai:196 - INFO] Successfully initialized the Kumo SDK against deployment https://kumorfm.ai/api, with log level INFO.\n"
     ]
    }
   ],
   "source": [
    "KUMO_API_KEY = os.environ.get(\"KUMO_API_KEY\")\n",
    "rfm.init(api_key=KUMO_API_KEY)"
   ]
  },
  {
   "cell_type": "code",
   "execution_count": 189,
   "id": "60772876-dfa9-41b9-ba33-e7eb34d01a19",
   "metadata": {},
   "outputs": [
    {
     "name": "stdout",
     "output_type": "stream",
     "text": [
      "Detected primary key 'triple_id' and time column 'timestamp' in table 'triples'\n"
     ]
    }
   ],
   "source": [
    "triples = rfm.LocalTable(\n",
    "    triplets_with_src_dst_wiki_ids_df[['triple_id', 'src_wikidata_id', 'relation_id', 'dest_wikidata_id', 'timestamp']], \n",
    "    name=\"triples\"\n",
    ").infer_metadata()"
   ]
  },
  {
   "cell_type": "code",
   "execution_count": 121,
   "id": "3cd072cb-b64d-4d3a-a588-fbf4eccab15a",
   "metadata": {},
   "outputs": [],
   "source": [
    "relations = rfm.LocalTable(\n",
    "    relations_df, name=\"relations\", primary_key='relation_id'\n",
    ").infer_metadata()"
   ]
  },
  {
   "cell_type": "code",
   "execution_count": null,
   "id": "8616a5e8-0969-4cd5-a455-667a157673e2",
   "metadata": {},
   "outputs": [],
   "source": []
  },
  {
   "cell_type": "code",
   "execution_count": 29,
   "id": "992faf10-6e3e-4ed5-a4a2-8314f8491204",
   "metadata": {},
   "outputs": [],
   "source": [
    "freebase_vs_wiki = rfm.LocalTable(freebase_vs_wiki_df, name=\"freebase_vs_wiki\", primary_key=\"wikidata_id\").infer_metadata()"
   ]
  },
  {
   "cell_type": "code",
   "execution_count": 190,
   "id": "5609b8d6-4a90-4d50-9d5f-750b51b71083",
   "metadata": {},
   "outputs": [],
   "source": [
    "graph = rfm.LocalGraph(tables=[\n",
    "    triples,\n",
    "    relations,\n",
    "    freebase_vs_wiki,\n",
    "])"
   ]
  },
  {
   "cell_type": "code",
   "execution_count": 191,
   "id": "1351e77c-e3c7-4262-9747-628942a3ddab",
   "metadata": {},
   "outputs": [
    {
     "data": {
      "text/plain": [
       "LocalGraph(\n",
       "  tables=[triples, relations, freebase_vs_wiki],\n",
       "  edges=[Edge(src_table='triples', fkey='src_wikidata_id', dst_table='freebase_vs_wiki')],\n",
       ")"
      ]
     },
     "execution_count": 191,
     "metadata": {},
     "output_type": "execute_result"
    }
   ],
   "source": [
    "# graph.link(src_table=\"freebase_vs_wiki\", fkey=\"src_wikidata_id\", dst_table=\"triples\")\n",
    "graph.link(src_table=\"triples\", fkey=\"src_wikidata_id\", dst_table=\"freebase_vs_wiki\")"
   ]
  },
  {
   "cell_type": "code",
   "execution_count": 192,
   "id": "41603c6c-e302-43fe-8158-87b359d552ad",
   "metadata": {},
   "outputs": [
    {
     "data": {
      "text/plain": [
       "LocalGraph(\n",
       "  tables=[triples, relations, freebase_vs_wiki],\n",
       "  edges=[Edge(src_table='triples', fkey='src_wikidata_id', dst_table='freebase_vs_wiki'), Edge(src_table='triples', fkey='relation_id', dst_table='relations')],\n",
       ")"
      ]
     },
     "execution_count": 192,
     "metadata": {},
     "output_type": "execute_result"
    }
   ],
   "source": [
    "graph.link(src_table=\"triples\",fkey=\"relation_id\", dst_table=\"relations\")\n",
    "# graph.link(src_table=\"triples\", fkey=\"dest_wikidata_id\", dst_table=\"freebase_vs_wiki\")"
   ]
  },
  {
   "cell_type": "code",
   "execution_count": 193,
   "id": "67084f87-e410-41db-a354-48bf192f38a2",
   "metadata": {},
   "outputs": [
    {
     "data": {
      "image/svg+xml": [
       "<?xml version=\"1.0\" encoding=\"UTF-8\" standalone=\"no\"?>\n",
       "<!DOCTYPE svg PUBLIC \"-//W3C//DTD SVG 1.1//EN\"\n",
       " \"http://www.w3.org/Graphics/SVG/1.1/DTD/svg11.dtd\">\n",
       "<!-- Generated by graphviz version 12.2.1 (20241206.2353)\n",
       " -->\n",
       "<!-- Pages: 1 -->\n",
       "<svg width=\"334pt\" height=\"338pt\"\n",
       " viewBox=\"0.00 0.00 334.38 337.50\" xmlns=\"http://www.w3.org/2000/svg\" xmlns:xlink=\"http://www.w3.org/1999/xlink\">\n",
       "<g id=\"graph0\" class=\"graph\" transform=\"scale(1 1) rotate(0) translate(4 333.5)\">\n",
       "<polygon fill=\"white\" stroke=\"none\" points=\"-4,4 -4,-333.5 330.38,-333.5 330.38,4 -4,4\"/>\n",
       "<!-- triples -->\n",
       "<g id=\"node1\" class=\"node\">\n",
       "<title>triples</title>\n",
       "<polygon fill=\"none\" stroke=\"black\" points=\"90.12,-206 90.12,-329 247.12,-329 247.12,-206 90.12,-206\"/>\n",
       "<text text-anchor=\"middle\" x=\"168.62\" y=\"-311.7\" font-family=\"Times,serif\" font-size=\"14.00\">triples</text>\n",
       "<polyline fill=\"none\" stroke=\"black\" points=\"90.12,-304.5 247.12,-304.5\"/>\n",
       "<text text-anchor=\"start\" x=\"98.12\" y=\"-287.2\" font-family=\"Times,serif\" font-size=\"14.00\">triple_id: PK (int)</text>\n",
       "<text text-anchor=\"start\" x=\"98.12\" y=\"-270.7\" font-family=\"Times,serif\" font-size=\"14.00\">src_wikidata_id: FK (int)</text>\n",
       "<text text-anchor=\"start\" x=\"98.12\" y=\"-254.2\" font-family=\"Times,serif\" font-size=\"14.00\">relation_id: FK (int)</text>\n",
       "<text text-anchor=\"start\" x=\"98.12\" y=\"-237.7\" font-family=\"Times,serif\" font-size=\"14.00\">timestamp: Time (date)</text>\n",
       "<polyline fill=\"none\" stroke=\"black\" points=\"90.12,-230.5 247.12,-230.5\"/>\n",
       "<text text-anchor=\"start\" x=\"98.12\" y=\"-213.2\" font-family=\"Times,serif\" font-size=\"14.00\">dest_wikidata_id: ID (int)</text>\n",
       "</g>\n",
       "<!-- relations -->\n",
       "<g id=\"node2\" class=\"node\">\n",
       "<title>relations</title>\n",
       "<polygon fill=\"none\" stroke=\"black\" points=\"0,-8.75 0,-82.25 165.25,-82.25 165.25,-8.75 0,-8.75\"/>\n",
       "<text text-anchor=\"middle\" x=\"82.62\" y=\"-64.95\" font-family=\"Times,serif\" font-size=\"14.00\">relations</text>\n",
       "<polyline fill=\"none\" stroke=\"black\" points=\"0,-57.75 165.25,-57.75\"/>\n",
       "<text text-anchor=\"start\" x=\"8\" y=\"-40.45\" font-family=\"Times,serif\" font-size=\"14.00\">relation_id: PK (int)</text>\n",
       "<polyline fill=\"none\" stroke=\"black\" points=\"0,-33.25 165.25,-33.25\"/>\n",
       "<text text-anchor=\"start\" x=\"8\" y=\"-15.95\" font-family=\"Times,serif\" font-size=\"14.00\">relation_name: text (string)</text>\n",
       "</g>\n",
       "<!-- triples&#45;&#45;relations -->\n",
       "<g id=\"edge2\" class=\"edge\">\n",
       "<title>triples&#45;&#45;relations</title>\n",
       "<path fill=\"none\" stroke=\"black\" d=\"M144.78,-205.51C129.32,-165.96 109.71,-115.79 96.69,-82.49\"/>\n",
       "<text text-anchor=\"middle\" x=\"156.9\" y=\"-144.55\" font-family=\"Times,serif\" font-size=\"11.00\"> relation_id </text>\n",
       "<text text-anchor=\"middle\" x=\"107.55\" y=\"-89.15\" font-family=\"Times,serif\" font-size=\"11.00\">1</text>\n",
       "<text text-anchor=\"middle\" x=\"133.93\" y=\"-191.46\" font-family=\"Times,serif\" font-size=\"11.00\">*</text>\n",
       "</g>\n",
       "<!-- freebase_vs_wiki -->\n",
       "<g id=\"node3\" class=\"node\">\n",
       "<title>freebase_vs_wiki</title>\n",
       "<polygon fill=\"none\" stroke=\"black\" points=\"182.88,-0.5 182.88,-90.5 326.38,-90.5 326.38,-0.5 182.88,-0.5\"/>\n",
       "<text text-anchor=\"middle\" x=\"254.62\" y=\"-73.2\" font-family=\"Times,serif\" font-size=\"14.00\">freebase_vs_wiki</text>\n",
       "<polyline fill=\"none\" stroke=\"black\" points=\"182.88,-66 326.38,-66\"/>\n",
       "<text text-anchor=\"start\" x=\"190.88\" y=\"-48.7\" font-family=\"Times,serif\" font-size=\"14.00\">wikidata_id: PK (int)</text>\n",
       "<polyline fill=\"none\" stroke=\"black\" points=\"182.88,-41.5 326.38,-41.5\"/>\n",
       "<text text-anchor=\"start\" x=\"190.88\" y=\"-24.2\" font-family=\"Times,serif\" font-size=\"14.00\">freebase_id: ID (string)</text>\n",
       "<text text-anchor=\"start\" x=\"190.88\" y=\"-7.7\" font-family=\"Times,serif\" font-size=\"14.00\">label: text (string)</text>\n",
       "</g>\n",
       "<!-- triples&#45;&#45;freebase_vs_wiki -->\n",
       "<g id=\"edge1\" class=\"edge\">\n",
       "<title>triples&#45;&#45;freebase_vs_wiki</title>\n",
       "<path fill=\"none\" stroke=\"black\" d=\"M192.47,-205.51C206.68,-169.14 224.41,-123.79 237.29,-90.84\"/>\n",
       "<text text-anchor=\"middle\" x=\"259.37\" y=\"-158.05\" font-family=\"Times,serif\" font-size=\"11.00\"> src_wikidata_id</text>\n",
       "<text text-anchor=\"middle\" x=\"259.37\" y=\"-144.55\" font-family=\"Times,serif\" font-size=\"11.00\">&lt; &gt;</text>\n",
       "<text text-anchor=\"middle\" x=\"259.37\" y=\"-131.05\" font-family=\"Times,serif\" font-size=\"11.00\">wikidata_id </text>\n",
       "<text text-anchor=\"middle\" x=\"238.25\" y=\"-102.1\" font-family=\"Times,serif\" font-size=\"11.00\">1</text>\n",
       "<text text-anchor=\"middle\" x=\"191.51\" y=\"-186.84\" font-family=\"Times,serif\" font-size=\"11.00\">*</text>\n",
       "</g>\n",
       "</g>\n",
       "</svg>\n"
      ],
      "text/plain": [
       "<graphviz.graphs.Graph at 0x34eafacd0>"
      ]
     },
     "metadata": {},
     "output_type": "display_data"
    },
    {
     "data": {
      "image/svg+xml": [
       "<?xml version=\"1.0\" encoding=\"UTF-8\" standalone=\"no\"?>\n",
       "<!DOCTYPE svg PUBLIC \"-//W3C//DTD SVG 1.1//EN\"\n",
       " \"http://www.w3.org/Graphics/SVG/1.1/DTD/svg11.dtd\">\n",
       "<!-- Generated by graphviz version 12.2.1 (20241206.2353)\n",
       " -->\n",
       "<!-- Pages: 1 -->\n",
       "<svg width=\"334pt\" height=\"338pt\"\n",
       " viewBox=\"0.00 0.00 334.38 337.50\" xmlns=\"http://www.w3.org/2000/svg\" xmlns:xlink=\"http://www.w3.org/1999/xlink\">\n",
       "<g id=\"graph0\" class=\"graph\" transform=\"scale(1 1) rotate(0) translate(4 333.5)\">\n",
       "<polygon fill=\"white\" stroke=\"none\" points=\"-4,4 -4,-333.5 330.38,-333.5 330.38,4 -4,4\"/>\n",
       "<!-- triples -->\n",
       "<g id=\"node1\" class=\"node\">\n",
       "<title>triples</title>\n",
       "<polygon fill=\"none\" stroke=\"black\" points=\"90.12,-206 90.12,-329 247.12,-329 247.12,-206 90.12,-206\"/>\n",
       "<text text-anchor=\"middle\" x=\"168.62\" y=\"-311.7\" font-family=\"Times,serif\" font-size=\"14.00\">triples</text>\n",
       "<polyline fill=\"none\" stroke=\"black\" points=\"90.12,-304.5 247.12,-304.5\"/>\n",
       "<text text-anchor=\"start\" x=\"98.12\" y=\"-287.2\" font-family=\"Times,serif\" font-size=\"14.00\">triple_id: PK (int)</text>\n",
       "<text text-anchor=\"start\" x=\"98.12\" y=\"-270.7\" font-family=\"Times,serif\" font-size=\"14.00\">src_wikidata_id: FK (int)</text>\n",
       "<text text-anchor=\"start\" x=\"98.12\" y=\"-254.2\" font-family=\"Times,serif\" font-size=\"14.00\">relation_id: FK (int)</text>\n",
       "<text text-anchor=\"start\" x=\"98.12\" y=\"-237.7\" font-family=\"Times,serif\" font-size=\"14.00\">timestamp: Time (date)</text>\n",
       "<polyline fill=\"none\" stroke=\"black\" points=\"90.12,-230.5 247.12,-230.5\"/>\n",
       "<text text-anchor=\"start\" x=\"98.12\" y=\"-213.2\" font-family=\"Times,serif\" font-size=\"14.00\">dest_wikidata_id: ID (int)</text>\n",
       "</g>\n",
       "<!-- relations -->\n",
       "<g id=\"node2\" class=\"node\">\n",
       "<title>relations</title>\n",
       "<polygon fill=\"none\" stroke=\"black\" points=\"0,-8.75 0,-82.25 165.25,-82.25 165.25,-8.75 0,-8.75\"/>\n",
       "<text text-anchor=\"middle\" x=\"82.62\" y=\"-64.95\" font-family=\"Times,serif\" font-size=\"14.00\">relations</text>\n",
       "<polyline fill=\"none\" stroke=\"black\" points=\"0,-57.75 165.25,-57.75\"/>\n",
       "<text text-anchor=\"start\" x=\"8\" y=\"-40.45\" font-family=\"Times,serif\" font-size=\"14.00\">relation_id: PK (int)</text>\n",
       "<polyline fill=\"none\" stroke=\"black\" points=\"0,-33.25 165.25,-33.25\"/>\n",
       "<text text-anchor=\"start\" x=\"8\" y=\"-15.95\" font-family=\"Times,serif\" font-size=\"14.00\">relation_name: text (string)</text>\n",
       "</g>\n",
       "<!-- triples&#45;&#45;relations -->\n",
       "<g id=\"edge2\" class=\"edge\">\n",
       "<title>triples&#45;&#45;relations</title>\n",
       "<path fill=\"none\" stroke=\"black\" d=\"M144.78,-205.51C129.32,-165.96 109.71,-115.79 96.69,-82.49\"/>\n",
       "<text text-anchor=\"middle\" x=\"156.9\" y=\"-144.55\" font-family=\"Times,serif\" font-size=\"11.00\"> relation_id </text>\n",
       "<text text-anchor=\"middle\" x=\"107.55\" y=\"-89.15\" font-family=\"Times,serif\" font-size=\"11.00\">1</text>\n",
       "<text text-anchor=\"middle\" x=\"133.93\" y=\"-191.46\" font-family=\"Times,serif\" font-size=\"11.00\">*</text>\n",
       "</g>\n",
       "<!-- freebase_vs_wiki -->\n",
       "<g id=\"node3\" class=\"node\">\n",
       "<title>freebase_vs_wiki</title>\n",
       "<polygon fill=\"none\" stroke=\"black\" points=\"182.88,-0.5 182.88,-90.5 326.38,-90.5 326.38,-0.5 182.88,-0.5\"/>\n",
       "<text text-anchor=\"middle\" x=\"254.62\" y=\"-73.2\" font-family=\"Times,serif\" font-size=\"14.00\">freebase_vs_wiki</text>\n",
       "<polyline fill=\"none\" stroke=\"black\" points=\"182.88,-66 326.38,-66\"/>\n",
       "<text text-anchor=\"start\" x=\"190.88\" y=\"-48.7\" font-family=\"Times,serif\" font-size=\"14.00\">wikidata_id: PK (int)</text>\n",
       "<polyline fill=\"none\" stroke=\"black\" points=\"182.88,-41.5 326.38,-41.5\"/>\n",
       "<text text-anchor=\"start\" x=\"190.88\" y=\"-24.2\" font-family=\"Times,serif\" font-size=\"14.00\">freebase_id: ID (string)</text>\n",
       "<text text-anchor=\"start\" x=\"190.88\" y=\"-7.7\" font-family=\"Times,serif\" font-size=\"14.00\">label: text (string)</text>\n",
       "</g>\n",
       "<!-- triples&#45;&#45;freebase_vs_wiki -->\n",
       "<g id=\"edge1\" class=\"edge\">\n",
       "<title>triples&#45;&#45;freebase_vs_wiki</title>\n",
       "<path fill=\"none\" stroke=\"black\" d=\"M192.47,-205.51C206.68,-169.14 224.41,-123.79 237.29,-90.84\"/>\n",
       "<text text-anchor=\"middle\" x=\"259.37\" y=\"-158.05\" font-family=\"Times,serif\" font-size=\"11.00\"> src_wikidata_id</text>\n",
       "<text text-anchor=\"middle\" x=\"259.37\" y=\"-144.55\" font-family=\"Times,serif\" font-size=\"11.00\">&lt; &gt;</text>\n",
       "<text text-anchor=\"middle\" x=\"259.37\" y=\"-131.05\" font-family=\"Times,serif\" font-size=\"11.00\">wikidata_id </text>\n",
       "<text text-anchor=\"middle\" x=\"238.25\" y=\"-102.1\" font-family=\"Times,serif\" font-size=\"11.00\">1</text>\n",
       "<text text-anchor=\"middle\" x=\"191.51\" y=\"-186.84\" font-family=\"Times,serif\" font-size=\"11.00\">*</text>\n",
       "</g>\n",
       "</g>\n",
       "</svg>\n"
      ],
      "text/plain": [
       "<graphviz.graphs.Graph at 0x34eafacd0>"
      ]
     },
     "execution_count": 193,
     "metadata": {},
     "output_type": "execute_result"
    }
   ],
   "source": [
    "graph.visualize()"
   ]
  },
  {
   "cell_type": "code",
   "execution_count": 81,
   "id": "4362a6a5-f722-48d7-84fd-1870c6ca4c1a",
   "metadata": {},
   "outputs": [],
   "source": [
    "# graph['triples']['relation'].stype\n",
    "# graph['triples']['relation_id'].stype"
   ]
  },
  {
   "cell_type": "code",
   "execution_count": 194,
   "id": "67af4edd-3cbf-456d-8afe-29b84033b289",
   "metadata": {},
   "outputs": [
    {
     "data": {
      "application/vnd.jupyter.widget-view+json": {
       "model_id": "266e64777b6a4f96bcac89e4af2e296c",
       "version_major": 2,
       "version_minor": 0
      },
      "text/plain": [
       "Output()"
      ]
     },
     "metadata": {},
     "output_type": "display_data"
    },
    {
     "data": {
      "text/html": [
       "<pre style=\"white-space:pre;overflow-x:auto;line-height:normal;font-family:Menlo,'DejaVu Sans Mono',consolas,'Courier New',monospace\"></pre>\n"
      ],
      "text/plain": []
     },
     "metadata": {},
     "output_type": "display_data"
    }
   ],
   "source": [
    "model = rfm.KumoRFM(graph)"
   ]
  },
  {
   "cell_type": "code",
   "execution_count": 56,
   "id": "45f67cf5-3354-4059-98a8-897c9171f7bb",
   "metadata": {},
   "outputs": [],
   "source": [
    "# PREDICT triples.relation\n",
    "# Couldn't pick a unique triples.relation for each freebase_vs_wiki. row 1, column 8: Encountered an error, we have found \n",
    "# multiple 'relation' values in the 'triples' table for a single 'freebase_vs_wiki'. To fix this, you have two options:\n",
    "## 1. Aggregate the values: If your 'triples' table has a 'created at' column, use an aggregation function to reduce them to one value. \n",
    "##   For example: PREDICT LAST(triples.relation, 0, 30, days).\n",
    "## 2. Rewrite your query: If you are writing a static node prediction predictive query, make sure that you \n",
    "##   either use the same table to define your target and entity, or you have a foreign key from the entity pointing to the target table, \n",
    "##   not the other way around.\n",
    "\n",
    "# PREDICT triples.relation RANK TOP 10\n",
    "## Problem type 'ProblemType.RANK' is only supported for multicategorical targets. . row 1, column 8: Target 'triples.relation' is \n",
    "## not multicategorical. Either drop the problem type ProblemType.RANK OR \n",
    "## change the target to a multicategorical column, 'LAST'/'FIRST' aggregation of a multicategorical column, or a 'LIST_DISTINCT' aggregation.\n",
    "\n",
    "# FOR triples.src_wikidata_id=7413907\n",
    "# Invalid entity. row 2, column 4: Entity 'triples.src_wikidata_id' is not a primary key. \n",
    "# The column used in 'FOR EACH' has to be a primary key.\n",
    "\n",
    "# FOR \n",
    "\n",
    "# WHERE triples.relation contains 'place'\n"
   ]
  },
  {
   "cell_type": "code",
   "execution_count": null,
   "id": "a4a212aa-acd0-43b0-9570-32a97d63287e",
   "metadata": {},
   "outputs": [],
   "source": [
    "# kumo.init(api_key=KUMO_API_KEY)"
   ]
  },
  {
   "cell_type": "code",
   "execution_count": null,
   "id": "efecb7cd-7df4-4710-bc90-eb15987bf37c",
   "metadata": {},
   "outputs": [],
   "source": [
    "# Working queries\n",
    "\n",
    "query = \"\"\"\n",
    "PREDICT freebase_vs_wiki.freebase_id \n",
    "FOR freebase_vs_wiki.wikidata_id=7413907 \n",
    "\"\"\"\n",
    "\n",
    "query = \"\"\"\n",
    "PREDICT LIST_DISTINCT(triples.relation_id, 0, 80, days)\n",
    "FOR freebase_vs_wiki.wikidata_id=486860 \n",
    "\"\"\"\n"
   ]
  },
  {
   "cell_type": "code",
   "execution_count": 211,
   "id": "2dda8820-8bcc-4456-a0e6-49a241cd6b9a",
   "metadata": {},
   "outputs": [
    {
     "data": {
      "text/html": [
       "<pre style=\"white-space:pre;overflow-x:auto;line-height:normal;font-family:Menlo,'DejaVu Sans Mono',consolas,'Courier New',monospace\">/Users/ravid/miniconda3/envs/kumo-hackathon-py311/lib/python3.11/site-packages/kumoai/experimental/rfm/rfm.py:360: \n",
       "UserWarning: Anchor timestamp is too early or aggregation time range is too large. To form proper input data, we \n",
       "would need data back to '2024-07-24 00:00:00', however, your data only contains data back to '2024-10-04 00:00:00'.\n",
       "  warnings.warn(f\"Anchor timestamp is too early or aggregation \"\n",
       "</pre>\n"
      ],
      "text/plain": [
       "/Users/ravid/miniconda3/envs/kumo-hackathon-py311/lib/python3.11/site-packages/kumoai/experimental/rfm/rfm.py:360: \n",
       "UserWarning: Anchor timestamp is too early or aggregation time range is too large. To form proper input data, we \n",
       "would need data back to '2024-07-24 00:00:00', however, your data only contains data back to '2024-10-04 00:00:00'.\n",
       "  warnings.warn(f\"Anchor timestamp is too early or aggregation \"\n"
      ]
     },
     "metadata": {},
     "output_type": "display_data"
    },
    {
     "data": {
      "application/vnd.jupyter.widget-view+json": {
       "model_id": "0e34acc427bd4805bf20426b28e40c08",
       "version_major": 2,
       "version_minor": 0
      },
      "text/plain": [
       "Output()"
      ]
     },
     "metadata": {},
     "output_type": "display_data"
    },
    {
     "data": {
      "text/html": [
       "<pre style=\"white-space:pre;overflow-x:auto;line-height:normal;font-family:Menlo,'DejaVu Sans Mono',consolas,'Courier New',monospace\"></pre>\n"
      ],
      "text/plain": []
     },
     "metadata": {},
     "output_type": "display_data"
    },
    {
     "data": {
      "text/html": [
       "<div>\n",
       "<style scoped>\n",
       "    .dataframe tbody tr th:only-of-type {\n",
       "        vertical-align: middle;\n",
       "    }\n",
       "\n",
       "    .dataframe tbody tr th {\n",
       "        vertical-align: top;\n",
       "    }\n",
       "\n",
       "    .dataframe thead th {\n",
       "        text-align: right;\n",
       "    }\n",
       "</style>\n",
       "<table border=\"1\" class=\"dataframe\">\n",
       "  <thead>\n",
       "    <tr style=\"text-align: right;\">\n",
       "      <th></th>\n",
       "      <th>ENTITY</th>\n",
       "      <th>ANCHOR_TIMESTAMP</th>\n",
       "      <th>CLASS</th>\n",
       "      <th>SCORE</th>\n",
       "    </tr>\n",
       "  </thead>\n",
       "  <tbody>\n",
       "    <tr>\n",
       "      <th>0</th>\n",
       "      <td>2685</td>\n",
       "      <td>2024-12-31T00:00:00</td>\n",
       "      <td>6</td>\n",
       "      <td>0.960215</td>\n",
       "    </tr>\n",
       "    <tr>\n",
       "      <th>1</th>\n",
       "      <td>2685</td>\n",
       "      <td>2024-12-31T00:00:00</td>\n",
       "      <td>38</td>\n",
       "      <td>0.955566</td>\n",
       "    </tr>\n",
       "    <tr>\n",
       "      <th>2</th>\n",
       "      <td>2685</td>\n",
       "      <td>2024-12-31T00:00:00</td>\n",
       "      <td>19</td>\n",
       "      <td>0.950369</td>\n",
       "    </tr>\n",
       "    <tr>\n",
       "      <th>3</th>\n",
       "      <td>2685</td>\n",
       "      <td>2024-12-31T00:00:00</td>\n",
       "      <td>45</td>\n",
       "      <td>0.914983</td>\n",
       "    </tr>\n",
       "    <tr>\n",
       "      <th>4</th>\n",
       "      <td>2685</td>\n",
       "      <td>2024-12-31T00:00:00</td>\n",
       "      <td>17</td>\n",
       "      <td>0.761230</td>\n",
       "    </tr>\n",
       "    <tr>\n",
       "      <th>5</th>\n",
       "      <td>2685</td>\n",
       "      <td>2024-12-31T00:00:00</td>\n",
       "      <td>66</td>\n",
       "      <td>0.659995</td>\n",
       "    </tr>\n",
       "    <tr>\n",
       "      <th>6</th>\n",
       "      <td>2685</td>\n",
       "      <td>2024-12-31T00:00:00</td>\n",
       "      <td>77</td>\n",
       "      <td>0.647791</td>\n",
       "    </tr>\n",
       "    <tr>\n",
       "      <th>7</th>\n",
       "      <td>2685</td>\n",
       "      <td>2024-12-31T00:00:00</td>\n",
       "      <td>164</td>\n",
       "      <td>0.646484</td>\n",
       "    </tr>\n",
       "    <tr>\n",
       "      <th>8</th>\n",
       "      <td>2685</td>\n",
       "      <td>2024-12-31T00:00:00</td>\n",
       "      <td>179</td>\n",
       "      <td>0.646484</td>\n",
       "    </tr>\n",
       "    <tr>\n",
       "      <th>9</th>\n",
       "      <td>2685</td>\n",
       "      <td>2024-12-31T00:00:00</td>\n",
       "      <td>100</td>\n",
       "      <td>0.643066</td>\n",
       "    </tr>\n",
       "  </tbody>\n",
       "</table>\n",
       "</div>"
      ],
      "text/plain": [
       "   ENTITY     ANCHOR_TIMESTAMP  CLASS     SCORE\n",
       "0    2685  2024-12-31T00:00:00      6  0.960215\n",
       "1    2685  2024-12-31T00:00:00     38  0.955566\n",
       "2    2685  2024-12-31T00:00:00     19  0.950369\n",
       "3    2685  2024-12-31T00:00:00     45  0.914983\n",
       "4    2685  2024-12-31T00:00:00     17  0.761230\n",
       "5    2685  2024-12-31T00:00:00     66  0.659995\n",
       "6    2685  2024-12-31T00:00:00     77  0.647791\n",
       "7    2685  2024-12-31T00:00:00    164  0.646484\n",
       "8    2685  2024-12-31T00:00:00    179  0.646484\n",
       "9    2685  2024-12-31T00:00:00    100  0.643066"
      ]
     },
     "metadata": {},
     "output_type": "display_data"
    }
   ],
   "source": [
    "\n",
    "query = \"\"\"\n",
    "PREDICT LIST_DISTINCT(triples.relation_id, 0, 80, days)\n",
    "FOR freebase_vs_wiki.wikidata_id=2685 \n",
    "\"\"\"\n",
    "# WHERE triples.relation_id = 111\n",
    "\n",
    "df = model.predict(query)\n",
    "display(df)"
   ]
  },
  {
   "cell_type": "markdown",
   "id": "2ac0966a-a52f-4f05-9c39-1d73a4e570d3",
   "metadata": {},
   "source": [
    "pquery_relations_for_entity = kumo.PredictiveQuery(\n",
    "\tgraph=graph,\n",
    "\tquery=query\n",
    ")\n",
    "\n",
    "pquery_relations_for_entity.validate()"
   ]
  },
  {
   "cell_type": "code",
   "execution_count": 112,
   "id": "978d3e63-fb17-4e3d-9d8c-c8f9a98e5da8",
   "metadata": {},
   "outputs": [
    {
     "data": {
      "text/plain": [
       "GraphDefinition(tables={'relations': TableDefinition(cols=[Column(name='relation_name', stype=text, dtype=string, timestamp_format=None), Column(name='relation_id', stype=ID, dtype=int, timestamp_format=None)], source_table=UnavailableSourceTable(table='relations', data_source_type=UNAVAILABLE), pkey='relation_id', time_col=None, end_time_col=None)}, col_groups=[])"
      ]
     },
     "execution_count": 112,
     "metadata": {},
     "output_type": "execute_result"
    }
   ],
   "source": [
    "graph._to_api_graph_definition()"
   ]
  },
  {
   "cell_type": "code",
   "execution_count": null,
   "id": "5036f4ce-5651-4ca9-9b54-4b129d6a0046",
   "metadata": {},
   "outputs": [],
   "source": []
  },
  {
   "cell_type": "code",
   "execution_count": null,
   "id": "4e5d276f-a3a8-47c7-a2d6-3561068467a5",
   "metadata": {},
   "outputs": [],
   "source": []
  },
  {
   "cell_type": "code",
   "execution_count": 145,
   "id": "84d0e256-9fc4-4c12-91e6-a64983f7ccdc",
   "metadata": {},
   "outputs": [],
   "source": [
    "# Running examples\n",
    "# all relations with src_wikidata_id \n",
    "## 7413907 / Q7413907 , San Francisco\n",
    "## 486860 , Mountain View\n",
    "## 2685, Arnold Schwarzenegger\n"
   ]
  },
  {
   "cell_type": "markdown",
   "id": "b216357a-ad7e-4f32-bb81-2f69027b953f",
   "metadata": {},
   "source": [
    "triplets_with_src_dst_wiki_ids_df.loc[triplets_with_src_dst_wiki_ids_df['src_wikidata_id']==2685].to_csv(\n",
    "    \"~/Downloads/arnold_schwarzenegger_outgoing_edges.csv\", index=False\n",
    ")\n",
    "# 7413907]\n"
   ]
  },
  {
   "cell_type": "code",
   "execution_count": null,
   "id": "91e8d40c-74cd-40f0-a3c1-f8a851dac8da",
   "metadata": {},
   "outputs": [],
   "source": [
    "## Arnold Schwarznegger\n",
    "\n",
    "# 6 -> /film/actor/film./film/performance/film\n",
    "# 38 -> nomination\n",
    "# "
   ]
  },
  {
   "cell_type": "code",
   "execution_count": null,
   "id": "61dc751e-86f1-4be8-ad9c-3fa3196df72f",
   "metadata": {},
   "outputs": [],
   "source": []
  },
  {
   "cell_type": "code",
   "execution_count": 159,
   "id": "80ce9a05-e31c-44eb-80ed-529a0847bb09",
   "metadata": {},
   "outputs": [],
   "source": [
    "df44 = triplets_with_src_dst_wiki_ids_df[['src_freebase_id', 'src_wikidata_id', 'label_x']].drop_duplicates()\n",
    "# df44.to_csv('~/Downloads/triples_train_src_entities.csv', index=False)"
   ]
  },
  {
   "cell_type": "code",
   "execution_count": null,
   "id": "15084aaa-62f1-4c10-9357-675563392a40",
   "metadata": {},
   "outputs": [],
   "source": []
  },
  {
   "cell_type": "code",
   "execution_count": null,
   "id": "9f194823-5fc4-4458-8937-620c7d4a597f",
   "metadata": {},
   "outputs": [],
   "source": []
  },
  {
   "cell_type": "code",
   "execution_count": null,
   "id": "592451b1-b43f-4587-8f23-e2feef99b5f1",
   "metadata": {},
   "outputs": [],
   "source": []
  },
  {
   "cell_type": "code",
   "execution_count": null,
   "id": "2f97584d-23f1-44f0-9aac-cf799a878bc2",
   "metadata": {},
   "outputs": [],
   "source": []
  },
  {
   "cell_type": "code",
   "execution_count": null,
   "id": "95950cdc-a6dd-4287-a79c-ed0aae3e8f93",
   "metadata": {},
   "outputs": [],
   "source": []
  },
  {
   "cell_type": "code",
   "execution_count": null,
   "id": "32943dde-c29d-45a0-90db-f839d2c0f813",
   "metadata": {},
   "outputs": [],
   "source": []
  },
  {
   "cell_type": "code",
   "execution_count": null,
   "id": "7fa98cdf-b537-4790-b8d2-d3be3d7de625",
   "metadata": {},
   "outputs": [],
   "source": []
  },
  {
   "cell_type": "markdown",
   "id": "63c278b6-b983-4b1d-8484-6ba05e89a368",
   "metadata": {},
   "source": [
    "## Yago semantic graph \n",
    "Usecase - find inconsistencies / anomalies in knowledge graphs"
   ]
  },
  {
   "cell_type": "code",
   "execution_count": null,
   "id": "0c3c117d-4aa5-4641-927d-5ced5d12ccbc",
   "metadata": {},
   "outputs": [],
   "source": []
  }
 ],
 "metadata": {
  "kernelspec": {
   "display_name": "Python [conda env:kumo-hackathon-py311] *",
   "language": "python",
   "name": "conda-env-kumo-hackathon-py311-py"
  },
  "language_info": {
   "codemirror_mode": {
    "name": "ipython",
    "version": 3
   },
   "file_extension": ".py",
   "mimetype": "text/x-python",
   "name": "python",
   "nbconvert_exporter": "python",
   "pygments_lexer": "ipython3",
   "version": "3.11.13"
  }
 },
 "nbformat": 4,
 "nbformat_minor": 5
}
