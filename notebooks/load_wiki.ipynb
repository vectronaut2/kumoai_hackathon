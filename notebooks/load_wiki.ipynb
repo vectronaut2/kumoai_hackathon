{
 "cells": [
  {
   "cell_type": "markdown",
   "id": "f5eafc7919fe381c",
   "metadata": {
    "ExecuteTime": {
     "end_time": "2025-08-20T04:21:36.154141Z",
     "start_time": "2025-08-20T04:21:36.150662Z"
    }
   },
   "source": [
    "# This notebook will\n",
    "- pull a wiki information for a qid\n",
    "- converts it to embedded glove vectors\n",
    "\n",
    "## Prerequisites\n",
    "- In terminal run\n",
    "```\n",
    "pip install wikidata\n",
    "pip install numpy\n",
    "```\n",
    "- Go to https://nlp.stanford.edu/projects/glove/\n",
    "- Download 2024 Wikipedia + Gigaword 5 (11.9B tokens, 1.2M vocab, uncased, 50d vectors, 290 MB download): glove.2024.wikigiga.50d.zip\n",
    "- Extract to your work directory"
   ]
  },
  {
   "cell_type": "code",
   "execution_count": 1,
   "id": "eccce8e9709b019f",
   "metadata": {
    "ExecuteTime": {
     "end_time": "2025-08-20T04:37:04.860350Z",
     "start_time": "2025-08-20T04:37:04.855635Z"
    }
   },
   "outputs": [],
   "source": [
    "glove_file = \"../models/glove/wiki_giga_2024_50_MFT20_vectors_seed_123_alpha_0.75_eta_0.075_combined.txt\""
   ]
  },
  {
   "cell_type": "code",
   "execution_count": 2,
   "id": "5180a7138dc57576",
   "metadata": {
    "ExecuteTime": {
     "end_time": "2025-08-20T04:37:04.878620Z",
     "start_time": "2025-08-20T04:37:04.876164Z"
    }
   },
   "outputs": [],
   "source": [
    "import requests\n",
    "from wikidata.client import Client"
   ]
  },
  {
   "cell_type": "code",
   "execution_count": 3,
   "id": "6c0e529b4bc2c496",
   "metadata": {
    "ExecuteTime": {
     "end_time": "2025-08-20T04:37:04.888291Z",
     "start_time": "2025-08-20T04:37:04.886030Z"
    }
   },
   "outputs": [],
   "source": [
    "def get_wikipedia_title_from_wikidata(qid, lang=\"en\"):\n",
    "    \"\"\"Fetch Wikipedia page title linked to a Wikidata entity.\"\"\"\n",
    "    client = Client()\n",
    "    entity = client.get(qid, load=True)\n",
    "    sitelinks = entity.data.get(\"sitelinks\", {})\n",
    "    wiki_key = f\"{lang}wiki\"\n",
    "    if wiki_key not in sitelinks:\n",
    "        raise ValueError(f\"No {lang} Wikipedia sitelink for {qid}\")\n",
    "    return sitelinks[wiki_key][\"title\"]"
   ]
  },
  {
   "cell_type": "code",
   "execution_count": 4,
   "id": "8fb1f111645fcd1f",
   "metadata": {
    "ExecuteTime": {
     "end_time": "2025-08-20T04:37:04.894564Z",
     "start_time": "2025-08-20T04:37:04.892783Z"
    }
   },
   "outputs": [],
   "source": [
    "def get_wikipedia_summary(title, lang=\"en\"):\n",
    "    \"\"\"Fetch short summary (1–2 sentences) from Wikipedia.\"\"\"\n",
    "    url = f\"https://{lang}.wikipedia.org/api/rest_v1/page/summary/{title}\"\n",
    "    resp = requests.get(url)\n",
    "    resp.raise_for_status()\n",
    "    return resp.json().get(\"extract\")"
   ]
  },
  {
   "cell_type": "code",
   "execution_count": 5,
   "id": "40ea5be246cd1ac4",
   "metadata": {
    "ExecuteTime": {
     "end_time": "2025-08-20T04:37:04.898969Z",
     "start_time": "2025-08-20T04:37:04.896635Z"
    }
   },
   "outputs": [],
   "source": [
    "def get_wikipedia_intro_paragraphs(title, lang=\"en\"):\n",
    "    \"\"\"Fetch the full lead/intro section (multiple paragraphs).\"\"\"\n",
    "    url = f\"https://{lang}.wikipedia.org/w/api.php\"\n",
    "    params = {\n",
    "        \"action\": \"query\",\n",
    "        \"prop\": \"extracts\",\n",
    "        \"exintro\": True,       # only the lead section\n",
    "        \"explaintext\": True,   # plain text (no HTML)\n",
    "        \"titles\": title,\n",
    "        \"format\": \"json\"\n",
    "    }\n",
    "    resp = requests.get(url, params=params)\n",
    "    resp.raise_for_status()\n",
    "    pages = resp.json()[\"query\"][\"pages\"]\n",
    "    page = next(iter(pages.values()))\n",
    "\n",
    "    raw_text = page.get(\"extract\", \"\")\n",
    "    # Normalize paragraphs: split by double newlines or single breaks\n",
    "    paragraphs = [p.strip() for p in raw_text.split(\"\\n\") if p.strip()]\n",
    "    return \"\\n\\n\".join(paragraphs)"
   ]
  },
  {
   "cell_type": "code",
   "execution_count": 6,
   "id": "bd04cd0801420de6",
   "metadata": {
    "ExecuteTime": {
     "end_time": "2025-08-20T04:37:04.903493Z",
     "start_time": "2025-08-20T04:37:04.901817Z"
    }
   },
   "outputs": [],
   "source": [
    "def load_wiki_qid(qid, lang=\"en\"):\n",
    "    title = get_wikipedia_title_from_wikidata(qid, lang)\n",
    "    summary = get_wikipedia_summary(title, lang)\n",
    "    details = get_wikipedia_intro_paragraphs(title, lang)\n",
    "    source_url = \"https://en.wikipedia.org/wiki/\"+title.replace(\" \", \"_\")\n",
    "    return f\"# {title}\\n\" + summary + \"\\n## Details\\n\"+ details + \"\\n## Sources\\n\" + source_url"
   ]
  },
  {
   "cell_type": "code",
   "execution_count": null,
   "id": "a7ff3b20-0cfc-4b6e-a9e7-3ec51a83d913",
   "metadata": {},
   "outputs": [],
   "source": []
  },
  {
   "cell_type": "code",
   "execution_count": null,
   "id": "42c0d2fc-a11f-4ada-affb-b8387390d2f0",
   "metadata": {},
   "outputs": [],
   "source": []
  },
  {
   "cell_type": "code",
   "execution_count": 7,
   "id": "dae32c6407ea408c",
   "metadata": {
    "ExecuteTime": {
     "end_time": "2025-08-20T04:37:04.907298Z",
     "start_time": "2025-08-20T04:37:04.905981Z"
    }
   },
   "outputs": [],
   "source": [
    "import numpy as np\n",
    "import string"
   ]
  },
  {
   "cell_type": "code",
   "execution_count": 8,
   "id": "43a829fc6e88e569",
   "metadata": {
    "ExecuteTime": {
     "end_time": "2025-08-20T04:37:05.052049Z",
     "start_time": "2025-08-20T04:37:04.909258Z"
    }
   },
   "outputs": [],
   "source": [
    "embedding_dim = 50\n",
    "embeddings_index = {}"
   ]
  },
  {
   "cell_type": "code",
   "execution_count": 9,
   "id": "d197af600d693ae0",
   "metadata": {
    "ExecuteTime": {
     "end_time": "2025-08-20T04:37:05.055619Z",
     "start_time": "2025-08-20T04:37:05.053948Z"
    }
   },
   "outputs": [],
   "source": [
    "def load_embedding_vectors():\n",
    "    with open(glove_file, 'r', encoding='utf8') as f:\n",
    "        for line in f:\n",
    "            values = line.strip().split()\n",
    "            word = values[0]\n",
    "            vector_values = values[1:]\n",
    "            if len(vector_values) != embedding_dim:\n",
    "                # Skip lines with wrong dimensions\n",
    "                continue\n",
    "            try:\n",
    "                vector = np.array(vector_values, dtype='float32')\n",
    "                embeddings_index[word] = vector\n",
    "            except ValueError:\n",
    "                continue"
   ]
  },
  {
   "cell_type": "code",
   "execution_count": 10,
   "id": "3320c054e84cf3ae",
   "metadata": {
    "ExecuteTime": {
     "end_time": "2025-08-20T04:37:05.058763Z",
     "start_time": "2025-08-20T04:37:05.057070Z"
    }
   },
   "outputs": [],
   "source": [
    "def embed_to_glove(text):\n",
    "    if not embeddings_index:\n",
    "        load_embedding_vectors()\n",
    "\n",
    "    words = text.lower().split()\n",
    "    # Remove punctuation as they are apparently not present in Glove\n",
    "    words = [w.strip(string.punctuation) for w in words]\n",
    "    embedded_words = []\n",
    "    for word in words:\n",
    "        vector = embeddings_index.get(word)\n",
    "        if vector is not None:\n",
    "            embedded_words.append(vector)\n",
    "        else:\n",
    "            # Assign small random vector for out of vocabulary words\n",
    "            random_vector = np.random.uniform(-0.05, 0.05, embedding_dim)\n",
    "            embedded_words.append(random_vector)\n",
    "    return np.vstack(embedded_words)"
   ]
  },
  {
   "cell_type": "code",
   "execution_count": 11,
   "id": "ae2793cad349ce8d",
   "metadata": {
    "ExecuteTime": {
     "end_time": "2025-08-20T04:37:06.040844Z",
     "start_time": "2025-08-20T04:37:05.061935Z"
    }
   },
   "outputs": [
    {
     "name": "stdout",
     "output_type": "stream",
     "text": [
      "# Arnold Schwarzenegger\n",
      "Arnold Alois Schwarzenegger is an Austrian and American actor, businessman, former politician, and former professional bodybuilder, known for his roles in high-profile action films. He served as the 38th governor of California from 2003 to 2011.\n",
      "## Details\n",
      "Arnold Alois Schwarzenegger (born July 30, 1947) is an Austrian and American actor, businessman, former politician, and former professional bodybuilder, known for his roles in high-profile action films. He served as the 38th governor of California from 2003 to 2011.\n",
      "\n",
      "Schwarzenegger began lifting weights at age 15 and won the Mr. Universe title aged 20, and subsequently the Mr. Olympia title seven times. He is tied with Phil Heath for the joint-second number of all-time Mr. Olympia wins, behind Ronnie Coleman and Lee Haney, who are joint-first with eight wins each. Nicknamed the \"Austrian Oak\" in his bodybuilding days, he is regarded as one of the greatest bodybuilders of all time. He has written books and articles about bodybuilding, including the autobiographical Arnold: The Education of a Bodybuilder (1977) and The New Encyclopedia of Modern Bodybuilding (1998). The Arnold Sports Festival, the second-most prestigious bodybuilding event after the Mr. Olympia competition, is named after him. He appeared in the bodybuilding documentary Pumping Iron (1977), which set him on his way to a career in films.\n",
      "\n",
      "After retiring from bodybuilding, Schwarzenegger gained worldwide fame as a Hollywood action star, with his breakthrough in the sword and sorcery epic Conan the Barbarian (1982), a box-office success with a sequel in 1984. After playing the title character in the science fiction film The Terminator (1984), he starred in Terminator 2: Judgment Day (1991) and three other sequels. His other successful action films included Commando (1985), The Running Man (1987), Predator (1987), Total Recall (1990), and True Lies (1994), in addition to comedy films such as Twins (1988), Kindergarten Cop (1990) and Jingle All the Way (1996). At the height of his career, Schwarzenegger was known for his rivalry with Sylvester Stallone. Films in which he has appeared have grossed over $5.4 billion worldwide. He is the founder of the film production company Oak Productions.\n",
      "\n",
      "As a registered member of the Republican Party, Schwarzenegger chaired the President's Council on Physical Fitness and Sports during most of the George H. W. Bush administration. In 2003, he was elected governor of California in a special recall election to replace Gray Davis, the governor at the time. He received 48.6 percent of the vote, 17 points ahead of the runner-up, Cruz Bustamante of the Democratic Party. He was sworn in on November 17 to serve the remainder of Davis' term, and was reelected in the 2006 gubernatorial election with an increased vote share of 55.9 percent to serve a full term. In 2011, he reached his term limit as governor and returned to acting. As of 2025, Schwarzenegger and Steve Poizner are the last Republicans to win or hold statewide office in California, having both won their respective elections in 2006.\n",
      "## Sources\n",
      "https://en.wikipedia.org/wiki/Arnold_Schwarzenegger\n"
     ]
    }
   ],
   "source": [
    "qid = \"Q2685\"\n",
    "text = load_wiki_qid(qid)\n",
    "print(text)"
   ]
  },
  {
   "cell_type": "code",
   "execution_count": 73,
   "id": "3affcc20f358202a",
   "metadata": {
    "ExecuteTime": {
     "end_time": "2025-08-20T04:37:13.903105Z",
     "start_time": "2025-08-20T04:37:06.060543Z"
    }
   },
   "outputs": [
    {
     "name": "stdout",
     "output_type": "stream",
     "text": [
      "[[-1.43524297e-02 -4.69134421e-02 -3.12519383e-02 ... -1.86913536e-02\n",
      "  -4.62052201e-05 -1.27419314e-02]\n",
      " [-3.72239985e-02  8.71483028e-01  5.16359985e-01 ... -3.66555005e-01\n",
      "  -4.81440991e-01  3.89647990e-01]\n",
      " [ 3.09415996e-01  7.08140016e-01  9.55354989e-01 ...  7.57193029e-01\n",
      "  -3.66930008e-01  1.36133999e-01]\n",
      " ...\n",
      " [ 1.87169884e-02 -3.94320069e-02  4.05645802e-02 ... -6.45872973e-03\n",
      "  -3.31812777e-02  4.66582018e-03]\n",
      " [ 9.28860009e-01 -5.32925010e-01  1.28521994e-01 ...  2.75929999e-02\n",
      "   5.61473012e-01  1.73931003e-01]\n",
      " [ 4.15888220e-02 -2.00259266e-02  3.55523590e-02 ... -3.04718027e-02\n",
      "   2.39847658e-02 -2.84495522e-02]]\n"
     ]
    }
   ],
   "source": [
    "embedding_vector = embed_to_glove(text)\n",
    "print(embedding_vector)"
   ]
  }
 ],
 "metadata": {
  "kernelspec": {
   "display_name": "Python [conda env:kumo-hackathon-py311] *",
   "language": "python",
   "name": "conda-env-kumo-hackathon-py311-py"
  },
  "language_info": {
   "codemirror_mode": {
    "name": "ipython",
    "version": 3
   },
   "file_extension": ".py",
   "mimetype": "text/x-python",
   "name": "python",
   "nbconvert_exporter": "python",
   "pygments_lexer": "ipython3",
   "version": "3.11.13"
  }
 },
 "nbformat": 4,
 "nbformat_minor": 5
}
