{
 "cells": [
  {
   "cell_type": "markdown",
   "id": "9982e9c7-14dd-4e48-8e9e-e0f3c04dd917",
   "metadata": {},
   "source": [
    "## Ablation - modify (a,b), (c,d) to (a,d) and (c,b) "
   ]
  },
  {
   "cell_type": "code",
   "execution_count": 1,
   "id": "6122729a-9f40-49c4-b8a8-b14ae12ab23a",
   "metadata": {},
   "outputs": [],
   "source": [
    "import pandas as pd\n",
    "import numpy as np\n",
    "import glob"
   ]
  },
  {
   "cell_type": "code",
   "execution_count": 2,
   "id": "d7b2e692-df07-4b1e-8622-8eb294d8ba49",
   "metadata": {},
   "outputs": [],
   "source": [
    "import random"
   ]
  },
  {
   "cell_type": "code",
   "execution_count": 2,
   "id": "5da8c1e0-e168-4a47-91db-cd27909027e3",
   "metadata": {},
   "outputs": [],
   "source": [
    "data_path = \"../../datasets/fb15k-237/\""
   ]
  },
  {
   "cell_type": "code",
   "execution_count": 4,
   "id": "0351829e-0924-4fe2-830d-c8aa46b8b4a0",
   "metadata": {},
   "outputs": [],
   "source": [
    "relations_df = pd.read_csv(f\"{data_path}/derived/relations_with_ids.csv\")"
   ]
  },
  {
   "cell_type": "code",
   "execution_count": 5,
   "id": "c1b7274d-fce8-4f8d-b33d-dbc2e0ae86a3",
   "metadata": {},
   "outputs": [],
   "source": [
    "freebase_vs_wiki_df =  pd.read_csv(f\"{data_path}/fb_wiki_mapping.tsv\", sep='\\t')"
   ]
  },
  {
   "cell_type": "code",
   "execution_count": 3,
   "id": "66c36662-9a44-4271-9722-f86be59d682d",
   "metadata": {},
   "outputs": [],
   "source": [
    "test = True\n",
    "\n",
    "df_test = pd.read_csv(f\"{data_path}/derived/triplets_with_src_dst_wiki_extracts.test.csv\")"
   ]
  },
  {
   "cell_type": "code",
   "execution_count": 5,
   "id": "dcb290cc-006d-4fdb-b36c-eefd8708f0b3",
   "metadata": {},
   "outputs": [
    {
     "name": "stdout",
     "output_type": "stream",
     "text": [
      "<class 'pandas.core.frame.DataFrame'>\n",
      "RangeIndex: 239880 entries, 0 to 239879\n",
      "Data columns (total 16 columns):\n",
      " #   Column                 Non-Null Count   Dtype \n",
      "---  ------                 --------------   ----- \n",
      " 0   Unnamed: 0             239880 non-null  int64 \n",
      " 1   src_freebase_id        239880 non-null  object\n",
      " 2   relation               239880 non-null  object\n",
      " 3   dest_freebase_id       239880 non-null  object\n",
      " 4   triple_id              239880 non-null  int64 \n",
      " 5   timestamp              239880 non-null  object\n",
      " 6   relation_name          239880 non-null  object\n",
      " 7   relation_id            239880 non-null  int64 \n",
      " 8   src_wikidata_label     239880 non-null  object\n",
      " 9   src_wikidata_id        239880 non-null  int64 \n",
      " 10  dest_wikidata_label    239880 non-null  object\n",
      " 11  dest_wikidata_id       239880 non-null  int64 \n",
      " 12  src_wikidata_title     239880 non-null  object\n",
      " 13  src_wikidata_extract   239880 non-null  object\n",
      " 14  dest_wikidata_title    239880 non-null  object\n",
      " 15  dest_wikidata_extract  239880 non-null  object\n",
      "dtypes: int64(5), object(11)\n",
      "memory usage: 29.3+ MB\n"
     ]
    }
   ],
   "source": [
    "file_list = glob.glob(f\"{data_path}/derived/triplets_with_src_dst_wiki_extracts.*0*.csv\")\n",
    "df_list = [pd.read_csv(file) for file in file_list]\n",
    "\n",
    "triplets_with_src_dst_wiki_ids_df = pd.concat(df_list, ignore_index=True)\n",
    "\n",
    "triplets_with_src_dst_wiki_ids_df.info()"
   ]
  },
  {
   "cell_type": "code",
   "execution_count": 8,
   "id": "be8223ce-ad97-4002-a421-1060c822a4ce",
   "metadata": {},
   "outputs": [],
   "source": [
    "# triplets_with_src_dst_wiki_ids_df = pd.read_csv(f\"{data_path}/derived/triplets_with_src_dst_wiki_extracts.csv.gz\")\n",
    "# triplets_with_src_dst_wiki_ids_df.info()"
   ]
  },
  {
   "cell_type": "code",
   "execution_count": null,
   "id": "7148963c-904b-4233-ace3-f3e2585aaea8",
   "metadata": {},
   "outputs": [],
   "source": []
  },
  {
   "cell_type": "code",
   "execution_count": 11,
   "id": "ac45fa2c-2684-4305-a4f7-c04516e07209",
   "metadata": {},
   "outputs": [],
   "source": [
    "def perturb_graph(df):\n",
    "    n = len(df)\n",
    "    num_errors = int(0.25*n)\n",
    "\n",
    "    triple_ids = list(df.triple_id.values)\n",
    "    # permute triple_ids and select top 2*num_errors\n",
    "    # rather select small \n",
    "    selected_edges = random.sample(triple_ids, 2*num_errors)\n",
    "\n",
    "    perturbed_rows_dicts = []\n",
    "    for i in range(num_errors):\n",
    "        edge_ab = int(selected_edges[2*i])\n",
    "        edge_cd = int(selected_edges[2*i+1])\n",
    "        if i < 5:\n",
    "            print(f\"swapping {edge_ab} and {edge_cd}\")\n",
    "    \n",
    "        row_ab = df.loc[df['triple_id']==edge_ab]\n",
    "        row_cd = df.loc[df['triple_id']==edge_cd]\n",
    "    \n",
    "        row_ab_dict = row_ab.to_dict(orient='records')[0]\n",
    "        row_cd_dict = row_cd.to_dict(orient='records')[0]\n",
    "    \n",
    "        a = row_ab_dict['src_wikidata_id']\n",
    "        b = row_ab_dict['dest_wikidata_id']\n",
    "    \n",
    "        c = row_cd_dict['src_wikidata_id']\n",
    "        d = row_cd_dict['dest_wikidata_id']\n",
    "    \n",
    "        if i < 5:\n",
    "            print(f\"{a}->{b} , {c}->{d}\")\n",
    "    \n",
    "        row_ad_new = row_ab_dict.copy()\n",
    "        row_ad_new['dest_wikidata_id'] = d\n",
    "    \n",
    "        row_ad_new['dest_wikidata_title'] = row_cd_dict['dest_wikidata_title']\n",
    "        row_ad_new['dest_wikidata_label'] = row_cd_dict['dest_wikidata_label']\n",
    "        row_ad_new['dest_wikidata_extract'] = row_cd_dict['dest_wikidata_extract']\n",
    "        \n",
    "        row_cb_new = row_cd_dict.copy()\n",
    "        row_cb_new['dest_wikidata_id'] = b\n",
    "    \n",
    "        row_cb_new['dest_wikidata_title'] = row_ab_dict['dest_wikidata_title']\n",
    "        row_cb_new['dest_wikidata_label'] = row_ab_dict['dest_wikidata_label']\n",
    "        row_ad_new['dest_wikidata_extract'] = row_cd_dict['dest_wikidata_extract']\n",
    "    \n",
    "        perturbed_rows_dicts.append(row_ad_new)\n",
    "        perturbed_rows_dicts.append(row_cb_new)\n",
    "    \n",
    "    df_errors = pd.DataFrame.from_dict(perturbed_rows_dicts)\n",
    "    print(len(df_errors))\n",
    "\n",
    "    df_clean = df[~df['triple_id'].isin(selected_edges)]\n",
    "    print(len(df_clean))\n",
    "\n",
    "    # For train dataset\n",
    "    df_errors['disapprove'] = 1\n",
    "    df_clean['disapprove'] = 0\n",
    "    \n",
    "    return pd.concat([df_clean, df_errors])"
   ]
  },
  {
   "cell_type": "code",
   "execution_count": 12,
   "id": "a229a0fa-1bb9-43ce-a2e3-72ee612b2417",
   "metadata": {},
   "outputs": [
    {
     "name": "stdout",
     "output_type": "stream",
     "text": [
      "swapping 55643 and 152715\n",
      "922402->48337 , 46717->884\n",
      "swapping 170009 and 119076\n",
      "316709->244333 , 393686->924339\n",
      "swapping 236138 and 194859\n",
      "369292->163 , 3312129->218\n",
      "swapping 244999 and 194663\n",
      "191084->728488 , 463313->674456\n",
      "swapping 2539 and 163696\n",
      "180338->518675 , 2487->80702\n",
      "119940\n",
      "119407\n"
     ]
    },
    {
     "name": "stderr",
     "output_type": "stream",
     "text": [
      "/var/folders/9f/_45_cttj01b5lmh5x5njvlp00000gn/T/ipykernel_1064/3256129253.py:57: SettingWithCopyWarning: \n",
      "A value is trying to be set on a copy of a slice from a DataFrame.\n",
      "Try using .loc[row_indexer,col_indexer] = value instead\n",
      "\n",
      "See the caveats in the documentation: https://pandas.pydata.org/pandas-docs/stable/user_guide/indexing.html#returning-a-view-versus-a-copy\n",
      "  df_clean['disapprove'] = 0\n"
     ]
    }
   ],
   "source": [
    "df_train_perturbed = perturb_graph(triplets_with_src_dst_wiki_ids_df)"
   ]
  },
  {
   "cell_type": "code",
   "execution_count": 14,
   "id": "25819e15-a165-48ca-8a7e-7e8d5cd20e0f",
   "metadata": {},
   "outputs": [],
   "source": [
    "# df_train_perturbed.to_csv(f\"{data_path}/exp4/triplets_with_src_dst_wiki_extracts.csv\", index=False)"
   ]
  },
  {
   "cell_type": "code",
   "execution_count": 11,
   "id": "e693d61a-8bf6-4f0d-9287-5b5b6a21a02b",
   "metadata": {},
   "outputs": [],
   "source": [
    "# df_train_perturbed = pd.read_csv(f\"{data_path}/exp4/triplets_with_src_dst_wiki_extracts.csv.gz\")"
   ]
  },
  {
   "cell_type": "code",
   "execution_count": 12,
   "id": "c14742be-6b2e-42ee-bf6e-27da68eec411",
   "metadata": {},
   "outputs": [],
   "source": [
    "prefix = f\"{data_path}/exp4/triplets_with_src_dst_wiki_extracts\""
   ]
  },
  {
   "cell_type": "code",
   "execution_count": 13,
   "id": "6fe8155d-0b14-4196-b4c6-7ebe5d4eac93",
   "metadata": {},
   "outputs": [
    {
     "name": "stdout",
     "output_type": "stream",
     "text": [
      "10000\n",
      "10000\n",
      "10000\n",
      "10000\n",
      "10000\n",
      "10000\n",
      "10000\n",
      "10000\n",
      "10000\n",
      "10000\n",
      "10000\n",
      "10000\n",
      "10000\n",
      "10000\n",
      "10000\n",
      "10000\n",
      "10000\n",
      "10000\n",
      "10000\n",
      "10000\n",
      "10000\n",
      "10000\n",
      "10000\n",
      "9347\n"
     ]
    }
   ],
   "source": [
    "# split file into segments to overcome git limitations with large files\n",
    "\n",
    "# split file into 10k chunks each\n",
    "k = 10000\n",
    "df = df_train_perturbed\n",
    "\n",
    "num_rows = len(df)\n",
    "for i in range(0, num_rows, k):\n",
    "    chunk = df.iloc[i:i + k]\n",
    "    print(len(chunk))\n",
    "    filename = f\"{prefix}.{i}.csv\"\n",
    "    chunk.to_csv(filename, index=False)"
   ]
  },
  {
   "cell_type": "code",
   "execution_count": 15,
   "id": "aa335e4e-3e50-49e3-a647-b1766d495d58",
   "metadata": {},
   "outputs": [
    {
     "name": "stdout",
     "output_type": "stream",
     "text": [
      "swapping 279059 and 286411\n",
      "220376->4500 , 915845->182015\n",
      "swapping 283248 and 283794\n",
      "168504->816 , 76717->1198\n",
      "swapping 286282 and 281807\n",
      "168010->8311 , 237072->319221\n",
      "swapping 272467 and 275231\n",
      "372514->182015 , 374065->28389\n",
      "swapping 285623 and 289822\n",
      "105031->334 , 108745->180645\n",
      "8970\n",
      "8970\n"
     ]
    },
    {
     "name": "stderr",
     "output_type": "stream",
     "text": [
      "/var/folders/9f/_45_cttj01b5lmh5x5njvlp00000gn/T/ipykernel_1064/3256129253.py:57: SettingWithCopyWarning: \n",
      "A value is trying to be set on a copy of a slice from a DataFrame.\n",
      "Try using .loc[row_indexer,col_indexer] = value instead\n",
      "\n",
      "See the caveats in the documentation: https://pandas.pydata.org/pandas-docs/stable/user_guide/indexing.html#returning-a-view-versus-a-copy\n",
      "  df_clean['disapprove'] = 0\n"
     ]
    }
   ],
   "source": [
    "df_test_perturbed = perturb_graph(df_test)"
   ]
  },
  {
   "cell_type": "code",
   "execution_count": 16,
   "id": "326bdfd3-e525-4452-b9df-1a8aad7e1e00",
   "metadata": {},
   "outputs": [],
   "source": [
    "df_test_perturbed.to_csv(f\"{data_path}/exp4/triplets_with_src_dst_wiki_extracts.test.csv\", index=False)"
   ]
  },
  {
   "cell_type": "code",
   "execution_count": null,
   "id": "0f05d955-a66f-4346-961c-f68988017308",
   "metadata": {},
   "outputs": [],
   "source": []
  },
  {
   "cell_type": "code",
   "execution_count": 62,
   "id": "1334958b-2b7e-4dae-8ed0-2d00c0d666d6",
   "metadata": {},
   "outputs": [],
   "source": [
    "# Evaluation on test set, do the same perturbation\n",
    "# for them label to be empty per guidelines - https://kumo.ai/docs/examples/fraud-chargeback-abuse/"
   ]
  },
  {
   "cell_type": "code",
   "execution_count": null,
   "id": "e8635cb3-21eb-4790-88a2-0b2e8bf27267",
   "metadata": {},
   "outputs": [],
   "source": []
  },
  {
   "cell_type": "code",
   "execution_count": null,
   "id": "cbddae3f-f06c-488a-bbb8-3c4b44008479",
   "metadata": {},
   "outputs": [],
   "source": []
  },
  {
   "cell_type": "code",
   "execution_count": 31,
   "id": "87983c9e-ca16-475b-ac80-aa8edae479b1",
   "metadata": {},
   "outputs": [
    {
     "data": {
      "text/html": [
       "<div>\n",
       "<style scoped>\n",
       "    .dataframe tbody tr th:only-of-type {\n",
       "        vertical-align: middle;\n",
       "    }\n",
       "\n",
       "    .dataframe tbody tr th {\n",
       "        vertical-align: top;\n",
       "    }\n",
       "\n",
       "    .dataframe thead th {\n",
       "        text-align: right;\n",
       "    }\n",
       "</style>\n",
       "<table border=\"1\" class=\"dataframe\">\n",
       "  <thead>\n",
       "    <tr style=\"text-align: right;\">\n",
       "      <th></th>\n",
       "      <th>Unnamed: 0</th>\n",
       "      <th>src_freebase_id</th>\n",
       "      <th>relation</th>\n",
       "      <th>dest_freebase_id</th>\n",
       "      <th>triple_id</th>\n",
       "      <th>timestamp</th>\n",
       "      <th>relation_name</th>\n",
       "      <th>relation_id</th>\n",
       "      <th>src_wikidata_label</th>\n",
       "      <th>src_wikidata_id</th>\n",
       "      <th>dest_wikidata_label</th>\n",
       "      <th>dest_wikidata_id</th>\n",
       "      <th>src_wikidata_title</th>\n",
       "      <th>src_wikidata_extract</th>\n",
       "      <th>dest_wikidata_title</th>\n",
       "      <th>dest_wikidata_extract</th>\n",
       "    </tr>\n",
       "  </thead>\n",
       "  <tbody>\n",
       "    <tr>\n",
       "      <th>2240</th>\n",
       "      <td>2240</td>\n",
       "      <td>/m/0f0kz</td>\n",
       "      <td>/award/award_nominee/award_nominations./award/...</td>\n",
       "      <td>/m/09sb52</td>\n",
       "      <td>2539</td>\n",
       "      <td>2024-11-10</td>\n",
       "      <td>/award/award_nominee/award_nominations./award/...</td>\n",
       "      <td>19</td>\n",
       "      <td>Christopher Lee</td>\n",
       "      <td>180338</td>\n",
       "      <td>Screen Actors Guild Award for Outstanding Perf...</td>\n",
       "      <td>518675</td>\n",
       "      <td>Christopher Lee</td>\n",
       "      <td>Sir Christopher Frank Carandini Lee (27 May 19...</td>\n",
       "      <td>Screen Actors Guild Award for Outstanding Perf...</td>\n",
       "      <td>The Screen Actors Guild Award for Outstanding ...</td>\n",
       "    </tr>\n",
       "    <tr>\n",
       "      <th>144228</th>\n",
       "      <td>144228</td>\n",
       "      <td>/m/07j9n</td>\n",
       "      <td>/base/culturalevent/event/entity_involved</td>\n",
       "      <td>/m/01s47p</td>\n",
       "      <td>163696</td>\n",
       "      <td>2024-10-06</td>\n",
       "      <td>/base/culturalevent/event/entity_involved</td>\n",
       "      <td>88</td>\n",
       "      <td>Thirty Years' War</td>\n",
       "      <td>2487</td>\n",
       "      <td>Spanish Empire</td>\n",
       "      <td>80702</td>\n",
       "      <td>Thirty Years' War</td>\n",
       "      <td>The Thirty Years' War, fought primarily in Cen...</td>\n",
       "      <td>Spanish Empire</td>\n",
       "      <td>The Spanish Empire, sometimes referred to as t...</td>\n",
       "    </tr>\n",
       "  </tbody>\n",
       "</table>\n",
       "</div>"
      ],
      "text/plain": [
       "        Unnamed: 0 src_freebase_id  \\\n",
       "2240          2240        /m/0f0kz   \n",
       "144228      144228        /m/07j9n   \n",
       "\n",
       "                                                 relation dest_freebase_id  \\\n",
       "2240    /award/award_nominee/award_nominations./award/...        /m/09sb52   \n",
       "144228          /base/culturalevent/event/entity_involved        /m/01s47p   \n",
       "\n",
       "        triple_id   timestamp  \\\n",
       "2240         2539  2024-11-10   \n",
       "144228     163696  2024-10-06   \n",
       "\n",
       "                                            relation_name  relation_id  \\\n",
       "2240    /award/award_nominee/award_nominations./award/...           19   \n",
       "144228          /base/culturalevent/event/entity_involved           88   \n",
       "\n",
       "       src_wikidata_label  src_wikidata_id  \\\n",
       "2240      Christopher Lee           180338   \n",
       "144228  Thirty Years' War             2487   \n",
       "\n",
       "                                      dest_wikidata_label  dest_wikidata_id  \\\n",
       "2240    Screen Actors Guild Award for Outstanding Perf...            518675   \n",
       "144228                                     Spanish Empire             80702   \n",
       "\n",
       "       src_wikidata_title                               src_wikidata_extract  \\\n",
       "2240      Christopher Lee  Sir Christopher Frank Carandini Lee (27 May 19...   \n",
       "144228  Thirty Years' War  The Thirty Years' War, fought primarily in Cen...   \n",
       "\n",
       "                                      dest_wikidata_title  \\\n",
       "2240    Screen Actors Guild Award for Outstanding Perf...   \n",
       "144228                                     Spanish Empire   \n",
       "\n",
       "                                    dest_wikidata_extract  \n",
       "2240    The Screen Actors Guild Award for Outstanding ...  \n",
       "144228  The Spanish Empire, sometimes referred to as t...  "
      ]
     },
     "execution_count": 31,
     "metadata": {},
     "output_type": "execute_result"
    }
   ],
   "source": [
    "triplets_with_src_dst_wiki_ids_df.loc[triplets_with_src_dst_wiki_ids_df.triple_id.isin( [2539, 163696])]\n",
    "\n",
    "# [55643, 152715]\n",
    "# [170009, 119076]\n",
    "# [236138, 194859]\n",
    "# [244999, 194663]\n",
    "# [2539, 163696]\n"
   ]
  },
  {
   "cell_type": "code",
   "execution_count": 23,
   "id": "0f34110c-a7db-46fc-97ce-a984db75f922",
   "metadata": {},
   "outputs": [
    {
     "data": {
      "text/html": [
       "<div>\n",
       "<style scoped>\n",
       "    .dataframe tbody tr th:only-of-type {\n",
       "        vertical-align: middle;\n",
       "    }\n",
       "\n",
       "    .dataframe tbody tr th {\n",
       "        vertical-align: top;\n",
       "    }\n",
       "\n",
       "    .dataframe thead th {\n",
       "        text-align: right;\n",
       "    }\n",
       "</style>\n",
       "<table border=\"1\" class=\"dataframe\">\n",
       "  <thead>\n",
       "    <tr style=\"text-align: right;\">\n",
       "      <th></th>\n",
       "      <th>Unnamed: 0</th>\n",
       "      <th>src_freebase_id</th>\n",
       "      <th>relation</th>\n",
       "      <th>dest_freebase_id</th>\n",
       "      <th>timestamp</th>\n",
       "      <th>relation_name</th>\n",
       "      <th>relation_id</th>\n",
       "      <th>src_wikidata_label</th>\n",
       "      <th>src_wikidata_id</th>\n",
       "      <th>dest_wikidata_label</th>\n",
       "      <th>dest_wikidata_id</th>\n",
       "      <th>triple_id</th>\n",
       "      <th>src_wikidata_title</th>\n",
       "      <th>src_wikidata_extract</th>\n",
       "      <th>dest_wikidata_title</th>\n",
       "      <th>dest_wikidata_extract</th>\n",
       "    </tr>\n",
       "  </thead>\n",
       "  <tbody>\n",
       "    <tr>\n",
       "      <th>13243</th>\n",
       "      <td>13243</td>\n",
       "      <td>/m/01fmys</td>\n",
       "      <td>/film/film/release_date_s./film/film_regional_...</td>\n",
       "      <td>/m/06t2t</td>\n",
       "      <td>2025-01-02</td>\n",
       "      <td>/film/film/release_date_s./film/film_regional_...</td>\n",
       "      <td>13</td>\n",
       "      <td>Home Alone</td>\n",
       "      <td>105031</td>\n",
       "      <td>Singapore</td>\n",
       "      <td>334</td>\n",
       "      <td>285623</td>\n",
       "      <td>Home Alone</td>\n",
       "      <td>Home Alone is a 1990 American Christmas comedy...</td>\n",
       "      <td>Singapore</td>\n",
       "      <td>Singapore, officially the Republic of Singapor...</td>\n",
       "    </tr>\n",
       "    <tr>\n",
       "      <th>17368</th>\n",
       "      <td>17368</td>\n",
       "      <td>/m/01d2v1</td>\n",
       "      <td>/film/film/film_production_design_by</td>\n",
       "      <td>/m/0fqjks</td>\n",
       "      <td>2025-01-02</td>\n",
       "      <td>/film/film/film_production_design_by</td>\n",
       "      <td>184</td>\n",
       "      <td>Ghostbusters</td>\n",
       "      <td>108745</td>\n",
       "      <td>John DeCuir, Sr.</td>\n",
       "      <td>180645</td>\n",
       "      <td>289822</td>\n",
       "      <td>Ghostbusters</td>\n",
       "      <td>Ghostbusters is a 1984 American supernatural c...</td>\n",
       "      <td>John DeCuir</td>\n",
       "      <td>John DeCuir (June 4, 1918 – October 29, 1991) ...</td>\n",
       "    </tr>\n",
       "  </tbody>\n",
       "</table>\n",
       "</div>"
      ],
      "text/plain": [
       "       Unnamed: 0 src_freebase_id  \\\n",
       "13243       13243       /m/01fmys   \n",
       "17368       17368       /m/01d2v1   \n",
       "\n",
       "                                                relation dest_freebase_id  \\\n",
       "13243  /film/film/release_date_s./film/film_regional_...         /m/06t2t   \n",
       "17368               /film/film/film_production_design_by        /m/0fqjks   \n",
       "\n",
       "        timestamp                                      relation_name  \\\n",
       "13243  2025-01-02  /film/film/release_date_s./film/film_regional_...   \n",
       "17368  2025-01-02               /film/film/film_production_design_by   \n",
       "\n",
       "       relation_id src_wikidata_label  src_wikidata_id dest_wikidata_label  \\\n",
       "13243           13         Home Alone           105031           Singapore   \n",
       "17368          184       Ghostbusters           108745    John DeCuir, Sr.   \n",
       "\n",
       "       dest_wikidata_id  triple_id src_wikidata_title  \\\n",
       "13243               334     285623         Home Alone   \n",
       "17368            180645     289822       Ghostbusters   \n",
       "\n",
       "                                    src_wikidata_extract dest_wikidata_title  \\\n",
       "13243  Home Alone is a 1990 American Christmas comedy...           Singapore   \n",
       "17368  Ghostbusters is a 1984 American supernatural c...         John DeCuir   \n",
       "\n",
       "                                   dest_wikidata_extract  \n",
       "13243  Singapore, officially the Republic of Singapor...  \n",
       "17368  John DeCuir (June 4, 1918 – October 29, 1991) ...  "
      ]
     },
     "execution_count": 23,
     "metadata": {},
     "output_type": "execute_result"
    }
   ],
   "source": [
    "df_test.loc[df_test.triple_id.isin([285623, 289822])]\n",
    "# [279059, 286411]\n",
    "\n",
    "# [283248, 283794]\n",
    "# [286282, 281807]\n",
    "# [272467, 275231]\n",
    "# [285623, 289822]\n"
   ]
  },
  {
   "cell_type": "code",
   "execution_count": null,
   "id": "26787ae7-080f-4d8f-9195-9f0914093f3e",
   "metadata": {},
   "outputs": [],
   "source": []
  },
  {
   "cell_type": "code",
   "execution_count": null,
   "id": "42b12142-7e20-4aa0-90ca-7f259eea8831",
   "metadata": {},
   "outputs": [],
   "source": []
  },
  {
   "cell_type": "code",
   "execution_count": null,
   "id": "7ea3424f-ee49-4225-898e-49d04086c6fd",
   "metadata": {},
   "outputs": [],
   "source": []
  },
  {
   "cell_type": "code",
   "execution_count": null,
   "id": "339074ee-b3b4-49a6-ad99-79518ee8c416",
   "metadata": {},
   "outputs": [],
   "source": []
  },
  {
   "cell_type": "code",
   "execution_count": null,
   "id": "218f0be1-5ea6-4a41-9929-ef234797453b",
   "metadata": {},
   "outputs": [],
   "source": []
  }
 ],
 "metadata": {
  "kernelspec": {
   "display_name": "Python [conda env:kumo-hackathon-py311] *",
   "language": "python",
   "name": "conda-env-kumo-hackathon-py311-py"
  },
  "language_info": {
   "codemirror_mode": {
    "name": "ipython",
    "version": 3
   },
   "file_extension": ".py",
   "mimetype": "text/x-python",
   "name": "python",
   "nbconvert_exporter": "python",
   "pygments_lexer": "ipython3",
   "version": "3.11.13"
  }
 },
 "nbformat": 4,
 "nbformat_minor": 5
}
