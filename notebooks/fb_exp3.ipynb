{
 "cells": [
  {
   "cell_type": "markdown",
   "id": "3ea59964-9083-48d5-845b-c92272f1596c",
   "metadata": {},
   "source": [
    "## FB15k-237 semantic graph\n",
    "\n",
    "https://www.kaggle.com/datasets/latebloomer/fb15k-237/data\n",
    "\n",
    "https://www.kaggle.com/datasets/latebloomer/freebase-wikidata-mapping"
   ]
  },
  {
   "cell_type": "code",
   "execution_count": 1,
   "id": "a746ebde-7bf3-4b30-8547-db9f363b6f7b",
   "metadata": {},
   "outputs": [],
   "source": [
    "# !pip install kagglehub"
   ]
  },
  {
   "cell_type": "code",
   "execution_count": 2,
   "id": "2cc5a3d6-20ce-4366-be01-010454932820",
   "metadata": {},
   "outputs": [],
   "source": [
    "# import kagglehub\n",
    "\n",
    "# path = kagglehub.dataset_download(\"latebloomer/fb15k-237\")\n",
    "# print(\"Path to dataset files:\", path)"
   ]
  },
  {
   "cell_type": "code",
   "execution_count": 3,
   "id": "1eed983c-bbff-4212-b946-48193716e725",
   "metadata": {},
   "outputs": [],
   "source": [
    "import pandas as pd\n",
    "import numpy as np"
   ]
  },
  {
   "cell_type": "code",
   "execution_count": 4,
   "id": "27520b0a-8a13-4ef1-b05e-8cc615303b0b",
   "metadata": {},
   "outputs": [],
   "source": [
    "data_path = \"../datasets/fb15k-237/\""
   ]
  },
  {
   "cell_type": "markdown",
   "id": "fc53c651-9279-4c33-8a99-ca1dc0abe264",
   "metadata": {},
   "source": [
    "### Load triples and augment from source"
   ]
  },
  {
   "cell_type": "markdown",
   "id": "49018c5b-c4f5-43e5-81f5-93a1353fd7f7",
   "metadata": {},
   "source": [
    "### Load augmented triples directly"
   ]
  },
  {
   "cell_type": "code",
   "execution_count": 5,
   "id": "9ede7d2f-fd20-4124-9388-c32bb23998fe",
   "metadata": {},
   "outputs": [],
   "source": [
    "relations_df = pd.read_csv(f\"{data_path}/derived/relations_with_ids.csv\")"
   ]
  },
  {
   "cell_type": "code",
   "execution_count": 6,
   "id": "7ff77b9c-dee3-4ac2-b9fe-9fff9d86cf59",
   "metadata": {},
   "outputs": [
    {
     "data": {
      "text/html": [
       "<div>\n",
       "<style scoped>\n",
       "    .dataframe tbody tr th:only-of-type {\n",
       "        vertical-align: middle;\n",
       "    }\n",
       "\n",
       "    .dataframe tbody tr th {\n",
       "        vertical-align: top;\n",
       "    }\n",
       "\n",
       "    .dataframe thead th {\n",
       "        text-align: right;\n",
       "    }\n",
       "</style>\n",
       "<table border=\"1\" class=\"dataframe\">\n",
       "  <thead>\n",
       "    <tr style=\"text-align: right;\">\n",
       "      <th></th>\n",
       "      <th>relation_name</th>\n",
       "      <th>relation_id</th>\n",
       "    </tr>\n",
       "  </thead>\n",
       "  <tbody>\n",
       "    <tr>\n",
       "      <th>0</th>\n",
       "      <td>/location/country/form_of_government</td>\n",
       "      <td>0</td>\n",
       "    </tr>\n",
       "    <tr>\n",
       "      <th>1</th>\n",
       "      <td>/tv/tv_program/regular_cast./tv/regular_tv_app...</td>\n",
       "      <td>1</td>\n",
       "    </tr>\n",
       "    <tr>\n",
       "      <th>2</th>\n",
       "      <td>/media_common/netflix_genre/titles</td>\n",
       "      <td>2</td>\n",
       "    </tr>\n",
       "    <tr>\n",
       "      <th>3</th>\n",
       "      <td>/award/award_winner/awards_won./award/award_ho...</td>\n",
       "      <td>3</td>\n",
       "    </tr>\n",
       "    <tr>\n",
       "      <th>4</th>\n",
       "      <td>/soccer/football_team/current_roster./sports/s...</td>\n",
       "      <td>4</td>\n",
       "    </tr>\n",
       "  </tbody>\n",
       "</table>\n",
       "</div>"
      ],
      "text/plain": [
       "                                       relation_name  relation_id\n",
       "0               /location/country/form_of_government            0\n",
       "1  /tv/tv_program/regular_cast./tv/regular_tv_app...            1\n",
       "2                 /media_common/netflix_genre/titles            2\n",
       "3  /award/award_winner/awards_won./award/award_ho...            3\n",
       "4  /soccer/football_team/current_roster./sports/s...            4"
      ]
     },
     "execution_count": 6,
     "metadata": {},
     "output_type": "execute_result"
    }
   ],
   "source": [
    "relations_df.head()"
   ]
  },
  {
   "cell_type": "code",
   "execution_count": null,
   "id": "65cf37de-7d5a-4632-bfb1-21f95309329c",
   "metadata": {},
   "outputs": [],
   "source": []
  },
  {
   "cell_type": "code",
   "execution_count": 7,
   "id": "5eb2c472-70fa-4fa2-9736-0b8546651844",
   "metadata": {},
   "outputs": [],
   "source": [
    "freebase_vs_wiki_df =  pd.read_csv(f\"{data_path}/fb_wiki_mapping.tsv\", sep='\\t')\n",
    "# freebase_vs_wiki_df =  pd.read_csv(f\"{data_path}/fb_wiki_mapping.csv\")"
   ]
  },
  {
   "cell_type": "code",
   "execution_count": 8,
   "id": "0af3790d-a89e-45d5-9d42-a956e99e8de3",
   "metadata": {},
   "outputs": [
    {
     "data": {
      "text/html": [
       "<div>\n",
       "<style scoped>\n",
       "    .dataframe tbody tr th:only-of-type {\n",
       "        vertical-align: middle;\n",
       "    }\n",
       "\n",
       "    .dataframe tbody tr th {\n",
       "        vertical-align: top;\n",
       "    }\n",
       "\n",
       "    .dataframe thead th {\n",
       "        text-align: right;\n",
       "    }\n",
       "</style>\n",
       "<table border=\"1\" class=\"dataframe\">\n",
       "  <thead>\n",
       "    <tr style=\"text-align: right;\">\n",
       "      <th></th>\n",
       "      <th>freebase_id</th>\n",
       "      <th>wikidata_id</th>\n",
       "      <th>label</th>\n",
       "    </tr>\n",
       "  </thead>\n",
       "  <tbody>\n",
       "    <tr>\n",
       "      <th>0</th>\n",
       "      <td>/m/010005</td>\n",
       "      <td>Q974334</td>\n",
       "      <td>Corinth</td>\n",
       "    </tr>\n",
       "    <tr>\n",
       "      <th>1</th>\n",
       "      <td>/m/01000j</td>\n",
       "      <td>Q981582</td>\n",
       "      <td>Draper</td>\n",
       "    </tr>\n",
       "    <tr>\n",
       "      <th>2</th>\n",
       "      <td>/m/01000w</td>\n",
       "      <td>Q977417</td>\n",
       "      <td>Cross Roads</td>\n",
       "    </tr>\n",
       "  </tbody>\n",
       "</table>\n",
       "</div>"
      ],
      "text/plain": [
       "  freebase_id wikidata_id        label\n",
       "0   /m/010005     Q974334      Corinth\n",
       "1   /m/01000j     Q981582       Draper\n",
       "2   /m/01000w     Q977417  Cross Roads"
      ]
     },
     "execution_count": 8,
     "metadata": {},
     "output_type": "execute_result"
    }
   ],
   "source": [
    "# freebase_vs_wiki_df[''] = df.index\n",
    "freebase_vs_wiki_df.head(3)"
   ]
  },
  {
   "cell_type": "code",
   "execution_count": 9,
   "id": "0f7a6602-9130-475a-8417-799979088152",
   "metadata": {},
   "outputs": [
    {
     "data": {
      "text/html": [
       "<div>\n",
       "<style scoped>\n",
       "    .dataframe tbody tr th:only-of-type {\n",
       "        vertical-align: middle;\n",
       "    }\n",
       "\n",
       "    .dataframe tbody tr th {\n",
       "        vertical-align: top;\n",
       "    }\n",
       "\n",
       "    .dataframe thead th {\n",
       "        text-align: right;\n",
       "    }\n",
       "</style>\n",
       "<table border=\"1\" class=\"dataframe\">\n",
       "  <thead>\n",
       "    <tr style=\"text-align: right;\">\n",
       "      <th></th>\n",
       "      <th>freebase_id</th>\n",
       "      <th>wikidata_id</th>\n",
       "      <th>label</th>\n",
       "    </tr>\n",
       "  </thead>\n",
       "  <tbody>\n",
       "    <tr>\n",
       "      <th>count</th>\n",
       "      <td>2096636</td>\n",
       "      <td>2096636</td>\n",
       "      <td>2095837</td>\n",
       "    </tr>\n",
       "    <tr>\n",
       "      <th>unique</th>\n",
       "      <td>2094552</td>\n",
       "      <td>2096636</td>\n",
       "      <td>1959699</td>\n",
       "    </tr>\n",
       "    <tr>\n",
       "      <th>top</th>\n",
       "      <td>/m/060gfy</td>\n",
       "      <td>Q974334</td>\n",
       "      <td>Central District</td>\n",
       "    </tr>\n",
       "    <tr>\n",
       "      <th>freq</th>\n",
       "      <td>3</td>\n",
       "      <td>1</td>\n",
       "      <td>373</td>\n",
       "    </tr>\n",
       "  </tbody>\n",
       "</table>\n",
       "</div>"
      ],
      "text/plain": [
       "       freebase_id wikidata_id             label\n",
       "count      2096636     2096636           2095837\n",
       "unique     2094552     2096636           1959699\n",
       "top      /m/060gfy     Q974334  Central District\n",
       "freq             3           1               373"
      ]
     },
     "execution_count": 9,
     "metadata": {},
     "output_type": "execute_result"
    }
   ],
   "source": [
    "freebase_vs_wiki_df.describe()"
   ]
  },
  {
   "cell_type": "code",
   "execution_count": 10,
   "id": "2e0ba3e7-2dae-4983-bc54-6114eb2741f4",
   "metadata": {},
   "outputs": [],
   "source": [
    "# strip Q from wikidata id for easier use with Kumo AI\n",
    "freebase_vs_wiki_df['wikidata_int_id'] = freebase_vs_wiki_df.apply(lambda row: int(row['wikidata_id'][1:]), axis=1)"
   ]
  },
  {
   "cell_type": "code",
   "execution_count": 11,
   "id": "c93150d7-f6c8-4e9c-acec-b7b7893502d7",
   "metadata": {},
   "outputs": [],
   "source": [
    "freebase_vs_wiki_df.drop('wikidata_id', axis=1, inplace=True)\n",
    "freebase_vs_wiki_df.rename(columns={'wikidata_int_id':'wikidata_id'}, inplace=True)"
   ]
  },
  {
   "cell_type": "code",
   "execution_count": 13,
   "id": "7d1a187c-662d-4f35-a293-40dec1b94853",
   "metadata": {},
   "outputs": [],
   "source": [
    "triplets_with_src_dst_wiki_ids_df = pd.read_csv(f\"{data_path}/exp3/triplets_with_src_dst_wiki_ids.csv\")"
   ]
  },
  {
   "cell_type": "code",
   "execution_count": 14,
   "id": "751539d5-fdef-4172-bea4-9cf73bca5cd5",
   "metadata": {},
   "outputs": [],
   "source": [
    "df_test = pd.read_csv(f\"{data_path}/exp3/triplets_with_src_dst_wiki_ids.test.csv\")"
   ]
  },
  {
   "cell_type": "code",
   "execution_count": 15,
   "id": "3dfbfd8b-4d38-4315-9851-be50a206f62a",
   "metadata": {},
   "outputs": [
    {
     "name": "stdout",
     "output_type": "stream",
     "text": [
      "<class 'pandas.core.frame.DataFrame'>\n",
      "RangeIndex: 18286 entries, 0 to 18285\n",
      "Data columns (total 14 columns):\n",
      " #   Column            Non-Null Count  Dtype \n",
      "---  ------            --------------  ----- \n",
      " 0   src_freebase_id   18286 non-null  object\n",
      " 1   relation          18286 non-null  object\n",
      " 2   dest_freebase_id  18286 non-null  object\n",
      " 3   timestamp         18286 non-null  object\n",
      " 4   relation_name     18286 non-null  object\n",
      " 5   relation_id       18286 non-null  int64 \n",
      " 6   freebase_id_x     18286 non-null  object\n",
      " 7   label_x           18286 non-null  object\n",
      " 8   src_wikidata_id   18286 non-null  int64 \n",
      " 9   freebase_id_y     18286 non-null  object\n",
      " 10  label_y           18286 non-null  object\n",
      " 11  dest_wikidata_id  18286 non-null  int64 \n",
      " 12  triple_id         18286 non-null  int64 \n",
      " 13  disapprove        18286 non-null  int64 \n",
      "dtypes: int64(5), object(9)\n",
      "memory usage: 2.0+ MB\n"
     ]
    }
   ],
   "source": [
    "df_test.info()"
   ]
  },
  {
   "cell_type": "code",
   "execution_count": 16,
   "id": "c459d67e-c83d-40bd-8ea2-184a5ae24e10",
   "metadata": {},
   "outputs": [],
   "source": [
    "triplets_with_src_dst_wiki_ids_df['disapprove'] = triplets_with_src_dst_wiki_ids_df['disapprove'].astype('bool')\n",
    "df_test['disapprove'] = df_test['disapprove'].astype('bool')"
   ]
  },
  {
   "cell_type": "code",
   "execution_count": null,
   "id": "32ea6b1d-140f-4e6e-b200-374bcf81ee81",
   "metadata": {},
   "outputs": [],
   "source": []
  },
  {
   "cell_type": "code",
   "execution_count": 18,
   "id": "d7b0680c-eaf9-4cf6-93f0-94e58845b52b",
   "metadata": {},
   "outputs": [],
   "source": [
    "## Reset label for test samples to \n",
    "# df_test['inaccurate'] = False\n",
    "# df_test['inaccurate'] = '0.2'\n",
    "\n",
    "# df_test.inaccurate.value_counts()"
   ]
  },
  {
   "cell_type": "code",
   "execution_count": 17,
   "id": "d4a8bbb6-bf78-455f-9885-b6669a9aad6f",
   "metadata": {},
   "outputs": [],
   "source": [
    "combined_triplets = pd.concat([triplets_with_src_dst_wiki_ids_df, df_test])"
   ]
  },
  {
   "cell_type": "code",
   "execution_count": 18,
   "id": "08c3c0f9-d408-427c-8852-3f95a5ab56b8",
   "metadata": {},
   "outputs": [
    {
     "data": {
      "text/plain": [
       "disapprove\n",
       "True          130960\n",
       "False         130084\n",
       "Name: count, dtype: int64"
      ]
     },
     "execution_count": 18,
     "metadata": {},
     "output_type": "execute_result"
    }
   ],
   "source": [
    "# combined_triplets['disapprove'] = combined_triplets['disapprove'].astype('float')\n",
    "combined_triplets[['disapprove']].value_counts()"
   ]
  },
  {
   "cell_type": "code",
   "execution_count": 19,
   "id": "0c7833ca-5ca0-4112-b278-48576a89ff3b",
   "metadata": {},
   "outputs": [],
   "source": [
    "combined_triplets['timestamp'] = pd.to_datetime(combined_triplets['timestamp'])\n",
    "# combined_triplets['inaccurate'] = combined_triplets['inaccurate'].astype('bool')"
   ]
  },
  {
   "cell_type": "code",
   "execution_count": 20,
   "id": "598ca258-1931-4247-ba18-93e63f8ed12e",
   "metadata": {},
   "outputs": [
    {
     "name": "stdout",
     "output_type": "stream",
     "text": [
      "<class 'pandas.core.frame.DataFrame'>\n",
      "Index: 261044 entries, 0 to 18285\n",
      "Data columns (total 14 columns):\n",
      " #   Column            Non-Null Count   Dtype         \n",
      "---  ------            --------------   -----         \n",
      " 0   src_freebase_id   261044 non-null  object        \n",
      " 1   relation          261044 non-null  object        \n",
      " 2   dest_freebase_id  261044 non-null  object        \n",
      " 3   triple_id         261044 non-null  int64         \n",
      " 4   timestamp         261044 non-null  datetime64[ns]\n",
      " 5   relation_name     261044 non-null  object        \n",
      " 6   relation_id       261044 non-null  int64         \n",
      " 7   freebase_id_x     261044 non-null  object        \n",
      " 8   label_x           261044 non-null  object        \n",
      " 9   src_wikidata_id   261044 non-null  int64         \n",
      " 10  freebase_id_y     261044 non-null  object        \n",
      " 11  label_y           261044 non-null  object        \n",
      " 12  dest_wikidata_id  261044 non-null  int64         \n",
      " 13  disapprove        261044 non-null  bool          \n",
      "dtypes: bool(1), datetime64[ns](1), int64(4), object(8)\n",
      "memory usage: 28.1+ MB\n"
     ]
    }
   ],
   "source": [
    "# triplets_with_src_dst_wiki_ids_df.info()\n",
    "combined_triplets.info()"
   ]
  },
  {
   "cell_type": "code",
   "execution_count": 21,
   "id": "98f071f0-d85e-44b4-827b-31fc27df0a63",
   "metadata": {},
   "outputs": [],
   "source": [
    "# Experiment - split labels into a separate table\n",
    "# data_quality_df = combined_triplets[['triple_id', 'disapprove']].copy()\n",
    "\n",
    "data_quality_df = triplets_with_src_dst_wiki_ids_df[['triple_id', 'disapprove']].copy()\n",
    "data_quality_df['id'] = data_quality_df.index\n",
    "\n",
    "data_quality_df['disapprove'] = data_quality_df['disapprove'].astype('int')"
   ]
  },
  {
   "cell_type": "code",
   "execution_count": 22,
   "id": "624df7d3-8c8b-4d5e-87a6-8fb5d3518cb2",
   "metadata": {},
   "outputs": [],
   "source": [
    "# add random timestamps to force fit into KumoAI restrictions\n",
    "base_date = pd.Timestamp('2025-02-01')\n",
    "\n",
    "num_triples = len(data_quality_df)\n",
    "random_days_ago_integers = np.random.randint(1, 24, size=num_triples)\n",
    "\n",
    "time_deltas = pd.to_timedelta(random_days_ago_integers, unit='days')\n",
    "\n",
    "data_quality_df['created_at'] = base_date - time_deltas"
   ]
  },
  {
   "cell_type": "code",
   "execution_count": null,
   "id": "2f748689-676f-4476-8ca6-9c5a9cd89792",
   "metadata": {},
   "outputs": [],
   "source": []
  },
  {
   "cell_type": "code",
   "execution_count": 23,
   "id": "5d3c7de7-c10c-46b2-bb6e-f2950a6fea42",
   "metadata": {},
   "outputs": [],
   "source": [
    "# All nodes and associated triples for freebase / wiki ?\n",
    "import kumoai as kumo"
   ]
  },
  {
   "cell_type": "code",
   "execution_count": 24,
   "id": "781577d8-14bc-4593-924b-11df391001bf",
   "metadata": {},
   "outputs": [],
   "source": [
    "import kumoai.experimental.rfm as rfm\n",
    "import os"
   ]
  },
  {
   "cell_type": "code",
   "execution_count": 25,
   "id": "46423057-8c71-4e8c-aa63-c901b5ff32fe",
   "metadata": {},
   "outputs": [
    {
     "name": "stdout",
     "output_type": "stream",
     "text": [
      "Opening browser page to automatically generate an API key...\n"
     ]
    },
    {
     "name": "stderr",
     "output_type": "stream",
     "text": [
      "[2025-08-20 11:58:59 - kumoai:298 - INFO] Generated token \"sdk-macbook-pro-3.local-2025-08-20-11-58-57-Z\" and saved to KUMO_API_KEY env variable\n"
     ]
    }
   ],
   "source": [
    "if not os.environ.get(\"KUMO_API_KEY\"):\n",
    "    rfm.authenticate()"
   ]
  },
  {
   "cell_type": "code",
   "execution_count": 26,
   "id": "2a213e15-ebf0-4d86-a29d-bc546c9e65e1",
   "metadata": {},
   "outputs": [
    {
     "name": "stderr",
     "output_type": "stream",
     "text": [
      "[2025-08-20 11:59:07 - kumoai:196 - INFO] Successfully initialized the Kumo SDK against deployment https://kumorfm.ai/api, with log level INFO.\n"
     ]
    }
   ],
   "source": [
    "KUMO_API_KEY = os.environ.get(\"KUMO_API_KEY\")\n",
    "rfm.init(api_key=KUMO_API_KEY)"
   ]
  },
  {
   "cell_type": "code",
   "execution_count": 27,
   "id": "60772876-dfa9-41b9-ba33-e7eb34d01a19",
   "metadata": {},
   "outputs": [
    {
     "name": "stdout",
     "output_type": "stream",
     "text": [
      "Detected primary key 'triple_id' and time column 'timestamp' in table 'triples'\n"
     ]
    }
   ],
   "source": [
    "triples = rfm.LocalTable(\n",
    "    combined_triplets[['triple_id', 'src_wikidata_id', 'relation_id', 'dest_wikidata_id', 'timestamp']], \n",
    "    name=\"triples\"\n",
    ").infer_metadata()"
   ]
  },
  {
   "cell_type": "code",
   "execution_count": 28,
   "id": "3cd072cb-b64d-4d3a-a588-fbf4eccab15a",
   "metadata": {},
   "outputs": [],
   "source": [
    "relations = rfm.LocalTable(\n",
    "    relations_df, name=\"relations\", primary_key='relation_id'\n",
    ").infer_metadata()"
   ]
  },
  {
   "cell_type": "code",
   "execution_count": 30,
   "id": "8616a5e8-0969-4cd5-a455-667a157673e2",
   "metadata": {},
   "outputs": [
    {
     "name": "stdout",
     "output_type": "stream",
     "text": [
      "Detected primary key 'id' and time column 'created_at' in table 'data_quality'\n"
     ]
    }
   ],
   "source": [
    "data_quality = rfm.LocalTable(\n",
    "    data_quality_df, name=\"data_quality\"\n",
    ").infer_metadata()\n",
    "\n",
    "data_quality.column(\"disapprove\").stype = \"numerical\""
   ]
  },
  {
   "cell_type": "code",
   "execution_count": 31,
   "id": "992faf10-6e3e-4ed5-a4a2-8314f8491204",
   "metadata": {},
   "outputs": [],
   "source": [
    "freebase_vs_wiki1 = rfm.LocalTable(freebase_vs_wiki_df, name=\"freebase_vs_wiki_src\", primary_key=\"wikidata_id\").infer_metadata()"
   ]
  },
  {
   "cell_type": "code",
   "execution_count": 32,
   "id": "08bdea13-0b9e-42ca-a956-84d0c3fb5f87",
   "metadata": {},
   "outputs": [],
   "source": [
    "freebase_vs_wiki2 = rfm.LocalTable(freebase_vs_wiki_df.copy(), name=\"freebase_vs_wiki_dest\", primary_key=\"wikidata_id\").infer_metadata()"
   ]
  },
  {
   "cell_type": "code",
   "execution_count": 33,
   "id": "5609b8d6-4a90-4d50-9d5f-750b51b71083",
   "metadata": {},
   "outputs": [],
   "source": [
    "graph = rfm.LocalGraph(tables=[\n",
    "    triples,\n",
    "    relations,\n",
    "    freebase_vs_wiki1,\n",
    "    freebase_vs_wiki2,\n",
    "    data_quality,\n",
    "])"
   ]
  },
  {
   "cell_type": "code",
   "execution_count": 34,
   "id": "1351e77c-e3c7-4262-9747-628942a3ddab",
   "metadata": {},
   "outputs": [
    {
     "data": {
      "text/plain": [
       "LocalGraph(\n",
       "  tables=[triples, relations, freebase_vs_wiki_src, freebase_vs_wiki_dest, data_quality],\n",
       "  edges=[Edge(src_table='triples', fkey='src_wikidata_id', dst_table='freebase_vs_wiki_src')],\n",
       ")"
      ]
     },
     "execution_count": 34,
     "metadata": {},
     "output_type": "execute_result"
    }
   ],
   "source": [
    "# graph.link(src_table=\"freebase_vs_wiki\", fkey=\"src_wikidata_id\", dst_table=\"triples\")\n",
    "graph.link(src_table=\"triples\", fkey=\"src_wikidata_id\", dst_table=\"freebase_vs_wiki_src\")"
   ]
  },
  {
   "cell_type": "code",
   "execution_count": 35,
   "id": "05be89e0-67ba-4f23-9175-667a7744193e",
   "metadata": {},
   "outputs": [
    {
     "data": {
      "text/plain": [
       "LocalGraph(\n",
       "  tables=[triples, relations, freebase_vs_wiki_src, freebase_vs_wiki_dest, data_quality],\n",
       "  edges=[Edge(src_table='triples', fkey='src_wikidata_id', dst_table='freebase_vs_wiki_src'), Edge(src_table='data_quality', fkey='triple_id', dst_table='triples')],\n",
       ")"
      ]
     },
     "execution_count": 35,
     "metadata": {},
     "output_type": "execute_result"
    }
   ],
   "source": [
    "graph.link(src_table=\"data_quality\", fkey=\"triple_id\", dst_table=\"triples\")"
   ]
  },
  {
   "cell_type": "code",
   "execution_count": 36,
   "id": "41603c6c-e302-43fe-8158-87b359d552ad",
   "metadata": {},
   "outputs": [
    {
     "data": {
      "text/plain": [
       "LocalGraph(\n",
       "  tables=[triples, relations, freebase_vs_wiki_src, freebase_vs_wiki_dest, data_quality],\n",
       "  edges=[Edge(src_table='triples', fkey='src_wikidata_id', dst_table='freebase_vs_wiki_src'), Edge(src_table='data_quality', fkey='triple_id', dst_table='triples'), Edge(src_table='triples', fkey='relation_id', dst_table='relations')],\n",
       ")"
      ]
     },
     "execution_count": 36,
     "metadata": {},
     "output_type": "execute_result"
    }
   ],
   "source": [
    "graph.link(src_table=\"triples\",fkey=\"relation_id\", dst_table=\"relations\")"
   ]
  },
  {
   "cell_type": "code",
   "execution_count": 37,
   "id": "2ea229f2-efd9-40b3-a4c3-a0c49b863d12",
   "metadata": {},
   "outputs": [
    {
     "data": {
      "text/plain": [
       "LocalGraph(\n",
       "  tables=[triples, relations, freebase_vs_wiki_src, freebase_vs_wiki_dest, data_quality],\n",
       "  edges=[Edge(src_table='triples', fkey='src_wikidata_id', dst_table='freebase_vs_wiki_src'), Edge(src_table='data_quality', fkey='triple_id', dst_table='triples'), Edge(src_table='triples', fkey='relation_id', dst_table='relations'), Edge(src_table='triples', fkey='dest_wikidata_id', dst_table='freebase_vs_wiki_dest')],\n",
       ")"
      ]
     },
     "execution_count": 37,
     "metadata": {},
     "output_type": "execute_result"
    }
   ],
   "source": [
    "graph.link(src_table=\"triples\", fkey=\"dest_wikidata_id\", dst_table=\"freebase_vs_wiki_dest\")"
   ]
  },
  {
   "cell_type": "code",
   "execution_count": 38,
   "id": "67084f87-e410-41db-a354-48bf192f38a2",
   "metadata": {},
   "outputs": [
    {
     "data": {
      "image/svg+xml": [
       "<?xml version=\"1.0\" encoding=\"UTF-8\" standalone=\"no\"?>\n",
       "<!DOCTYPE svg PUBLIC \"-//W3C//DTD SVG 1.1//EN\"\n",
       " \"http://www.w3.org/Graphics/SVG/1.1/DTD/svg11.dtd\">\n",
       "<!-- Generated by graphviz version 12.2.1 (20241206.2353)\n",
       " -->\n",
       "<!-- Pages: 1 -->\n",
       "<svg width=\"496pt\" height=\"525pt\"\n",
       " viewBox=\"0.00 0.00 496.38 524.50\" xmlns=\"http://www.w3.org/2000/svg\" xmlns:xlink=\"http://www.w3.org/1999/xlink\">\n",
       "<g id=\"graph0\" class=\"graph\" transform=\"scale(1 1) rotate(0) translate(4 520.5)\">\n",
       "<polygon fill=\"white\" stroke=\"none\" points=\"-4,4 -4,-520.5 492.38,-520.5 492.38,4 -4,4\"/>\n",
       "<!-- triples -->\n",
       "<g id=\"node1\" class=\"node\">\n",
       "<title>triples</title>\n",
       "<polygon fill=\"none\" stroke=\"black\" points=\"174.62,-206 174.62,-321 334.62,-321 334.62,-206 174.62,-206\"/>\n",
       "<text text-anchor=\"middle\" x=\"254.62\" y=\"-303.7\" font-family=\"Times,serif\" font-size=\"14.00\">triples</text>\n",
       "<polyline fill=\"none\" stroke=\"black\" points=\"174.62,-296.5 334.62,-296.5\"/>\n",
       "<text text-anchor=\"start\" x=\"182.62\" y=\"-279.2\" font-family=\"Times,serif\" font-size=\"14.00\">triple_id: PK (int)</text>\n",
       "<text text-anchor=\"start\" x=\"182.62\" y=\"-262.7\" font-family=\"Times,serif\" font-size=\"14.00\">src_wikidata_id: FK (int)</text>\n",
       "<text text-anchor=\"start\" x=\"182.62\" y=\"-246.2\" font-family=\"Times,serif\" font-size=\"14.00\">relation_id: FK (int)</text>\n",
       "<text text-anchor=\"start\" x=\"182.62\" y=\"-229.7\" font-family=\"Times,serif\" font-size=\"14.00\">dest_wikidata_id: FK (int)</text>\n",
       "<text text-anchor=\"start\" x=\"182.62\" y=\"-213.2\" font-family=\"Times,serif\" font-size=\"14.00\">timestamp: Time (date)</text>\n",
       "</g>\n",
       "<!-- relations -->\n",
       "<g id=\"node2\" class=\"node\">\n",
       "<title>relations</title>\n",
       "<polygon fill=\"none\" stroke=\"black\" points=\"0,-8.75 0,-82.25 165.25,-82.25 165.25,-8.75 0,-8.75\"/>\n",
       "<text text-anchor=\"middle\" x=\"82.62\" y=\"-64.95\" font-family=\"Times,serif\" font-size=\"14.00\">relations</text>\n",
       "<polyline fill=\"none\" stroke=\"black\" points=\"0,-57.75 165.25,-57.75\"/>\n",
       "<text text-anchor=\"start\" x=\"8\" y=\"-40.45\" font-family=\"Times,serif\" font-size=\"14.00\">relation_id: PK (int)</text>\n",
       "<polyline fill=\"none\" stroke=\"black\" points=\"0,-33.25 165.25,-33.25\"/>\n",
       "<text text-anchor=\"start\" x=\"8\" y=\"-15.95\" font-family=\"Times,serif\" font-size=\"14.00\">relation_name: text (string)</text>\n",
       "</g>\n",
       "<!-- triples&#45;&#45;relations -->\n",
       "<g id=\"edge3\" class=\"edge\">\n",
       "<title>triples&#45;&#45;relations</title>\n",
       "<path fill=\"none\" stroke=\"black\" d=\"M209.43,-205.75C178.38,-166.75 138.08,-116.15 111.34,-82.56\"/>\n",
       "<text text-anchor=\"middle\" x=\"205.98\" y=\"-144.55\" font-family=\"Times,serif\" font-size=\"11.00\"> relation_id </text>\n",
       "<text text-anchor=\"middle\" x=\"124.77\" y=\"-85.55\" font-family=\"Times,serif\" font-size=\"11.00\">1</text>\n",
       "<text text-anchor=\"middle\" x=\"196.01\" y=\"-195.36\" font-family=\"Times,serif\" font-size=\"11.00\">*</text>\n",
       "</g>\n",
       "<!-- freebase_vs_wiki_src -->\n",
       "<g id=\"node3\" class=\"node\">\n",
       "<title>freebase_vs_wiki_src</title>\n",
       "<polygon fill=\"none\" stroke=\"black\" points=\"182.88,-0.5 182.88,-90.5 326.38,-90.5 326.38,-0.5 182.88,-0.5\"/>\n",
       "<text text-anchor=\"middle\" x=\"254.62\" y=\"-73.2\" font-family=\"Times,serif\" font-size=\"14.00\">freebase_vs_wiki_src</text>\n",
       "<polyline fill=\"none\" stroke=\"black\" points=\"182.88,-66 326.38,-66\"/>\n",
       "<text text-anchor=\"start\" x=\"190.88\" y=\"-48.7\" font-family=\"Times,serif\" font-size=\"14.00\">wikidata_id: PK (int)</text>\n",
       "<polyline fill=\"none\" stroke=\"black\" points=\"182.88,-41.5 326.38,-41.5\"/>\n",
       "<text text-anchor=\"start\" x=\"190.88\" y=\"-24.2\" font-family=\"Times,serif\" font-size=\"14.00\">freebase_id: ID (string)</text>\n",
       "<text text-anchor=\"start\" x=\"190.88\" y=\"-7.7\" font-family=\"Times,serif\" font-size=\"14.00\">label: text (string)</text>\n",
       "</g>\n",
       "<!-- triples&#45;&#45;freebase_vs_wiki_src -->\n",
       "<g id=\"edge1\" class=\"edge\">\n",
       "<title>triples&#45;&#45;freebase_vs_wiki_src</title>\n",
       "<path fill=\"none\" stroke=\"black\" d=\"M254.62,-205.75C254.62,-169.88 254.62,-124.18 254.62,-90.95\"/>\n",
       "<text text-anchor=\"middle\" x=\"291.38\" y=\"-158.05\" font-family=\"Times,serif\" font-size=\"11.00\"> src_wikidata_id</text>\n",
       "<text text-anchor=\"middle\" x=\"291.38\" y=\"-144.55\" font-family=\"Times,serif\" font-size=\"11.00\">&lt; &gt;</text>\n",
       "<text text-anchor=\"middle\" x=\"291.38\" y=\"-131.05\" font-family=\"Times,serif\" font-size=\"11.00\">wikidata_id </text>\n",
       "<text text-anchor=\"middle\" x=\"260.96\" y=\"-100.84\" font-family=\"Times,serif\" font-size=\"11.00\">1</text>\n",
       "<text text-anchor=\"middle\" x=\"248.29\" y=\"-188.45\" font-family=\"Times,serif\" font-size=\"11.00\">*</text>\n",
       "</g>\n",
       "<!-- freebase_vs_wiki_dest -->\n",
       "<g id=\"node4\" class=\"node\">\n",
       "<title>freebase_vs_wiki_dest</title>\n",
       "<polygon fill=\"none\" stroke=\"black\" points=\"344.88,-0.5 344.88,-90.5 488.38,-90.5 488.38,-0.5 344.88,-0.5\"/>\n",
       "<text text-anchor=\"middle\" x=\"416.62\" y=\"-73.2\" font-family=\"Times,serif\" font-size=\"14.00\">freebase_vs_wiki_dest</text>\n",
       "<polyline fill=\"none\" stroke=\"black\" points=\"344.88,-66 488.38,-66\"/>\n",
       "<text text-anchor=\"start\" x=\"352.88\" y=\"-48.7\" font-family=\"Times,serif\" font-size=\"14.00\">wikidata_id: PK (int)</text>\n",
       "<polyline fill=\"none\" stroke=\"black\" points=\"344.88,-41.5 488.38,-41.5\"/>\n",
       "<text text-anchor=\"start\" x=\"352.88\" y=\"-24.2\" font-family=\"Times,serif\" font-size=\"14.00\">freebase_id: ID (string)</text>\n",
       "<text text-anchor=\"start\" x=\"352.88\" y=\"-7.7\" font-family=\"Times,serif\" font-size=\"14.00\">label: text (string)</text>\n",
       "</g>\n",
       "<!-- triples&#45;&#45;freebase_vs_wiki_dest -->\n",
       "<g id=\"edge4\" class=\"edge\">\n",
       "<title>triples&#45;&#45;freebase_vs_wiki_dest</title>\n",
       "<path fill=\"none\" stroke=\"black\" d=\"M303.1,-205.74C313.07,-193.61 323.35,-180.76 332.62,-168.5 351.63,-143.38 371.69,-114.37 387.43,-90.94\"/>\n",
       "<text text-anchor=\"middle\" x=\"400.86\" y=\"-158.05\" font-family=\"Times,serif\" font-size=\"11.00\"> dest_wikidata_id</text>\n",
       "<text text-anchor=\"middle\" x=\"400.86\" y=\"-144.55\" font-family=\"Times,serif\" font-size=\"11.00\">&lt; &gt;</text>\n",
       "<text text-anchor=\"middle\" x=\"400.86\" y=\"-131.05\" font-family=\"Times,serif\" font-size=\"11.00\">wikidata_id </text>\n",
       "<text text-anchor=\"middle\" x=\"385.08\" y=\"-102.05\" font-family=\"Times,serif\" font-size=\"11.00\">1</text>\n",
       "<text text-anchor=\"middle\" x=\"306.81\" y=\"-187.51\" font-family=\"Times,serif\" font-size=\"11.00\">*</text>\n",
       "</g>\n",
       "<!-- data_quality -->\n",
       "<g id=\"node5\" class=\"node\">\n",
       "<title>data_quality</title>\n",
       "<polygon fill=\"none\" stroke=\"black\" points=\"172.38,-409.5 172.38,-516 336.88,-516 336.88,-409.5 172.38,-409.5\"/>\n",
       "<text text-anchor=\"middle\" x=\"254.62\" y=\"-498.7\" font-family=\"Times,serif\" font-size=\"14.00\">data_quality</text>\n",
       "<polyline fill=\"none\" stroke=\"black\" points=\"172.38,-491.5 336.88,-491.5\"/>\n",
       "<text text-anchor=\"start\" x=\"180.38\" y=\"-474.2\" font-family=\"Times,serif\" font-size=\"14.00\">id: PK (int)</text>\n",
       "<text text-anchor=\"start\" x=\"180.38\" y=\"-457.7\" font-family=\"Times,serif\" font-size=\"14.00\">triple_id: FK (int)</text>\n",
       "<text text-anchor=\"start\" x=\"180.38\" y=\"-441.2\" font-family=\"Times,serif\" font-size=\"14.00\">created_at: Time (date)</text>\n",
       "<polyline fill=\"none\" stroke=\"black\" points=\"172.38,-434 336.88,-434\"/>\n",
       "<text text-anchor=\"start\" x=\"180.38\" y=\"-416.7\" font-family=\"Times,serif\" font-size=\"14.00\">disapprove: numerical (int)</text>\n",
       "</g>\n",
       "<!-- data_quality&#45;&#45;triples -->\n",
       "<g id=\"edge2\" class=\"edge\">\n",
       "<title>data_quality&#45;&#45;triples</title>\n",
       "<path fill=\"none\" stroke=\"black\" d=\"M254.62,-409.15C254.62,-382.1 254.62,-349.1 254.62,-321.45\"/>\n",
       "<text text-anchor=\"middle\" x=\"276\" y=\"-361.55\" font-family=\"Times,serif\" font-size=\"11.00\"> triple_id </text>\n",
       "<text text-anchor=\"middle\" x=\"260.96\" y=\"-331.35\" font-family=\"Times,serif\" font-size=\"11.00\">1</text>\n",
       "<text text-anchor=\"middle\" x=\"248.29\" y=\"-391.86\" font-family=\"Times,serif\" font-size=\"11.00\">*</text>\n",
       "</g>\n",
       "</g>\n",
       "</svg>\n"
      ],
      "text/plain": [
       "<graphviz.graphs.Graph at 0x322ac1150>"
      ]
     },
     "metadata": {},
     "output_type": "display_data"
    },
    {
     "data": {
      "image/svg+xml": [
       "<?xml version=\"1.0\" encoding=\"UTF-8\" standalone=\"no\"?>\n",
       "<!DOCTYPE svg PUBLIC \"-//W3C//DTD SVG 1.1//EN\"\n",
       " \"http://www.w3.org/Graphics/SVG/1.1/DTD/svg11.dtd\">\n",
       "<!-- Generated by graphviz version 12.2.1 (20241206.2353)\n",
       " -->\n",
       "<!-- Pages: 1 -->\n",
       "<svg width=\"496pt\" height=\"525pt\"\n",
       " viewBox=\"0.00 0.00 496.38 524.50\" xmlns=\"http://www.w3.org/2000/svg\" xmlns:xlink=\"http://www.w3.org/1999/xlink\">\n",
       "<g id=\"graph0\" class=\"graph\" transform=\"scale(1 1) rotate(0) translate(4 520.5)\">\n",
       "<polygon fill=\"white\" stroke=\"none\" points=\"-4,4 -4,-520.5 492.38,-520.5 492.38,4 -4,4\"/>\n",
       "<!-- triples -->\n",
       "<g id=\"node1\" class=\"node\">\n",
       "<title>triples</title>\n",
       "<polygon fill=\"none\" stroke=\"black\" points=\"174.62,-206 174.62,-321 334.62,-321 334.62,-206 174.62,-206\"/>\n",
       "<text text-anchor=\"middle\" x=\"254.62\" y=\"-303.7\" font-family=\"Times,serif\" font-size=\"14.00\">triples</text>\n",
       "<polyline fill=\"none\" stroke=\"black\" points=\"174.62,-296.5 334.62,-296.5\"/>\n",
       "<text text-anchor=\"start\" x=\"182.62\" y=\"-279.2\" font-family=\"Times,serif\" font-size=\"14.00\">triple_id: PK (int)</text>\n",
       "<text text-anchor=\"start\" x=\"182.62\" y=\"-262.7\" font-family=\"Times,serif\" font-size=\"14.00\">src_wikidata_id: FK (int)</text>\n",
       "<text text-anchor=\"start\" x=\"182.62\" y=\"-246.2\" font-family=\"Times,serif\" font-size=\"14.00\">relation_id: FK (int)</text>\n",
       "<text text-anchor=\"start\" x=\"182.62\" y=\"-229.7\" font-family=\"Times,serif\" font-size=\"14.00\">dest_wikidata_id: FK (int)</text>\n",
       "<text text-anchor=\"start\" x=\"182.62\" y=\"-213.2\" font-family=\"Times,serif\" font-size=\"14.00\">timestamp: Time (date)</text>\n",
       "</g>\n",
       "<!-- relations -->\n",
       "<g id=\"node2\" class=\"node\">\n",
       "<title>relations</title>\n",
       "<polygon fill=\"none\" stroke=\"black\" points=\"0,-8.75 0,-82.25 165.25,-82.25 165.25,-8.75 0,-8.75\"/>\n",
       "<text text-anchor=\"middle\" x=\"82.62\" y=\"-64.95\" font-family=\"Times,serif\" font-size=\"14.00\">relations</text>\n",
       "<polyline fill=\"none\" stroke=\"black\" points=\"0,-57.75 165.25,-57.75\"/>\n",
       "<text text-anchor=\"start\" x=\"8\" y=\"-40.45\" font-family=\"Times,serif\" font-size=\"14.00\">relation_id: PK (int)</text>\n",
       "<polyline fill=\"none\" stroke=\"black\" points=\"0,-33.25 165.25,-33.25\"/>\n",
       "<text text-anchor=\"start\" x=\"8\" y=\"-15.95\" font-family=\"Times,serif\" font-size=\"14.00\">relation_name: text (string)</text>\n",
       "</g>\n",
       "<!-- triples&#45;&#45;relations -->\n",
       "<g id=\"edge3\" class=\"edge\">\n",
       "<title>triples&#45;&#45;relations</title>\n",
       "<path fill=\"none\" stroke=\"black\" d=\"M209.43,-205.75C178.38,-166.75 138.08,-116.15 111.34,-82.56\"/>\n",
       "<text text-anchor=\"middle\" x=\"205.98\" y=\"-144.55\" font-family=\"Times,serif\" font-size=\"11.00\"> relation_id </text>\n",
       "<text text-anchor=\"middle\" x=\"124.77\" y=\"-85.55\" font-family=\"Times,serif\" font-size=\"11.00\">1</text>\n",
       "<text text-anchor=\"middle\" x=\"196.01\" y=\"-195.36\" font-family=\"Times,serif\" font-size=\"11.00\">*</text>\n",
       "</g>\n",
       "<!-- freebase_vs_wiki_src -->\n",
       "<g id=\"node3\" class=\"node\">\n",
       "<title>freebase_vs_wiki_src</title>\n",
       "<polygon fill=\"none\" stroke=\"black\" points=\"182.88,-0.5 182.88,-90.5 326.38,-90.5 326.38,-0.5 182.88,-0.5\"/>\n",
       "<text text-anchor=\"middle\" x=\"254.62\" y=\"-73.2\" font-family=\"Times,serif\" font-size=\"14.00\">freebase_vs_wiki_src</text>\n",
       "<polyline fill=\"none\" stroke=\"black\" points=\"182.88,-66 326.38,-66\"/>\n",
       "<text text-anchor=\"start\" x=\"190.88\" y=\"-48.7\" font-family=\"Times,serif\" font-size=\"14.00\">wikidata_id: PK (int)</text>\n",
       "<polyline fill=\"none\" stroke=\"black\" points=\"182.88,-41.5 326.38,-41.5\"/>\n",
       "<text text-anchor=\"start\" x=\"190.88\" y=\"-24.2\" font-family=\"Times,serif\" font-size=\"14.00\">freebase_id: ID (string)</text>\n",
       "<text text-anchor=\"start\" x=\"190.88\" y=\"-7.7\" font-family=\"Times,serif\" font-size=\"14.00\">label: text (string)</text>\n",
       "</g>\n",
       "<!-- triples&#45;&#45;freebase_vs_wiki_src -->\n",
       "<g id=\"edge1\" class=\"edge\">\n",
       "<title>triples&#45;&#45;freebase_vs_wiki_src</title>\n",
       "<path fill=\"none\" stroke=\"black\" d=\"M254.62,-205.75C254.62,-169.88 254.62,-124.18 254.62,-90.95\"/>\n",
       "<text text-anchor=\"middle\" x=\"291.38\" y=\"-158.05\" font-family=\"Times,serif\" font-size=\"11.00\"> src_wikidata_id</text>\n",
       "<text text-anchor=\"middle\" x=\"291.38\" y=\"-144.55\" font-family=\"Times,serif\" font-size=\"11.00\">&lt; &gt;</text>\n",
       "<text text-anchor=\"middle\" x=\"291.38\" y=\"-131.05\" font-family=\"Times,serif\" font-size=\"11.00\">wikidata_id </text>\n",
       "<text text-anchor=\"middle\" x=\"260.96\" y=\"-100.84\" font-family=\"Times,serif\" font-size=\"11.00\">1</text>\n",
       "<text text-anchor=\"middle\" x=\"248.29\" y=\"-188.45\" font-family=\"Times,serif\" font-size=\"11.00\">*</text>\n",
       "</g>\n",
       "<!-- freebase_vs_wiki_dest -->\n",
       "<g id=\"node4\" class=\"node\">\n",
       "<title>freebase_vs_wiki_dest</title>\n",
       "<polygon fill=\"none\" stroke=\"black\" points=\"344.88,-0.5 344.88,-90.5 488.38,-90.5 488.38,-0.5 344.88,-0.5\"/>\n",
       "<text text-anchor=\"middle\" x=\"416.62\" y=\"-73.2\" font-family=\"Times,serif\" font-size=\"14.00\">freebase_vs_wiki_dest</text>\n",
       "<polyline fill=\"none\" stroke=\"black\" points=\"344.88,-66 488.38,-66\"/>\n",
       "<text text-anchor=\"start\" x=\"352.88\" y=\"-48.7\" font-family=\"Times,serif\" font-size=\"14.00\">wikidata_id: PK (int)</text>\n",
       "<polyline fill=\"none\" stroke=\"black\" points=\"344.88,-41.5 488.38,-41.5\"/>\n",
       "<text text-anchor=\"start\" x=\"352.88\" y=\"-24.2\" font-family=\"Times,serif\" font-size=\"14.00\">freebase_id: ID (string)</text>\n",
       "<text text-anchor=\"start\" x=\"352.88\" y=\"-7.7\" font-family=\"Times,serif\" font-size=\"14.00\">label: text (string)</text>\n",
       "</g>\n",
       "<!-- triples&#45;&#45;freebase_vs_wiki_dest -->\n",
       "<g id=\"edge4\" class=\"edge\">\n",
       "<title>triples&#45;&#45;freebase_vs_wiki_dest</title>\n",
       "<path fill=\"none\" stroke=\"black\" d=\"M303.1,-205.74C313.07,-193.61 323.35,-180.76 332.62,-168.5 351.63,-143.38 371.69,-114.37 387.43,-90.94\"/>\n",
       "<text text-anchor=\"middle\" x=\"400.86\" y=\"-158.05\" font-family=\"Times,serif\" font-size=\"11.00\"> dest_wikidata_id</text>\n",
       "<text text-anchor=\"middle\" x=\"400.86\" y=\"-144.55\" font-family=\"Times,serif\" font-size=\"11.00\">&lt; &gt;</text>\n",
       "<text text-anchor=\"middle\" x=\"400.86\" y=\"-131.05\" font-family=\"Times,serif\" font-size=\"11.00\">wikidata_id </text>\n",
       "<text text-anchor=\"middle\" x=\"385.08\" y=\"-102.05\" font-family=\"Times,serif\" font-size=\"11.00\">1</text>\n",
       "<text text-anchor=\"middle\" x=\"306.81\" y=\"-187.51\" font-family=\"Times,serif\" font-size=\"11.00\">*</text>\n",
       "</g>\n",
       "<!-- data_quality -->\n",
       "<g id=\"node5\" class=\"node\">\n",
       "<title>data_quality</title>\n",
       "<polygon fill=\"none\" stroke=\"black\" points=\"172.38,-409.5 172.38,-516 336.88,-516 336.88,-409.5 172.38,-409.5\"/>\n",
       "<text text-anchor=\"middle\" x=\"254.62\" y=\"-498.7\" font-family=\"Times,serif\" font-size=\"14.00\">data_quality</text>\n",
       "<polyline fill=\"none\" stroke=\"black\" points=\"172.38,-491.5 336.88,-491.5\"/>\n",
       "<text text-anchor=\"start\" x=\"180.38\" y=\"-474.2\" font-family=\"Times,serif\" font-size=\"14.00\">id: PK (int)</text>\n",
       "<text text-anchor=\"start\" x=\"180.38\" y=\"-457.7\" font-family=\"Times,serif\" font-size=\"14.00\">triple_id: FK (int)</text>\n",
       "<text text-anchor=\"start\" x=\"180.38\" y=\"-441.2\" font-family=\"Times,serif\" font-size=\"14.00\">created_at: Time (date)</text>\n",
       "<polyline fill=\"none\" stroke=\"black\" points=\"172.38,-434 336.88,-434\"/>\n",
       "<text text-anchor=\"start\" x=\"180.38\" y=\"-416.7\" font-family=\"Times,serif\" font-size=\"14.00\">disapprove: numerical (int)</text>\n",
       "</g>\n",
       "<!-- data_quality&#45;&#45;triples -->\n",
       "<g id=\"edge2\" class=\"edge\">\n",
       "<title>data_quality&#45;&#45;triples</title>\n",
       "<path fill=\"none\" stroke=\"black\" d=\"M254.62,-409.15C254.62,-382.1 254.62,-349.1 254.62,-321.45\"/>\n",
       "<text text-anchor=\"middle\" x=\"276\" y=\"-361.55\" font-family=\"Times,serif\" font-size=\"11.00\"> triple_id </text>\n",
       "<text text-anchor=\"middle\" x=\"260.96\" y=\"-331.35\" font-family=\"Times,serif\" font-size=\"11.00\">1</text>\n",
       "<text text-anchor=\"middle\" x=\"248.29\" y=\"-391.86\" font-family=\"Times,serif\" font-size=\"11.00\">*</text>\n",
       "</g>\n",
       "</g>\n",
       "</svg>\n"
      ],
      "text/plain": [
       "<graphviz.graphs.Graph at 0x322ac1150>"
      ]
     },
     "execution_count": 38,
     "metadata": {},
     "output_type": "execute_result"
    }
   ],
   "source": [
    "graph.visualize()"
   ]
  },
  {
   "cell_type": "code",
   "execution_count": 39,
   "id": "4362a6a5-f722-48d7-84fd-1870c6ca4c1a",
   "metadata": {},
   "outputs": [],
   "source": [
    "# graph['triples']['relation'].stype\n",
    "# graph['triples']['relation_id'].stype"
   ]
  },
  {
   "cell_type": "code",
   "execution_count": 40,
   "id": "67af4edd-3cbf-456d-8afe-29b84033b289",
   "metadata": {},
   "outputs": [
    {
     "data": {
      "application/vnd.jupyter.widget-view+json": {
       "model_id": "17da0718339543759b5a8c6c19a4899a",
       "version_major": 2,
       "version_minor": 0
      },
      "text/plain": [
       "Output()"
      ]
     },
     "metadata": {},
     "output_type": "display_data"
    },
    {
     "data": {
      "text/html": [
       "<pre style=\"white-space:pre;overflow-x:auto;line-height:normal;font-family:Menlo,'DejaVu Sans Mono',consolas,'Courier New',monospace\"></pre>\n"
      ],
      "text/plain": []
     },
     "metadata": {},
     "output_type": "display_data"
    }
   ],
   "source": [
    "model = rfm.KumoRFM(graph)"
   ]
  },
  {
   "cell_type": "code",
   "execution_count": 144,
   "id": "45f67cf5-3354-4059-98a8-897c9171f7bb",
   "metadata": {},
   "outputs": [],
   "source": [
    "# PREDICT triples.relation\n",
    "# Couldn't pick a unique triples.relation for each freebase_vs_wiki. row 1, column 8: Encountered an error, we have found \n",
    "# multiple 'relation' values in the 'triples' table for a single 'freebase_vs_wiki'. To fix this, you have two options:\n",
    "## 1. Aggregate the values: If your 'triples' table has a 'created at' column, use an aggregation function to reduce them to one value. \n",
    "##   For example: PREDICT LAST(triples.relation, 0, 30, days).\n",
    "## 2. Rewrite your query: If you are writing a static node prediction predictive query, make sure that you \n",
    "##   either use the same table to define your target and entity, or you have a foreign key from the entity pointing to the target table, \n",
    "##   not the other way around.\n",
    "\n",
    "# PREDICT triples.relation RANK TOP 10\n",
    "## Problem type 'ProblemType.RANK' is only supported for multicategorical targets. . row 1, column 8: Target 'triples.relation' is \n",
    "## not multicategorical. Either drop the problem type ProblemType.RANK OR \n",
    "## change the target to a multicategorical column, 'LAST'/'FIRST' aggregation of a multicategorical column, or a 'LIST_DISTINCT' aggregation.\n",
    "\n",
    "# FOR triples.src_wikidata_id=7413907\n",
    "# Invalid entity. row 2, column 4: Entity 'triples.src_wikidata_id' is not a primary key. \n",
    "# The column used in 'FOR EACH' has to be a primary key.\n",
    "\n",
    "# FOR \n",
    "\n",
    "# WHERE triples.relation contains 'place'\n"
   ]
  },
  {
   "cell_type": "code",
   "execution_count": 145,
   "id": "a4a212aa-acd0-43b0-9570-32a97d63287e",
   "metadata": {},
   "outputs": [],
   "source": [
    "# kumo.init(api_key=KUMO_API_KEY)"
   ]
  },
  {
   "cell_type": "code",
   "execution_count": 146,
   "id": "efecb7cd-7df4-4710-bc90-eb15987bf37c",
   "metadata": {},
   "outputs": [
    {
     "data": {
      "text/plain": [
       "'\\nPREDICT LIST_DISTINCT(triples.relation_id WHERE triples.inaccurate = 1, 0, 80, days)\\nFOR freebase_vs_wiki_src.wikidata_id=2685  \\n'"
      ]
     },
     "execution_count": 146,
     "metadata": {},
     "output_type": "execute_result"
    }
   ],
   "source": [
    "# Working queries\n",
    "\n",
    "query = \"\"\"\n",
    "PREDICT freebase_vs_wiki.freebase_id \n",
    "FOR freebase_vs_wiki.wikidata_id=7413907 \n",
    "\"\"\"\n",
    "\n",
    "query = \"\"\"\n",
    "PREDICT LIST_DISTINCT(triples.relation_id, 0, 80, days)\n",
    "FOR freebase_vs_wiki.wikidata_id=486860 \n",
    "\"\"\"\n",
    "\n",
    "# relations / types of edges for Arnold Schwarzenegger\n",
    "query = \"\"\"\n",
    "PREDICT LIST_DISTINCT(triples.relation_id, 0, 80, days)\n",
    "FOR freebase_vs_wiki_src.wikidata_id=2685 \n",
    "\"\"\"\n",
    "\n",
    "query1 = \"\"\"\n",
    "PREDICT triples.inaccurate\n",
    "FOR triples.triple_id =2685 \n",
    "\"\"\"\n",
    "\n",
    "# FOR triples.triple_id IN (1,2,3,4,168229,155507,15727) \n",
    "\n",
    "\"\"\"\n",
    "PREDICT LIST_DISTINCT(triples.relation_id WHERE triples.inaccurate = 1, 0, 80, days)\n",
    "FOR freebase_vs_wiki_src.wikidata_id=2685  \n",
    "\"\"\"\n"
   ]
  },
  {
   "cell_type": "code",
   "execution_count": 147,
   "id": "ed64f1ad-20ec-492e-a1f5-01e28446f662",
   "metadata": {},
   "outputs": [],
   "source": [
    "# all triples associated with 2685\n",
    "triple_ids_arnie=triplets_with_src_dst_wiki_ids_df.loc[triplets_with_src_dst_wiki_ids_df['src_wikidata_id']==2685].triple_id.to_list()"
   ]
  },
  {
   "cell_type": "code",
   "execution_count": 148,
   "id": "2f808047-5e6c-440f-920d-8c68025032f0",
   "metadata": {},
   "outputs": [],
   "source": [
    "triple_ids_arnie_str = f\"{triple_ids_arnie}\"\n",
    "triple_ids_arnie_str = triple_ids_arnie_str.replace(\"[\",\"(\").replace(\"]\",\")\")"
   ]
  },
  {
   "cell_type": "code",
   "execution_count": 149,
   "id": "6220744d-ba2a-4d78-9cb2-e68a5e47b5e1",
   "metadata": {},
   "outputs": [],
   "source": [
    "query1 = \"\"\"\n",
    "PREDICT data_quality.disappove\n",
    "FOR triples.triple_id IN \"\"\" + triple_ids_arnie_str"
   ]
  },
  {
   "cell_type": "code",
   "execution_count": 41,
   "id": "01e05fc7-6820-4e48-a841-9a35ecbbb200",
   "metadata": {},
   "outputs": [],
   "source": [
    "# triples with label 1 / inaccurate facts from test set\n",
    "probe_triplet_ids_errors=df_test.loc[df_test['disapprove']==True].sample(100).triple_id.to_list()\n",
    "probe_triplet_ids_non_errors=df_test.loc[df_test['disapprove']==False].sample(100).triple_id.to_list()\n",
    "\n",
    "probe_triplet_ids_str = f\"{probe_triplet_ids_errors}\"\n",
    "probe_triplet_ids_str = probe_triplet_ids_str.replace(\"[\",\"(\").replace(\"]\",\")\")"
   ]
  },
  {
   "cell_type": "code",
   "execution_count": 42,
   "id": "a9c20a0e-e4a2-4d30-bf13-a081507bbfec",
   "metadata": {},
   "outputs": [
    {
     "data": {
      "text/html": [
       "<pre style=\"white-space:pre;overflow-x:auto;line-height:normal;font-family:Menlo,'DejaVu Sans Mono',consolas,'Courier New',monospace\">/Users/ravid/miniconda3/envs/kumo-hackathon-py311/lib/python3.11/site-packages/kumoai/experimental/rfm/rfm.py:360: \n",
       "UserWarning: Anchor timestamp is too early or aggregation time range is too large. To form proper input data, we \n",
       "would need data back to '2024-08-24 00:00:00', however, your data only contains data back to '2024-10-04 00:00:00'.\n",
       "  warnings.warn(f\"Anchor timestamp is too early or aggregation \"\n",
       "</pre>\n"
      ],
      "text/plain": [
       "/Users/ravid/miniconda3/envs/kumo-hackathon-py311/lib/python3.11/site-packages/kumoai/experimental/rfm/rfm.py:360: \n",
       "UserWarning: Anchor timestamp is too early or aggregation time range is too large. To form proper input data, we \n",
       "would need data back to '2024-08-24 00:00:00', however, your data only contains data back to '2024-10-04 00:00:00'.\n",
       "  warnings.warn(f\"Anchor timestamp is too early or aggregation \"\n"
      ]
     },
     "metadata": {},
     "output_type": "display_data"
    },
    {
     "data": {
      "application/vnd.jupyter.widget-view+json": {
       "model_id": "e9678324607c4532accc5f9f00718c74",
       "version_major": 2,
       "version_minor": 0
      },
      "text/plain": [
       "Output()"
      ]
     },
     "metadata": {},
     "output_type": "display_data"
    },
    {
     "data": {
      "text/html": [
       "<pre style=\"white-space:pre;overflow-x:auto;line-height:normal;font-family:Menlo,'DejaVu Sans Mono',consolas,'Courier New',monospace\"></pre>\n"
      ],
      "text/plain": []
     },
     "metadata": {},
     "output_type": "display_data"
    },
    {
     "data": {
      "text/html": [
       "<pre style=\"white-space:pre;overflow-x:auto;line-height:normal;font-family:Menlo,'DejaVu Sans Mono',consolas,'Courier New',monospace\">/Users/ravid/miniconda3/envs/kumo-hackathon-py311/lib/python3.11/site-packages/kumoai/experimental/rfm/rfm.py:360: \n",
       "UserWarning: Anchor timestamp is too early or aggregation time range is too large. To form proper input data, we \n",
       "would need data back to '2024-08-24 00:00:00', however, your data only contains data back to '2024-10-04 00:00:00'.\n",
       "  warnings.warn(f\"Anchor timestamp is too early or aggregation \"\n",
       "</pre>\n"
      ],
      "text/plain": [
       "/Users/ravid/miniconda3/envs/kumo-hackathon-py311/lib/python3.11/site-packages/kumoai/experimental/rfm/rfm.py:360: \n",
       "UserWarning: Anchor timestamp is too early or aggregation time range is too large. To form proper input data, we \n",
       "would need data back to '2024-08-24 00:00:00', however, your data only contains data back to '2024-10-04 00:00:00'.\n",
       "  warnings.warn(f\"Anchor timestamp is too early or aggregation \"\n"
      ]
     },
     "metadata": {},
     "output_type": "display_data"
    },
    {
     "data": {
      "application/vnd.jupyter.widget-view+json": {
       "model_id": "3d0fa90b67d84203a24c48e62dbd74d3",
       "version_major": 2,
       "version_minor": 0
      },
      "text/plain": [
       "Output()"
      ]
     },
     "metadata": {},
     "output_type": "display_data"
    },
    {
     "data": {
      "text/html": [
       "<pre style=\"white-space:pre;overflow-x:auto;line-height:normal;font-family:Menlo,'DejaVu Sans Mono',consolas,'Courier New',monospace\"></pre>\n"
      ],
      "text/plain": []
     },
     "metadata": {},
     "output_type": "display_data"
    }
   ],
   "source": [
    "probe_triplet_ids_str = f\"{probe_triplet_ids_errors}\"\n",
    "probe_triplet_ids_str = probe_triplet_ids_str.replace(\"[\",\"(\").replace(\"]\",\")\")\n",
    "# print(probe_triplet_ids_str)\n",
    "\n",
    "query1 = \"\"\"\n",
    "PREDICT AVG(data_quality.disapprove, 0, 80, days)\n",
    "FOR triples.triple_id IN \"\"\" + probe_triplet_ids_str\n",
    "\n",
    "pred1_df = model.predict(query1)\n",
    "\n",
    "probe_triplet_ids_str = f\"{probe_triplet_ids_non_errors}\"\n",
    "probe_triplet_ids_str = probe_triplet_ids_str.replace(\"[\",\"(\").replace(\"]\",\")\")\n",
    "query2 = \"\"\"\n",
    "PREDICT AVG(data_quality.disapprove, 0, 80, days)\n",
    "FOR triples.triple_id IN \"\"\" + probe_triplet_ids_str\n",
    "\n",
    "pred2_df = model.predict(query2)"
   ]
  },
  {
   "cell_type": "code",
   "execution_count": 178,
   "id": "65e49453-cfdd-452a-ac4f-b45daba22a44",
   "metadata": {},
   "outputs": [
    {
     "data": {
      "text/html": [
       "<div>\n",
       "<style scoped>\n",
       "    .dataframe tbody tr th:only-of-type {\n",
       "        vertical-align: middle;\n",
       "    }\n",
       "\n",
       "    .dataframe tbody tr th {\n",
       "        vertical-align: top;\n",
       "    }\n",
       "\n",
       "    .dataframe thead th {\n",
       "        text-align: right;\n",
       "    }\n",
       "</style>\n",
       "<table border=\"1\" class=\"dataframe\">\n",
       "  <thead>\n",
       "    <tr style=\"text-align: right;\">\n",
       "      <th></th>\n",
       "      <th>ENTITY</th>\n",
       "      <th>ANCHOR_TIMESTAMP</th>\n",
       "      <th>TARGET_PRED</th>\n",
       "    </tr>\n",
       "  </thead>\n",
       "  <tbody>\n",
       "    <tr>\n",
       "      <th>count</th>\n",
       "      <td>30.000000</td>\n",
       "      <td>3.000000e+01</td>\n",
       "      <td>30.000000</td>\n",
       "    </tr>\n",
       "    <tr>\n",
       "      <th>mean</th>\n",
       "      <td>281363.233333</td>\n",
       "      <td>1.738282e+12</td>\n",
       "      <td>0.109948</td>\n",
       "    </tr>\n",
       "    <tr>\n",
       "      <th>std</th>\n",
       "      <td>4873.614227</td>\n",
       "      <td>0.000000e+00</td>\n",
       "      <td>0.013149</td>\n",
       "    </tr>\n",
       "    <tr>\n",
       "      <th>min</th>\n",
       "      <td>274173.000000</td>\n",
       "      <td>1.738282e+12</td>\n",
       "      <td>0.084153</td>\n",
       "    </tr>\n",
       "    <tr>\n",
       "      <th>25%</th>\n",
       "      <td>277652.750000</td>\n",
       "      <td>1.738282e+12</td>\n",
       "      <td>0.100899</td>\n",
       "    </tr>\n",
       "    <tr>\n",
       "      <th>50%</th>\n",
       "      <td>280921.000000</td>\n",
       "      <td>1.738282e+12</td>\n",
       "      <td>0.112039</td>\n",
       "    </tr>\n",
       "    <tr>\n",
       "      <th>75%</th>\n",
       "      <td>285256.750000</td>\n",
       "      <td>1.738282e+12</td>\n",
       "      <td>0.119091</td>\n",
       "    </tr>\n",
       "    <tr>\n",
       "      <th>max</th>\n",
       "      <td>290392.000000</td>\n",
       "      <td>1.738282e+12</td>\n",
       "      <td>0.132607</td>\n",
       "    </tr>\n",
       "  </tbody>\n",
       "</table>\n",
       "</div>"
      ],
      "text/plain": [
       "              ENTITY  ANCHOR_TIMESTAMP  TARGET_PRED\n",
       "count      30.000000      3.000000e+01    30.000000\n",
       "mean   281363.233333      1.738282e+12     0.109948\n",
       "std      4873.614227      0.000000e+00     0.013149\n",
       "min    274173.000000      1.738282e+12     0.084153\n",
       "25%    277652.750000      1.738282e+12     0.100899\n",
       "50%    280921.000000      1.738282e+12     0.112039\n",
       "75%    285256.750000      1.738282e+12     0.119091\n",
       "max    290392.000000      1.738282e+12     0.132607"
      ]
     },
     "execution_count": 178,
     "metadata": {},
     "output_type": "execute_result"
    }
   ],
   "source": [
    "# display(pred1_df)\n",
    "pred1_df.describe()"
   ]
  },
  {
   "cell_type": "code",
   "execution_count": 43,
   "id": "cb5863c8-0214-4908-9f88-d88b9d6fea7f",
   "metadata": {},
   "outputs": [
    {
     "name": "stdout",
     "output_type": "stream",
     "text": [
      "count    100.000000\n",
      "mean       0.381872\n",
      "std        0.013245\n",
      "min        0.348448\n",
      "25%        0.372218\n",
      "50%        0.382423\n",
      "75%        0.390613\n",
      "max        0.420499\n",
      "Name: TARGET_PRED, dtype: float64\n",
      "count    100.000000\n",
      "mean       0.383844\n",
      "std        0.013020\n",
      "min        0.346941\n",
      "25%        0.377365\n",
      "50%        0.386213\n",
      "75%        0.391893\n",
      "max        0.410187\n",
      "Name: TARGET_PRED, dtype: float64\n"
     ]
    }
   ],
   "source": [
    "print(pred1_df.TARGET_PRED.describe())\n",
    "\n",
    "print(pred2_df.TARGET_PRED.describe())"
   ]
  },
  {
   "cell_type": "code",
   "execution_count": 186,
   "id": "71261be9-2d20-4a98-b09a-48a145c53145",
   "metadata": {},
   "outputs": [],
   "source": [
    "# plot(pred1_df.TARGET_PRED)"
   ]
  },
  {
   "cell_type": "code",
   "execution_count": null,
   "id": "9321bd69-9f2a-4137-ba39-7566abc9033d",
   "metadata": {},
   "outputs": [],
   "source": []
  },
  {
   "cell_type": "code",
   "execution_count": null,
   "id": "de8668d8-a9c4-40d8-a3a2-709c65af5742",
   "metadata": {},
   "outputs": [],
   "source": []
  },
  {
   "cell_type": "code",
   "execution_count": 174,
   "id": "2dda8820-8bcc-4456-a0e6-49a241cd6b9a",
   "metadata": {},
   "outputs": [
    {
     "data": {
      "text/html": [
       "<div>\n",
       "<style scoped>\n",
       "    .dataframe tbody tr th:only-of-type {\n",
       "        vertical-align: middle;\n",
       "    }\n",
       "\n",
       "    .dataframe tbody tr th {\n",
       "        vertical-align: top;\n",
       "    }\n",
       "\n",
       "    .dataframe thead th {\n",
       "        text-align: right;\n",
       "    }\n",
       "</style>\n",
       "<table border=\"1\" class=\"dataframe\">\n",
       "  <thead>\n",
       "    <tr style=\"text-align: right;\">\n",
       "      <th></th>\n",
       "      <th>ENTITY</th>\n",
       "      <th>ANCHOR_TIMESTAMP</th>\n",
       "      <th>TARGET_PRED</th>\n",
       "    </tr>\n",
       "  </thead>\n",
       "  <tbody>\n",
       "    <tr>\n",
       "      <th>1</th>\n",
       "      <td>272117</td>\n",
       "      <td>1738281600000</td>\n",
       "      <td>0.131647</td>\n",
       "    </tr>\n",
       "    <tr>\n",
       "      <th>24</th>\n",
       "      <td>272146</td>\n",
       "      <td>1738281600000</td>\n",
       "      <td>0.128768</td>\n",
       "    </tr>\n",
       "    <tr>\n",
       "      <th>16</th>\n",
       "      <td>272135</td>\n",
       "      <td>1738281600000</td>\n",
       "      <td>0.126386</td>\n",
       "    </tr>\n",
       "    <tr>\n",
       "      <th>12</th>\n",
       "      <td>272129</td>\n",
       "      <td>1738281600000</td>\n",
       "      <td>0.122993</td>\n",
       "    </tr>\n",
       "    <tr>\n",
       "      <th>6</th>\n",
       "      <td>272122</td>\n",
       "      <td>1738281600000</td>\n",
       "      <td>0.121498</td>\n",
       "    </tr>\n",
       "    <tr>\n",
       "      <th>28</th>\n",
       "      <td>272153</td>\n",
       "      <td>1738281600000</td>\n",
       "      <td>0.120701</td>\n",
       "    </tr>\n",
       "    <tr>\n",
       "      <th>7</th>\n",
       "      <td>272123</td>\n",
       "      <td>1738281600000</td>\n",
       "      <td>0.120521</td>\n",
       "    </tr>\n",
       "    <tr>\n",
       "      <th>26</th>\n",
       "      <td>272149</td>\n",
       "      <td>1738281600000</td>\n",
       "      <td>0.119449</td>\n",
       "    </tr>\n",
       "    <tr>\n",
       "      <th>29</th>\n",
       "      <td>272155</td>\n",
       "      <td>1738281600000</td>\n",
       "      <td>0.119343</td>\n",
       "    </tr>\n",
       "    <tr>\n",
       "      <th>25</th>\n",
       "      <td>272148</td>\n",
       "      <td>1738281600000</td>\n",
       "      <td>0.116192</td>\n",
       "    </tr>\n",
       "    <tr>\n",
       "      <th>18</th>\n",
       "      <td>272137</td>\n",
       "      <td>1738281600000</td>\n",
       "      <td>0.115499</td>\n",
       "    </tr>\n",
       "    <tr>\n",
       "      <th>8</th>\n",
       "      <td>272125</td>\n",
       "      <td>1738281600000</td>\n",
       "      <td>0.113248</td>\n",
       "    </tr>\n",
       "    <tr>\n",
       "      <th>21</th>\n",
       "      <td>272141</td>\n",
       "      <td>1738281600000</td>\n",
       "      <td>0.113210</td>\n",
       "    </tr>\n",
       "    <tr>\n",
       "      <th>0</th>\n",
       "      <td>272116</td>\n",
       "      <td>1738281600000</td>\n",
       "      <td>0.113194</td>\n",
       "    </tr>\n",
       "    <tr>\n",
       "      <th>19</th>\n",
       "      <td>272138</td>\n",
       "      <td>1738281600000</td>\n",
       "      <td>0.112008</td>\n",
       "    </tr>\n",
       "    <tr>\n",
       "      <th>27</th>\n",
       "      <td>272151</td>\n",
       "      <td>1738281600000</td>\n",
       "      <td>0.110960</td>\n",
       "    </tr>\n",
       "    <tr>\n",
       "      <th>22</th>\n",
       "      <td>272142</td>\n",
       "      <td>1738281600000</td>\n",
       "      <td>0.109389</td>\n",
       "    </tr>\n",
       "    <tr>\n",
       "      <th>13</th>\n",
       "      <td>272130</td>\n",
       "      <td>1738281600000</td>\n",
       "      <td>0.107971</td>\n",
       "    </tr>\n",
       "    <tr>\n",
       "      <th>17</th>\n",
       "      <td>272136</td>\n",
       "      <td>1738281600000</td>\n",
       "      <td>0.106015</td>\n",
       "    </tr>\n",
       "    <tr>\n",
       "      <th>10</th>\n",
       "      <td>272127</td>\n",
       "      <td>1738281600000</td>\n",
       "      <td>0.103234</td>\n",
       "    </tr>\n",
       "    <tr>\n",
       "      <th>11</th>\n",
       "      <td>272128</td>\n",
       "      <td>1738281600000</td>\n",
       "      <td>0.102692</td>\n",
       "    </tr>\n",
       "    <tr>\n",
       "      <th>15</th>\n",
       "      <td>272134</td>\n",
       "      <td>1738281600000</td>\n",
       "      <td>0.099406</td>\n",
       "    </tr>\n",
       "    <tr>\n",
       "      <th>4</th>\n",
       "      <td>272120</td>\n",
       "      <td>1738281600000</td>\n",
       "      <td>0.095618</td>\n",
       "    </tr>\n",
       "    <tr>\n",
       "      <th>23</th>\n",
       "      <td>272143</td>\n",
       "      <td>1738281600000</td>\n",
       "      <td>0.090331</td>\n",
       "    </tr>\n",
       "    <tr>\n",
       "      <th>5</th>\n",
       "      <td>272121</td>\n",
       "      <td>1738281600000</td>\n",
       "      <td>0.089569</td>\n",
       "    </tr>\n",
       "    <tr>\n",
       "      <th>14</th>\n",
       "      <td>272131</td>\n",
       "      <td>1738281600000</td>\n",
       "      <td>0.085849</td>\n",
       "    </tr>\n",
       "    <tr>\n",
       "      <th>20</th>\n",
       "      <td>272140</td>\n",
       "      <td>1738281600000</td>\n",
       "      <td>0.080980</td>\n",
       "    </tr>\n",
       "    <tr>\n",
       "      <th>9</th>\n",
       "      <td>272126</td>\n",
       "      <td>1738281600000</td>\n",
       "      <td>0.080278</td>\n",
       "    </tr>\n",
       "    <tr>\n",
       "      <th>3</th>\n",
       "      <td>272119</td>\n",
       "      <td>1738281600000</td>\n",
       "      <td>0.076773</td>\n",
       "    </tr>\n",
       "    <tr>\n",
       "      <th>2</th>\n",
       "      <td>272118</td>\n",
       "      <td>1738281600000</td>\n",
       "      <td>0.074398</td>\n",
       "    </tr>\n",
       "  </tbody>\n",
       "</table>\n",
       "</div>"
      ],
      "text/plain": [
       "    ENTITY  ANCHOR_TIMESTAMP  TARGET_PRED\n",
       "1   272117     1738281600000     0.131647\n",
       "24  272146     1738281600000     0.128768\n",
       "16  272135     1738281600000     0.126386\n",
       "12  272129     1738281600000     0.122993\n",
       "6   272122     1738281600000     0.121498\n",
       "28  272153     1738281600000     0.120701\n",
       "7   272123     1738281600000     0.120521\n",
       "26  272149     1738281600000     0.119449\n",
       "29  272155     1738281600000     0.119343\n",
       "25  272148     1738281600000     0.116192\n",
       "18  272137     1738281600000     0.115499\n",
       "8   272125     1738281600000     0.113248\n",
       "21  272141     1738281600000     0.113210\n",
       "0   272116     1738281600000     0.113194\n",
       "19  272138     1738281600000     0.112008\n",
       "27  272151     1738281600000     0.110960\n",
       "22  272142     1738281600000     0.109389\n",
       "13  272130     1738281600000     0.107971\n",
       "17  272136     1738281600000     0.106015\n",
       "10  272127     1738281600000     0.103234\n",
       "11  272128     1738281600000     0.102692\n",
       "15  272134     1738281600000     0.099406\n",
       "4   272120     1738281600000     0.095618\n",
       "23  272143     1738281600000     0.090331\n",
       "5   272121     1738281600000     0.089569\n",
       "14  272131     1738281600000     0.085849\n",
       "20  272140     1738281600000     0.080980\n",
       "9   272126     1738281600000     0.080278\n",
       "3   272119     1738281600000     0.076773\n",
       "2   272118     1738281600000     0.074398"
      ]
     },
     "execution_count": 174,
     "metadata": {},
     "output_type": "execute_result"
    }
   ],
   "source": [
    "# pred1_df.loc[pred1_df['PREDICTED']==False].sort_values(by='SCORE', ascending=False)\n",
    "pred1_df.sort_values(by='TARGET_PRED', ascending=False)"
   ]
  },
  {
   "cell_type": "code",
   "execution_count": 45,
   "id": "11d1c43f-4f0d-4ccc-9120-5772e9efc19a",
   "metadata": {},
   "outputs": [
    {
     "data": {
      "text/html": [
       "<div>\n",
       "<style scoped>\n",
       "    .dataframe tbody tr th:only-of-type {\n",
       "        vertical-align: middle;\n",
       "    }\n",
       "\n",
       "    .dataframe tbody tr th {\n",
       "        vertical-align: top;\n",
       "    }\n",
       "\n",
       "    .dataframe thead th {\n",
       "        text-align: right;\n",
       "    }\n",
       "</style>\n",
       "<table border=\"1\" class=\"dataframe\">\n",
       "  <thead>\n",
       "    <tr style=\"text-align: right;\">\n",
       "      <th></th>\n",
       "      <th>src_freebase_id</th>\n",
       "      <th>relation</th>\n",
       "      <th>dest_freebase_id</th>\n",
       "      <th>timestamp</th>\n",
       "      <th>relation_name</th>\n",
       "      <th>relation_id</th>\n",
       "      <th>freebase_id_x</th>\n",
       "      <th>label_x</th>\n",
       "      <th>src_wikidata_id</th>\n",
       "      <th>freebase_id_y</th>\n",
       "      <th>label_y</th>\n",
       "      <th>dest_wikidata_id</th>\n",
       "      <th>triple_id</th>\n",
       "      <th>disapprove</th>\n",
       "    </tr>\n",
       "  </thead>\n",
       "  <tbody>\n",
       "    <tr>\n",
       "      <th>9144</th>\n",
       "      <td>/m/0nm9y</td>\n",
       "      <td>/location/hud_foreclosure_area/estimated_numbe...</td>\n",
       "      <td>/m/0jbk9</td>\n",
       "      <td>2025-01-02</td>\n",
       "      <td>/location/hud_foreclosure_area/estimated_numbe...</td>\n",
       "      <td>120</td>\n",
       "      <td>/m/0nm9y</td>\n",
       "      <td>Aroostook County</td>\n",
       "      <td>491046</td>\n",
       "      <td>/m/0jbk9</td>\n",
       "      <td>United States Department of Housing and Urban ...</td>\n",
       "      <td>7094</td>\n",
       "      <td>277360</td>\n",
       "      <td>True</td>\n",
       "    </tr>\n",
       "    <tr>\n",
       "      <th>9145</th>\n",
       "      <td>/m/07wm6</td>\n",
       "      <td>/education/educational_institution/students_gr...</td>\n",
       "      <td>/m/0193x</td>\n",
       "      <td>2025-01-02</td>\n",
       "      <td>/education/educational_institution/students_gr...</td>\n",
       "      <td>101</td>\n",
       "      <td>/m/07wm6</td>\n",
       "      <td>University of Manitoba</td>\n",
       "      <td>1191833</td>\n",
       "      <td>/m/0193x</td>\n",
       "      <td>biochemistry</td>\n",
       "      <td>811595</td>\n",
       "      <td>274722</td>\n",
       "      <td>True</td>\n",
       "    </tr>\n",
       "    <tr>\n",
       "      <th>9146</th>\n",
       "      <td>/m/05gnf</td>\n",
       "      <td>/award/award_winner/awards_won./award/award_ho...</td>\n",
       "      <td>/m/07ymr5</td>\n",
       "      <td>2025-01-02</td>\n",
       "      <td>/award/award_winner/awards_won./award/award_ho...</td>\n",
       "      <td>3</td>\n",
       "      <td>/m/05gnf</td>\n",
       "      <td>NBC</td>\n",
       "      <td>13974</td>\n",
       "      <td>/m/07ymr5</td>\n",
       "      <td>Andy Samberg</td>\n",
       "      <td>23444</td>\n",
       "      <td>289982</td>\n",
       "      <td>True</td>\n",
       "    </tr>\n",
       "    <tr>\n",
       "      <th>9147</th>\n",
       "      <td>/m/049n7</td>\n",
       "      <td>/sports/sports_team/colors</td>\n",
       "      <td>/m/083jv</td>\n",
       "      <td>2025-01-02</td>\n",
       "      <td>/sports/sports_team/colors</td>\n",
       "      <td>95</td>\n",
       "      <td>/m/049n7</td>\n",
       "      <td>Kansas City Royals</td>\n",
       "      <td>744530</td>\n",
       "      <td>/m/083jv</td>\n",
       "      <td>white</td>\n",
       "      <td>314640</td>\n",
       "      <td>274608</td>\n",
       "      <td>True</td>\n",
       "    </tr>\n",
       "    <tr>\n",
       "      <th>9148</th>\n",
       "      <td>/m/03qbnj</td>\n",
       "      <td>/award/award_category/winners./award/award_hon...</td>\n",
       "      <td>/m/0478__m</td>\n",
       "      <td>2025-01-02</td>\n",
       "      <td>/award/award_category/winners./award/award_hon...</td>\n",
       "      <td>47</td>\n",
       "      <td>/m/03qbnj</td>\n",
       "      <td>Grammy Award for Best Pop Vocal Album</td>\n",
       "      <td>1027891</td>\n",
       "      <td>/m/0478__m</td>\n",
       "      <td>Lady Gaga</td>\n",
       "      <td>28389</td>\n",
       "      <td>275605</td>\n",
       "      <td>True</td>\n",
       "    </tr>\n",
       "  </tbody>\n",
       "</table>\n",
       "</div>"
      ],
      "text/plain": [
       "     src_freebase_id                                           relation  \\\n",
       "9144        /m/0nm9y  /location/hud_foreclosure_area/estimated_numbe...   \n",
       "9145        /m/07wm6  /education/educational_institution/students_gr...   \n",
       "9146        /m/05gnf  /award/award_winner/awards_won./award/award_ho...   \n",
       "9147        /m/049n7                         /sports/sports_team/colors   \n",
       "9148       /m/03qbnj  /award/award_category/winners./award/award_hon...   \n",
       "\n",
       "     dest_freebase_id   timestamp  \\\n",
       "9144         /m/0jbk9  2025-01-02   \n",
       "9145         /m/0193x  2025-01-02   \n",
       "9146        /m/07ymr5  2025-01-02   \n",
       "9147         /m/083jv  2025-01-02   \n",
       "9148       /m/0478__m  2025-01-02   \n",
       "\n",
       "                                          relation_name  relation_id  \\\n",
       "9144  /location/hud_foreclosure_area/estimated_numbe...          120   \n",
       "9145  /education/educational_institution/students_gr...          101   \n",
       "9146  /award/award_winner/awards_won./award/award_ho...            3   \n",
       "9147                         /sports/sports_team/colors           95   \n",
       "9148  /award/award_category/winners./award/award_hon...           47   \n",
       "\n",
       "     freebase_id_x                                label_x  src_wikidata_id  \\\n",
       "9144      /m/0nm9y                       Aroostook County           491046   \n",
       "9145      /m/07wm6                 University of Manitoba          1191833   \n",
       "9146      /m/05gnf                                    NBC            13974   \n",
       "9147      /m/049n7                     Kansas City Royals           744530   \n",
       "9148     /m/03qbnj  Grammy Award for Best Pop Vocal Album          1027891   \n",
       "\n",
       "     freebase_id_y                                            label_y  \\\n",
       "9144      /m/0jbk9  United States Department of Housing and Urban ...   \n",
       "9145      /m/0193x                                       biochemistry   \n",
       "9146     /m/07ymr5                                       Andy Samberg   \n",
       "9147      /m/083jv                                              white   \n",
       "9148    /m/0478__m                                          Lady Gaga   \n",
       "\n",
       "      dest_wikidata_id  triple_id  disapprove  \n",
       "9144              7094     277360        True  \n",
       "9145            811595     274722        True  \n",
       "9146             23444     289982        True  \n",
       "9147            314640     274608        True  \n",
       "9148             28389     275605        True  "
      ]
     },
     "execution_count": 45,
     "metadata": {},
     "output_type": "execute_result"
    }
   ],
   "source": [
    "df_test.loc[df_test['disapprove']==True].head()"
   ]
  },
  {
   "cell_type": "code",
   "execution_count": null,
   "id": "472a76b6-0228-4788-b10d-6feb7d871f2d",
   "metadata": {},
   "outputs": [],
   "source": []
  },
  {
   "cell_type": "markdown",
   "id": "2ac0966a-a52f-4f05-9c39-1d73a4e570d3",
   "metadata": {},
   "source": [
    "pquery_relations_for_entity = kumo.PredictiveQuery(\n",
    "\tgraph=graph,\n",
    "\tquery=query\n",
    ")\n",
    "\n",
    "pquery_relations_for_entity.validate()"
   ]
  },
  {
   "cell_type": "code",
   "execution_count": 273,
   "id": "978d3e63-fb17-4e3d-9d8c-c8f9a98e5da8",
   "metadata": {},
   "outputs": [
    {
     "data": {
      "text/plain": [
       "GraphDefinition(tables={'triples': TableDefinition(cols=[Column(name='triple_id', stype=ID, dtype=int, timestamp_format=None), Column(name='src_wikidata_id', stype=ID, dtype=int, timestamp_format=None), Column(name='relation_id', stype=ID, dtype=int, timestamp_format=None), Column(name='dest_wikidata_id', stype=ID, dtype=int, timestamp_format=None), Column(name='timestamp', stype=timestamp, dtype=string, timestamp_format=None), Column(name='inaccurate', stype=categorical, dtype=int, timestamp_format=None)], source_table=UnavailableSourceTable(table='triples', data_source_type=UNAVAILABLE), pkey='triple_id', time_col='timestamp', end_time_col=None), 'relations': TableDefinition(cols=[Column(name='relation_name', stype=text, dtype=string, timestamp_format=None), Column(name='relation_id', stype=ID, dtype=int, timestamp_format=None)], source_table=UnavailableSourceTable(table='relations', data_source_type=UNAVAILABLE), pkey='relation_id', time_col=None, end_time_col=None), 'freebase_vs_wiki_src': TableDefinition(cols=[Column(name='freebase_id', stype=ID, dtype=string, timestamp_format=None), Column(name='label', stype=text, dtype=string, timestamp_format=None), Column(name='wikidata_id', stype=ID, dtype=int, timestamp_format=None)], source_table=UnavailableSourceTable(table='freebase_vs_wiki_src', data_source_type=UNAVAILABLE), pkey='wikidata_id', time_col=None, end_time_col=None), 'freebase_vs_wiki_dest': TableDefinition(cols=[Column(name='freebase_id', stype=ID, dtype=string, timestamp_format=None), Column(name='label', stype=text, dtype=string, timestamp_format=None), Column(name='wikidata_id', stype=ID, dtype=int, timestamp_format=None)], source_table=UnavailableSourceTable(table='freebase_vs_wiki_dest', data_source_type=UNAVAILABLE), pkey='wikidata_id', time_col=None, end_time_col=None)}, col_groups=[ColumnKeyGroup(columns=(ColumnKey(table_name='relations', col_name='relation_id'), ColumnKey(table_name='triples', col_name='relation_id'))), ColumnKeyGroup(columns=(ColumnKey(table_name='freebase_vs_wiki_src', col_name='wikidata_id'), ColumnKey(table_name='triples', col_name='src_wikidata_id'))), ColumnKeyGroup(columns=(ColumnKey(table_name='freebase_vs_wiki_dest', col_name='wikidata_id'), ColumnKey(table_name='triples', col_name='dest_wikidata_id')))])"
      ]
     },
     "execution_count": 273,
     "metadata": {},
     "output_type": "execute_result"
    }
   ],
   "source": [
    "graph._to_api_graph_definition()"
   ]
  },
  {
   "cell_type": "code",
   "execution_count": null,
   "id": "5036f4ce-5651-4ca9-9b54-4b129d6a0046",
   "metadata": {},
   "outputs": [],
   "source": []
  },
  {
   "cell_type": "code",
   "execution_count": null,
   "id": "4e5d276f-a3a8-47c7-a2d6-3561068467a5",
   "metadata": {},
   "outputs": [],
   "source": []
  },
  {
   "cell_type": "code",
   "execution_count": null,
   "id": "84d0e256-9fc4-4c12-91e6-a64983f7ccdc",
   "metadata": {},
   "outputs": [],
   "source": [
    "# Running examples\n",
    "# all relations with src_wikidata_id \n",
    "## 7413907 / Q7413907 , San Francisco\n",
    "## 486860 , Mountain View\n",
    "## 2685, Arnold Schwarzenegger\n"
   ]
  },
  {
   "cell_type": "markdown",
   "id": "b216357a-ad7e-4f32-bb81-2f69027b953f",
   "metadata": {},
   "source": [
    "triplets_with_src_dst_wiki_ids_df.loc[triplets_with_src_dst_wiki_ids_df['src_wikidata_id']==2685].to_csv(\n",
    "    \"~/Downloads/arnold_schwarzenegger_outgoing_edges.csv\", index=False\n",
    ")\n"
   ]
  },
  {
   "cell_type": "code",
   "execution_count": null,
   "id": "91e8d40c-74cd-40f0-a3c1-f8a851dac8da",
   "metadata": {},
   "outputs": [],
   "source": [
    "## Arnold Schwarznegger\n",
    "\n",
    "# 6 -> /film/actor/film./film/performance/film\n",
    "# 38 -> nomination\n",
    "# "
   ]
  },
  {
   "cell_type": "code",
   "execution_count": null,
   "id": "61dc751e-86f1-4be8-ad9c-3fa3196df72f",
   "metadata": {},
   "outputs": [],
   "source": []
  },
  {
   "cell_type": "code",
   "execution_count": null,
   "id": "80ce9a05-e31c-44eb-80ed-529a0847bb09",
   "metadata": {},
   "outputs": [],
   "source": []
  },
  {
   "cell_type": "code",
   "execution_count": null,
   "id": "15084aaa-62f1-4c10-9357-675563392a40",
   "metadata": {},
   "outputs": [],
   "source": []
  },
  {
   "cell_type": "code",
   "execution_count": null,
   "id": "9f194823-5fc4-4458-8937-620c7d4a597f",
   "metadata": {},
   "outputs": [],
   "source": []
  },
  {
   "cell_type": "code",
   "execution_count": null,
   "id": "592451b1-b43f-4587-8f23-e2feef99b5f1",
   "metadata": {},
   "outputs": [],
   "source": []
  },
  {
   "cell_type": "code",
   "execution_count": null,
   "id": "2f97584d-23f1-44f0-9aac-cf799a878bc2",
   "metadata": {},
   "outputs": [],
   "source": []
  },
  {
   "cell_type": "code",
   "execution_count": null,
   "id": "95950cdc-a6dd-4287-a79c-ed0aae3e8f93",
   "metadata": {},
   "outputs": [],
   "source": []
  },
  {
   "cell_type": "code",
   "execution_count": null,
   "id": "32943dde-c29d-45a0-90db-f839d2c0f813",
   "metadata": {},
   "outputs": [],
   "source": []
  },
  {
   "cell_type": "code",
   "execution_count": null,
   "id": "7fa98cdf-b537-4790-b8d2-d3be3d7de625",
   "metadata": {},
   "outputs": [],
   "source": []
  },
  {
   "cell_type": "markdown",
   "id": "63c278b6-b983-4b1d-8484-6ba05e89a368",
   "metadata": {},
   "source": [
    "## Yago semantic graph \n",
    "Usecase - find inconsistencies / anomalies in knowledge graphs"
   ]
  },
  {
   "cell_type": "code",
   "execution_count": null,
   "id": "0c3c117d-4aa5-4641-927d-5ced5d12ccbc",
   "metadata": {},
   "outputs": [],
   "source": []
  }
 ],
 "metadata": {
  "kernelspec": {
   "display_name": "Python [conda env:kumo-hackathon-py311] *",
   "language": "python",
   "name": "conda-env-kumo-hackathon-py311-py"
  },
  "language_info": {
   "codemirror_mode": {
    "name": "ipython",
    "version": 3
   },
   "file_extension": ".py",
   "mimetype": "text/x-python",
   "name": "python",
   "nbconvert_exporter": "python",
   "pygments_lexer": "ipython3",
   "version": "3.11.13"
  }
 },
 "nbformat": 4,
 "nbformat_minor": 5
}
