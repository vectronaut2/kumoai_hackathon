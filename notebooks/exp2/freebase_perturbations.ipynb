{
 "cells": [
  {
   "cell_type": "markdown",
   "id": "9982e9c7-14dd-4e48-8e9e-e0f3c04dd917",
   "metadata": {},
   "source": [
    "## Ablation - modify (a,b), (c,d) to (a,d) and (c,b) "
   ]
  },
  {
   "cell_type": "code",
   "execution_count": 1,
   "id": "6122729a-9f40-49c4-b8a8-b14ae12ab23a",
   "metadata": {},
   "outputs": [],
   "source": [
    "import pandas as pd\n",
    "import numpy as np"
   ]
  },
  {
   "cell_type": "code",
   "execution_count": 13,
   "id": "d7b2e692-df07-4b1e-8622-8eb294d8ba49",
   "metadata": {},
   "outputs": [],
   "source": [
    "import random"
   ]
  },
  {
   "cell_type": "code",
   "execution_count": 2,
   "id": "5da8c1e0-e168-4a47-91db-cd27909027e3",
   "metadata": {},
   "outputs": [],
   "source": [
    "data_path = \"../datasets/fb15k-237/\""
   ]
  },
  {
   "cell_type": "code",
   "execution_count": 3,
   "id": "0351829e-0924-4fe2-830d-c8aa46b8b4a0",
   "metadata": {},
   "outputs": [],
   "source": [
    "relations_df = pd.read_csv(f\"{data_path}/derived/relations_with_ids.csv\")"
   ]
  },
  {
   "cell_type": "code",
   "execution_count": 4,
   "id": "c1b7274d-fce8-4f8d-b33d-dbc2e0ae86a3",
   "metadata": {},
   "outputs": [],
   "source": [
    "freebase_vs_wiki_df =  pd.read_csv(f\"{data_path}/fb_wiki_mapping.tsv\", sep='\\t')"
   ]
  },
  {
   "cell_type": "code",
   "execution_count": 5,
   "id": "dcb290cc-006d-4fdb-b36c-eefd8708f0b3",
   "metadata": {},
   "outputs": [],
   "source": [
    "triplets_with_src_dst_wiki_ids_df = pd.read_csv(f\"{data_path}/derived/triplets_with_src_dst_wiki_ids.csv\")"
   ]
  },
  {
   "cell_type": "code",
   "execution_count": 82,
   "id": "8a07b846-f6cb-41fd-9701-7ef3f643404b",
   "metadata": {},
   "outputs": [],
   "source": [
    "# add test split with empty labels\n",
    "df_test = pd.read_csv(f\"{data_path}/derived/triplets_with_src_dst_wiki_ids.test.csv\")"
   ]
  },
  {
   "cell_type": "code",
   "execution_count": 87,
   "id": "e7212e76-dd7a-4f34-9e7f-9c946cbc6eb4",
   "metadata": {},
   "outputs": [],
   "source": [
    "# df = triplets_with_src_dst_wiki_ids_df\n",
    "df = df_test"
   ]
  },
  {
   "cell_type": "code",
   "execution_count": 88,
   "id": "ac45fa2c-2684-4305-a4f7-c04516e07209",
   "metadata": {},
   "outputs": [],
   "source": [
    "n = len(df)\n",
    "num_errors = int(0.1*n)"
   ]
  },
  {
   "cell_type": "code",
   "execution_count": 99,
   "id": "a229a0fa-1bb9-43ce-a2e3-72ee612b2417",
   "metadata": {},
   "outputs": [
    {
     "name": "stdout",
     "output_type": "stream",
     "text": [
      "<class 'pandas.core.frame.DataFrame'>\n",
      "RangeIndex: 18286 entries, 0 to 18285\n",
      "Data columns (total 13 columns):\n",
      " #   Column            Non-Null Count  Dtype \n",
      "---  ------            --------------  ----- \n",
      " 0   src_freebase_id   18286 non-null  object\n",
      " 1   relation          18286 non-null  object\n",
      " 2   dest_freebase_id  18286 non-null  object\n",
      " 3   timestamp         18286 non-null  object\n",
      " 4   relation_name     18286 non-null  object\n",
      " 5   relation_id       18286 non-null  int64 \n",
      " 6   freebase_id_x     18286 non-null  object\n",
      " 7   label_x           18286 non-null  object\n",
      " 8   src_wikidata_id   18286 non-null  int64 \n",
      " 9   freebase_id_y     18286 non-null  object\n",
      " 10  label_y           18286 non-null  object\n",
      " 11  dest_wikidata_id  18286 non-null  int64 \n",
      " 12  triple_id         18286 non-null  int64 \n",
      "dtypes: int64(4), object(9)\n",
      "memory usage: 1.8+ MB\n"
     ]
    },
    {
     "data": {
      "text/plain": [
       "timestamp\n",
       "2025-01-02    18286\n",
       "Name: count, dtype: int64"
      ]
     },
     "execution_count": 99,
     "metadata": {},
     "output_type": "execute_result"
    }
   ],
   "source": [
    "df.info()\n",
    "df.timestamp.value_counts()"
   ]
  },
  {
   "cell_type": "code",
   "execution_count": 89,
   "id": "25819e15-a165-48ca-8a7e-7e8d5cd20e0f",
   "metadata": {},
   "outputs": [],
   "source": [
    "triple_ids = list(df.triple_id.values)"
   ]
  },
  {
   "cell_type": "code",
   "execution_count": 90,
   "id": "aa335e4e-3e50-49e3-a647-b1766d495d58",
   "metadata": {},
   "outputs": [],
   "source": [
    "# permute triple_ids and select top 2*num_errors\n",
    "# rather select small \n",
    "selected_edges = random.sample(triple_ids, 2*num_errors)"
   ]
  },
  {
   "cell_type": "code",
   "execution_count": 68,
   "id": "e75f65f3-5e4e-40d5-9351-863652be5b90",
   "metadata": {},
   "outputs": [],
   "source": []
  },
  {
   "cell_type": "code",
   "execution_count": 91,
   "id": "f4134816-f850-42fc-ad10-d2de1b7bb2a6",
   "metadata": {},
   "outputs": [
    {
     "name": "stdout",
     "output_type": "stream",
     "text": [
      "swapping 279013 and 290392\n",
      "170564->739633 , 49088->59085\n",
      "swapping 283973 and 277823\n",
      "467362->43445 , 229375->435789\n",
      "swapping 277596 and 276593\n",
      "179191->104358 , 23814->178966\n",
      "swapping 276972 and 274896\n",
      "326827->801 , 728488->506885\n",
      "swapping 278134 and 280280\n",
      "283490->843 , 1338877->189068\n"
     ]
    }
   ],
   "source": [
    "perturbed_rows_dicts = []\n",
    "for i in range(num_errors):\n",
    "    edge_ab = int(selected_edges[2*i])\n",
    "    edge_cd = int(selected_edges[2*i+1])\n",
    "    if i < 5:\n",
    "        print(f\"swapping {edge_ab} and {edge_cd}\")\n",
    "\n",
    "    row_ab = df.loc[df['triple_id']==edge_ab]\n",
    "    row_cd = df.loc[df['triple_id']==edge_cd]\n",
    "\n",
    "    row_ab_dict = row_ab.to_dict(orient='records')[0]\n",
    "    row_cd_dict = row_cd.to_dict(orient='records')[0]\n",
    "\n",
    "    a = row_ab_dict['src_wikidata_id']\n",
    "    b = row_ab_dict['dest_wikidata_id']\n",
    "\n",
    "    c = row_cd_dict['src_wikidata_id']\n",
    "    d = row_cd_dict['dest_wikidata_id']\n",
    "\n",
    "    if i < 5:\n",
    "        print(f\"{a}->{b} , {c}->{d}\")\n",
    "\n",
    "    row_ad_new = row_ab_dict.copy()\n",
    "    row_ad_new['dest_wikidata_id'] = d\n",
    "\n",
    "    row_cb_new = row_cd_dict.copy()\n",
    "    row_cb_new['dest_wikidata_id'] = b\n",
    "\n",
    "    perturbed_rows_dicts.append(row_ad_new)\n",
    "    perturbed_rows_dicts.append(row_cb_new)\n",
    "    "
   ]
  },
  {
   "cell_type": "code",
   "execution_count": 70,
   "id": "1d8fc750-f790-40a1-9e4d-b95017c43803",
   "metadata": {},
   "outputs": [],
   "source": [
    "# Swap endpoints for edges of same type? \n"
   ]
  },
  {
   "cell_type": "code",
   "execution_count": 92,
   "id": "0babffe5-cd17-4861-91a6-606deb7c4bf2",
   "metadata": {},
   "outputs": [],
   "source": [
    "df_errors = pd.DataFrame.from_dict(perturbed_rows_dicts)"
   ]
  },
  {
   "cell_type": "code",
   "execution_count": 93,
   "id": "7c3cace0-04ec-4c0b-bc64-67af9d48111a",
   "metadata": {},
   "outputs": [
    {
     "data": {
      "text/plain": [
       "3656"
      ]
     },
     "execution_count": 93,
     "metadata": {},
     "output_type": "execute_result"
    }
   ],
   "source": [
    "len(df_errors)"
   ]
  },
  {
   "cell_type": "code",
   "execution_count": 94,
   "id": "dc9979bb-065e-4164-8cee-9be00fd93f8f",
   "metadata": {},
   "outputs": [],
   "source": [
    "df_clean = df[~df['triple_id'].isin(selected_edges)]"
   ]
  },
  {
   "cell_type": "code",
   "execution_count": 95,
   "id": "2e6e3888-03b1-4ba5-a260-8ac986e0d6bd",
   "metadata": {},
   "outputs": [
    {
     "data": {
      "text/plain": [
       "14630"
      ]
     },
     "execution_count": 95,
     "metadata": {},
     "output_type": "execute_result"
    }
   ],
   "source": [
    "len(df_clean)"
   ]
  },
  {
   "cell_type": "code",
   "execution_count": null,
   "id": "a44a5120-b476-44a8-9e9c-7c2b8f6ede7f",
   "metadata": {},
   "outputs": [],
   "source": [
    "# For train dataset\n",
    "df_errors['inaccurate'] = 1\n",
    "df_clean['inaccurate'] = 0\n",
    "\n",
    "df_revised = pd.concat([df_clean, df_errors])"
   ]
  },
  {
   "cell_type": "code",
   "execution_count": 75,
   "id": "d52e04d8-c039-4586-9b8a-e4baf59861ef",
   "metadata": {},
   "outputs": [],
   "source": [
    "df_revised.to_csv(f\"{data_path}/exp2/triplets_with_src_dst_wiki_ids.csv\", index=False)"
   ]
  },
  {
   "cell_type": "code",
   "execution_count": 96,
   "id": "370ca0ab-b9c1-4127-aa45-2bae08fec85a",
   "metadata": {},
   "outputs": [
    {
     "name": "stderr",
     "output_type": "stream",
     "text": [
      "/var/folders/9f/_45_cttj01b5lmh5x5njvlp00000gn/T/ipykernel_95850/2009358644.py:3: SettingWithCopyWarning: \n",
      "A value is trying to be set on a copy of a slice from a DataFrame.\n",
      "Try using .loc[row_indexer,col_indexer] = value instead\n",
      "\n",
      "See the caveats in the documentation: https://pandas.pydata.org/pandas-docs/stable/user_guide/indexing.html#returning-a-view-versus-a-copy\n",
      "  df_clean['inaccurate'] = 0\n"
     ]
    }
   ],
   "source": [
    "# For test dataset\n",
    "df_errors['inaccurate'] = 1\n",
    "df_clean['inaccurate'] = 0\n",
    "\n",
    "df_revised = pd.concat([df_clean, df_errors])"
   ]
  },
  {
   "cell_type": "code",
   "execution_count": 97,
   "id": "326bdfd3-e525-4452-b9df-1a8aad7e1e00",
   "metadata": {},
   "outputs": [],
   "source": [
    "df_revised.to_csv(f\"{data_path}/exp2/triplets_with_src_dst_wiki_ids.test.csv\", index=False)"
   ]
  },
  {
   "cell_type": "code",
   "execution_count": 78,
   "id": "0f05d955-a66f-4346-961c-f68988017308",
   "metadata": {},
   "outputs": [],
   "source": []
  },
  {
   "cell_type": "code",
   "execution_count": null,
   "id": "1334958b-2b7e-4dae-8ed0-2d00c0d666d6",
   "metadata": {},
   "outputs": [],
   "source": [
    "# Evaluation on test set, do the same perturbation\n",
    "# for them label to be empty per guidelines - https://kumo.ai/docs/examples/fraud-chargeback-abuse/"
   ]
  },
  {
   "cell_type": "code",
   "execution_count": null,
   "id": "e8635cb3-21eb-4790-88a2-0b2e8bf27267",
   "metadata": {},
   "outputs": [],
   "source": []
  },
  {
   "cell_type": "code",
   "execution_count": null,
   "id": "cbddae3f-f06c-488a-bbb8-3c4b44008479",
   "metadata": {},
   "outputs": [],
   "source": []
  },
  {
   "cell_type": "code",
   "execution_count": 80,
   "id": "87983c9e-ca16-475b-ac80-aa8edae479b1",
   "metadata": {},
   "outputs": [],
   "source": []
  },
  {
   "cell_type": "code",
   "execution_count": null,
   "id": "0f34110c-a7db-46fc-97ce-a984db75f922",
   "metadata": {},
   "outputs": [],
   "source": [
    "# permute as earlier\n"
   ]
  },
  {
   "cell_type": "code",
   "execution_count": null,
   "id": "26787ae7-080f-4d8f-9195-9f0914093f3e",
   "metadata": {},
   "outputs": [],
   "source": []
  },
  {
   "cell_type": "code",
   "execution_count": null,
   "id": "42b12142-7e20-4aa0-90ca-7f259eea8831",
   "metadata": {},
   "outputs": [],
   "source": []
  },
  {
   "cell_type": "code",
   "execution_count": 81,
   "id": "7ea3424f-ee49-4225-898e-49d04086c6fd",
   "metadata": {},
   "outputs": [],
   "source": []
  },
  {
   "cell_type": "code",
   "execution_count": null,
   "id": "339074ee-b3b4-49a6-ad99-79518ee8c416",
   "metadata": {},
   "outputs": [],
   "source": []
  },
  {
   "cell_type": "code",
   "execution_count": null,
   "id": "218f0be1-5ea6-4a41-9929-ef234797453b",
   "metadata": {},
   "outputs": [],
   "source": []
  }
 ],
 "metadata": {
  "kernelspec": {
   "display_name": "Python [conda env:kumo-hackathon-py311] *",
   "language": "python",
   "name": "conda-env-kumo-hackathon-py311-py"
  },
  "language_info": {
   "codemirror_mode": {
    "name": "ipython",
    "version": 3
   },
   "file_extension": ".py",
   "mimetype": "text/x-python",
   "name": "python",
   "nbconvert_exporter": "python",
   "pygments_lexer": "ipython3",
   "version": "3.11.13"
  }
 },
 "nbformat": 4,
 "nbformat_minor": 5
}
