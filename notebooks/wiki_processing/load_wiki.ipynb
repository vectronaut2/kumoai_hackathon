{
 "cells": [
  {
   "cell_type": "markdown",
   "id": "f5eafc7919fe381c",
   "metadata": {
    "ExecuteTime": {
     "end_time": "2025-08-20T04:21:36.154141Z",
     "start_time": "2025-08-20T04:21:36.150662Z"
    }
   },
   "source": [
    "# This notebook will\n",
    "- pull a wiki information for a qid\n",
    "- converts it to embedded glove vectors\n",
    "\n",
    "## Prerequisites\n",
    "- In terminal run\n",
    "```\n",
    "pip install wikidata\n",
    "pip install numpy\n",
    "```\n",
    "- Go to https://nlp.stanford.edu/projects/glove/\n",
    "- Download 2024 Wikipedia + Gigaword 5 (11.9B tokens, 1.2M vocab, uncased, 50d vectors, 290 MB download): glove.2024.wikigiga.50d.zip\n",
    "- Extract to your work directory"
   ]
  },
  {
   "cell_type": "code",
   "id": "eccce8e9709b019f",
   "metadata": {
    "ExecuteTime": {
     "end_time": "2025-08-20T18:04:26.211704Z",
     "start_time": "2025-08-20T18:04:26.208896Z"
    }
   },
   "source": [
    "# glove_file = \"../models/glove/wiki_giga_2024_50_MFT20_vectors_seed_123_alpha_0.75_eta_0.075_combined.txt\"\n",
    "glove_file = \"/Users/saikrishna/Desktop/wiki_giga_2024_50_MFT20_vectors_seed_123_alpha_0.75_eta_0.075_combined.txt\""
   ],
   "outputs": [],
   "execution_count": 52
  },
  {
   "cell_type": "code",
   "id": "5180a7138dc57576",
   "metadata": {
    "ExecuteTime": {
     "end_time": "2025-08-20T18:04:26.217869Z",
     "start_time": "2025-08-20T18:04:26.216088Z"
    }
   },
   "source": [
    "import requests\n",
    "from wikidata.client import Client"
   ],
   "outputs": [],
   "execution_count": 53
  },
  {
   "cell_type": "code",
   "id": "6c0e529b4bc2c496",
   "metadata": {
    "ExecuteTime": {
     "end_time": "2025-08-20T18:04:26.222604Z",
     "start_time": "2025-08-20T18:04:26.220418Z"
    }
   },
   "source": [
    "def get_wikipedia_title_from_wikidata(qid, lang=\"en\"):\n",
    "    \"\"\"Fetch Wikipedia page title linked to a Wikidata entity.\"\"\"\n",
    "    client = Client()\n",
    "    entity = client.get(qid, load=True)\n",
    "    sitelinks = entity.data.get(\"sitelinks\", {})\n",
    "    wiki_key = f\"{lang}wiki\"\n",
    "\n",
    "    if wiki_key in sitelinks:\n",
    "        return lang, sitelinks[wiki_key][\"title\"]\n",
    "    elif sitelinks:\n",
    "        # Return the first available Wikipedia sitelink\n",
    "        first_key = next(iter(sitelinks))\n",
    "        fallback_lang = first_key.replace(\"wiki\", \"\")\n",
    "        return fallback_lang, sitelinks[first_key][\"title\"]\n",
    "    else:\n",
    "        raise ValueError(f\"No Wikipedia sitelinks available for {qid}\")\n"
   ],
   "outputs": [],
   "execution_count": 54
  },
  {
   "cell_type": "code",
   "id": "8fb1f111645fcd1f",
   "metadata": {
    "ExecuteTime": {
     "end_time": "2025-08-20T18:04:26.226781Z",
     "start_time": "2025-08-20T18:04:26.224919Z"
    }
   },
   "source": [
    "def get_wikipedia_summary(title, lang=\"en\"):\n",
    "    \"\"\"Fetch short summary (1–2 sentences) from Wikipedia.\"\"\"\n",
    "    url = f\"https://{lang}.wikipedia.org/api/rest_v1/page/summary/{title}\"\n",
    "    resp = requests.get(url)\n",
    "    resp.raise_for_status()\n",
    "    return resp.json().get(\"extract\")"
   ],
   "outputs": [],
   "execution_count": 55
  },
  {
   "cell_type": "code",
   "id": "40ea5be246cd1ac4",
   "metadata": {
    "ExecuteTime": {
     "end_time": "2025-08-20T18:04:26.231023Z",
     "start_time": "2025-08-20T18:04:26.228903Z"
    }
   },
   "source": [
    "def get_wikipedia_intro_paragraphs(title, lang=\"en\"):\n",
    "    \"\"\"Fetch the full lead/intro section (multiple paragraphs).\"\"\"\n",
    "    url = f\"https://{lang}.wikipedia.org/w/api.php\"\n",
    "    params = {\n",
    "        \"action\": \"query\",\n",
    "        \"prop\": \"extracts\",\n",
    "        \"exintro\": True,       # only the lead section\n",
    "        \"explaintext\": True,   # plain text (no HTML)\n",
    "        \"titles\": title,\n",
    "        \"format\": \"json\"\n",
    "    }\n",
    "    resp = requests.get(url, params=params)\n",
    "    resp.raise_for_status()\n",
    "    pages = resp.json()[\"query\"][\"pages\"]\n",
    "    page = next(iter(pages.values()))\n",
    "\n",
    "    raw_text = page.get(\"extract\", \"\")\n",
    "    # Normalize paragraphs: split by double newlines or single breaks\n",
    "    paragraphs = [p.strip() for p in raw_text.split(\"\\n\") if p.strip()]\n",
    "    return \"\\n\\n\".join(paragraphs)"
   ],
   "outputs": [],
   "execution_count": 56
  },
  {
   "cell_type": "code",
   "id": "bd04cd0801420de6",
   "metadata": {
    "ExecuteTime": {
     "end_time": "2025-08-20T18:04:26.235832Z",
     "start_time": "2025-08-20T18:04:26.233935Z"
    }
   },
   "source": [
    "def load_wiki_qid(qid, lang=\"en\"):\n",
    "    lang, title = get_wikipedia_title_from_wikidata(qid, lang)\n",
    "    summary = get_wikipedia_summary(title, lang)\n",
    "    details = get_wikipedia_intro_paragraphs(title, lang)\n",
    "    source_url = f\"https://{lang}.wikipedia.org/wiki/\"+title.replace(\" \", \"_\")\n",
    "    return f\"# {title}\\n\" + summary + \"\\n## Details\\n\"+ details + \"\\n## Sources\\n\" + source_url"
   ],
   "outputs": [],
   "execution_count": 57
  },
  {
   "cell_type": "code",
   "id": "dae32c6407ea408c",
   "metadata": {
    "ExecuteTime": {
     "end_time": "2025-08-20T18:04:26.239956Z",
     "start_time": "2025-08-20T18:04:26.238594Z"
    }
   },
   "source": [
    "import numpy as np\n",
    "import string"
   ],
   "outputs": [],
   "execution_count": 58
  },
  {
   "cell_type": "code",
   "id": "43a829fc6e88e569",
   "metadata": {
    "ExecuteTime": {
     "end_time": "2025-08-20T18:04:26.370417Z",
     "start_time": "2025-08-20T18:04:26.244600Z"
    }
   },
   "source": [
    "embedding_dim = 50\n",
    "embeddings_index = {}"
   ],
   "outputs": [],
   "execution_count": 59
  },
  {
   "cell_type": "code",
   "id": "d197af600d693ae0",
   "metadata": {
    "ExecuteTime": {
     "end_time": "2025-08-20T18:04:26.376026Z",
     "start_time": "2025-08-20T18:04:26.374342Z"
    }
   },
   "source": [
    "def load_embedding_vectors():\n",
    "    with open(glove_file, 'r', encoding='utf8') as f:\n",
    "        for line in f:\n",
    "            values = line.strip().split()\n",
    "            word = values[0]\n",
    "            vector_values = values[1:]\n",
    "            if len(vector_values) != embedding_dim:\n",
    "                # Skip lines with wrong dimensions\n",
    "                continue\n",
    "            try:\n",
    "                vector = np.array(vector_values, dtype='float32')\n",
    "                embeddings_index[word] = vector\n",
    "            except ValueError:\n",
    "                continue"
   ],
   "outputs": [],
   "execution_count": 60
  },
  {
   "cell_type": "code",
   "id": "3320c054e84cf3ae",
   "metadata": {
    "ExecuteTime": {
     "end_time": "2025-08-20T18:04:26.379448Z",
     "start_time": "2025-08-20T18:04:26.377741Z"
    }
   },
   "source": [
    "def embed_to_glove(text):\n",
    "    if not embeddings_index:\n",
    "        load_embedding_vectors()\n",
    "\n",
    "    words = text.lower().split()\n",
    "    # Remove punctuation as they are apparently not present in Glove\n",
    "    words = [w.strip(string.punctuation) for w in words]\n",
    "    embedded_words = []\n",
    "    for word in words:\n",
    "        vector = embeddings_index.get(word)\n",
    "        if vector is not None:\n",
    "            embedded_words.append(vector)\n",
    "        else:\n",
    "            # Assign small random vector for out of vocabulary words\n",
    "            random_vector = np.random.uniform(-0.05, 0.05, embedding_dim)\n",
    "            embedded_words.append(random_vector)\n",
    "    return np.vstack(embedded_words)"
   ],
   "outputs": [],
   "execution_count": 61
  },
  {
   "cell_type": "code",
   "id": "ae2793cad349ce8d",
   "metadata": {
    "ExecuteTime": {
     "end_time": "2025-08-20T18:04:26.978235Z",
     "start_time": "2025-08-20T18:04:26.382113Z"
    }
   },
   "source": [
    "qid = \"Q249674\"\n",
    "text = load_wiki_qid(qid)\n",
    "print(text)"
   ],
   "outputs": [
    {
     "name": "stdout",
     "output_type": "stream",
     "text": [
      "# Spike (телеканал)\n",
      "Spike — бывший американский кабельный телевизионный канал, принадлежавший компании Paramount Global. Начал своё вещание 11 августа 2003 года, заменив телеканал TNN.\n",
      "## Details\n",
      "Spike (ранее назывался Spike TV) — бывший американский кабельный телевизионный канал, принадлежавший компании Paramount Global. Начал своё вещание 11 августа 2003 года, заменив телеканал TNN.\n",
      "\n",
      "В феврале 2017 года компания Paramount Global объявила, что Spike будет закрыт в 2018 году и его место займёт новый телеканал — Paramount Network. Spike официально прекратил своё вещание 17 января 2018 года.\n",
      "## Sources\n",
      "https://ru.wikipedia.org/wiki/Spike_(телеканал)\n"
     ]
    }
   ],
   "execution_count": 62
  },
  {
   "cell_type": "code",
   "id": "3affcc20f358202a",
   "metadata": {
    "ExecuteTime": {
     "end_time": "2025-08-20T18:04:34.767845Z",
     "start_time": "2025-08-20T18:04:26.993935Z"
    }
   },
   "source": [
    "embedding_vector = embed_to_glove(text)\n",
    "print(embedding_vector)"
   ],
   "outputs": [
    {
     "name": "stdout",
     "output_type": "stream",
     "text": [
      "[[ 0.0447343  -0.04316366  0.03124164 ... -0.02293803 -0.02282768\n",
      "   0.04378978]\n",
      " [ 0.378654   -0.26602501  0.012204   ... -0.011233   -0.333691\n",
      "  -0.47293299]\n",
      " [ 0.02511937 -0.03469301  0.03230286 ... -0.0055438  -0.03173322\n",
      "   0.01404396]\n",
      " ...\n",
      " [-0.01896668  0.04940063 -0.04128322 ... -0.00386988  0.00339797\n",
      "   0.04798447]\n",
      " [ 0.92886001 -0.53292501  0.12852199 ...  0.027593    0.56147301\n",
      "   0.173931  ]\n",
      " [-0.03391121 -0.01740433  0.03745184 ...  0.00170603  0.04450943\n",
      "   0.04793962]]\n"
     ]
    }
   ],
   "execution_count": 63
  }
 ],
 "metadata": {
  "kernelspec": {
   "display_name": "Python 3 (ipykernel)",
   "language": "python",
   "name": "python3"
  },
  "language_info": {
   "codemirror_mode": {
    "name": "ipython",
    "version": 3
   },
   "file_extension": ".py",
   "mimetype": "text/x-python",
   "name": "python",
   "nbconvert_exporter": "python",
   "pygments_lexer": "ipython3",
   "version": "3.11.13"
  }
 },
 "nbformat": 4,
 "nbformat_minor": 5
}
