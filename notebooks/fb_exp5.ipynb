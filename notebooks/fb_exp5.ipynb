{
 "cells": [
  {
   "cell_type": "markdown",
   "id": "3ea59964-9083-48d5-845b-c92272f1596c",
   "metadata": {},
   "source": [
    "## FB15k-237 semantic graph\n",
    "\n",
    "https://www.kaggle.com/datasets/latebloomer/fb15k-237/data\n",
    "\n",
    "https://www.kaggle.com/datasets/latebloomer/freebase-wikidata-mapping"
   ]
  },
  {
   "cell_type": "code",
   "execution_count": 2,
   "id": "a746ebde-7bf3-4b30-8547-db9f363b6f7b",
   "metadata": {},
   "outputs": [],
   "source": [
    "# !pip install kagglehub"
   ]
  },
  {
   "cell_type": "code",
   "execution_count": 3,
   "id": "2cc5a3d6-20ce-4366-be01-010454932820",
   "metadata": {},
   "outputs": [],
   "source": [
    "# import kagglehub\n",
    "\n",
    "# path = kagglehub.dataset_download(\"latebloomer/fb15k-237\")\n",
    "# print(\"Path to dataset files:\", path)"
   ]
  },
  {
   "cell_type": "code",
   "execution_count": 1,
   "id": "1eed983c-bbff-4212-b946-48193716e725",
   "metadata": {},
   "outputs": [],
   "source": [
    "import pandas as pd\n",
    "import numpy as np\n",
    "import glob"
   ]
  },
  {
   "cell_type": "code",
   "execution_count": 5,
   "id": "ef348b3a-1176-4819-979a-e4962a3764f4",
   "metadata": {},
   "outputs": [],
   "source": [
    "import math\n",
    "import seaborn as sns\n",
    "import matplotlib.pyplot as plt"
   ]
  },
  {
   "cell_type": "code",
   "execution_count": 2,
   "id": "27520b0a-8a13-4ef1-b05e-8cc615303b0b",
   "metadata": {},
   "outputs": [],
   "source": [
    "data_path = \"../datasets/fb15k-237/\""
   ]
  },
  {
   "cell_type": "markdown",
   "id": "fc53c651-9279-4c33-8a99-ca1dc0abe264",
   "metadata": {},
   "source": [
    "### Load triples and augment from source"
   ]
  },
  {
   "cell_type": "markdown",
   "id": "49018c5b-c4f5-43e5-81f5-93a1353fd7f7",
   "metadata": {},
   "source": [
    "### Load augmented triples directly"
   ]
  },
  {
   "cell_type": "code",
   "execution_count": 7,
   "id": "9ede7d2f-fd20-4124-9388-c32bb23998fe",
   "metadata": {},
   "outputs": [],
   "source": [
    "relations_df = pd.read_csv(f\"{data_path}/derived/relations_with_ids.csv\")"
   ]
  },
  {
   "cell_type": "code",
   "execution_count": 8,
   "id": "7ff77b9c-dee3-4ac2-b9fe-9fff9d86cf59",
   "metadata": {},
   "outputs": [
    {
     "data": {
      "text/html": [
       "<div>\n",
       "<style scoped>\n",
       "    .dataframe tbody tr th:only-of-type {\n",
       "        vertical-align: middle;\n",
       "    }\n",
       "\n",
       "    .dataframe tbody tr th {\n",
       "        vertical-align: top;\n",
       "    }\n",
       "\n",
       "    .dataframe thead th {\n",
       "        text-align: right;\n",
       "    }\n",
       "</style>\n",
       "<table border=\"1\" class=\"dataframe\">\n",
       "  <thead>\n",
       "    <tr style=\"text-align: right;\">\n",
       "      <th></th>\n",
       "      <th>relation_name</th>\n",
       "      <th>relation_id</th>\n",
       "    </tr>\n",
       "  </thead>\n",
       "  <tbody>\n",
       "    <tr>\n",
       "      <th>0</th>\n",
       "      <td>/location/country/form_of_government</td>\n",
       "      <td>0</td>\n",
       "    </tr>\n",
       "    <tr>\n",
       "      <th>1</th>\n",
       "      <td>/tv/tv_program/regular_cast./tv/regular_tv_app...</td>\n",
       "      <td>1</td>\n",
       "    </tr>\n",
       "    <tr>\n",
       "      <th>2</th>\n",
       "      <td>/media_common/netflix_genre/titles</td>\n",
       "      <td>2</td>\n",
       "    </tr>\n",
       "    <tr>\n",
       "      <th>3</th>\n",
       "      <td>/award/award_winner/awards_won./award/award_ho...</td>\n",
       "      <td>3</td>\n",
       "    </tr>\n",
       "    <tr>\n",
       "      <th>4</th>\n",
       "      <td>/soccer/football_team/current_roster./sports/s...</td>\n",
       "      <td>4</td>\n",
       "    </tr>\n",
       "  </tbody>\n",
       "</table>\n",
       "</div>"
      ],
      "text/plain": [
       "                                       relation_name  relation_id\n",
       "0               /location/country/form_of_government            0\n",
       "1  /tv/tv_program/regular_cast./tv/regular_tv_app...            1\n",
       "2                 /media_common/netflix_genre/titles            2\n",
       "3  /award/award_winner/awards_won./award/award_ho...            3\n",
       "4  /soccer/football_team/current_roster./sports/s...            4"
      ]
     },
     "execution_count": 8,
     "metadata": {},
     "output_type": "execute_result"
    }
   ],
   "source": [
    "relations_df.head()"
   ]
  },
  {
   "cell_type": "code",
   "execution_count": null,
   "id": "65cf37de-7d5a-4632-bfb1-21f95309329c",
   "metadata": {},
   "outputs": [],
   "source": []
  },
  {
   "cell_type": "code",
   "execution_count": 9,
   "id": "5eb2c472-70fa-4fa2-9736-0b8546651844",
   "metadata": {},
   "outputs": [],
   "source": [
    "# freebase_vs_wiki_df =  pd.read_csv(f\"{data_path}/fb_wiki_mapping.tsv\", sep='\\t')\n",
    "\n",
    "freebase_vs_wiki_df =  pd.read_csv(f\"{data_path}/derived/fb_wiki_mapping_incl_wiki_extracts.csv\")"
   ]
  },
  {
   "cell_type": "code",
   "execution_count": 10,
   "id": "0af3790d-a89e-45d5-9d42-a956e99e8de3",
   "metadata": {},
   "outputs": [
    {
     "data": {
      "text/html": [
       "<div>\n",
       "<style scoped>\n",
       "    .dataframe tbody tr th:only-of-type {\n",
       "        vertical-align: middle;\n",
       "    }\n",
       "\n",
       "    .dataframe tbody tr th {\n",
       "        vertical-align: top;\n",
       "    }\n",
       "\n",
       "    .dataframe thead th {\n",
       "        text-align: right;\n",
       "    }\n",
       "</style>\n",
       "<table border=\"1\" class=\"dataframe\">\n",
       "  <thead>\n",
       "    <tr style=\"text-align: right;\">\n",
       "      <th></th>\n",
       "      <th>freebase_id</th>\n",
       "      <th>wikidata_id</th>\n",
       "      <th>label</th>\n",
       "      <th>Title</th>\n",
       "      <th>Extract</th>\n",
       "    </tr>\n",
       "  </thead>\n",
       "  <tbody>\n",
       "    <tr>\n",
       "      <th>0</th>\n",
       "      <td>/m/010016</td>\n",
       "      <td>Q128306</td>\n",
       "      <td>Denton</td>\n",
       "      <td>Denton, Texas</td>\n",
       "      <td>Denton is a city in the U.S. state of Texas an...</td>\n",
       "    </tr>\n",
       "    <tr>\n",
       "      <th>1</th>\n",
       "      <td>/m/0100mt</td>\n",
       "      <td>Q16562</td>\n",
       "      <td>El Paso</td>\n",
       "      <td>El Paso, Texas</td>\n",
       "      <td>El Paso is a city in and the county seat of El...</td>\n",
       "    </tr>\n",
       "    <tr>\n",
       "      <th>2</th>\n",
       "      <td>/m/0102t4</td>\n",
       "      <td>Q52996</td>\n",
       "      <td>Marshall</td>\n",
       "      <td>Marshall, Texas</td>\n",
       "      <td>Marshall is a city in the U.S. state of Texas....</td>\n",
       "    </tr>\n",
       "  </tbody>\n",
       "</table>\n",
       "</div>"
      ],
      "text/plain": [
       "  freebase_id wikidata_id     label            Title  \\\n",
       "0   /m/010016     Q128306    Denton    Denton, Texas   \n",
       "1   /m/0100mt      Q16562   El Paso   El Paso, Texas   \n",
       "2   /m/0102t4      Q52996  Marshall  Marshall, Texas   \n",
       "\n",
       "                                             Extract  \n",
       "0  Denton is a city in the U.S. state of Texas an...  \n",
       "1  El Paso is a city in and the county seat of El...  \n",
       "2  Marshall is a city in the U.S. state of Texas....  "
      ]
     },
     "execution_count": 10,
     "metadata": {},
     "output_type": "execute_result"
    }
   ],
   "source": [
    "# freebase_vs_wiki_df[''] = df.index\n",
    "freebase_vs_wiki_df.head(3)"
   ]
  },
  {
   "cell_type": "code",
   "execution_count": 11,
   "id": "0f7a6602-9130-475a-8417-799979088152",
   "metadata": {},
   "outputs": [
    {
     "name": "stdout",
     "output_type": "stream",
     "text": [
      "<class 'pandas.core.frame.DataFrame'>\n",
      "RangeIndex: 13756 entries, 0 to 13755\n",
      "Data columns (total 5 columns):\n",
      " #   Column       Non-Null Count  Dtype \n",
      "---  ------       --------------  ----- \n",
      " 0   freebase_id  13756 non-null  object\n",
      " 1   wikidata_id  13756 non-null  object\n",
      " 2   label        13756 non-null  object\n",
      " 3   Title        13756 non-null  object\n",
      " 4   Extract      13756 non-null  object\n",
      "dtypes: object(5)\n",
      "memory usage: 537.5+ KB\n"
     ]
    }
   ],
   "source": [
    "freebase_vs_wiki_df.info()"
   ]
  },
  {
   "cell_type": "code",
   "execution_count": 12,
   "id": "2e0ba3e7-2dae-4983-bc54-6114eb2741f4",
   "metadata": {},
   "outputs": [],
   "source": [
    "# strip Q from wikidata id for easier use with Kumo AI\n",
    "freebase_vs_wiki_df['wikidata_int_id'] = freebase_vs_wiki_df.apply(lambda row: int(row['wikidata_id'][1:]), axis=1)\n",
    "\n",
    "freebase_vs_wiki_df.drop('wikidata_id', axis=1, inplace=True)\n",
    "freebase_vs_wiki_df.rename(columns={'wikidata_int_id':'wikidata_id'}, inplace=True)"
   ]
  },
  {
   "cell_type": "code",
   "execution_count": null,
   "id": "c93150d7-f6c8-4e9c-acec-b7b7893502d7",
   "metadata": {},
   "outputs": [],
   "source": []
  },
  {
   "cell_type": "code",
   "execution_count": 16,
   "id": "7d1a187c-662d-4f35-a293-40dec1b94853",
   "metadata": {},
   "outputs": [],
   "source": [
    "# triplets_with_src_dst_wiki_ids_df = pd.read_csv(f\"{data_path}/exp4/triplets_with_src_dst_wiki_extracts.csv.gz\")"
   ]
  },
  {
   "cell_type": "code",
   "execution_count": 3,
   "id": "a0cd0dc6-0f03-4e6b-9fdf-5d869b30bec4",
   "metadata": {},
   "outputs": [],
   "source": [
    "file_list = glob.glob(f\"{data_path}/exp4/triplets_with_src_dst_wiki_extracts.*0*.csv\")\n",
    "df_list = [pd.read_csv(file) for file in file_list]\n",
    "\n",
    "triplets_with_src_dst_wiki_ids_df = pd.concat(df_list, ignore_index=True)"
   ]
  },
  {
   "cell_type": "code",
   "execution_count": 4,
   "id": "751539d5-fdef-4172-bea4-9cf73bca5cd5",
   "metadata": {},
   "outputs": [],
   "source": [
    "df_test = pd.read_csv(f\"{data_path}/exp4/triplets_with_src_dst_wiki_extracts.test.csv\")"
   ]
  },
  {
   "cell_type": "code",
   "execution_count": 5,
   "id": "3dfbfd8b-4d38-4315-9851-be50a206f62a",
   "metadata": {},
   "outputs": [
    {
     "name": "stdout",
     "output_type": "stream",
     "text": [
      "<class 'pandas.core.frame.DataFrame'>\n",
      "RangeIndex: 17940 entries, 0 to 17939\n",
      "Data columns (total 17 columns):\n",
      " #   Column                 Non-Null Count  Dtype \n",
      "---  ------                 --------------  ----- \n",
      " 0   Unnamed: 0             17940 non-null  int64 \n",
      " 1   src_freebase_id        17940 non-null  object\n",
      " 2   relation               17940 non-null  object\n",
      " 3   dest_freebase_id       17940 non-null  object\n",
      " 4   timestamp              17940 non-null  object\n",
      " 5   relation_name          17940 non-null  object\n",
      " 6   relation_id            17940 non-null  int64 \n",
      " 7   src_wikidata_label     17940 non-null  object\n",
      " 8   src_wikidata_id        17940 non-null  int64 \n",
      " 9   dest_wikidata_label    17940 non-null  object\n",
      " 10  dest_wikidata_id       17940 non-null  int64 \n",
      " 11  triple_id              17940 non-null  int64 \n",
      " 12  src_wikidata_title     17940 non-null  object\n",
      " 13  src_wikidata_extract   17940 non-null  object\n",
      " 14  dest_wikidata_title    17940 non-null  object\n",
      " 15  dest_wikidata_extract  17940 non-null  object\n",
      " 16  disapprove             17940 non-null  int64 \n",
      "dtypes: int64(6), object(11)\n",
      "memory usage: 2.3+ MB\n"
     ]
    }
   ],
   "source": [
    "df_test.info()"
   ]
  },
  {
   "cell_type": "code",
   "execution_count": 6,
   "id": "c459d67e-c83d-40bd-8ea2-184a5ae24e10",
   "metadata": {},
   "outputs": [],
   "source": [
    "triplets_with_src_dst_wiki_ids_df['disapprove'] = triplets_with_src_dst_wiki_ids_df['disapprove'].astype('bool')\n",
    "df_test['disapprove'] = df_test['disapprove'].astype('bool')"
   ]
  },
  {
   "cell_type": "code",
   "execution_count": null,
   "id": "32ea6b1d-140f-4e6e-b200-374bcf81ee81",
   "metadata": {},
   "outputs": [],
   "source": []
  },
  {
   "cell_type": "code",
   "execution_count": 7,
   "id": "d7b0680c-eaf9-4cf6-93f0-94e58845b52b",
   "metadata": {},
   "outputs": [],
   "source": [
    "## Reset label for test samples to \n",
    "# df_test['inaccurate'] = False\n",
    "# df_test['inaccurate'] = '0.2'\n",
    "\n",
    "# df_test.inaccurate.value_counts()"
   ]
  },
  {
   "cell_type": "code",
   "execution_count": 8,
   "id": "d4a8bbb6-bf78-455f-9885-b6669a9aad6f",
   "metadata": {},
   "outputs": [],
   "source": [
    "combined_triplets = pd.concat([triplets_with_src_dst_wiki_ids_df, df_test])"
   ]
  },
  {
   "cell_type": "code",
   "execution_count": 9,
   "id": "08c3c0f9-d408-427c-8852-3f95a5ab56b8",
   "metadata": {},
   "outputs": [
    {
     "data": {
      "text/plain": [
       "disapprove\n",
       "True          128910\n",
       "False         128377\n",
       "Name: count, dtype: int64"
      ]
     },
     "execution_count": 9,
     "metadata": {},
     "output_type": "execute_result"
    }
   ],
   "source": [
    "# combined_triplets['disapprove'] = combined_triplets['disapprove'].astype('float')\n",
    "combined_triplets[['disapprove']].value_counts()"
   ]
  },
  {
   "cell_type": "code",
   "execution_count": 23,
   "id": "0c7833ca-5ca0-4112-b278-48576a89ff3b",
   "metadata": {},
   "outputs": [],
   "source": [
    "combined_triplets['timestamp'] = pd.to_datetime(combined_triplets['timestamp'])\n",
    "# combined_triplets['inaccurate'] = combined_triplets['inaccurate'].astype('bool')"
   ]
  },
  {
   "cell_type": "code",
   "execution_count": 24,
   "id": "598ca258-1931-4247-ba18-93e63f8ed12e",
   "metadata": {},
   "outputs": [
    {
     "name": "stdout",
     "output_type": "stream",
     "text": [
      "<class 'pandas.core.frame.DataFrame'>\n",
      "Index: 257287 entries, 0 to 17939\n",
      "Data columns (total 17 columns):\n",
      " #   Column                 Non-Null Count   Dtype         \n",
      "---  ------                 --------------   -----         \n",
      " 0   Unnamed: 0             257287 non-null  int64         \n",
      " 1   src_freebase_id        257287 non-null  object        \n",
      " 2   relation               257287 non-null  object        \n",
      " 3   dest_freebase_id       257287 non-null  object        \n",
      " 4   triple_id              257287 non-null  int64         \n",
      " 5   timestamp              257287 non-null  datetime64[ns]\n",
      " 6   relation_name          257287 non-null  object        \n",
      " 7   relation_id            257287 non-null  int64         \n",
      " 8   src_wikidata_label     257287 non-null  object        \n",
      " 9   src_wikidata_id        257287 non-null  int64         \n",
      " 10  dest_wikidata_label    257287 non-null  object        \n",
      " 11  dest_wikidata_id       257287 non-null  int64         \n",
      " 12  src_wikidata_title     257287 non-null  object        \n",
      " 13  src_wikidata_extract   257287 non-null  object        \n",
      " 14  dest_wikidata_title    257287 non-null  object        \n",
      " 15  dest_wikidata_extract  257287 non-null  object        \n",
      " 16  disapprove             257287 non-null  bool          \n",
      "dtypes: bool(1), datetime64[ns](1), int64(5), object(10)\n",
      "memory usage: 33.6+ MB\n"
     ]
    }
   ],
   "source": [
    "# triplets_with_src_dst_wiki_ids_df.info()\n",
    "combined_triplets.info()"
   ]
  },
  {
   "cell_type": "code",
   "execution_count": 25,
   "id": "98f071f0-d85e-44b4-827b-31fc27df0a63",
   "metadata": {},
   "outputs": [],
   "source": [
    "# Experiment - split labels into a separate table\n",
    "# data_quality_df = combined_triplets[['triple_id', 'disapprove']].copy()\n",
    "\n",
    "data_quality_df = triplets_with_src_dst_wiki_ids_df[['triple_id', 'disapprove']].copy()\n",
    "data_quality_df['id'] = data_quality_df.index\n",
    "\n",
    "data_quality_df['disapprove'] = data_quality_df['disapprove'].astype('int')"
   ]
  },
  {
   "cell_type": "code",
   "execution_count": 26,
   "id": "624df7d3-8c8b-4d5e-87a6-8fb5d3518cb2",
   "metadata": {},
   "outputs": [],
   "source": [
    "# add random timestamps to force fit into KumoAI restrictions\n",
    "base_date = pd.Timestamp('2025-02-01')\n",
    "\n",
    "num_triples = len(data_quality_df)\n",
    "random_days_ago_integers = np.random.randint(1, 24, size=num_triples)\n",
    "\n",
    "time_deltas = pd.to_timedelta(random_days_ago_integers, unit='days')\n",
    "\n",
    "data_quality_df['created_at'] = base_date - time_deltas"
   ]
  },
  {
   "cell_type": "code",
   "execution_count": null,
   "id": "2f748689-676f-4476-8ca6-9c5a9cd89792",
   "metadata": {},
   "outputs": [],
   "source": []
  },
  {
   "cell_type": "code",
   "execution_count": 27,
   "id": "5d3c7de7-c10c-46b2-bb6e-f2950a6fea42",
   "metadata": {},
   "outputs": [],
   "source": [
    "# All nodes and associated triples for freebase / wiki ?\n",
    "import kumoai as kumo"
   ]
  },
  {
   "cell_type": "code",
   "execution_count": 28,
   "id": "781577d8-14bc-4593-924b-11df391001bf",
   "metadata": {},
   "outputs": [],
   "source": [
    "import kumoai.experimental.rfm as rfm\n",
    "import os"
   ]
  },
  {
   "cell_type": "code",
   "execution_count": 29,
   "id": "46423057-8c71-4e8c-aa63-c901b5ff32fe",
   "metadata": {},
   "outputs": [
    {
     "name": "stdout",
     "output_type": "stream",
     "text": [
      "Opening browser page to automatically generate an API key...\n"
     ]
    },
    {
     "name": "stderr",
     "output_type": "stream",
     "text": [
      "[2025-08-20 17:17:40 - kumoai:298 - INFO] Generated token \"sdk-macbook-pro-3.local-2025-08-20-17-17-37-Z\" and saved to KUMO_API_KEY env variable\n"
     ]
    }
   ],
   "source": [
    "if not os.environ.get(\"KUMO_API_KEY\"):\n",
    "    rfm.authenticate()"
   ]
  },
  {
   "cell_type": "code",
   "execution_count": 30,
   "id": "2a213e15-ebf0-4d86-a29d-bc546c9e65e1",
   "metadata": {},
   "outputs": [
    {
     "name": "stderr",
     "output_type": "stream",
     "text": [
      "[2025-08-20 17:17:47 - kumoai:196 - INFO] Successfully initialized the Kumo SDK against deployment https://kumorfm.ai/api, with log level INFO.\n"
     ]
    }
   ],
   "source": [
    "KUMO_API_KEY = os.environ.get(\"KUMO_API_KEY\")\n",
    "rfm.init(api_key=KUMO_API_KEY)"
   ]
  },
  {
   "cell_type": "code",
   "execution_count": 31,
   "id": "928d4597-8086-4bc9-ba67-7d7092946f2b",
   "metadata": {},
   "outputs": [
    {
     "name": "stdout",
     "output_type": "stream",
     "text": [
      "<class 'pandas.core.frame.DataFrame'>\n",
      "Index: 257287 entries, 0 to 17939\n",
      "Data columns (total 17 columns):\n",
      " #   Column                 Non-Null Count   Dtype         \n",
      "---  ------                 --------------   -----         \n",
      " 0   Unnamed: 0             257287 non-null  int64         \n",
      " 1   src_freebase_id        257287 non-null  object        \n",
      " 2   relation               257287 non-null  object        \n",
      " 3   dest_freebase_id       257287 non-null  object        \n",
      " 4   triple_id              257287 non-null  int64         \n",
      " 5   timestamp              257287 non-null  datetime64[ns]\n",
      " 6   relation_name          257287 non-null  object        \n",
      " 7   relation_id            257287 non-null  int64         \n",
      " 8   src_wikidata_label     257287 non-null  object        \n",
      " 9   src_wikidata_id        257287 non-null  int64         \n",
      " 10  dest_wikidata_label    257287 non-null  object        \n",
      " 11  dest_wikidata_id       257287 non-null  int64         \n",
      " 12  src_wikidata_title     257287 non-null  object        \n",
      " 13  src_wikidata_extract   257287 non-null  object        \n",
      " 14  dest_wikidata_title    257287 non-null  object        \n",
      " 15  dest_wikidata_extract  257287 non-null  object        \n",
      " 16  disapprove             257287 non-null  bool          \n",
      "dtypes: bool(1), datetime64[ns](1), int64(5), object(10)\n",
      "memory usage: 33.6+ MB\n"
     ]
    }
   ],
   "source": [
    "combined_triplets['src_wikidata_extract'] = combined_triplets['src_wikidata_extract'].astype(str)\n",
    "combined_triplets.info()"
   ]
  },
  {
   "cell_type": "code",
   "execution_count": 32,
   "id": "0f6d1038-8716-495f-96f3-bc2156ec7ac6",
   "metadata": {},
   "outputs": [
    {
     "data": {
      "text/html": [
       "<div>\n",
       "<style scoped>\n",
       "    .dataframe tbody tr th:only-of-type {\n",
       "        vertical-align: middle;\n",
       "    }\n",
       "\n",
       "    .dataframe tbody tr th {\n",
       "        vertical-align: top;\n",
       "    }\n",
       "\n",
       "    .dataframe thead th {\n",
       "        text-align: right;\n",
       "    }\n",
       "</style>\n",
       "<table border=\"1\" class=\"dataframe\">\n",
       "  <thead>\n",
       "    <tr style=\"text-align: right;\">\n",
       "      <th></th>\n",
       "      <th>triple_id</th>\n",
       "      <th>src_wikidata_id</th>\n",
       "      <th>relation_id</th>\n",
       "      <th>dest_wikidata_id</th>\n",
       "      <th>src_wikidata_title</th>\n",
       "      <th>timestamp</th>\n",
       "    </tr>\n",
       "  </thead>\n",
       "  <tbody>\n",
       "    <tr>\n",
       "      <th>0</th>\n",
       "      <td>1</td>\n",
       "      <td>513809</td>\n",
       "      <td>1</td>\n",
       "      <td>2642437</td>\n",
       "      <td>Mighty Morphin Power Rangers</td>\n",
       "      <td>2024-11-05</td>\n",
       "    </tr>\n",
       "    <tr>\n",
       "      <th>1</th>\n",
       "      <td>2</td>\n",
       "      <td>130232</td>\n",
       "      <td>2</td>\n",
       "      <td>208572</td>\n",
       "      <td>Drama (film and television)</td>\n",
       "      <td>2024-12-08</td>\n",
       "    </tr>\n",
       "    <tr>\n",
       "      <th>2</th>\n",
       "      <td>3</td>\n",
       "      <td>184219</td>\n",
       "      <td>3</td>\n",
       "      <td>208374</td>\n",
       "      <td>Michelle Rodriguez</td>\n",
       "      <td>2024-10-23</td>\n",
       "    </tr>\n",
       "    <tr>\n",
       "      <th>3</th>\n",
       "      <td>4</td>\n",
       "      <td>268208</td>\n",
       "      <td>4</td>\n",
       "      <td>193592</td>\n",
       "      <td>Australia men's national soccer team</td>\n",
       "      <td>2024-11-26</td>\n",
       "    </tr>\n",
       "    <tr>\n",
       "      <th>4</th>\n",
       "      <td>6</td>\n",
       "      <td>220751</td>\n",
       "      <td>6</td>\n",
       "      <td>388319</td>\n",
       "      <td>Bryan Singer</td>\n",
       "      <td>2024-10-29</td>\n",
       "    </tr>\n",
       "    <tr>\n",
       "      <th>...</th>\n",
       "      <td>...</td>\n",
       "      <td>...</td>\n",
       "      <td>...</td>\n",
       "      <td>...</td>\n",
       "      <td>...</td>\n",
       "      <td>...</td>\n",
       "    </tr>\n",
       "    <tr>\n",
       "      <th>199995</th>\n",
       "      <td>232216</td>\n",
       "      <td>787148</td>\n",
       "      <td>47</td>\n",
       "      <td>64</td>\n",
       "      <td>BAFTA Fellowship</td>\n",
       "      <td>2024-12-31</td>\n",
       "    </tr>\n",
       "    <tr>\n",
       "      <th>199996</th>\n",
       "      <td>105878</td>\n",
       "      <td>9325</td>\n",
       "      <td>150</td>\n",
       "      <td>106685</td>\n",
       "      <td>Lufthansa</td>\n",
       "      <td>2024-10-23</td>\n",
       "    </tr>\n",
       "    <tr>\n",
       "      <th>199997</th>\n",
       "      <td>104897</td>\n",
       "      <td>7802</td>\n",
       "      <td>137</td>\n",
       "      <td>904528</td>\n",
       "      <td>Bread</td>\n",
       "      <td>2024-10-28</td>\n",
       "    </tr>\n",
       "    <tr>\n",
       "      <th>199998</th>\n",
       "      <td>213314</td>\n",
       "      <td>3307638</td>\n",
       "      <td>19</td>\n",
       "      <td>180341</td>\n",
       "      <td>Stuart Duncan</td>\n",
       "      <td>2024-11-19</td>\n",
       "    </tr>\n",
       "    <tr>\n",
       "      <th>199999</th>\n",
       "      <td>117589</td>\n",
       "      <td>392</td>\n",
       "      <td>8</td>\n",
       "      <td>6525237</td>\n",
       "      <td>Bob Dylan</td>\n",
       "      <td>2024-11-07</td>\n",
       "    </tr>\n",
       "  </tbody>\n",
       "</table>\n",
       "<p>200000 rows × 6 columns</p>\n",
       "</div>"
      ],
      "text/plain": [
       "        triple_id  src_wikidata_id  relation_id  dest_wikidata_id  \\\n",
       "0               1           513809            1           2642437   \n",
       "1               2           130232            2            208572   \n",
       "2               3           184219            3            208374   \n",
       "3               4           268208            4            193592   \n",
       "4               6           220751            6            388319   \n",
       "...           ...              ...          ...               ...   \n",
       "199995     232216           787148           47                64   \n",
       "199996     105878             9325          150            106685   \n",
       "199997     104897             7802          137            904528   \n",
       "199998     213314          3307638           19            180341   \n",
       "199999     117589              392            8           6525237   \n",
       "\n",
       "                          src_wikidata_title  timestamp  \n",
       "0               Mighty Morphin Power Rangers 2024-11-05  \n",
       "1                Drama (film and television) 2024-12-08  \n",
       "2                         Michelle Rodriguez 2024-10-23  \n",
       "3       Australia men's national soccer team 2024-11-26  \n",
       "4                               Bryan Singer 2024-10-29  \n",
       "...                                      ...        ...  \n",
       "199995                      BAFTA Fellowship 2024-12-31  \n",
       "199996                             Lufthansa 2024-10-23  \n",
       "199997                                 Bread 2024-10-28  \n",
       "199998                         Stuart Duncan 2024-11-19  \n",
       "199999                             Bob Dylan 2024-11-07  \n",
       "\n",
       "[200000 rows x 6 columns]"
      ]
     },
     "execution_count": 32,
     "metadata": {},
     "output_type": "execute_result"
    }
   ],
   "source": [
    "combined_triplets[['triple_id', 'src_wikidata_id', 'relation_id', 'dest_wikidata_id', 'src_wikidata_title', 'timestamp']].head(200000)"
   ]
  },
  {
   "cell_type": "code",
   "execution_count": null,
   "id": "b861e59f-b7e5-4759-9430-629cd105ce25",
   "metadata": {},
   "outputs": [],
   "source": []
  },
  {
   "cell_type": "code",
   "execution_count": 33,
   "id": "92d91bff-1546-40cb-b2f4-66b4d5369099",
   "metadata": {},
   "outputs": [],
   "source": [
    "triples = rfm.LocalTable(\n",
    "    combined_triplets[['triple_id', 'src_wikidata_title', 'timestamp']].reset_index() ,\n",
    "    name=\"triples\"\n",
    ")"
   ]
  },
  {
   "cell_type": "code",
   "execution_count": 34,
   "id": "8bc16e3a-08da-40da-bc6e-e8360ce483ea",
   "metadata": {},
   "outputs": [
    {
     "data": {
      "text/html": [
       "<div>\n",
       "<style scoped>\n",
       "    .dataframe tbody tr th:only-of-type {\n",
       "        vertical-align: middle;\n",
       "    }\n",
       "\n",
       "    .dataframe tbody tr th {\n",
       "        vertical-align: top;\n",
       "    }\n",
       "\n",
       "    .dataframe thead th {\n",
       "        text-align: right;\n",
       "    }\n",
       "</style>\n",
       "<table border=\"1\" class=\"dataframe\">\n",
       "  <thead>\n",
       "    <tr style=\"text-align: right;\">\n",
       "      <th></th>\n",
       "      <th>triple_id</th>\n",
       "      <th>src_wikidata_title</th>\n",
       "      <th>timestamp</th>\n",
       "    </tr>\n",
       "  </thead>\n",
       "  <tbody>\n",
       "    <tr>\n",
       "      <th>0</th>\n",
       "      <td>272115</td>\n",
       "      <td>Zurich</td>\n",
       "      <td>2025-01-02</td>\n",
       "    </tr>\n",
       "  </tbody>\n",
       "</table>\n",
       "</div>"
      ],
      "text/plain": [
       "   triple_id src_wikidata_title  timestamp\n",
       "0     272115             Zurich 2025-01-02"
      ]
     },
     "execution_count": 34,
     "metadata": {},
     "output_type": "execute_result"
    }
   ],
   "source": [
    "# head(239347)\n",
    "combined_triplets[['triple_id', 'src_wikidata_title', 'timestamp']].head(239348).tail(1)"
   ]
  },
  {
   "cell_type": "code",
   "execution_count": 35,
   "id": "2b96df11-23aa-4248-bda7-f562040b5cb4",
   "metadata": {},
   "outputs": [
    {
     "data": {
      "text/html": [
       "<div>\n",
       "<style scoped>\n",
       "    .dataframe tbody tr th:only-of-type {\n",
       "        vertical-align: middle;\n",
       "    }\n",
       "\n",
       "    .dataframe tbody tr th {\n",
       "        vertical-align: top;\n",
       "    }\n",
       "\n",
       "    .dataframe thead th {\n",
       "        text-align: right;\n",
       "    }\n",
       "</style>\n",
       "<table border=\"1\" class=\"dataframe\">\n",
       "  <thead>\n",
       "    <tr style=\"text-align: right;\">\n",
       "      <th></th>\n",
       "      <th>Unnamed: 0</th>\n",
       "      <th>src_freebase_id</th>\n",
       "      <th>relation</th>\n",
       "      <th>dest_freebase_id</th>\n",
       "      <th>triple_id</th>\n",
       "      <th>timestamp</th>\n",
       "      <th>relation_name</th>\n",
       "      <th>relation_id</th>\n",
       "      <th>src_wikidata_label</th>\n",
       "      <th>src_wikidata_id</th>\n",
       "      <th>dest_wikidata_label</th>\n",
       "      <th>dest_wikidata_id</th>\n",
       "      <th>src_wikidata_title</th>\n",
       "      <th>src_wikidata_extract</th>\n",
       "      <th>dest_wikidata_title</th>\n",
       "      <th>dest_wikidata_extract</th>\n",
       "      <th>disapprove</th>\n",
       "    </tr>\n",
       "  </thead>\n",
       "  <tbody>\n",
       "    <tr>\n",
       "      <th>0</th>\n",
       "      <td>0</td>\n",
       "      <td>/m/08966</td>\n",
       "      <td>/travel/travel_destination/climate./travel/tra...</td>\n",
       "      <td>/m/05lf_</td>\n",
       "      <td>272115</td>\n",
       "      <td>2025-01-02</td>\n",
       "      <td>/travel/travel_destination/climate./travel/tra...</td>\n",
       "      <td>148</td>\n",
       "      <td>Zürich</td>\n",
       "      <td>72</td>\n",
       "      <td>October</td>\n",
       "      <td>124</td>\n",
       "      <td>Zurich</td>\n",
       "      <td>Zurich (German: Zürich; Alemannic German: Züri...</td>\n",
       "      <td>October</td>\n",
       "      <td>October is the tenth month of the year in the ...</td>\n",
       "      <td>False</td>\n",
       "    </tr>\n",
       "  </tbody>\n",
       "</table>\n",
       "</div>"
      ],
      "text/plain": [
       "   Unnamed: 0 src_freebase_id  \\\n",
       "0           0        /m/08966   \n",
       "\n",
       "                                            relation dest_freebase_id  \\\n",
       "0  /travel/travel_destination/climate./travel/tra...         /m/05lf_   \n",
       "\n",
       "   triple_id  timestamp                                      relation_name  \\\n",
       "0     272115 2025-01-02  /travel/travel_destination/climate./travel/tra...   \n",
       "\n",
       "   relation_id src_wikidata_label  src_wikidata_id dest_wikidata_label  \\\n",
       "0          148             Zürich               72             October   \n",
       "\n",
       "   dest_wikidata_id src_wikidata_title  \\\n",
       "0               124             Zurich   \n",
       "\n",
       "                                src_wikidata_extract dest_wikidata_title  \\\n",
       "0  Zurich (German: Zürich; Alemannic German: Züri...             October   \n",
       "\n",
       "                               dest_wikidata_extract  disapprove  \n",
       "0  October is the tenth month of the year in the ...       False  "
      ]
     },
     "execution_count": 35,
     "metadata": {},
     "output_type": "execute_result"
    }
   ],
   "source": [
    "combined_triplets.loc[combined_triplets['triple_id']==272115]"
   ]
  },
  {
   "cell_type": "code",
   "execution_count": null,
   "id": "30a97b6a-923d-4dde-9477-1ea0f645a9ed",
   "metadata": {},
   "outputs": [],
   "source": []
  },
  {
   "cell_type": "code",
   "execution_count": 36,
   "id": "60772876-dfa9-41b9-ba33-e7eb34d01a19",
   "metadata": {},
   "outputs": [
    {
     "name": "stdout",
     "output_type": "stream",
     "text": [
      "Detected primary key 'triple_id' and time column 'timestamp' in table 'triples'\n"
     ]
    }
   ],
   "source": [
    "triples = rfm.LocalTable(\n",
    "    combined_triplets[['triple_id', 'src_wikidata_id', 'relation_id', 'dest_wikidata_id', 'src_wikidata_extract', 'dest_wikidata_extract', 'timestamp']].reset_index(), \n",
    "    name=\"triples\"\n",
    ").infer_metadata()"
   ]
  },
  {
   "cell_type": "code",
   "execution_count": 37,
   "id": "3cd072cb-b64d-4d3a-a588-fbf4eccab15a",
   "metadata": {},
   "outputs": [],
   "source": [
    "relations = rfm.LocalTable(\n",
    "    relations_df, name=\"relations\", primary_key='relation_id'\n",
    ").infer_metadata()"
   ]
  },
  {
   "cell_type": "code",
   "execution_count": 38,
   "id": "8616a5e8-0969-4cd5-a455-667a157673e2",
   "metadata": {},
   "outputs": [
    {
     "name": "stdout",
     "output_type": "stream",
     "text": [
      "Detected primary key 'id' and time column 'created_at' in table 'data_quality'\n"
     ]
    }
   ],
   "source": [
    "data_quality = rfm.LocalTable(\n",
    "    data_quality_df, name=\"data_quality\"\n",
    ").infer_metadata()\n",
    "\n",
    "data_quality.column(\"disapprove\").stype = \"numerical\""
   ]
  },
  {
   "cell_type": "code",
   "execution_count": 39,
   "id": "992faf10-6e3e-4ed5-a4a2-8314f8491204",
   "metadata": {},
   "outputs": [],
   "source": [
    "freebase_vs_wiki1 = rfm.LocalTable(freebase_vs_wiki_df, name=\"freebase_vs_wiki_src\", primary_key=\"wikidata_id\").infer_metadata()"
   ]
  },
  {
   "cell_type": "code",
   "execution_count": 40,
   "id": "08bdea13-0b9e-42ca-a956-84d0c3fb5f87",
   "metadata": {},
   "outputs": [],
   "source": [
    "freebase_vs_wiki2 = rfm.LocalTable(freebase_vs_wiki_df.copy(), name=\"freebase_vs_wiki_dest\", primary_key=\"wikidata_id\").infer_metadata()"
   ]
  },
  {
   "cell_type": "code",
   "execution_count": 41,
   "id": "5609b8d6-4a90-4d50-9d5f-750b51b71083",
   "metadata": {},
   "outputs": [],
   "source": [
    "graph = rfm.LocalGraph(tables=[\n",
    "    triples,\n",
    "    relations,\n",
    "    freebase_vs_wiki1,\n",
    "    freebase_vs_wiki2,\n",
    "    data_quality,\n",
    "])"
   ]
  },
  {
   "cell_type": "code",
   "execution_count": 42,
   "id": "1351e77c-e3c7-4262-9747-628942a3ddab",
   "metadata": {},
   "outputs": [
    {
     "data": {
      "text/plain": [
       "LocalGraph(\n",
       "  tables=[triples, relations, freebase_vs_wiki_src, freebase_vs_wiki_dest, data_quality],\n",
       "  edges=[Edge(src_table='triples', fkey='src_wikidata_id', dst_table='freebase_vs_wiki_src')],\n",
       ")"
      ]
     },
     "execution_count": 42,
     "metadata": {},
     "output_type": "execute_result"
    }
   ],
   "source": [
    "# graph.link(src_table=\"freebase_vs_wiki\", fkey=\"src_wikidata_id\", dst_table=\"triples\")\n",
    "graph.link(src_table=\"triples\", fkey=\"src_wikidata_id\", dst_table=\"freebase_vs_wiki_src\")"
   ]
  },
  {
   "cell_type": "code",
   "execution_count": 43,
   "id": "05be89e0-67ba-4f23-9175-667a7744193e",
   "metadata": {},
   "outputs": [
    {
     "data": {
      "text/plain": [
       "LocalGraph(\n",
       "  tables=[triples, relations, freebase_vs_wiki_src, freebase_vs_wiki_dest, data_quality],\n",
       "  edges=[Edge(src_table='triples', fkey='src_wikidata_id', dst_table='freebase_vs_wiki_src'), Edge(src_table='data_quality', fkey='triple_id', dst_table='triples')],\n",
       ")"
      ]
     },
     "execution_count": 43,
     "metadata": {},
     "output_type": "execute_result"
    }
   ],
   "source": [
    "graph.link(src_table=\"data_quality\", fkey=\"triple_id\", dst_table=\"triples\")"
   ]
  },
  {
   "cell_type": "code",
   "execution_count": 44,
   "id": "41603c6c-e302-43fe-8158-87b359d552ad",
   "metadata": {},
   "outputs": [
    {
     "data": {
      "text/plain": [
       "LocalGraph(\n",
       "  tables=[triples, relations, freebase_vs_wiki_src, freebase_vs_wiki_dest, data_quality],\n",
       "  edges=[Edge(src_table='triples', fkey='src_wikidata_id', dst_table='freebase_vs_wiki_src'), Edge(src_table='data_quality', fkey='triple_id', dst_table='triples'), Edge(src_table='triples', fkey='relation_id', dst_table='relations')],\n",
       ")"
      ]
     },
     "execution_count": 44,
     "metadata": {},
     "output_type": "execute_result"
    }
   ],
   "source": [
    "graph.link(src_table=\"triples\",fkey=\"relation_id\", dst_table=\"relations\")"
   ]
  },
  {
   "cell_type": "code",
   "execution_count": 45,
   "id": "2ea229f2-efd9-40b3-a4c3-a0c49b863d12",
   "metadata": {},
   "outputs": [
    {
     "data": {
      "text/plain": [
       "LocalGraph(\n",
       "  tables=[triples, relations, freebase_vs_wiki_src, freebase_vs_wiki_dest, data_quality],\n",
       "  edges=[Edge(src_table='triples', fkey='src_wikidata_id', dst_table='freebase_vs_wiki_src'), Edge(src_table='data_quality', fkey='triple_id', dst_table='triples'), Edge(src_table='triples', fkey='relation_id', dst_table='relations'), Edge(src_table='triples', fkey='dest_wikidata_id', dst_table='freebase_vs_wiki_dest')],\n",
       ")"
      ]
     },
     "execution_count": 45,
     "metadata": {},
     "output_type": "execute_result"
    }
   ],
   "source": [
    "graph.link(src_table=\"triples\", fkey=\"dest_wikidata_id\", dst_table=\"freebase_vs_wiki_dest\")"
   ]
  },
  {
   "cell_type": "code",
   "execution_count": 46,
   "id": "67084f87-e410-41db-a354-48bf192f38a2",
   "metadata": {},
   "outputs": [
    {
     "data": {
      "image/svg+xml": [
       "<?xml version=\"1.0\" encoding=\"UTF-8\" standalone=\"no\"?>\n",
       "<!DOCTYPE svg PUBLIC \"-//W3C//DTD SVG 1.1//EN\"\n",
       " \"http://www.w3.org/Graphics/SVG/1.1/DTD/svg11.dtd\">\n",
       "<!-- Generated by graphviz version 12.2.1 (20241206.2353)\n",
       " -->\n",
       "<!-- Pages: 1 -->\n",
       "<svg width=\"496pt\" height=\"615pt\"\n",
       " viewBox=\"0.00 0.00 496.38 615.00\" xmlns=\"http://www.w3.org/2000/svg\" xmlns:xlink=\"http://www.w3.org/1999/xlink\">\n",
       "<g id=\"graph0\" class=\"graph\" transform=\"scale(1 1) rotate(0) translate(4 611)\">\n",
       "<polygon fill=\"white\" stroke=\"none\" points=\"-4,4 -4,-611 492.38,-611 492.38,4 -4,4\"/>\n",
       "<!-- triples -->\n",
       "<g id=\"node1\" class=\"node\">\n",
       "<title>triples</title>\n",
       "<polygon fill=\"none\" stroke=\"black\" points=\"151.75,-239 151.75,-411.5 357.5,-411.5 357.5,-239 151.75,-239\"/>\n",
       "<text text-anchor=\"middle\" x=\"254.62\" y=\"-394.2\" font-family=\"Times,serif\" font-size=\"14.00\">triples</text>\n",
       "<polyline fill=\"none\" stroke=\"black\" points=\"151.75,-387 357.5,-387\"/>\n",
       "<text text-anchor=\"start\" x=\"159.75\" y=\"-369.7\" font-family=\"Times,serif\" font-size=\"14.00\">triple_id: PK (int)</text>\n",
       "<text text-anchor=\"start\" x=\"159.75\" y=\"-353.2\" font-family=\"Times,serif\" font-size=\"14.00\">src_wikidata_id: FK (int)</text>\n",
       "<text text-anchor=\"start\" x=\"159.75\" y=\"-336.7\" font-family=\"Times,serif\" font-size=\"14.00\">relation_id: FK (int)</text>\n",
       "<text text-anchor=\"start\" x=\"159.75\" y=\"-320.2\" font-family=\"Times,serif\" font-size=\"14.00\">dest_wikidata_id: FK (int)</text>\n",
       "<text text-anchor=\"start\" x=\"159.75\" y=\"-303.7\" font-family=\"Times,serif\" font-size=\"14.00\">timestamp: Time (date)</text>\n",
       "<polyline fill=\"none\" stroke=\"black\" points=\"151.75,-296.5 357.5,-296.5\"/>\n",
       "<text text-anchor=\"start\" x=\"159.75\" y=\"-279.2\" font-family=\"Times,serif\" font-size=\"14.00\">index: numerical (int)</text>\n",
       "<text text-anchor=\"start\" x=\"159.75\" y=\"-262.7\" font-family=\"Times,serif\" font-size=\"14.00\">src_wikidata_extract: text (string)</text>\n",
       "<text text-anchor=\"start\" x=\"159.75\" y=\"-246.2\" font-family=\"Times,serif\" font-size=\"14.00\">dest_wikidata_extract: text (string)</text>\n",
       "</g>\n",
       "<!-- relations -->\n",
       "<g id=\"node2\" class=\"node\">\n",
       "<title>relations</title>\n",
       "<polygon fill=\"none\" stroke=\"black\" points=\"0,-25.25 0,-98.75 165.25,-98.75 165.25,-25.25 0,-25.25\"/>\n",
       "<text text-anchor=\"middle\" x=\"82.62\" y=\"-81.45\" font-family=\"Times,serif\" font-size=\"14.00\">relations</text>\n",
       "<polyline fill=\"none\" stroke=\"black\" points=\"0,-74.25 165.25,-74.25\"/>\n",
       "<text text-anchor=\"start\" x=\"8\" y=\"-56.95\" font-family=\"Times,serif\" font-size=\"14.00\">relation_id: PK (int)</text>\n",
       "<polyline fill=\"none\" stroke=\"black\" points=\"0,-49.75 165.25,-49.75\"/>\n",
       "<text text-anchor=\"start\" x=\"8\" y=\"-32.45\" font-family=\"Times,serif\" font-size=\"14.00\">relation_name: text (string)</text>\n",
       "</g>\n",
       "<!-- triples&#45;&#45;relations -->\n",
       "<g id=\"edge3\" class=\"edge\">\n",
       "<title>triples&#45;&#45;relations</title>\n",
       "<path fill=\"none\" stroke=\"black\" d=\"M198.31,-238.71C167.15,-191.38 130.07,-135.07 106.44,-99.18\"/>\n",
       "<text text-anchor=\"middle\" x=\"198.12\" y=\"-177.55\" font-family=\"Times,serif\" font-size=\"11.00\"> relation_id </text>\n",
       "<text text-anchor=\"middle\" x=\"119.22\" y=\"-103.35\" font-family=\"Times,serif\" font-size=\"11.00\">1</text>\n",
       "<text text-anchor=\"middle\" x=\"185.54\" y=\"-227.14\" font-family=\"Times,serif\" font-size=\"11.00\">*</text>\n",
       "</g>\n",
       "<!-- freebase_vs_wiki_src -->\n",
       "<g id=\"node3\" class=\"node\">\n",
       "<title>freebase_vs_wiki_src</title>\n",
       "<polygon fill=\"none\" stroke=\"black\" points=\"182.88,-0.5 182.88,-123.5 326.38,-123.5 326.38,-0.5 182.88,-0.5\"/>\n",
       "<text text-anchor=\"middle\" x=\"254.62\" y=\"-106.2\" font-family=\"Times,serif\" font-size=\"14.00\">freebase_vs_wiki_src</text>\n",
       "<polyline fill=\"none\" stroke=\"black\" points=\"182.88,-99 326.38,-99\"/>\n",
       "<text text-anchor=\"start\" x=\"190.88\" y=\"-81.7\" font-family=\"Times,serif\" font-size=\"14.00\">wikidata_id: PK (int)</text>\n",
       "<polyline fill=\"none\" stroke=\"black\" points=\"182.88,-74.5 326.38,-74.5\"/>\n",
       "<text text-anchor=\"start\" x=\"190.88\" y=\"-57.2\" font-family=\"Times,serif\" font-size=\"14.00\">freebase_id: ID (string)</text>\n",
       "<text text-anchor=\"start\" x=\"190.88\" y=\"-40.7\" font-family=\"Times,serif\" font-size=\"14.00\">label: text (string)</text>\n",
       "<text text-anchor=\"start\" x=\"190.88\" y=\"-24.2\" font-family=\"Times,serif\" font-size=\"14.00\">Title: text (string)</text>\n",
       "<text text-anchor=\"start\" x=\"190.88\" y=\"-7.7\" font-family=\"Times,serif\" font-size=\"14.00\">Extract: text (string)</text>\n",
       "</g>\n",
       "<!-- triples&#45;&#45;freebase_vs_wiki_src -->\n",
       "<g id=\"edge1\" class=\"edge\">\n",
       "<title>triples&#45;&#45;freebase_vs_wiki_src</title>\n",
       "<path fill=\"none\" stroke=\"black\" d=\"M254.62,-238.71C254.62,-201.21 254.62,-158.06 254.62,-123.9\"/>\n",
       "<text text-anchor=\"middle\" x=\"291.38\" y=\"-191.05\" font-family=\"Times,serif\" font-size=\"11.00\"> src_wikidata_id</text>\n",
       "<text text-anchor=\"middle\" x=\"291.38\" y=\"-177.55\" font-family=\"Times,serif\" font-size=\"11.00\">&lt; &gt;</text>\n",
       "<text text-anchor=\"middle\" x=\"291.38\" y=\"-164.05\" font-family=\"Times,serif\" font-size=\"11.00\">wikidata_id </text>\n",
       "<text text-anchor=\"middle\" x=\"260.96\" y=\"-133.8\" font-family=\"Times,serif\" font-size=\"11.00\">1</text>\n",
       "<text text-anchor=\"middle\" x=\"248.29\" y=\"-221.41\" font-family=\"Times,serif\" font-size=\"11.00\">*</text>\n",
       "</g>\n",
       "<!-- freebase_vs_wiki_dest -->\n",
       "<g id=\"node4\" class=\"node\">\n",
       "<title>freebase_vs_wiki_dest</title>\n",
       "<polygon fill=\"none\" stroke=\"black\" points=\"344.88,-0.5 344.88,-123.5 488.38,-123.5 488.38,-0.5 344.88,-0.5\"/>\n",
       "<text text-anchor=\"middle\" x=\"416.62\" y=\"-106.2\" font-family=\"Times,serif\" font-size=\"14.00\">freebase_vs_wiki_dest</text>\n",
       "<polyline fill=\"none\" stroke=\"black\" points=\"344.88,-99 488.38,-99\"/>\n",
       "<text text-anchor=\"start\" x=\"352.88\" y=\"-81.7\" font-family=\"Times,serif\" font-size=\"14.00\">wikidata_id: PK (int)</text>\n",
       "<polyline fill=\"none\" stroke=\"black\" points=\"344.88,-74.5 488.38,-74.5\"/>\n",
       "<text text-anchor=\"start\" x=\"352.88\" y=\"-57.2\" font-family=\"Times,serif\" font-size=\"14.00\">freebase_id: ID (string)</text>\n",
       "<text text-anchor=\"start\" x=\"352.88\" y=\"-40.7\" font-family=\"Times,serif\" font-size=\"14.00\">label: text (string)</text>\n",
       "<text text-anchor=\"start\" x=\"352.88\" y=\"-24.2\" font-family=\"Times,serif\" font-size=\"14.00\">Title: text (string)</text>\n",
       "<text text-anchor=\"start\" x=\"352.88\" y=\"-7.7\" font-family=\"Times,serif\" font-size=\"14.00\">Extract: text (string)</text>\n",
       "</g>\n",
       "<!-- triples&#45;&#45;freebase_vs_wiki_dest -->\n",
       "<g id=\"edge4\" class=\"edge\">\n",
       "<title>triples&#45;&#45;freebase_vs_wiki_dest</title>\n",
       "<path fill=\"none\" stroke=\"black\" d=\"M309.4,-238.55C317.24,-226.14 325.17,-213.51 332.62,-201.5 348.35,-176.17 365.45,-148.08 380.1,-123.84\"/>\n",
       "<text text-anchor=\"middle\" x=\"396.24\" y=\"-191.05\" font-family=\"Times,serif\" font-size=\"11.00\"> dest_wikidata_id</text>\n",
       "<text text-anchor=\"middle\" x=\"396.24\" y=\"-177.55\" font-family=\"Times,serif\" font-size=\"11.00\">&lt; &gt;</text>\n",
       "<text text-anchor=\"middle\" x=\"396.24\" y=\"-164.05\" font-family=\"Times,serif\" font-size=\"11.00\">wikidata_id </text>\n",
       "<text text-anchor=\"middle\" x=\"378.49\" y=\"-135.06\" font-family=\"Times,serif\" font-size=\"11.00\">1</text>\n",
       "<text text-anchor=\"middle\" x=\"311.3\" y=\"-219.97\" font-family=\"Times,serif\" font-size=\"11.00\">*</text>\n",
       "</g>\n",
       "<!-- data_quality -->\n",
       "<g id=\"node5\" class=\"node\">\n",
       "<title>data_quality</title>\n",
       "<polygon fill=\"none\" stroke=\"black\" points=\"172.38,-500 172.38,-606.5 336.88,-606.5 336.88,-500 172.38,-500\"/>\n",
       "<text text-anchor=\"middle\" x=\"254.62\" y=\"-589.2\" font-family=\"Times,serif\" font-size=\"14.00\">data_quality</text>\n",
       "<polyline fill=\"none\" stroke=\"black\" points=\"172.38,-582 336.88,-582\"/>\n",
       "<text text-anchor=\"start\" x=\"180.38\" y=\"-564.7\" font-family=\"Times,serif\" font-size=\"14.00\">id: PK (int)</text>\n",
       "<text text-anchor=\"start\" x=\"180.38\" y=\"-548.2\" font-family=\"Times,serif\" font-size=\"14.00\">triple_id: FK (int)</text>\n",
       "<text text-anchor=\"start\" x=\"180.38\" y=\"-531.7\" font-family=\"Times,serif\" font-size=\"14.00\">created_at: Time (date)</text>\n",
       "<polyline fill=\"none\" stroke=\"black\" points=\"172.38,-524.5 336.88,-524.5\"/>\n",
       "<text text-anchor=\"start\" x=\"180.38\" y=\"-507.2\" font-family=\"Times,serif\" font-size=\"14.00\">disapprove: numerical (int)</text>\n",
       "</g>\n",
       "<!-- data_quality&#45;&#45;triples -->\n",
       "<g id=\"edge2\" class=\"edge\">\n",
       "<title>data_quality&#45;&#45;triples</title>\n",
       "<path fill=\"none\" stroke=\"black\" d=\"M254.62,-499.55C254.62,-473.46 254.62,-441.31 254.62,-411.82\"/>\n",
       "<text text-anchor=\"middle\" x=\"276\" y=\"-452.05\" font-family=\"Times,serif\" font-size=\"11.00\"> triple_id </text>\n",
       "<text text-anchor=\"middle\" x=\"260.96\" y=\"-421.71\" font-family=\"Times,serif\" font-size=\"11.00\">1</text>\n",
       "<text text-anchor=\"middle\" x=\"248.29\" y=\"-482.25\" font-family=\"Times,serif\" font-size=\"11.00\">*</text>\n",
       "</g>\n",
       "</g>\n",
       "</svg>\n"
      ],
      "text/plain": [
       "<graphviz.graphs.Graph at 0x311d84dd0>"
      ]
     },
     "metadata": {},
     "output_type": "display_data"
    },
    {
     "data": {
      "image/svg+xml": [
       "<?xml version=\"1.0\" encoding=\"UTF-8\" standalone=\"no\"?>\n",
       "<!DOCTYPE svg PUBLIC \"-//W3C//DTD SVG 1.1//EN\"\n",
       " \"http://www.w3.org/Graphics/SVG/1.1/DTD/svg11.dtd\">\n",
       "<!-- Generated by graphviz version 12.2.1 (20241206.2353)\n",
       " -->\n",
       "<!-- Pages: 1 -->\n",
       "<svg width=\"496pt\" height=\"615pt\"\n",
       " viewBox=\"0.00 0.00 496.38 615.00\" xmlns=\"http://www.w3.org/2000/svg\" xmlns:xlink=\"http://www.w3.org/1999/xlink\">\n",
       "<g id=\"graph0\" class=\"graph\" transform=\"scale(1 1) rotate(0) translate(4 611)\">\n",
       "<polygon fill=\"white\" stroke=\"none\" points=\"-4,4 -4,-611 492.38,-611 492.38,4 -4,4\"/>\n",
       "<!-- triples -->\n",
       "<g id=\"node1\" class=\"node\">\n",
       "<title>triples</title>\n",
       "<polygon fill=\"none\" stroke=\"black\" points=\"151.75,-239 151.75,-411.5 357.5,-411.5 357.5,-239 151.75,-239\"/>\n",
       "<text text-anchor=\"middle\" x=\"254.62\" y=\"-394.2\" font-family=\"Times,serif\" font-size=\"14.00\">triples</text>\n",
       "<polyline fill=\"none\" stroke=\"black\" points=\"151.75,-387 357.5,-387\"/>\n",
       "<text text-anchor=\"start\" x=\"159.75\" y=\"-369.7\" font-family=\"Times,serif\" font-size=\"14.00\">triple_id: PK (int)</text>\n",
       "<text text-anchor=\"start\" x=\"159.75\" y=\"-353.2\" font-family=\"Times,serif\" font-size=\"14.00\">src_wikidata_id: FK (int)</text>\n",
       "<text text-anchor=\"start\" x=\"159.75\" y=\"-336.7\" font-family=\"Times,serif\" font-size=\"14.00\">relation_id: FK (int)</text>\n",
       "<text text-anchor=\"start\" x=\"159.75\" y=\"-320.2\" font-family=\"Times,serif\" font-size=\"14.00\">dest_wikidata_id: FK (int)</text>\n",
       "<text text-anchor=\"start\" x=\"159.75\" y=\"-303.7\" font-family=\"Times,serif\" font-size=\"14.00\">timestamp: Time (date)</text>\n",
       "<polyline fill=\"none\" stroke=\"black\" points=\"151.75,-296.5 357.5,-296.5\"/>\n",
       "<text text-anchor=\"start\" x=\"159.75\" y=\"-279.2\" font-family=\"Times,serif\" font-size=\"14.00\">index: numerical (int)</text>\n",
       "<text text-anchor=\"start\" x=\"159.75\" y=\"-262.7\" font-family=\"Times,serif\" font-size=\"14.00\">src_wikidata_extract: text (string)</text>\n",
       "<text text-anchor=\"start\" x=\"159.75\" y=\"-246.2\" font-family=\"Times,serif\" font-size=\"14.00\">dest_wikidata_extract: text (string)</text>\n",
       "</g>\n",
       "<!-- relations -->\n",
       "<g id=\"node2\" class=\"node\">\n",
       "<title>relations</title>\n",
       "<polygon fill=\"none\" stroke=\"black\" points=\"0,-25.25 0,-98.75 165.25,-98.75 165.25,-25.25 0,-25.25\"/>\n",
       "<text text-anchor=\"middle\" x=\"82.62\" y=\"-81.45\" font-family=\"Times,serif\" font-size=\"14.00\">relations</text>\n",
       "<polyline fill=\"none\" stroke=\"black\" points=\"0,-74.25 165.25,-74.25\"/>\n",
       "<text text-anchor=\"start\" x=\"8\" y=\"-56.95\" font-family=\"Times,serif\" font-size=\"14.00\">relation_id: PK (int)</text>\n",
       "<polyline fill=\"none\" stroke=\"black\" points=\"0,-49.75 165.25,-49.75\"/>\n",
       "<text text-anchor=\"start\" x=\"8\" y=\"-32.45\" font-family=\"Times,serif\" font-size=\"14.00\">relation_name: text (string)</text>\n",
       "</g>\n",
       "<!-- triples&#45;&#45;relations -->\n",
       "<g id=\"edge3\" class=\"edge\">\n",
       "<title>triples&#45;&#45;relations</title>\n",
       "<path fill=\"none\" stroke=\"black\" d=\"M198.31,-238.71C167.15,-191.38 130.07,-135.07 106.44,-99.18\"/>\n",
       "<text text-anchor=\"middle\" x=\"198.12\" y=\"-177.55\" font-family=\"Times,serif\" font-size=\"11.00\"> relation_id </text>\n",
       "<text text-anchor=\"middle\" x=\"119.22\" y=\"-103.35\" font-family=\"Times,serif\" font-size=\"11.00\">1</text>\n",
       "<text text-anchor=\"middle\" x=\"185.54\" y=\"-227.14\" font-family=\"Times,serif\" font-size=\"11.00\">*</text>\n",
       "</g>\n",
       "<!-- freebase_vs_wiki_src -->\n",
       "<g id=\"node3\" class=\"node\">\n",
       "<title>freebase_vs_wiki_src</title>\n",
       "<polygon fill=\"none\" stroke=\"black\" points=\"182.88,-0.5 182.88,-123.5 326.38,-123.5 326.38,-0.5 182.88,-0.5\"/>\n",
       "<text text-anchor=\"middle\" x=\"254.62\" y=\"-106.2\" font-family=\"Times,serif\" font-size=\"14.00\">freebase_vs_wiki_src</text>\n",
       "<polyline fill=\"none\" stroke=\"black\" points=\"182.88,-99 326.38,-99\"/>\n",
       "<text text-anchor=\"start\" x=\"190.88\" y=\"-81.7\" font-family=\"Times,serif\" font-size=\"14.00\">wikidata_id: PK (int)</text>\n",
       "<polyline fill=\"none\" stroke=\"black\" points=\"182.88,-74.5 326.38,-74.5\"/>\n",
       "<text text-anchor=\"start\" x=\"190.88\" y=\"-57.2\" font-family=\"Times,serif\" font-size=\"14.00\">freebase_id: ID (string)</text>\n",
       "<text text-anchor=\"start\" x=\"190.88\" y=\"-40.7\" font-family=\"Times,serif\" font-size=\"14.00\">label: text (string)</text>\n",
       "<text text-anchor=\"start\" x=\"190.88\" y=\"-24.2\" font-family=\"Times,serif\" font-size=\"14.00\">Title: text (string)</text>\n",
       "<text text-anchor=\"start\" x=\"190.88\" y=\"-7.7\" font-family=\"Times,serif\" font-size=\"14.00\">Extract: text (string)</text>\n",
       "</g>\n",
       "<!-- triples&#45;&#45;freebase_vs_wiki_src -->\n",
       "<g id=\"edge1\" class=\"edge\">\n",
       "<title>triples&#45;&#45;freebase_vs_wiki_src</title>\n",
       "<path fill=\"none\" stroke=\"black\" d=\"M254.62,-238.71C254.62,-201.21 254.62,-158.06 254.62,-123.9\"/>\n",
       "<text text-anchor=\"middle\" x=\"291.38\" y=\"-191.05\" font-family=\"Times,serif\" font-size=\"11.00\"> src_wikidata_id</text>\n",
       "<text text-anchor=\"middle\" x=\"291.38\" y=\"-177.55\" font-family=\"Times,serif\" font-size=\"11.00\">&lt; &gt;</text>\n",
       "<text text-anchor=\"middle\" x=\"291.38\" y=\"-164.05\" font-family=\"Times,serif\" font-size=\"11.00\">wikidata_id </text>\n",
       "<text text-anchor=\"middle\" x=\"260.96\" y=\"-133.8\" font-family=\"Times,serif\" font-size=\"11.00\">1</text>\n",
       "<text text-anchor=\"middle\" x=\"248.29\" y=\"-221.41\" font-family=\"Times,serif\" font-size=\"11.00\">*</text>\n",
       "</g>\n",
       "<!-- freebase_vs_wiki_dest -->\n",
       "<g id=\"node4\" class=\"node\">\n",
       "<title>freebase_vs_wiki_dest</title>\n",
       "<polygon fill=\"none\" stroke=\"black\" points=\"344.88,-0.5 344.88,-123.5 488.38,-123.5 488.38,-0.5 344.88,-0.5\"/>\n",
       "<text text-anchor=\"middle\" x=\"416.62\" y=\"-106.2\" font-family=\"Times,serif\" font-size=\"14.00\">freebase_vs_wiki_dest</text>\n",
       "<polyline fill=\"none\" stroke=\"black\" points=\"344.88,-99 488.38,-99\"/>\n",
       "<text text-anchor=\"start\" x=\"352.88\" y=\"-81.7\" font-family=\"Times,serif\" font-size=\"14.00\">wikidata_id: PK (int)</text>\n",
       "<polyline fill=\"none\" stroke=\"black\" points=\"344.88,-74.5 488.38,-74.5\"/>\n",
       "<text text-anchor=\"start\" x=\"352.88\" y=\"-57.2\" font-family=\"Times,serif\" font-size=\"14.00\">freebase_id: ID (string)</text>\n",
       "<text text-anchor=\"start\" x=\"352.88\" y=\"-40.7\" font-family=\"Times,serif\" font-size=\"14.00\">label: text (string)</text>\n",
       "<text text-anchor=\"start\" x=\"352.88\" y=\"-24.2\" font-family=\"Times,serif\" font-size=\"14.00\">Title: text (string)</text>\n",
       "<text text-anchor=\"start\" x=\"352.88\" y=\"-7.7\" font-family=\"Times,serif\" font-size=\"14.00\">Extract: text (string)</text>\n",
       "</g>\n",
       "<!-- triples&#45;&#45;freebase_vs_wiki_dest -->\n",
       "<g id=\"edge4\" class=\"edge\">\n",
       "<title>triples&#45;&#45;freebase_vs_wiki_dest</title>\n",
       "<path fill=\"none\" stroke=\"black\" d=\"M309.4,-238.55C317.24,-226.14 325.17,-213.51 332.62,-201.5 348.35,-176.17 365.45,-148.08 380.1,-123.84\"/>\n",
       "<text text-anchor=\"middle\" x=\"396.24\" y=\"-191.05\" font-family=\"Times,serif\" font-size=\"11.00\"> dest_wikidata_id</text>\n",
       "<text text-anchor=\"middle\" x=\"396.24\" y=\"-177.55\" font-family=\"Times,serif\" font-size=\"11.00\">&lt; &gt;</text>\n",
       "<text text-anchor=\"middle\" x=\"396.24\" y=\"-164.05\" font-family=\"Times,serif\" font-size=\"11.00\">wikidata_id </text>\n",
       "<text text-anchor=\"middle\" x=\"378.49\" y=\"-135.06\" font-family=\"Times,serif\" font-size=\"11.00\">1</text>\n",
       "<text text-anchor=\"middle\" x=\"311.3\" y=\"-219.97\" font-family=\"Times,serif\" font-size=\"11.00\">*</text>\n",
       "</g>\n",
       "<!-- data_quality -->\n",
       "<g id=\"node5\" class=\"node\">\n",
       "<title>data_quality</title>\n",
       "<polygon fill=\"none\" stroke=\"black\" points=\"172.38,-500 172.38,-606.5 336.88,-606.5 336.88,-500 172.38,-500\"/>\n",
       "<text text-anchor=\"middle\" x=\"254.62\" y=\"-589.2\" font-family=\"Times,serif\" font-size=\"14.00\">data_quality</text>\n",
       "<polyline fill=\"none\" stroke=\"black\" points=\"172.38,-582 336.88,-582\"/>\n",
       "<text text-anchor=\"start\" x=\"180.38\" y=\"-564.7\" font-family=\"Times,serif\" font-size=\"14.00\">id: PK (int)</text>\n",
       "<text text-anchor=\"start\" x=\"180.38\" y=\"-548.2\" font-family=\"Times,serif\" font-size=\"14.00\">triple_id: FK (int)</text>\n",
       "<text text-anchor=\"start\" x=\"180.38\" y=\"-531.7\" font-family=\"Times,serif\" font-size=\"14.00\">created_at: Time (date)</text>\n",
       "<polyline fill=\"none\" stroke=\"black\" points=\"172.38,-524.5 336.88,-524.5\"/>\n",
       "<text text-anchor=\"start\" x=\"180.38\" y=\"-507.2\" font-family=\"Times,serif\" font-size=\"14.00\">disapprove: numerical (int)</text>\n",
       "</g>\n",
       "<!-- data_quality&#45;&#45;triples -->\n",
       "<g id=\"edge2\" class=\"edge\">\n",
       "<title>data_quality&#45;&#45;triples</title>\n",
       "<path fill=\"none\" stroke=\"black\" d=\"M254.62,-499.55C254.62,-473.46 254.62,-441.31 254.62,-411.82\"/>\n",
       "<text text-anchor=\"middle\" x=\"276\" y=\"-452.05\" font-family=\"Times,serif\" font-size=\"11.00\"> triple_id </text>\n",
       "<text text-anchor=\"middle\" x=\"260.96\" y=\"-421.71\" font-family=\"Times,serif\" font-size=\"11.00\">1</text>\n",
       "<text text-anchor=\"middle\" x=\"248.29\" y=\"-482.25\" font-family=\"Times,serif\" font-size=\"11.00\">*</text>\n",
       "</g>\n",
       "</g>\n",
       "</svg>\n"
      ],
      "text/plain": [
       "<graphviz.graphs.Graph at 0x311d84dd0>"
      ]
     },
     "execution_count": 46,
     "metadata": {},
     "output_type": "execute_result"
    }
   ],
   "source": [
    "graph.visualize()"
   ]
  },
  {
   "cell_type": "code",
   "execution_count": 162,
   "id": "4362a6a5-f722-48d7-84fd-1870c6ca4c1a",
   "metadata": {},
   "outputs": [],
   "source": [
    "# graph['triples']['relation'].stype\n",
    "# graph['triples']['relation_id'].stype"
   ]
  },
  {
   "cell_type": "code",
   "execution_count": 49,
   "id": "67af4edd-3cbf-456d-8afe-29b84033b289",
   "metadata": {},
   "outputs": [
    {
     "data": {
      "application/vnd.jupyter.widget-view+json": {
       "model_id": "d06212cd62f74e619fa15505e602a500",
       "version_major": 2,
       "version_minor": 0
      },
      "text/plain": [
       "Output()"
      ]
     },
     "metadata": {},
     "output_type": "display_data"
    },
    {
     "data": {
      "text/html": [
       "<pre style=\"white-space:pre;overflow-x:auto;line-height:normal;font-family:Menlo,'DejaVu Sans Mono',consolas,'Courier New',monospace\"></pre>\n"
      ],
      "text/plain": []
     },
     "metadata": {},
     "output_type": "display_data"
    }
   ],
   "source": [
    "model = rfm.KumoRFM(graph)"
   ]
  },
  {
   "cell_type": "code",
   "execution_count": 50,
   "id": "01e05fc7-6820-4e48-a841-9a35ecbbb200",
   "metadata": {},
   "outputs": [],
   "source": [
    "# triples with label 1 / inaccurate facts from test set\n",
    "probe_triplet_ids_errors=df_test.loc[df_test['disapprove']==True].sample(100).triple_id.to_list()\n",
    "probe_triplet_ids_non_errors=df_test.loc[df_test['disapprove']==False].sample(100).triple_id.to_list()\n",
    "\n",
    "probe_triplet_ids_str = f\"{probe_triplet_ids_errors}\"\n",
    "probe_triplet_ids_str = probe_triplet_ids_str.replace(\"[\",\"(\").replace(\"]\",\")\")"
   ]
  },
  {
   "cell_type": "code",
   "execution_count": 58,
   "id": "a9c20a0e-e4a2-4d30-bf13-a081507bbfec",
   "metadata": {},
   "outputs": [
    {
     "data": {
      "text/html": [
       "<pre style=\"white-space:pre;overflow-x:auto;line-height:normal;font-family:Menlo,'DejaVu Sans Mono',consolas,'Courier New',monospace\">/Users/ravid/miniconda3/envs/kumo-hackathon-py311/lib/python3.11/site-packages/kumoai/experimental/rfm/rfm.py:360: \n",
       "UserWarning: Anchor timestamp is too early or aggregation time range is too large. To form proper input data, we \n",
       "would need data back to '2024-08-24 00:00:00', however, your data only contains data back to '2024-10-04 00:00:00'.\n",
       "  warnings.warn(f\"Anchor timestamp is too early or aggregation \"\n",
       "</pre>\n"
      ],
      "text/plain": [
       "/Users/ravid/miniconda3/envs/kumo-hackathon-py311/lib/python3.11/site-packages/kumoai/experimental/rfm/rfm.py:360: \n",
       "UserWarning: Anchor timestamp is too early or aggregation time range is too large. To form proper input data, we \n",
       "would need data back to '2024-08-24 00:00:00', however, your data only contains data back to '2024-10-04 00:00:00'.\n",
       "  warnings.warn(f\"Anchor timestamp is too early or aggregation \"\n"
      ]
     },
     "metadata": {},
     "output_type": "display_data"
    },
    {
     "data": {
      "application/vnd.jupyter.widget-view+json": {
       "model_id": "6dfad930e29343c3881ca900435e1869",
       "version_major": 2,
       "version_minor": 0
      },
      "text/plain": [
       "Output()"
      ]
     },
     "metadata": {},
     "output_type": "display_data"
    },
    {
     "data": {
      "text/html": [
       "<pre style=\"white-space:pre;overflow-x:auto;line-height:normal;font-family:Menlo,'DejaVu Sans Mono',consolas,'Courier New',monospace\"></pre>\n"
      ],
      "text/plain": []
     },
     "metadata": {},
     "output_type": "display_data"
    },
    {
     "data": {
      "text/html": [
       "<pre style=\"white-space:pre;overflow-x:auto;line-height:normal;font-family:Menlo,'DejaVu Sans Mono',consolas,'Courier New',monospace\">/Users/ravid/miniconda3/envs/kumo-hackathon-py311/lib/python3.11/site-packages/kumoai/experimental/rfm/rfm.py:360: \n",
       "UserWarning: Anchor timestamp is too early or aggregation time range is too large. To form proper input data, we \n",
       "would need data back to '2024-08-24 00:00:00', however, your data only contains data back to '2024-10-04 00:00:00'.\n",
       "  warnings.warn(f\"Anchor timestamp is too early or aggregation \"\n",
       "</pre>\n"
      ],
      "text/plain": [
       "/Users/ravid/miniconda3/envs/kumo-hackathon-py311/lib/python3.11/site-packages/kumoai/experimental/rfm/rfm.py:360: \n",
       "UserWarning: Anchor timestamp is too early or aggregation time range is too large. To form proper input data, we \n",
       "would need data back to '2024-08-24 00:00:00', however, your data only contains data back to '2024-10-04 00:00:00'.\n",
       "  warnings.warn(f\"Anchor timestamp is too early or aggregation \"\n"
      ]
     },
     "metadata": {},
     "output_type": "display_data"
    },
    {
     "data": {
      "application/vnd.jupyter.widget-view+json": {
       "model_id": "7b406284e09f410ab54fc214bab3b939",
       "version_major": 2,
       "version_minor": 0
      },
      "text/plain": [
       "Output()"
      ]
     },
     "metadata": {},
     "output_type": "display_data"
    },
    {
     "data": {
      "text/html": [
       "<pre style=\"white-space:pre;overflow-x:auto;line-height:normal;font-family:Menlo,'DejaVu Sans Mono',consolas,'Courier New',monospace\"></pre>\n"
      ],
      "text/plain": []
     },
     "metadata": {},
     "output_type": "display_data"
    }
   ],
   "source": [
    "probe_triplet_ids_str = f\"{probe_triplet_ids_errors}\"\n",
    "probe_triplet_ids_str = probe_triplet_ids_str.replace(\"[\",\"(\").replace(\"]\",\")\")\n",
    "# print(probe_triplet_ids_str)\n",
    "\n",
    "query1 = \"\"\"\n",
    "PREDICT AVG(data_quality.disapprove, 0, 80, days)\n",
    "FOR triples.triple_id IN \"\"\" + probe_triplet_ids_str\n",
    "\n",
    "pred_negatives_df = model.predict(query1)\n",
    "\n",
    "probe_triplet_ids_str = f\"{probe_triplet_ids_non_errors}\"\n",
    "probe_triplet_ids_str = probe_triplet_ids_str.replace(\"[\",\"(\").replace(\"]\",\")\")\n",
    "query2 = \"\"\"\n",
    "PREDICT AVG(data_quality.disapprove, 0, 80, days)\n",
    "FOR triples.triple_id IN \"\"\" + probe_triplet_ids_str\n",
    "\n",
    "pred_positives_df = model.predict(query2)"
   ]
  },
  {
   "cell_type": "code",
   "execution_count": 52,
   "id": "65e49453-cfdd-452a-ac4f-b45daba22a44",
   "metadata": {},
   "outputs": [],
   "source": [
    "# display(pred1_df)\n",
    "# pred1_df.describe()"
   ]
  },
  {
   "cell_type": "code",
   "execution_count": 57,
   "id": "cb5863c8-0214-4908-9f88-d88b9d6fea7f",
   "metadata": {},
   "outputs": [],
   "source": []
  },
  {
   "cell_type": "code",
   "execution_count": 59,
   "id": "71261be9-2d20-4a98-b09a-48a145c53145",
   "metadata": {},
   "outputs": [
    {
     "data": {
      "image/png": "[encoded data removed]",
      "text/plain": [
       "<Figure size 1400x1000 with 1 Axes>"
      ]
     },
     "metadata": {},
     "output_type": "display_data"
    }
   ],
   "source": [
    "# plot distribution of target_pred\n",
    "\n",
    "sns.set_theme(style=\"whitegrid\")\n",
    "fig, ax = plt.subplots(figsize=(14, 10))\n",
    "\n",
    "sns.histplot(\n",
    "    data=pred_negatives_df, \n",
    "    x='TARGET_PRED', \n",
    "    bins=8, \n",
    "    kde=True, \n",
    "    color='salmon', \n",
    "    alpha=0.6, \n",
    "    stat='probability',\n",
    "    label='Score (Outliers)',\n",
    "    ax=ax,\n",
    ")\n",
    "\n",
    "sns.histplot(\n",
    "    data=pred_positives_df, \n",
    "    x='TARGET_PRED', \n",
    "    bins=8, \n",
    "    kde=True, \n",
    "    color='skyblue', \n",
    "    alpha=0.6, \n",
    "    stat='probability',\n",
    "    label='Score (Baseline)',\n",
    "    ax=ax,\n",
    ")\n",
    "\n",
    "ax.set_xlabel('Score (TARGET_PRED) Outliers vs Baseline', fontsize=14)\n",
    "ax.set_ylabel('Probability', fontsize=14)\n",
    "ax.legend()\n",
    "\n",
    "plt.show()"
   ]
  },
  {
   "cell_type": "code",
   "execution_count": 54,
   "id": "9321bd69-9f2a-4137-ba39-7566abc9033d",
   "metadata": {},
   "outputs": [
    {
     "data": {
      "text/plain": [
       "<Axes: xlabel='TARGET_PRED', ylabel='Probability'>"
      ]
     },
     "execution_count": 54,
     "metadata": {},
     "output_type": "execute_result"
    },
    {
     "data": {
      "image/png": "[encoded data removed]",
      "text/plain": [
       "<Figure size 1400x1000 with 1 Axes>"
      ]
     },
     "metadata": {},
     "output_type": "display_data"
    }
   ],
   "source": [
    "# plot distribution of target_pred\n",
    "\n",
    "sns.set_theme(style=\"whitegrid\")\n",
    "plt.figure(figsize=(14, 10))\n",
    "\n",
    "sns.histplot(\n",
    "    data=pred_negatives_df, \n",
    "    x='TARGET_PRED', \n",
    "    bins=8, \n",
    "    kde=True, \n",
    "    color='salmon', \n",
    "    alpha=0.6, \n",
    "    stat='probability',\n",
    "    label='Score (Outliers)',\n",
    ")\n",
    "\n",
    "sns.histplot(\n",
    "    data=pred_positives_df, \n",
    "    x='TARGET_PRED', \n",
    "    bins=8, \n",
    "    kde=True, \n",
    "    color='skyblue', \n",
    "    alpha=0.6, \n",
    "    stat='probability',\n",
    "    label='Score (Baseline)',\n",
    ")\n",
    "\n",
    "# print(pred_positives_df.TARGET_PRED.describe())\n",
    "# print(pred_negatives_df.TARGET_PRED.describe())"
   ]
  },
  {
   "cell_type": "code",
   "execution_count": 55,
   "id": "de8668d8-a9c4-40d8-a3a2-709c65af5742",
   "metadata": {},
   "outputs": [
    {
     "data": {
      "image/png": "[encoded data removed]",
      "text/plain": [
       "<Figure size 1400x1000 with 1 Axes>"
      ]
     },
     "metadata": {},
     "output_type": "display_data"
    }
   ],
   "source": []
  },
  {
   "cell_type": "code",
   "execution_count": 174,
   "id": "2dda8820-8bcc-4456-a0e6-49a241cd6b9a",
   "metadata": {},
   "outputs": [
    {
     "data": {
      "text/html": [
       "<div>\n",
       "<style scoped>\n",
       "    .dataframe tbody tr th:only-of-type {\n",
       "        vertical-align: middle;\n",
       "    }\n",
       "\n",
       "    .dataframe tbody tr th {\n",
       "        vertical-align: top;\n",
       "    }\n",
       "\n",
       "    .dataframe thead th {\n",
       "        text-align: right;\n",
       "    }\n",
       "</style>\n",
       "<table border=\"1\" class=\"dataframe\">\n",
       "  <thead>\n",
       "    <tr style=\"text-align: right;\">\n",
       "      <th></th>\n",
       "      <th>ENTITY</th>\n",
       "      <th>ANCHOR_TIMESTAMP</th>\n",
       "      <th>TARGET_PRED</th>\n",
       "    </tr>\n",
       "  </thead>\n",
       "  <tbody>\n",
       "    <tr>\n",
       "      <th>1</th>\n",
       "      <td>272117</td>\n",
       "      <td>1738281600000</td>\n",
       "      <td>0.131647</td>\n",
       "    </tr>\n",
       "    <tr>\n",
       "      <th>24</th>\n",
       "      <td>272146</td>\n",
       "      <td>1738281600000</td>\n",
       "      <td>0.128768</td>\n",
       "    </tr>\n",
       "    <tr>\n",
       "      <th>16</th>\n",
       "      <td>272135</td>\n",
       "      <td>1738281600000</td>\n",
       "      <td>0.126386</td>\n",
       "    </tr>\n",
       "    <tr>\n",
       "      <th>12</th>\n",
       "      <td>272129</td>\n",
       "      <td>1738281600000</td>\n",
       "      <td>0.122993</td>\n",
       "    </tr>\n",
       "    <tr>\n",
       "      <th>6</th>\n",
       "      <td>272122</td>\n",
       "      <td>1738281600000</td>\n",
       "      <td>0.121498</td>\n",
       "    </tr>\n",
       "    <tr>\n",
       "      <th>28</th>\n",
       "      <td>272153</td>\n",
       "      <td>1738281600000</td>\n",
       "      <td>0.120701</td>\n",
       "    </tr>\n",
       "    <tr>\n",
       "      <th>7</th>\n",
       "      <td>272123</td>\n",
       "      <td>1738281600000</td>\n",
       "      <td>0.120521</td>\n",
       "    </tr>\n",
       "    <tr>\n",
       "      <th>26</th>\n",
       "      <td>272149</td>\n",
       "      <td>1738281600000</td>\n",
       "      <td>0.119449</td>\n",
       "    </tr>\n",
       "    <tr>\n",
       "      <th>29</th>\n",
       "      <td>272155</td>\n",
       "      <td>1738281600000</td>\n",
       "      <td>0.119343</td>\n",
       "    </tr>\n",
       "    <tr>\n",
       "      <th>25</th>\n",
       "      <td>272148</td>\n",
       "      <td>1738281600000</td>\n",
       "      <td>0.116192</td>\n",
       "    </tr>\n",
       "    <tr>\n",
       "      <th>18</th>\n",
       "      <td>272137</td>\n",
       "      <td>1738281600000</td>\n",
       "      <td>0.115499</td>\n",
       "    </tr>\n",
       "    <tr>\n",
       "      <th>8</th>\n",
       "      <td>272125</td>\n",
       "      <td>1738281600000</td>\n",
       "      <td>0.113248</td>\n",
       "    </tr>\n",
       "    <tr>\n",
       "      <th>21</th>\n",
       "      <td>272141</td>\n",
       "      <td>1738281600000</td>\n",
       "      <td>0.113210</td>\n",
       "    </tr>\n",
       "    <tr>\n",
       "      <th>0</th>\n",
       "      <td>272116</td>\n",
       "      <td>1738281600000</td>\n",
       "      <td>0.113194</td>\n",
       "    </tr>\n",
       "    <tr>\n",
       "      <th>19</th>\n",
       "      <td>272138</td>\n",
       "      <td>1738281600000</td>\n",
       "      <td>0.112008</td>\n",
       "    </tr>\n",
       "    <tr>\n",
       "      <th>27</th>\n",
       "      <td>272151</td>\n",
       "      <td>1738281600000</td>\n",
       "      <td>0.110960</td>\n",
       "    </tr>\n",
       "    <tr>\n",
       "      <th>22</th>\n",
       "      <td>272142</td>\n",
       "      <td>1738281600000</td>\n",
       "      <td>0.109389</td>\n",
       "    </tr>\n",
       "    <tr>\n",
       "      <th>13</th>\n",
       "      <td>272130</td>\n",
       "      <td>1738281600000</td>\n",
       "      <td>0.107971</td>\n",
       "    </tr>\n",
       "    <tr>\n",
       "      <th>17</th>\n",
       "      <td>272136</td>\n",
       "      <td>1738281600000</td>\n",
       "      <td>0.106015</td>\n",
       "    </tr>\n",
       "    <tr>\n",
       "      <th>10</th>\n",
       "      <td>272127</td>\n",
       "      <td>1738281600000</td>\n",
       "      <td>0.103234</td>\n",
       "    </tr>\n",
       "    <tr>\n",
       "      <th>11</th>\n",
       "      <td>272128</td>\n",
       "      <td>1738281600000</td>\n",
       "      <td>0.102692</td>\n",
       "    </tr>\n",
       "    <tr>\n",
       "      <th>15</th>\n",
       "      <td>272134</td>\n",
       "      <td>1738281600000</td>\n",
       "      <td>0.099406</td>\n",
       "    </tr>\n",
       "    <tr>\n",
       "      <th>4</th>\n",
       "      <td>272120</td>\n",
       "      <td>1738281600000</td>\n",
       "      <td>0.095618</td>\n",
       "    </tr>\n",
       "    <tr>\n",
       "      <th>23</th>\n",
       "      <td>272143</td>\n",
       "      <td>1738281600000</td>\n",
       "      <td>0.090331</td>\n",
       "    </tr>\n",
       "    <tr>\n",
       "      <th>5</th>\n",
       "      <td>272121</td>\n",
       "      <td>1738281600000</td>\n",
       "      <td>0.089569</td>\n",
       "    </tr>\n",
       "    <tr>\n",
       "      <th>14</th>\n",
       "      <td>272131</td>\n",
       "      <td>1738281600000</td>\n",
       "      <td>0.085849</td>\n",
       "    </tr>\n",
       "    <tr>\n",
       "      <th>20</th>\n",
       "      <td>272140</td>\n",
       "      <td>1738281600000</td>\n",
       "      <td>0.080980</td>\n",
       "    </tr>\n",
       "    <tr>\n",
       "      <th>9</th>\n",
       "      <td>272126</td>\n",
       "      <td>1738281600000</td>\n",
       "      <td>0.080278</td>\n",
       "    </tr>\n",
       "    <tr>\n",
       "      <th>3</th>\n",
       "      <td>272119</td>\n",
       "      <td>1738281600000</td>\n",
       "      <td>0.076773</td>\n",
       "    </tr>\n",
       "    <tr>\n",
       "      <th>2</th>\n",
       "      <td>272118</td>\n",
       "      <td>1738281600000</td>\n",
       "      <td>0.074398</td>\n",
       "    </tr>\n",
       "  </tbody>\n",
       "</table>\n",
       "</div>"
      ],
      "text/plain": [
       "    ENTITY  ANCHOR_TIMESTAMP  TARGET_PRED\n",
       "1   272117     1738281600000     0.131647\n",
       "24  272146     1738281600000     0.128768\n",
       "16  272135     1738281600000     0.126386\n",
       "12  272129     1738281600000     0.122993\n",
       "6   272122     1738281600000     0.121498\n",
       "28  272153     1738281600000     0.120701\n",
       "7   272123     1738281600000     0.120521\n",
       "26  272149     1738281600000     0.119449\n",
       "29  272155     1738281600000     0.119343\n",
       "25  272148     1738281600000     0.116192\n",
       "18  272137     1738281600000     0.115499\n",
       "8   272125     1738281600000     0.113248\n",
       "21  272141     1738281600000     0.113210\n",
       "0   272116     1738281600000     0.113194\n",
       "19  272138     1738281600000     0.112008\n",
       "27  272151     1738281600000     0.110960\n",
       "22  272142     1738281600000     0.109389\n",
       "13  272130     1738281600000     0.107971\n",
       "17  272136     1738281600000     0.106015\n",
       "10  272127     1738281600000     0.103234\n",
       "11  272128     1738281600000     0.102692\n",
       "15  272134     1738281600000     0.099406\n",
       "4   272120     1738281600000     0.095618\n",
       "23  272143     1738281600000     0.090331\n",
       "5   272121     1738281600000     0.089569\n",
       "14  272131     1738281600000     0.085849\n",
       "20  272140     1738281600000     0.080980\n",
       "9   272126     1738281600000     0.080278\n",
       "3   272119     1738281600000     0.076773\n",
       "2   272118     1738281600000     0.074398"
      ]
     },
     "execution_count": 174,
     "metadata": {},
     "output_type": "execute_result"
    }
   ],
   "source": [
    "# pred1_df.loc[pred1_df['PREDICTED']==False].sort_values(by='SCORE', ascending=False)\n",
    "pred1_df.sort_values(by='TARGET_PRED', ascending=False)"
   ]
  },
  {
   "cell_type": "code",
   "execution_count": 45,
   "id": "11d1c43f-4f0d-4ccc-9120-5772e9efc19a",
   "metadata": {},
   "outputs": [
    {
     "data": {
      "text/html": [
       "<div>\n",
       "<style scoped>\n",
       "    .dataframe tbody tr th:only-of-type {\n",
       "        vertical-align: middle;\n",
       "    }\n",
       "\n",
       "    .dataframe tbody tr th {\n",
       "        vertical-align: top;\n",
       "    }\n",
       "\n",
       "    .dataframe thead th {\n",
       "        text-align: right;\n",
       "    }\n",
       "</style>\n",
       "<table border=\"1\" class=\"dataframe\">\n",
       "  <thead>\n",
       "    <tr style=\"text-align: right;\">\n",
       "      <th></th>\n",
       "      <th>src_freebase_id</th>\n",
       "      <th>relation</th>\n",
       "      <th>dest_freebase_id</th>\n",
       "      <th>timestamp</th>\n",
       "      <th>relation_name</th>\n",
       "      <th>relation_id</th>\n",
       "      <th>freebase_id_x</th>\n",
       "      <th>label_x</th>\n",
       "      <th>src_wikidata_id</th>\n",
       "      <th>freebase_id_y</th>\n",
       "      <th>label_y</th>\n",
       "      <th>dest_wikidata_id</th>\n",
       "      <th>triple_id</th>\n",
       "      <th>disapprove</th>\n",
       "    </tr>\n",
       "  </thead>\n",
       "  <tbody>\n",
       "    <tr>\n",
       "      <th>0</th>\n",
       "      <td>/m/02jx1</td>\n",
       "      <td>/location/location/contains</td>\n",
       "      <td>/m/013t85</td>\n",
       "      <td>2025-01-02</td>\n",
       "      <td>/location/location/contains</td>\n",
       "      <td>15</td>\n",
       "      <td>/m/02jx1</td>\n",
       "      <td>England</td>\n",
       "      <td>21</td>\n",
       "      <td>/m/013t85</td>\n",
       "      <td>Pontefract</td>\n",
       "      <td>1009235</td>\n",
       "      <td>272118</td>\n",
       "      <td>False</td>\n",
       "    </tr>\n",
       "    <tr>\n",
       "      <th>1</th>\n",
       "      <td>/m/05zrvfd</td>\n",
       "      <td>/award/award_category/nominees./award/award_no...</td>\n",
       "      <td>/m/04y9mm8</td>\n",
       "      <td>2025-01-02</td>\n",
       "      <td>/award/award_category/nominees./award/award_no...</td>\n",
       "      <td>7</td>\n",
       "      <td>/m/05zrvfd</td>\n",
       "      <td>MTV Movie Award for Best Scared-As-S**t Perfor...</td>\n",
       "      <td>425675</td>\n",
       "      <td>/m/04y9mm8</td>\n",
       "      <td>Piranha 3D</td>\n",
       "      <td>733995</td>\n",
       "      <td>272121</td>\n",
       "      <td>False</td>\n",
       "    </tr>\n",
       "    <tr>\n",
       "      <th>2</th>\n",
       "      <td>/m/07l450</td>\n",
       "      <td>/film/film/genre</td>\n",
       "      <td>/m/082gq</td>\n",
       "      <td>2025-01-02</td>\n",
       "      <td>/film/film/genre</td>\n",
       "      <td>31</td>\n",
       "      <td>/m/07l450</td>\n",
       "      <td>The Last King of Scotland</td>\n",
       "      <td>176826</td>\n",
       "      <td>/m/082gq</td>\n",
       "      <td>war film</td>\n",
       "      <td>369747</td>\n",
       "      <td>272123</td>\n",
       "      <td>False</td>\n",
       "    </tr>\n",
       "    <tr>\n",
       "      <th>3</th>\n",
       "      <td>/m/07h1h5</td>\n",
       "      <td>/sports/pro_athlete/teams./sports/sports_team_...</td>\n",
       "      <td>/m/029q3k</td>\n",
       "      <td>2025-01-02</td>\n",
       "      <td>/sports/pro_athlete/teams./sports/sports_team_...</td>\n",
       "      <td>40</td>\n",
       "      <td>/m/07h1h5</td>\n",
       "      <td>Kasper Schmeichel</td>\n",
       "      <td>295797</td>\n",
       "      <td>/m/029q3k</td>\n",
       "      <td>Notts County F.C.</td>\n",
       "      <td>19598</td>\n",
       "      <td>272124</td>\n",
       "      <td>False</td>\n",
       "    </tr>\n",
       "    <tr>\n",
       "      <th>4</th>\n",
       "      <td>/m/0kbws</td>\n",
       "      <td>/olympics/olympic_games/participating_countries</td>\n",
       "      <td>/m/027jk</td>\n",
       "      <td>2025-01-02</td>\n",
       "      <td>/olympics/olympic_games/participating_countries</td>\n",
       "      <td>157</td>\n",
       "      <td>/m/0kbws</td>\n",
       "      <td>2008 Summer Olympics</td>\n",
       "      <td>8567</td>\n",
       "      <td>/m/027jk</td>\n",
       "      <td>Djibouti</td>\n",
       "      <td>977</td>\n",
       "      <td>272133</td>\n",
       "      <td>False</td>\n",
       "    </tr>\n",
       "  </tbody>\n",
       "</table>\n",
       "</div>"
      ],
      "text/plain": [
       "  src_freebase_id                                           relation  \\\n",
       "0        /m/02jx1                        /location/location/contains   \n",
       "1      /m/05zrvfd  /award/award_category/nominees./award/award_no...   \n",
       "2       /m/07l450                                   /film/film/genre   \n",
       "3       /m/07h1h5  /sports/pro_athlete/teams./sports/sports_team_...   \n",
       "4        /m/0kbws    /olympics/olympic_games/participating_countries   \n",
       "\n",
       "  dest_freebase_id   timestamp  \\\n",
       "0        /m/013t85  2025-01-02   \n",
       "1       /m/04y9mm8  2025-01-02   \n",
       "2         /m/082gq  2025-01-02   \n",
       "3        /m/029q3k  2025-01-02   \n",
       "4         /m/027jk  2025-01-02   \n",
       "\n",
       "                                       relation_name  relation_id  \\\n",
       "0                        /location/location/contains           15   \n",
       "1  /award/award_category/nominees./award/award_no...            7   \n",
       "2                                   /film/film/genre           31   \n",
       "3  /sports/pro_athlete/teams./sports/sports_team_...           40   \n",
       "4    /olympics/olympic_games/participating_countries          157   \n",
       "\n",
       "  freebase_id_x                                            label_x  \\\n",
       "0      /m/02jx1                                            England   \n",
       "1    /m/05zrvfd  MTV Movie Award for Best Scared-As-S**t Perfor...   \n",
       "2     /m/07l450                          The Last King of Scotland   \n",
       "3     /m/07h1h5                                  Kasper Schmeichel   \n",
       "4      /m/0kbws                               2008 Summer Olympics   \n",
       "\n",
       "   src_wikidata_id freebase_id_y            label_y  dest_wikidata_id  \\\n",
       "0               21     /m/013t85         Pontefract           1009235   \n",
       "1           425675    /m/04y9mm8         Piranha 3D            733995   \n",
       "2           176826      /m/082gq           war film            369747   \n",
       "3           295797     /m/029q3k  Notts County F.C.             19598   \n",
       "4             8567      /m/027jk           Djibouti               977   \n",
       "\n",
       "   triple_id  disapprove  \n",
       "0     272118       False  \n",
       "1     272121       False  \n",
       "2     272123       False  \n",
       "3     272124       False  \n",
       "4     272133       False  "
      ]
     },
     "execution_count": 45,
     "metadata": {},
     "output_type": "execute_result"
    }
   ],
   "source": [
    "df_test.loc[df_test['disapprove']==False].head()"
   ]
  },
  {
   "cell_type": "code",
   "execution_count": null,
   "id": "472a76b6-0228-4788-b10d-6feb7d871f2d",
   "metadata": {},
   "outputs": [],
   "source": []
  },
  {
   "cell_type": "markdown",
   "id": "2ac0966a-a52f-4f05-9c39-1d73a4e570d3",
   "metadata": {},
   "source": [
    "pquery_relations_for_entity = kumo.PredictiveQuery(\n",
    "\tgraph=graph,\n",
    "\tquery=query\n",
    ")\n",
    "\n",
    "pquery_relations_for_entity.validate()"
   ]
  },
  {
   "cell_type": "code",
   "execution_count": 273,
   "id": "978d3e63-fb17-4e3d-9d8c-c8f9a98e5da8",
   "metadata": {},
   "outputs": [
    {
     "data": {
      "text/plain": [
       "GraphDefinition(tables={'triples': TableDefinition(cols=[Column(name='triple_id', stype=ID, dtype=int, timestamp_format=None), Column(name='src_wikidata_id', stype=ID, dtype=int, timestamp_format=None), Column(name='relation_id', stype=ID, dtype=int, timestamp_format=None), Column(name='dest_wikidata_id', stype=ID, dtype=int, timestamp_format=None), Column(name='timestamp', stype=timestamp, dtype=string, timestamp_format=None), Column(name='inaccurate', stype=categorical, dtype=int, timestamp_format=None)], source_table=UnavailableSourceTable(table='triples', data_source_type=UNAVAILABLE), pkey='triple_id', time_col='timestamp', end_time_col=None), 'relations': TableDefinition(cols=[Column(name='relation_name', stype=text, dtype=string, timestamp_format=None), Column(name='relation_id', stype=ID, dtype=int, timestamp_format=None)], source_table=UnavailableSourceTable(table='relations', data_source_type=UNAVAILABLE), pkey='relation_id', time_col=None, end_time_col=None), 'freebase_vs_wiki_src': TableDefinition(cols=[Column(name='freebase_id', stype=ID, dtype=string, timestamp_format=None), Column(name='label', stype=text, dtype=string, timestamp_format=None), Column(name='wikidata_id', stype=ID, dtype=int, timestamp_format=None)], source_table=UnavailableSourceTable(table='freebase_vs_wiki_src', data_source_type=UNAVAILABLE), pkey='wikidata_id', time_col=None, end_time_col=None), 'freebase_vs_wiki_dest': TableDefinition(cols=[Column(name='freebase_id', stype=ID, dtype=string, timestamp_format=None), Column(name='label', stype=text, dtype=string, timestamp_format=None), Column(name='wikidata_id', stype=ID, dtype=int, timestamp_format=None)], source_table=UnavailableSourceTable(table='freebase_vs_wiki_dest', data_source_type=UNAVAILABLE), pkey='wikidata_id', time_col=None, end_time_col=None)}, col_groups=[ColumnKeyGroup(columns=(ColumnKey(table_name='relations', col_name='relation_id'), ColumnKey(table_name='triples', col_name='relation_id'))), ColumnKeyGroup(columns=(ColumnKey(table_name='freebase_vs_wiki_src', col_name='wikidata_id'), ColumnKey(table_name='triples', col_name='src_wikidata_id'))), ColumnKeyGroup(columns=(ColumnKey(table_name='freebase_vs_wiki_dest', col_name='wikidata_id'), ColumnKey(table_name='triples', col_name='dest_wikidata_id')))])"
      ]
     },
     "execution_count": 273,
     "metadata": {},
     "output_type": "execute_result"
    }
   ],
   "source": [
    "graph._to_api_graph_definition()"
   ]
  },
  {
   "cell_type": "code",
   "execution_count": null,
   "id": "5036f4ce-5651-4ca9-9b54-4b129d6a0046",
   "metadata": {},
   "outputs": [],
   "source": []
  },
  {
   "cell_type": "code",
   "execution_count": null,
   "id": "4e5d276f-a3a8-47c7-a2d6-3561068467a5",
   "metadata": {},
   "outputs": [],
   "source": []
  },
  {
   "cell_type": "code",
   "execution_count": null,
   "id": "84d0e256-9fc4-4c12-91e6-a64983f7ccdc",
   "metadata": {},
   "outputs": [],
   "source": [
    "# Running examples\n",
    "# all relations with src_wikidata_id \n",
    "## 7413907 / Q7413907 , San Francisco\n",
    "## 486860 , Mountain View\n",
    "## 2685, Arnold Schwarzenegger\n"
   ]
  },
  {
   "cell_type": "markdown",
   "id": "b216357a-ad7e-4f32-bb81-2f69027b953f",
   "metadata": {},
   "source": [
    "triplets_with_src_dst_wiki_ids_df.loc[triplets_with_src_dst_wiki_ids_df['src_wikidata_id']==2685].to_csv(\n",
    "    \"~/Downloads/arnold_schwarzenegger_outgoing_edges.csv\", index=False\n",
    ")\n"
   ]
  },
  {
   "cell_type": "code",
   "execution_count": null,
   "id": "91e8d40c-74cd-40f0-a3c1-f8a851dac8da",
   "metadata": {},
   "outputs": [],
   "source": [
    "## Arnold Schwarznegger\n",
    "\n",
    "# 6 -> /film/actor/film./film/performance/film\n",
    "# 38 -> nomination\n",
    "# "
   ]
  },
  {
   "cell_type": "code",
   "execution_count": null,
   "id": "61dc751e-86f1-4be8-ad9c-3fa3196df72f",
   "metadata": {},
   "outputs": [],
   "source": []
  },
  {
   "cell_type": "code",
   "execution_count": null,
   "id": "80ce9a05-e31c-44eb-80ed-529a0847bb09",
   "metadata": {},
   "outputs": [],
   "source": []
  },
  {
   "cell_type": "code",
   "execution_count": null,
   "id": "15084aaa-62f1-4c10-9357-675563392a40",
   "metadata": {},
   "outputs": [],
   "source": []
  },
  {
   "cell_type": "code",
   "execution_count": null,
   "id": "9f194823-5fc4-4458-8937-620c7d4a597f",
   "metadata": {},
   "outputs": [],
   "source": []
  },
  {
   "cell_type": "code",
   "execution_count": null,
   "id": "592451b1-b43f-4587-8f23-e2feef99b5f1",
   "metadata": {},
   "outputs": [],
   "source": []
  },
  {
   "cell_type": "code",
   "execution_count": null,
   "id": "2f97584d-23f1-44f0-9aac-cf799a878bc2",
   "metadata": {},
   "outputs": [],
   "source": []
  },
  {
   "cell_type": "code",
   "execution_count": null,
   "id": "95950cdc-a6dd-4287-a79c-ed0aae3e8f93",
   "metadata": {},
   "outputs": [],
   "source": []
  },
  {
   "cell_type": "code",
   "execution_count": null,
   "id": "32943dde-c29d-45a0-90db-f839d2c0f813",
   "metadata": {},
   "outputs": [],
   "source": []
  },
  {
   "cell_type": "code",
   "execution_count": null,
   "id": "7fa98cdf-b537-4790-b8d2-d3be3d7de625",
   "metadata": {},
   "outputs": [],
   "source": []
  },
  {
   "cell_type": "markdown",
   "id": "63c278b6-b983-4b1d-8484-6ba05e89a368",
   "metadata": {},
   "source": [
    "## Yago semantic graph \n",
    "Usecase - find inconsistencies / anomalies in knowledge graphs"
   ]
  },
  {
   "cell_type": "code",
   "execution_count": null,
   "id": "0c3c117d-4aa5-4641-927d-5ced5d12ccbc",
   "metadata": {},
   "outputs": [],
   "source": []
  }
 ],
 "metadata": {
  "kernelspec": {
   "display_name": "Python [conda env:kumo-hackathon-py311] *",
   "language": "python",
   "name": "conda-env-kumo-hackathon-py311-py"
  },
  "language_info": {
   "codemirror_mode": {
    "name": "ipython",
    "version": 3
   },
   "file_extension": ".py",
   "mimetype": "text/x-python",
   "name": "python",
   "nbconvert_exporter": "python",
   "pygments_lexer": "ipython3",
   "version": "3.11.13"
  }
 },
 "nbformat": 4,
 "nbformat_minor": 5
}
