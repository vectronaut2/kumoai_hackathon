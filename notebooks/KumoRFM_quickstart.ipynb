{
 "cells": [
  {
   "cell_type": "markdown",
   "id": "3QiMeqVqYaU3",
   "metadata": {
    "id": "3QiMeqVqYaU3"
   },
   "source": [
    "# KumoRFM Quickstart\n",
    "\n",
    "[[**Blog**](https://kumo.ai/company/news/kumo-relational-foundation-model/) | [**Paper**](https://kumo.ai/research/kumo_relational_foundation_model.pdf)]\n",
    "\n",
    "**KumoRFM (Kumo Relational Foundation Model)** is a Foundation Model for machine learning on enterprise data. With just your data and a few lines of code, you can generate accurate predictions in real-time: no model training or pipelines required."
   ]
  },
  {
   "cell_type": "markdown",
   "id": "HKJCzrCTYaU3",
   "metadata": {
    "id": "HKJCzrCTYaU3"
   },
   "source": [
    "## Introduction\n",
    "\n",
    "KumoRFM is grounded in three key world views:\n",
    "\n",
    "> **1. Enterprise data is a graph.**\n",
    "\n",
    "Enterprise data is a graph where tables are connected by keys.   \n",
    "Below is an example database where `ITEMS` table and `ORDERS` table are linked by `item_id`.\n",
    "\n",
    "<div align=\"center\">\n",
    "  <img src=\"https://kumo-sdk-public.s3.us-west-2.amazonaws.com/rfm-colabs/relational-database.png\" width=\"500\" />\n",
    "</div>\n",
    "\n",
    "Once we structure enterprise data as a graph, we can apply pre-trained [*Relational Graph Transformers*](https://kumo.ai/research/relational-graph-transformers/) to extract insights and patterns.\n",
    "\n",
    "> **2. With timestamps, we place events on a timeline.**\n",
    "\n",
    "By placing events on a timeline, we unlock the ability to model how things evolve over time.\n",
    "This makes it possible to select any point in time and predict what is likely to happen next, based on the sequence and patterns in historical data.\n",
    "\n",
    "<div align=\"center\">\n",
    "  <img src=\"https://kumo-sdk-public.s3.us-west-2.amazonaws.com/rfm-colabs/timeline.png\" width=\"300\" />\n",
    "</div>\n",
    "\n",
    "> **3. Machine learning tasks can be described via predictive queries.**\n",
    "\n",
    "All major machine learning tasks—regression, classification, recommendation—can be defined using a *Predictive Query language (PQL)*.\n",
    "\n",
    "<div align=\"center\">\n",
    "  <img src=\"https://kumo-sdk-public.s3.us-west-2.amazonaws.com/rfm-colabs/predictive-query-multiple.png\" width=\"600\" />\n",
    "</div>\n",
    "\n",
    "If you know SQL, picking up PQL is a breeze.\n",
    "It will feel familiar right away.\n",
    "Learn more about PQL [here](https://kumo.ai/docs/pquery-structure).\n",
    "\n"
   ]
  },
  {
   "cell_type": "markdown",
   "id": "Enucu67aEPZn",
   "metadata": {
    "id": "Enucu67aEPZn"
   },
   "source": [
    "**Let's get started!**\n",
    "\n"
   ]
  },
  {
   "cell_type": "markdown",
   "id": "psushpJFYaU4",
   "metadata": {
    "id": "psushpJFYaU4"
   },
   "source": [
    "## Step 1. Install the Kumo Python SDK\n",
    "\n",
    "KumoRFM provides an [SDK](https://kumo-ai.github.io/kumo-sdk/docs/get_started/rfm/index.html) in Python.\n",
    "The Kumo SDK is available for Python 3.9 to Python 3.13."
   ]
  },
  {
   "cell_type": "code",
<<<<<<< HEAD
=======
   "execution_count": 2,
>>>>>>> exp2
   "id": "ro8qKwXAYaU4",
   "metadata": {
    "colab": {
     "base_uri": "https://localhost:8080/"
    },
    "id": "ro8qKwXAYaU4",
    "outputId": "618bb76a-be17-48e6-8cdc-8153f895e738",
    "scrolled": true
   },
   "source": [
    "!pip install kumoai"
   ],
   "outputs": [],
   "execution_count": null
  },
  {
   "cell_type": "code",
<<<<<<< HEAD
=======
   "execution_count": 3,
>>>>>>> exp2
   "id": "3b73a9a4-2bd6-438b-9b7b-91583cf2d85d",
   "metadata": {
    "id": "3b73a9a4-2bd6-438b-9b7b-91583cf2d85d"
   },
   "source": [
    "import kumoai.experimental.rfm as rfm"
   ],
   "outputs": [],
   "execution_count": null
  },
  {
   "cell_type": "markdown",
   "id": "cG9-xYdHEhH3",
   "metadata": {
    "id": "cG9-xYdHEhH3"
   },
   "source": [
    "**Note:** The API of `kumoai.experimental.rfm` may change in the near future."
   ]
  },
  {
   "cell_type": "markdown",
   "id": "xr7eIPGuYaU4",
   "metadata": {
    "id": "xr7eIPGuYaU4"
   },
   "source": [
    "## Step 2. Get an API key\n",
    "\n",
    "You will need an API key to make calls to KumoRFM.\n",
    "Use the widget below to generate one for free by clicking \"Generate API Key\".\n",
    "If you don't have a KumoRFM account, the widget will prompt you to signup.\n",
    "\n",
    "You will see the following when your key has been created successfully:\n",
    "\n",
    "<div align=\"left\">\n",
    "  <img src=\"https://kumo-sdk-public.s3.us-west-2.amazonaws.com/rfm-colabs/api-key-created.png\" width=\"300\" />\n",
    "</div>"
   ]
  },
  {
   "cell_type": "code",
<<<<<<< HEAD
=======
   "execution_count": 4,
>>>>>>> exp2
   "id": "f605319a-80ad-45d0-950d-b17fc3e50499",
   "metadata": {
    "colab": {
     "base_uri": "https://localhost:8080/",
     "height": 137
    },
    "id": "f605319a-80ad-45d0-950d-b17fc3e50499",
    "outputId": "197ff215-a5ec-425d-dbf0-9812181bc892"
   },
<<<<<<< HEAD
=======
   "outputs": [
    {
     "name": "stdout",
     "output_type": "stream",
     "text": [
      "Opening browser page to automatically generate an API key...\n"
     ]
    },
    {
     "name": "stderr",
     "output_type": "stream",
     "text": [
      "[2025-08-17 16:25:29 - kumoai:298 - INFO] Generated token \"sdk-macbook-pro-3.local-2025-08-17-16-25-27-Z\" and saved to KUMO_API_KEY env variable\n"
     ]
    }
   ],
>>>>>>> exp2
   "source": [
    "import os\n",
    "\n",
    "if not os.environ.get(\"KUMO_API_KEY\"):\n",
    "    rfm.authenticate()"
   ],
   "outputs": [],
   "execution_count": null
  },
  {
   "cell_type": "markdown",
   "id": "FpYcu6NQYaU5",
   "metadata": {
    "id": "FpYcu6NQYaU5"
   },
   "source": [
    "## Step 3. Initialize a client\n",
    "\n",
    "If you completed step 2 via the widget, you don't need to change anything. `KUMO_API_KEY` is already set as environment variable.\n",
    "\n",
    "If you bring the API key from the website, you can manually change the `KUMO_API_KEY` below:\n"
   ]
  },
  {
   "cell_type": "code",
<<<<<<< HEAD
=======
   "execution_count": 5,
>>>>>>> exp2
   "id": "r7HX2s1iYaU5",
   "metadata": {
    "colab": {
     "base_uri": "https://localhost:8080/"
    },
    "id": "r7HX2s1iYaU5",
    "outputId": "6d9fe296-2772-46a5-cae6-51159cdb2235"
   },
   "source": [
    "# Initialize a Kumo client with your API key:\n",
    "KUMO_API_KEY = os.environ.get(\"KUMO_API_KEY\")\n",
    "# print(KUMO_API_KEY)"
   ],
   "outputs": [],
   "execution_count": null
  },
  {
   "cell_type": "code",
<<<<<<< HEAD
   "id": "c1b676d0-53f7-4f62-89a7-87136394d3e5",
   "metadata": {},
=======
   "execution_count": 6,
   "id": "c1b676d0-53f7-4f62-89a7-87136394d3e5",
   "metadata": {},
   "outputs": [
    {
     "name": "stderr",
     "output_type": "stream",
     "text": [
      "[2025-08-17 16:25:31 - kumoai:196 - INFO] Successfully initialized the Kumo SDK against deployment https://kumorfm.ai/api, with log level INFO.\n"
     ]
    }
   ],
>>>>>>> exp2
   "source": [
    "rfm.init(api_key=KUMO_API_KEY)"
   ],
   "outputs": [],
   "execution_count": null
  },
  {
   "cell_type": "code",
<<<<<<< HEAD
   "id": "99a211a1-cbb7-4d8c-840a-b03631a7900c",
   "metadata": {},
=======
   "execution_count": 7,
   "id": "99a211a1-cbb7-4d8c-840a-b03631a7900c",
   "metadata": {},
   "outputs": [
    {
     "data": {
      "text/plain": [
       "<module 'kumoai.experimental.rfm' from '/Users/ravid/miniconda3/envs/kumo-hackathon-py311/lib/python3.11/site-packages/kumoai/experimental/rfm/__init__.py'>"
      ]
     },
     "execution_count": 7,
     "metadata": {},
     "output_type": "execute_result"
    }
   ],
>>>>>>> exp2
   "source": [
    "rfm"
   ],
   "outputs": [],
   "execution_count": null
  },
  {
   "cell_type": "markdown",
   "id": "RvRgi0DaYaU5",
   "metadata": {
    "id": "RvRgi0DaYaU5"
   },
   "source": [
    "## Step 4. Import your data\n",
    "\n",
    "KumoRFM interacts with a set of `pd.DataFrame` objects:"
   ]
  },
  {
   "cell_type": "code",
<<<<<<< HEAD
=======
   "execution_count": 8,
>>>>>>> exp2
   "id": "uGUWXhbsYaU5",
   "metadata": {
    "id": "uGUWXhbsYaU5"
   },
   "source": [
    "import pandas as pd\n",
    "\n",
    "root = 's3://kumo-sdk-public/rfm-datasets/online-shopping'\n",
    "users_df = pd.read_parquet(f'{root}/users.parquet')\n",
    "items_df = pd.read_parquet(f'{root}/items.parquet')\n",
    "orders_df = pd.read_parquet(f'{root}/orders.parquet')\n",
    "# NOTE You can use `pd.read_csv(...)` to read CSV files instead.\n",
    "# You don't need to use s3 to import your data.\n",
    "# For Colab users, you can upload your data to the file folder (the folder icon on the left panel), and directly import from there.\n",
    "# You can also download this notebook, and import your data locally."
   ],
   "outputs": [],
   "execution_count": null
  },
  {
   "cell_type": "markdown",
   "id": "PFBBD4ZIGXgH",
   "metadata": {
    "id": "PFBBD4ZIGXgH"
   },
   "source": [
    "We can inspect the data and its types in-memory:"
   ]
  },
  {
   "cell_type": "code",
<<<<<<< HEAD
=======
   "execution_count": 9,
>>>>>>> exp2
   "id": "da29027e-e7df-4784-8801-3ffdb91bb3dd",
   "metadata": {
    "colab": {
     "base_uri": "https://localhost:8080/",
     "height": 142
    },
    "id": "da29027e-e7df-4784-8801-3ffdb91bb3dd",
    "outputId": "ce3db5d7-4a86-4ef1-ad36-ce62b83cc368"
   },
<<<<<<< HEAD
=======
   "outputs": [
    {
     "data": {
      "text/html": [
       "<div>\n",
       "<style scoped>\n",
       "    .dataframe tbody tr th:only-of-type {\n",
       "        vertical-align: middle;\n",
       "    }\n",
       "\n",
       "    .dataframe tbody tr th {\n",
       "        vertical-align: top;\n",
       "    }\n",
       "\n",
       "    .dataframe thead th {\n",
       "        text-align: right;\n",
       "    }\n",
       "</style>\n",
       "<table border=\"1\" class=\"dataframe\">\n",
       "  <thead>\n",
       "    <tr style=\"text-align: right;\">\n",
       "      <th></th>\n",
       "      <th>user_id</th>\n",
       "      <th>active</th>\n",
       "      <th>age</th>\n",
       "    </tr>\n",
       "  </thead>\n",
       "  <tbody>\n",
       "    <tr>\n",
       "      <th>0</th>\n",
       "      <td>0</td>\n",
       "      <td>True</td>\n",
       "      <td>49</td>\n",
       "    </tr>\n",
       "    <tr>\n",
       "      <th>1</th>\n",
       "      <td>1</td>\n",
       "      <td>False</td>\n",
       "      <td>28</td>\n",
       "    </tr>\n",
       "    <tr>\n",
       "      <th>2</th>\n",
       "      <td>2</td>\n",
       "      <td>True</td>\n",
       "      <td>26</td>\n",
       "    </tr>\n",
       "    <tr>\n",
       "      <th>3</th>\n",
       "      <td>3</td>\n",
       "      <td>True</td>\n",
       "      <td>20</td>\n",
       "    </tr>\n",
       "  </tbody>\n",
       "</table>\n",
       "</div>"
      ],
      "text/plain": [
       "   user_id  active  age\n",
       "0        0    True   49\n",
       "1        1   False   28\n",
       "2        2    True   26\n",
       "3        3    True   20"
      ]
     },
     "execution_count": 9,
     "metadata": {},
     "output_type": "execute_result"
    }
   ],
>>>>>>> exp2
   "source": [
    "# Inspect a `pandas.DataFrame`:\n",
    "users_df.head(4)"
   ],
   "outputs": [],
   "execution_count": null
  },
  {
   "cell_type": "code",
<<<<<<< HEAD
=======
   "execution_count": 10,
>>>>>>> exp2
   "id": "_R7ucgfDrWcQ",
   "metadata": {
    "colab": {
     "base_uri": "https://localhost:8080/",
     "height": 176
    },
    "id": "_R7ucgfDrWcQ",
    "outputId": "63c9d3c7-834f-4bb9-9206-934167962c08"
   },
<<<<<<< HEAD
=======
   "outputs": [
    {
     "data": {
      "text/plain": [
       "user_id    int64\n",
       "active      bool\n",
       "age        Int64\n",
       "dtype: object"
      ]
     },
     "execution_count": 10,
     "metadata": {},
     "output_type": "execute_result"
    }
   ],
>>>>>>> exp2
   "source": [
    "# Inspect the data types of a `pandas.DataFrame`:\n",
    "users_df.dtypes"
   ],
   "outputs": [],
   "execution_count": null
  },
  {
   "cell_type": "code",
<<<<<<< HEAD
=======
   "execution_count": 11,
>>>>>>> exp2
   "id": "6903924f-2d25-45fc-a755-661c9f5fdbb3",
   "metadata": {
    "id": "6903924f-2d25-45fc-a755-661c9f5fdbb3"
   },
   "source": [
    "# Optional: Change the data type of columns (if necessary):\n",
    "users_df['user_id'] = users_df['user_id'].astype(int)"
   ],
   "outputs": [],
   "execution_count": null
  },
  {
   "cell_type": "markdown",
   "id": "PXUd-a9KYaU6",
   "metadata": {
    "id": "PXUd-a9KYaU6"
   },
   "source": [
    "## Step 5. Create KumoRFM tables\n",
    "\n",
    "A `rfm.LocalTable` acts as a lightweight abstraction of a `pandas.DataFrame`, providing additional integration.\n",
    "\n",
    "A `LocalTable` defines three critical things about the table:\n",
    "\n",
    "1. **Semantic types** define how column data will be encoded. For instance, an integer column can be encoded either as `\"numercial\"` or `\"categorical\"`, depending on the actual meaning of the data (see reference at the end of this section for more details).\n",
    "\n",
    "2. A **primary key** uniquely identifies each row in a table (*e.g.*, `user_id` is the primary key in the `users` table). It serves two purpose: (1) when creating a graph, it's the reference point to link other tables (2) when making predictions, it identifies the entity to generate predictions for. For instance, if you want to predict user outcomes, you'll need a table with `user_id` as the primary key.\n",
    "\n",
    "3. A **time column** defines when the event happened (*i.e.* a timestamp column). Time columns help establish the sequence of events. KumoRFM automatically draws from these time slices to inform future predictions.\n",
    "\n",
    "Don't worry if it doesn't all click right away—it'll become clearer once you reach the prediction section. For now, go ahead and follow along with the notebook."
   ]
  },
  {
   "cell_type": "markdown",
   "id": "QFJvod3zIOr6",
   "metadata": {
    "id": "QFJvod3zIOr6"
   },
   "source": [
    "KumoRFM is smart enough to infer most things correctly.\n",
    "You may still want to inspect the results of inferred metadata to ensure correctness downstream:"
   ]
  },
  {
   "cell_type": "code",
<<<<<<< HEAD
=======
   "execution_count": 12,
>>>>>>> exp2
   "id": "_OiiUzNkYaU6",
   "metadata": {
    "colab": {
     "base_uri": "https://localhost:8080/"
    },
    "id": "_OiiUzNkYaU6",
    "outputId": "b79b88a7-34da-4a72-e186-53d61d0d9fad",
    "scrolled": true
   },
   "source": [
    "users = rfm.LocalTable(users_df, name=\"users\").infer_metadata()\n",
    "orders = rfm.LocalTable(orders_df, name=\"orders\").infer_metadata()\n",
    "items = rfm.LocalTable(items_df, name=\"items\").infer_metadata()"
   ],
   "outputs": [],
   "execution_count": null
  },
  {
   "cell_type": "markdown",
   "id": "lAjwrT53Ilny",
   "metadata": {
    "id": "lAjwrT53Ilny"
   },
   "source": [
    "If you prefer more explicit control, you can manually assign metadata during table creation instead of relying on automatic inference:"
   ]
  },
  {
   "cell_type": "code",
<<<<<<< HEAD
=======
   "execution_count": 13,
>>>>>>> exp2
   "id": "chEiUDg0JU3Y",
   "metadata": {
    "id": "chEiUDg0JU3Y"
   },
   "source": [
    "orders = rfm.LocalTable(\n",
    "    orders_df,\n",
    "    name=\"orders\",\n",
    "    primary_key=\"order_id\",\n",
    "    time_column=\"date\"\n",
    ")"
   ],
   "outputs": [],
   "execution_count": null
  },
  {
   "cell_type": "markdown",
   "id": "txRjCfo0IuJ-",
   "metadata": {
    "id": "txRjCfo0IuJ-"
   },
   "source": [
    "You can inspect the metadata of the table ..."
   ]
  },
  {
   "cell_type": "code",
<<<<<<< HEAD
=======
   "execution_count": 14,
>>>>>>> exp2
   "id": "Iw76LJe9YaU6",
   "metadata": {
    "colab": {
     "base_uri": "https://localhost:8080/",
     "height": 182
    },
    "id": "Iw76LJe9YaU6",
    "outputId": "ee189b40-74a8-4698-8172-7ebaa9d79631"
   },
<<<<<<< HEAD
=======
   "outputs": [
    {
     "data": {
      "text/markdown": [
       "### 🏷️ Metadata of Table `users` (1,000 rows)"
      ],
      "text/plain": [
       "<IPython.core.display.Markdown object>"
      ]
     },
     "metadata": {},
     "output_type": "display_data"
    },
    {
     "data": {
      "text/html": [
       "<style type=\"text/css\">\n",
       "</style>\n",
       "<table id=\"T_4944e\">\n",
       "  <thead>\n",
       "    <tr>\n",
       "      <th id=\"T_4944e_level0_col0\" class=\"col_heading level0 col0\" >name</th>\n",
       "      <th id=\"T_4944e_level0_col1\" class=\"col_heading level0 col1\" >dtype</th>\n",
       "      <th id=\"T_4944e_level0_col2\" class=\"col_heading level0 col2\" >stype</th>\n",
       "      <th id=\"T_4944e_level0_col3\" class=\"col_heading level0 col3\" >is_primary_key</th>\n",
       "      <th id=\"T_4944e_level0_col4\" class=\"col_heading level0 col4\" >is_time_column</th>\n",
       "    </tr>\n",
       "  </thead>\n",
       "  <tbody>\n",
       "    <tr>\n",
       "      <td id=\"T_4944e_row0_col0\" class=\"data row0 col0\" >user_id</td>\n",
       "      <td id=\"T_4944e_row0_col1\" class=\"data row0 col1\" >int</td>\n",
       "      <td id=\"T_4944e_row0_col2\" class=\"data row0 col2\" >ID</td>\n",
       "      <td id=\"T_4944e_row0_col3\" class=\"data row0 col3\" >True</td>\n",
       "      <td id=\"T_4944e_row0_col4\" class=\"data row0 col4\" >False</td>\n",
       "    </tr>\n",
       "    <tr>\n",
       "      <td id=\"T_4944e_row1_col0\" class=\"data row1 col0\" >active</td>\n",
       "      <td id=\"T_4944e_row1_col1\" class=\"data row1 col1\" >bool</td>\n",
       "      <td id=\"T_4944e_row1_col2\" class=\"data row1 col2\" >categorical</td>\n",
       "      <td id=\"T_4944e_row1_col3\" class=\"data row1 col3\" >False</td>\n",
       "      <td id=\"T_4944e_row1_col4\" class=\"data row1 col4\" >False</td>\n",
       "    </tr>\n",
       "    <tr>\n",
       "      <td id=\"T_4944e_row2_col0\" class=\"data row2 col0\" >age</td>\n",
       "      <td id=\"T_4944e_row2_col1\" class=\"data row2 col1\" >int</td>\n",
       "      <td id=\"T_4944e_row2_col2\" class=\"data row2 col2\" >numerical</td>\n",
       "      <td id=\"T_4944e_row2_col3\" class=\"data row2 col3\" >False</td>\n",
       "      <td id=\"T_4944e_row2_col4\" class=\"data row2 col4\" >False</td>\n",
       "    </tr>\n",
       "  </tbody>\n",
       "</table>\n"
      ],
      "text/plain": [
       "<pandas.io.formats.style.Styler at 0x122e34ad0>"
      ]
     },
     "metadata": {},
     "output_type": "display_data"
    }
   ],
>>>>>>> exp2
   "source": [
    "users.print_metadata()"
   ],
   "outputs": [],
   "execution_count": null
  },
  {
   "cell_type": "markdown",
   "id": "r1BqpiFdI0j7",
   "metadata": {
    "id": "r1BqpiFdI0j7"
   },
   "source": [
    "... and apply any required changes manually:"
   ]
  },
  {
   "cell_type": "code",
<<<<<<< HEAD
=======
   "execution_count": 15,
>>>>>>> exp2
   "id": "E4pCdy4BYaU6",
   "metadata": {
    "id": "E4pCdy4BYaU6"
   },
   "source": [
    "# Update the semantic type (stype) of columns:\n",
    "users['user_id'].stype = \"ID\"\n",
    "users['age'].stype = \"numerical\"\n",
    "\n",
    "# Set primary key:\n",
    "users.primary_key = \"user_id\"\n",
    "\n",
    "# Set time column:\n",
    "orders.time_column = \"date\""
   ],
   "outputs": [],
   "execution_count": null
  },
  {
   "cell_type": "markdown",
   "id": "HeISl7332Zgr",
   "metadata": {
    "id": "HeISl7332Zgr"
   },
   "source": [
    "**Quick Reference:**\n",
    "\n",
    "1. **`stype` (semantic type)**:\n",
    "   - A `stype` will determine how the column will be encoded downstream.\n",
    "   - Correctly setting each column's stype is critical for model performance. For instance, if you want to perform missing value imputation, the semantic type will determine whether it is treated as a regression task (`stype=\"numerical\"`) or a classification task (`stype=\"categorical\")`.\n",
    "\n",
    "| Type | Explanation | Example |\n",
    "|------|-------------|---------|\n",
    "| `\"numerical\"` | Numerical values (*e.g.*, `price`, `age`) | `25`, `3.14`, `-10` |\n",
    "| `\"categorical\"` | Discrete categories with limited cardinality | Color: `\"red\"`, `\"blue\"`, `\"green\"` (one cell may only have one category) |\n",
    "| `\"multicategorical\"` | Multiple categories in a single cell | `\"Action\\|Drama\\|Comedy\"`, `\"Action\\|Thriller\"` |\n",
    "| `\"ID\"` | An identifier, *e.g.*, primary keys or foreign keys | `user_id: 123`, `product_id: PRD-8729453` |\n",
    "| `\"text\"` | Natural language text | Descriptions |\n",
    "| `\"timestamp\"` | Specific point in time | `\"2025-07-11\"`,  `\"2023-02-12 09:47:58`\" |\n",
    "| `\"sequence\"` | Custom embeddings or sequential data  | `[0.25, -0.75, 0.50, ...]` |\n",
    "\n",
    "2. **`primary_key`**:\n",
    "   - Indicates the column that will be used as primary key to link other tables to it. For instance, `user_id` should be the primary key for table `users`.\n",
    "   - If there are duplicated primary keys, the system will only keep the first one.\n",
    "   - `primary_key` can only be assigned to columns holding integers, floating point values or strings.\n",
    "   - Each table can have at most one `primary_key` column.\n",
    "\n",
    "3. **`time_column`**:\n",
    "   - Indicates the timestamp column that record when the event occurred.\n",
    "   - Time column data must be able to be parsed via `pandas.to_datetime`.\n",
    "   - Each table can have at most one `time_column` column."
   ]
  },
  {
   "cell_type": "markdown",
   "id": "T4fEPffRYaU7",
   "metadata": {
    "id": "T4fEPffRYaU7"
   },
   "source": [
    "## Step 6. Create a graph in two simple steps\n",
    "\n",
    "We are now ready to inter-connect our tables to form a `LocalGraph`.\n",
    "But how to get started with building a graph? What tables should you include?\n",
    "\n",
    "A good guiding principle is to start simple: begin with just the minimal set of tables needed to support the prediction task you care about. Focus on the core entities and relationships essential to prediction.\n",
    "\n",
    "For example, suppose your goal is to predict a user's future orders. At a minimum, your graph only needs two tables:\n",
    "\n",
    "- `users`: representing each user\n",
    "- `orders`: representing the orders placed by those users\n",
    "\n",
    "This minimal setup forms a usable graph for prediction. From there, you can gradually add complexity. For instance, you might later introduce an `items` table, so that RFM can take into account `item` information."
   ]
  },
  {
   "cell_type": "markdown",
   "id": "243f4660-42a4-42b8-b0bb-e90d368ee5af",
   "metadata": {
    "id": "243f4660-42a4-42b8-b0bb-e90d368ee5af"
   },
   "source": [
    " **1. Select the tables:**"
   ]
  },
  {
   "cell_type": "code",
<<<<<<< HEAD
=======
   "execution_count": 16,
>>>>>>> exp2
   "id": "4682348b-71ef-47e1-a2b6-e31f434376cd",
   "metadata": {
    "id": "4682348b-71ef-47e1-a2b6-e31f434376cd"
   },
   "source": [
    "graph = rfm.LocalGraph(tables=[\n",
    "    users,\n",
    "    orders,\n",
    "    items,\n",
    "])"
   ],
   "outputs": [],
   "execution_count": null
  },
  {
   "cell_type": "markdown",
   "id": "bpe8yBuaOGIz",
   "metadata": {
    "id": "bpe8yBuaOGIz"
   },
   "source": [
    "**2. Link the tables:**\n",
    "\n",
    "In the `orders` table (`src_table`), there exists a column named `user_id` (`fkey`), which we can use as a foreign key to link to the primary key in the `users` table (`dst_table`).\n",
    "You don't need to specify the primary key here since it's already known as part of the metadata of the `users` table."
   ]
  },
  {
   "cell_type": "code",
<<<<<<< HEAD
=======
   "execution_count": 17,
>>>>>>> exp2
   "id": "pcwsiX_AYaU7",
   "metadata": {
    "id": "pcwsiX_AYaU7"
   },
   "source": [
    "graph.link(src_table=\"orders\", fkey=\"user_id\", dst_table=\"users\");"
   ],
   "outputs": [],
   "execution_count": null
  },
  {
   "cell_type": "markdown",
   "id": "9FeVEveUOn9v",
   "metadata": {
    "id": "9FeVEveUOn9v"
   },
   "source": [
    "Also link from the foreign key `item_id` in the `orders` table to the `items` table."
   ]
  },
  {
   "cell_type": "code",
<<<<<<< HEAD
=======
   "execution_count": 18,
>>>>>>> exp2
   "id": "696291cf-a60c-4854-9252-43384c3b3b91",
   "metadata": {
    "id": "696291cf-a60c-4854-9252-43384c3b3b91"
   },
   "source": [
    "graph.link(src_table=\"orders\", fkey=\"item_id\", dst_table=\"items\");"
   ],
   "outputs": [],
   "execution_count": null
  },
  {
   "cell_type": "code",
<<<<<<< HEAD
=======
   "execution_count": 19,
>>>>>>> exp2
   "id": "5e3d3b40",
   "metadata": {},
   "source": [
    "!pip install graphviz"
   ],
   "outputs": [],
   "execution_count": null
  },
  {
   "cell_type": "markdown",
   "id": "Tw47zUyTOwjT",
   "metadata": {
    "id": "Tw47zUyTOwjT"
   },
   "source": [
    "You can verify that graph connectivity is set up by visualizing the graph ..."
   ]
  },
  {
   "cell_type": "code",
<<<<<<< HEAD
=======
   "execution_count": 20,
>>>>>>> exp2
   "id": "rpr9kic2YaU7",
   "metadata": {
    "colab": {
     "base_uri": "https://localhost:8080/",
     "height": 473
    },
    "id": "rpr9kic2YaU7",
    "outputId": "2095a3f0-5516-43c5-8e48-1eec222df77f",
    "scrolled": true
   },
<<<<<<< HEAD
=======
   "outputs": [
    {
     "data": {
      "image/svg+xml": [
       "<?xml version=\"1.0\" encoding=\"UTF-8\" standalone=\"no\"?>\n",
       "<!DOCTYPE svg PUBLIC \"-//W3C//DTD SVG 1.1//EN\"\n",
       " \"http://www.w3.org/Graphics/SVG/1.1/DTD/svg11.dtd\">\n",
       "<!-- Generated by graphviz version 12.2.1 (20241206.2353)\n",
       " -->\n",
       "<!-- Pages: 1 -->\n",
       "<svg width=\"350pt\" height=\"360pt\"\n",
       " viewBox=\"0.00 0.00 350.25 360.00\" xmlns=\"http://www.w3.org/2000/svg\" xmlns:xlink=\"http://www.w3.org/1999/xlink\">\n",
       "<g id=\"graph0\" class=\"graph\" transform=\"scale(1 1) rotate(0) translate(4 356)\">\n",
       "<polygon fill=\"white\" stroke=\"none\" points=\"-4,4 -4,-356 346.25,-356 346.25,4 -4,4\"/>\n",
       "<!-- users -->\n",
       "<g id=\"node1\" class=\"node\">\n",
       "<title>users</title>\n",
       "<polygon fill=\"none\" stroke=\"black\" points=\"0,-17 0,-107 151.75,-107 151.75,-17 0,-17\"/>\n",
       "<text text-anchor=\"middle\" x=\"75.88\" y=\"-89.7\" font-family=\"Times,serif\" font-size=\"14.00\">users</text>\n",
       "<polyline fill=\"none\" stroke=\"black\" points=\"0,-82.5 151.75,-82.5\"/>\n",
       "<text text-anchor=\"start\" x=\"8\" y=\"-65.2\" font-family=\"Times,serif\" font-size=\"14.00\">user_id: PK (int)</text>\n",
       "<polyline fill=\"none\" stroke=\"black\" points=\"0,-58 151.75,-58\"/>\n",
       "<text text-anchor=\"start\" x=\"8\" y=\"-40.7\" font-family=\"Times,serif\" font-size=\"14.00\">active: categorical (bool)</text>\n",
       "<text text-anchor=\"start\" x=\"8\" y=\"-24.2\" font-family=\"Times,serif\" font-size=\"14.00\">age: numerical (int)</text>\n",
       "</g>\n",
       "<!-- orders -->\n",
       "<g id=\"node2\" class=\"node\">\n",
       "<title>orders</title>\n",
       "<polygon fill=\"none\" stroke=\"black\" points=\"87.38,-212 87.38,-351.5 244.38,-351.5 244.38,-212 87.38,-212\"/>\n",
       "<text text-anchor=\"middle\" x=\"165.88\" y=\"-334.2\" font-family=\"Times,serif\" font-size=\"14.00\">orders</text>\n",
       "<polyline fill=\"none\" stroke=\"black\" points=\"87.38,-327 244.38,-327\"/>\n",
       "<text text-anchor=\"start\" x=\"95.38\" y=\"-309.7\" font-family=\"Times,serif\" font-size=\"14.00\">order_id: PK (int)</text>\n",
       "<text text-anchor=\"start\" x=\"95.38\" y=\"-293.2\" font-family=\"Times,serif\" font-size=\"14.00\">user_id: FK (int)</text>\n",
       "<text text-anchor=\"start\" x=\"95.38\" y=\"-276.7\" font-family=\"Times,serif\" font-size=\"14.00\">item_id: FK (int)</text>\n",
       "<text text-anchor=\"start\" x=\"95.38\" y=\"-260.2\" font-family=\"Times,serif\" font-size=\"14.00\">date: Time (date)</text>\n",
       "<polyline fill=\"none\" stroke=\"black\" points=\"87.38,-253 244.38,-253\"/>\n",
       "<text text-anchor=\"start\" x=\"95.38\" y=\"-235.7\" font-family=\"Times,serif\" font-size=\"14.00\">sales_channel_id: ID (int)</text>\n",
       "<text text-anchor=\"start\" x=\"95.38\" y=\"-219.2\" font-family=\"Times,serif\" font-size=\"14.00\">price: numerical (float)</text>\n",
       "</g>\n",
       "<!-- orders&#45;&#45;users -->\n",
       "<g id=\"edge1\" class=\"edge\">\n",
       "<title>orders&#45;&#45;users</title>\n",
       "<path fill=\"none\" stroke=\"black\" d=\"M137.27,-211.55C123.17,-177.43 106.58,-137.29 94.2,-107.34\"/>\n",
       "<text text-anchor=\"middle\" x=\"140.75\" y=\"-164.05\" font-family=\"Times,serif\" font-size=\"11.00\"> user_id </text>\n",
       "<text text-anchor=\"middle\" x=\"105.25\" y=\"-113.78\" font-family=\"Times,serif\" font-size=\"11.00\">1</text>\n",
       "<text text-anchor=\"middle\" x=\"126.22\" y=\"-197.71\" font-family=\"Times,serif\" font-size=\"11.00\">*</text>\n",
       "</g>\n",
       "<!-- items -->\n",
       "<g id=\"node3\" class=\"node\">\n",
       "<title>items</title>\n",
       "<polygon fill=\"none\" stroke=\"black\" points=\"169.5,-0.5 169.5,-123.5 342.25,-123.5 342.25,-0.5 169.5,-0.5\"/>\n",
       "<text text-anchor=\"middle\" x=\"255.88\" y=\"-106.2\" font-family=\"Times,serif\" font-size=\"14.00\">items</text>\n",
       "<polyline fill=\"none\" stroke=\"black\" points=\"169.5,-99 342.25,-99\"/>\n",
       "<text text-anchor=\"start\" x=\"177.5\" y=\"-81.7\" font-family=\"Times,serif\" font-size=\"14.00\">item_id: PK (int)</text>\n",
       "<polyline fill=\"none\" stroke=\"black\" points=\"169.5,-74.5 342.25,-74.5\"/>\n",
       "<text text-anchor=\"start\" x=\"177.5\" y=\"-57.2\" font-family=\"Times,serif\" font-size=\"14.00\">item_name: text (string)</text>\n",
       "<text text-anchor=\"start\" x=\"177.5\" y=\"-40.7\" font-family=\"Times,serif\" font-size=\"14.00\">category: categorical (string)</text>\n",
       "<text text-anchor=\"start\" x=\"177.5\" y=\"-24.2\" font-family=\"Times,serif\" font-size=\"14.00\">color: categorical (string)</text>\n",
       "<text text-anchor=\"start\" x=\"177.5\" y=\"-7.7\" font-family=\"Times,serif\" font-size=\"14.00\">descriptions: text (string)</text>\n",
       "</g>\n",
       "<!-- orders&#45;&#45;items -->\n",
       "<g id=\"edge2\" class=\"edge\">\n",
       "<title>orders&#45;&#45;items</title>\n",
       "<path fill=\"none\" stroke=\"black\" d=\"M194.48,-211.55C206.11,-183.41 219.43,-151.17 230.69,-123.93\"/>\n",
       "<text text-anchor=\"middle\" x=\"234.87\" y=\"-164.05\" font-family=\"Times,serif\" font-size=\"11.00\"> item_id </text>\n",
       "<text text-anchor=\"middle\" x=\"231.36\" y=\"-135.21\" font-family=\"Times,serif\" font-size=\"11.00\">1</text>\n",
       "<text text-anchor=\"middle\" x=\"193.81\" y=\"-192.87\" font-family=\"Times,serif\" font-size=\"11.00\">*</text>\n",
       "</g>\n",
       "</g>\n",
       "</svg>\n"
      ],
      "text/plain": [
       "<graphviz.graphs.Graph at 0x122e22a90>"
      ]
     },
     "metadata": {},
     "output_type": "display_data"
    }
   ],
>>>>>>> exp2
   "source": [
    "# Requires graphviz to be installed\n",
    "\n",
    "graph.visualize();"
   ],
   "outputs": [],
   "execution_count": null
  },
  {
   "cell_type": "markdown",
   "id": "Ga4uW0WiO2tl",
   "metadata": {
    "id": "Ga4uW0WiO2tl"
   },
   "source": [
    "... or by printing all necessary information:"
   ]
  },
  {
   "cell_type": "code",
<<<<<<< HEAD
=======
   "execution_count": 21,
>>>>>>> exp2
   "id": "ajMhnesnYaU7",
   "metadata": {
    "colab": {
     "base_uri": "https://localhost:8080/",
     "height": 265
    },
    "id": "ajMhnesnYaU7",
    "outputId": "b0d884db-1229-49c4-d970-6467159af2e0"
   },
<<<<<<< HEAD
=======
   "outputs": [
    {
     "data": {
      "text/markdown": [
       "### 🗂️ Graph Metadata"
      ],
      "text/plain": [
       "<IPython.core.display.Markdown object>"
      ]
     },
     "metadata": {},
     "output_type": "display_data"
    },
    {
     "data": {
      "text/html": [
       "<style type=\"text/css\">\n",
       "</style>\n",
       "<table id=\"T_0bfc7\">\n",
       "  <thead>\n",
       "    <tr>\n",
       "      <th id=\"T_0bfc7_level0_col0\" class=\"col_heading level0 col0\" >name</th>\n",
       "      <th id=\"T_0bfc7_level0_col1\" class=\"col_heading level0 col1\" >primary_key</th>\n",
       "      <th id=\"T_0bfc7_level0_col2\" class=\"col_heading level0 col2\" >time_column</th>\n",
       "    </tr>\n",
       "  </thead>\n",
       "  <tbody>\n",
       "    <tr>\n",
       "      <td id=\"T_0bfc7_row0_col0\" class=\"data row0 col0\" >users</td>\n",
       "      <td id=\"T_0bfc7_row0_col1\" class=\"data row0 col1\" >user_id</td>\n",
       "      <td id=\"T_0bfc7_row0_col2\" class=\"data row0 col2\" >-</td>\n",
       "    </tr>\n",
       "    <tr>\n",
       "      <td id=\"T_0bfc7_row1_col0\" class=\"data row1 col0\" >orders</td>\n",
       "      <td id=\"T_0bfc7_row1_col1\" class=\"data row1 col1\" >order_id</td>\n",
       "      <td id=\"T_0bfc7_row1_col2\" class=\"data row1 col2\" >date</td>\n",
       "    </tr>\n",
       "    <tr>\n",
       "      <td id=\"T_0bfc7_row2_col0\" class=\"data row2 col0\" >items</td>\n",
       "      <td id=\"T_0bfc7_row2_col1\" class=\"data row2 col1\" >item_id</td>\n",
       "      <td id=\"T_0bfc7_row2_col2\" class=\"data row2 col2\" >-</td>\n",
       "    </tr>\n",
       "  </tbody>\n",
       "</table>\n"
      ],
      "text/plain": [
       "<pandas.io.formats.style.Styler at 0x12550ba90>"
      ]
     },
     "metadata": {},
     "output_type": "display_data"
    },
    {
     "data": {
      "text/markdown": [
       "### 🕸️ Graph Links (FK ↔️ PK)"
      ],
      "text/plain": [
       "<IPython.core.display.Markdown object>"
      ]
     },
     "metadata": {},
     "output_type": "display_data"
    },
    {
     "data": {
      "text/markdown": [
       "- `orders.item_id` ↔️ `items.item_id`\n",
       "- `orders.user_id` ↔️ `users.user_id`"
      ],
      "text/plain": [
       "<IPython.core.display.Markdown object>"
      ]
     },
     "metadata": {},
     "output_type": "display_data"
    }
   ],
>>>>>>> exp2
   "source": [
    "graph.print_metadata()\n",
    "graph.print_links()"
   ],
   "outputs": [],
   "execution_count": null
  },
  {
   "cell_type": "markdown",
   "id": "DbptB-ckYaU8",
   "metadata": {
    "id": "DbptB-ckYaU8"
   },
   "source": [
    "You can update and modify links as needed:"
   ]
  },
  {
   "cell_type": "code",
<<<<<<< HEAD
=======
   "execution_count": 22,
>>>>>>> exp2
   "id": "F9jeyapsYaU8",
   "metadata": {
    "id": "F9jeyapsYaU8"
   },
   "source": [
    "# Remove link:\n",
    "graph.unlink(src_table=\"orders\", fkey=\"user_id\", dst_table=\"users\")\n",
    "\n",
    "# Re-add link:\n",
    "graph.link(src_table=\"orders\", fkey=\"user_id\", dst_table=\"users\");"
   ],
   "outputs": [],
   "execution_count": null
  },
  {
   "cell_type": "markdown",
   "id": "MxTWmDF_PY10",
   "metadata": {
    "id": "MxTWmDF_PY10"
   },
   "source": [
    "In addition, there exists a handy short-cut that lets you create a `LocalGraph` directly from a set of `pandas.DataFrame` objects, bypassing the step of manual `LocalTable` creation:"
   ]
  },
  {
   "cell_type": "code",
<<<<<<< HEAD
=======
   "execution_count": 23,
>>>>>>> exp2
   "id": "3MhtnEBqPnM1",
   "metadata": {
    "colab": {
     "base_uri": "https://localhost:8080/",
     "height": 265
    },
    "id": "3MhtnEBqPnM1",
    "outputId": "1bc48fc1-57d0-4d55-a52c-a1289774ab2a"
   },
<<<<<<< HEAD
=======
   "outputs": [
    {
     "data": {
      "text/markdown": [
       "### 🗂️ Graph Metadata"
      ],
      "text/plain": [
       "<IPython.core.display.Markdown object>"
      ]
     },
     "metadata": {},
     "output_type": "display_data"
    },
    {
     "data": {
      "text/html": [
       "<style type=\"text/css\">\n",
       "</style>\n",
       "<table id=\"T_0cd35\">\n",
       "  <thead>\n",
       "    <tr>\n",
       "      <th id=\"T_0cd35_level0_col0\" class=\"col_heading level0 col0\" >name</th>\n",
       "      <th id=\"T_0cd35_level0_col1\" class=\"col_heading level0 col1\" >primary_key</th>\n",
       "      <th id=\"T_0cd35_level0_col2\" class=\"col_heading level0 col2\" >time_column</th>\n",
       "    </tr>\n",
       "  </thead>\n",
       "  <tbody>\n",
       "    <tr>\n",
       "      <td id=\"T_0cd35_row0_col0\" class=\"data row0 col0\" >users</td>\n",
       "      <td id=\"T_0cd35_row0_col1\" class=\"data row0 col1\" >user_id</td>\n",
       "      <td id=\"T_0cd35_row0_col2\" class=\"data row0 col2\" >-</td>\n",
       "    </tr>\n",
       "    <tr>\n",
       "      <td id=\"T_0cd35_row1_col0\" class=\"data row1 col0\" >orders</td>\n",
       "      <td id=\"T_0cd35_row1_col1\" class=\"data row1 col1\" >order_id</td>\n",
       "      <td id=\"T_0cd35_row1_col2\" class=\"data row1 col2\" >date</td>\n",
       "    </tr>\n",
       "    <tr>\n",
       "      <td id=\"T_0cd35_row2_col0\" class=\"data row2 col0\" >items</td>\n",
       "      <td id=\"T_0cd35_row2_col1\" class=\"data row2 col1\" >item_id</td>\n",
       "      <td id=\"T_0cd35_row2_col2\" class=\"data row2 col2\" >-</td>\n",
       "    </tr>\n",
       "  </tbody>\n",
       "</table>\n"
      ],
      "text/plain": [
       "<pandas.io.formats.style.Styler at 0x1254bdc50>"
      ]
     },
     "metadata": {},
     "output_type": "display_data"
    },
    {
     "data": {
      "text/markdown": [
       "### 🕸️ Graph Links (FK ↔️ PK)"
      ],
      "text/plain": [
       "<IPython.core.display.Markdown object>"
      ]
     },
     "metadata": {},
     "output_type": "display_data"
    },
    {
     "data": {
      "text/markdown": [
       "- `orders.item_id` ↔️ `items.item_id`\n",
       "- `orders.user_id` ↔️ `users.user_id`"
      ],
      "text/plain": [
       "<IPython.core.display.Markdown object>"
      ]
     },
     "metadata": {},
     "output_type": "display_data"
    }
   ],
>>>>>>> exp2
   "source": [
    "graph = rfm.LocalGraph.from_data({\n",
    "    'users': users_df,\n",
    "    'orders': orders_df,\n",
    "    'items': items_df,\n",
    "}, infer_metadata=True)"
   ],
   "outputs": [],
   "execution_count": null
  },
  {
   "cell_type": "markdown",
   "id": "Iegen4I8YaU8",
   "metadata": {
    "id": "Iegen4I8YaU8"
   },
   "source": [
    "## Step 7. Write a predictive query\n",
    "\n",
    "You are now ready to plug your graph into `KumoRFM` to make predictions!\n",
    "\n",
    "The great thing about the graph is that it's a one-time setup—once it's in place, you can generate a variety of predictions from it and power many business use cases."
   ]
  },
  {
   "cell_type": "code",
<<<<<<< HEAD
=======
   "execution_count": 24,
>>>>>>> exp2
   "id": "RHarmrJIyiIx",
   "metadata": {
    "colab": {
     "base_uri": "https://localhost:8080/",
     "height": 104,
     "referenced_widgets": [
      "26d5c52ea45340ac9d126bcc36a18806",
      "1ce86dfa3a0542d0ad33f10326769989"
     ]
    },
    "id": "RHarmrJIyiIx",
    "outputId": "2f86b11f-ede7-4848-a46e-0abcbee7282e"
   },
<<<<<<< HEAD
=======
   "outputs": [
    {
     "data": {
      "application/vnd.jupyter.widget-view+json": {
       "model_id": "7a23007c51d940f6afa9812aeb4e61ed",
       "version_major": 2,
       "version_minor": 0
      },
      "text/plain": [
       "Output()"
      ]
     },
     "metadata": {},
     "output_type": "display_data"
    },
    {
     "data": {
      "text/html": [
       "<pre style=\"white-space:pre;overflow-x:auto;line-height:normal;font-family:Menlo,'DejaVu Sans Mono',consolas,'Courier New',monospace\"></pre>\n"
      ],
      "text/plain": []
     },
     "metadata": {},
     "output_type": "display_data"
    }
   ],
>>>>>>> exp2
   "source": [
    "model = rfm.KumoRFM(graph)"
   ],
   "outputs": [],
   "execution_count": null
  },
  {
   "cell_type": "markdown",
   "id": "hFNiSPODQAjd",
   "metadata": {
    "id": "hFNiSPODQAjd"
   },
   "source": [
    "**Note:** The data is synthetic, and the query and results are intended for demo purposes. We encourage you to benchmark the model using your own data."
   ]
  },
  {
   "cell_type": "markdown",
   "id": "9dc6cb85-4ee3-4057-a806-5950563e0926",
   "metadata": {
    "id": "9dc6cb85-4ee3-4057-a806-5950563e0926"
   },
   "source": [
    "### Example 1A: Forecast 30-day product demand\n",
    "\n",
    "Predict the revenue (sum of order prices) the item with `item_id=42` will generate in the next 30 days."
   ]
  },
  {
   "cell_type": "code",
<<<<<<< HEAD
=======
   "execution_count": 25,
>>>>>>> exp2
   "id": "pkAgGHogYaU8",
   "metadata": {
    "colab": {
     "base_uri": "https://localhost:8080/",
     "height": 160,
     "referenced_widgets": [
      "771e4cef1ef541ff937be9370c135feb",
      "7374a7a88ae64f948e6d83f42b5ca3ef"
     ]
    },
    "id": "pkAgGHogYaU8",
    "outputId": "cf4f71b2-818a-4421-cd08-ba3362a461ea"
   },
<<<<<<< HEAD
=======
   "outputs": [
    {
     "data": {
      "application/vnd.jupyter.widget-view+json": {
       "model_id": "bfd5ac03a67348a7ae27ec4ceec3d34c",
       "version_major": 2,
       "version_minor": 0
      },
      "text/plain": [
       "Output()"
      ]
     },
     "metadata": {},
     "output_type": "display_data"
    },
    {
     "data": {
      "text/html": [
       "<pre style=\"white-space:pre;overflow-x:auto;line-height:normal;font-family:Menlo,'DejaVu Sans Mono',consolas,'Courier New',monospace\"></pre>\n"
      ],
      "text/plain": []
     },
     "metadata": {},
     "output_type": "display_data"
    },
    {
     "ename": "RuntimeError",
     "evalue": "An unexpected exception occurred. Please create an issue at 'https://github.com/kumo-ai/kumo-rfm'. RFM backend error: {\"detail\":\"CUDA error: device-side assert triggered\\nCUDA kernel errors might be asynchronously reported at some other API call, so the stacktrace below might be incorrect.\\nFor debugging consider passing CUDA_LAUNCH_BLOCKING=1.\\nCompile with `TORCH_USE_CUDA_DSA` to enable device-side assertions.\\n\"}",
     "output_type": "error",
     "traceback": [
      "\u001b[31m---------------------------------------------------------------------------\u001b[39m",
      "\u001b[31mRuntimeError\u001b[39m                              Traceback (most recent call last)",
      "\u001b[36mCell\u001b[39m\u001b[36m \u001b[39m\u001b[32mIn[25]\u001b[39m\u001b[32m, line 3\u001b[39m\n\u001b[32m      1\u001b[39m query = \u001b[33m\"\u001b[39m\u001b[33mPREDICT SUM(orders.price, 0, 30, days) FOR items.item_id=42\u001b[39m\u001b[33m\"\u001b[39m\n\u001b[32m----> \u001b[39m\u001b[32m3\u001b[39m df = model.predict(query)\n\u001b[32m      4\u001b[39m display(df)\n",
      "\u001b[36mFile \u001b[39m\u001b[32m~/miniconda3/envs/kumo-hackathon-py311/lib/python3.11/site-packages/kumoai/experimental/rfm/rfm.py:165\u001b[39m, in \u001b[36mKumoRFM.predict\u001b[39m\u001b[34m(self, query, anchor_time, run_mode, num_hops, random_seed, verbose)\u001b[39m\n\u001b[32m    163\u001b[39m         \u001b[38;5;28;01mexcept\u001b[39;00m \u001b[38;5;167;01mException\u001b[39;00m:\n\u001b[32m    164\u001b[39m             msg = e.detail\n\u001b[32m--> \u001b[39m\u001b[32m165\u001b[39m         \u001b[38;5;28;01mraise\u001b[39;00m \u001b[38;5;167;01mRuntimeError\u001b[39;00m(\u001b[33mf\u001b[39m\u001b[33m\"\u001b[39m\u001b[33mAn unexpected exception occurred. \u001b[39m\u001b[33m\"\u001b[39m\n\u001b[32m    166\u001b[39m                            \u001b[33mf\u001b[39m\u001b[33m\"\u001b[39m\u001b[33mPlease create an issue at \u001b[39m\u001b[33m\"\u001b[39m\n\u001b[32m    167\u001b[39m                            \u001b[33mf\u001b[39m\u001b[33m\"\u001b[39m\u001b[33m'\u001b[39m\u001b[33mhttps://github.com/kumo-ai/kumo-rfm\u001b[39m\u001b[33m'\u001b[39m\u001b[33m. \u001b[39m\u001b[33m\"\u001b[39m\n\u001b[32m    168\u001b[39m                            \u001b[33mf\u001b[39m\u001b[33m\"\u001b[39m\u001b[38;5;132;01m{\u001b[39;00mmsg\u001b[38;5;132;01m}\u001b[39;00m\u001b[33m\"\u001b[39m) \u001b[38;5;28;01mfrom\u001b[39;00m\u001b[38;5;250m \u001b[39m\u001b[38;5;28;01mNone\u001b[39;00m\n\u001b[32m    170\u001b[39m \u001b[38;5;28;01mreturn\u001b[39;00m pd.DataFrame(**resp.prediction)\n",
      "\u001b[31mRuntimeError\u001b[39m: An unexpected exception occurred. Please create an issue at 'https://github.com/kumo-ai/kumo-rfm'. RFM backend error: {\"detail\":\"CUDA error: device-side assert triggered\\nCUDA kernel errors might be asynchronously reported at some other API call, so the stacktrace below might be incorrect.\\nFor debugging consider passing CUDA_LAUNCH_BLOCKING=1.\\nCompile with `TORCH_USE_CUDA_DSA` to enable device-side assertions.\\n\"}"
     ]
    }
   ],
>>>>>>> exp2
   "source": [
    "query = \"PREDICT SUM(orders.price, 0, 30, days) FOR items.item_id=42\"\n",
    "\n",
    "df = model.predict(query)\n",
    "display(df)"
   ],
   "outputs": [],
   "execution_count": null
  },
  {
   "cell_type": "markdown",
   "id": "_s_prdXZQZC_",
   "metadata": {
    "id": "_s_prdXZQZC_"
   },
   "source": [
    "How to interpret the result:\n",
    "1. `ENTITY`: The item with `item_id=42`\n",
    "1. `ANCHOR_TIMESTAMP`: Assuming predicting at anchor timestamp `2024-09-19`, what's happening between `(2024-09-19, 2024-10-18]`? By default, `anchor_time` is the maximum timestamp on the temporal graph.\n",
    "1. `TARGET_PRED`: How much revenue `item_id=42` generates in the next 30 days."
   ]
  },
  {
   "cell_type": "markdown",
   "id": "uYDbYUvE-mLm",
   "metadata": {
    "id": "uYDbYUvE-mLm"
   },
   "source": [
    "**You can use the result for sales forecasting:**\n",
    "\n",
    "<div align=\"left\">\n",
    "  <img src=\"https://kumo-sdk-public.s3.us-west-2.amazonaws.com/rfm-colabs/sales-forecasting.png\" width=\"500\" />\n",
    "</div>\n"
   ]
  },
  {
   "cell_type": "markdown",
   "id": "5a7d934f-1d16-47e8-aae5-d151e03b7597",
   "metadata": {
    "id": "5a7d934f-1d16-47e8-aae5-d151e03b7597"
   },
   "source": [
    "### Example 1B: Forecast 30-day product demand, with an `anchor_time`\n",
    "\n",
    "By default, predictions are based on the maximum timestamp in your temporal graph. However, you can explicitly set a historical `anchor_time` to simulate what a prediction would have looked like at that point in time.\n",
    "\n",
    "For instance, if `anchor_time` is `\"2024-09-20\"`, the model will predict—assuming today is `\"2024-09-20\"`—the product demand in the next 30 days.\n",
    "KumoRFM will only use information before the `anchor_time` to avoid data leakage.\n",
    "\n",
    "This feature can be useful when you want to evaluate model performance yourself based on time-based splits."
   ]
  },
  {
   "cell_type": "code",
<<<<<<< HEAD
=======
   "execution_count": null,
>>>>>>> exp2
   "id": "becbc96b-d4bb-475f-bebf-dfcedf169267",
   "metadata": {
    "colab": {
     "base_uri": "https://localhost:8080/",
     "height": 160,
     "referenced_widgets": [
      "0847c0654ce7455180d34d8eb5822ead",
      "01b5c85ca2b746119417bb5b4aedcc5d"
     ]
    },
    "id": "becbc96b-d4bb-475f-bebf-dfcedf169267",
    "outputId": "246be8e0-64ef-4cfd-8ee9-2dafb2f33ef1"
   },
<<<<<<< HEAD
=======
   "outputs": [],
>>>>>>> exp2
   "source": [
    "df = model.predict(query, anchor_time=pd.Timestamp(\"2024-09-20\"))\n",
    "display(df)"
   ],
   "outputs": [],
   "execution_count": null
  },
  {
   "cell_type": "markdown",
   "id": "OUIP9jKhYaK_",
   "metadata": {
    "id": "OUIP9jKhYaK_"
   },
   "source": [
    "### Example 2. Predict customer churn\n",
    "\n",
    "Predict the likelihood that users  with `user_id=42` and `user_id=123` will place zero orders in the next 90 days."
   ]
  },
  {
   "cell_type": "code",
<<<<<<< HEAD
=======
   "execution_count": null,
>>>>>>> exp2
   "id": "3ov9ELzLYWvd",
   "metadata": {
    "colab": {
     "base_uri": "https://localhost:8080/",
     "height": 196,
     "referenced_widgets": [
      "e5834332da19480ebaed64f97e269aee",
      "32bb350ba41f440e81a3046c5fb1c816"
     ]
    },
    "id": "3ov9ELzLYWvd",
    "outputId": "3afc10bd-8f62-4e08-f9f0-95fb8c9010d5"
   },
<<<<<<< HEAD
=======
   "outputs": [],
>>>>>>> exp2
   "source": [
    "query = \"PREDICT COUNT(orders.*, 0, 90, days)=0 FOR users.user_id IN (42, 123)\"\n",
    "\n",
    "df = model.predict(query)\n",
    "display(df)"
   ],
   "outputs": [],
   "execution_count": null
  },
  {
   "cell_type": "markdown",
   "id": "jqjTBt2ZSGyX",
   "metadata": {
    "id": "jqjTBt2ZSGyX"
   },
   "source": [
    "How to interpret the result:\n",
    "1. `ENTITY`: The user with `user_id=42` or `user_id=123`\n",
    "1. `ANCHOR_TIMESTAMP`: Assuming we are predicting at this moment in time, what's happening in the next 90 days?\n",
    "1. `TARGET_PRED`: Whether the event (`COUNT(orders.*, 0, 90, days)=0`) will happen (`True`: Event will happen; `False`: Event will not happen)\n",
    "1. `False_PROB`: The probability that the event will not happen\n",
    "1. `True_PROB`: The probability that the event will happen."
   ]
  },
  {
   "cell_type": "markdown",
   "id": "aTR7OXshAoZ9",
   "metadata": {
    "id": "aTR7OXshAoZ9"
   },
   "source": [
    "**You can use the result to prevent customer churn (*e.g.*, sending a personalized coupon):**\n",
    "\n",
    "<div align=\"left\">\n",
    "  <img src=\"https://kumo-sdk-public.s3.us-west-2.amazonaws.com/rfm-colabs/churn.png\" width=\"500\" />\n",
    "</div>"
   ]
  },
  {
   "cell_type": "markdown",
   "id": "ooCNzX1EdQcG",
   "metadata": {
    "id": "ooCNzX1EdQcG"
   },
   "source": [
    "### Example 3. Product recommendation\n",
    "\n",
    "Predict the top-10 items that user with `user_id=123` is likely going to buy in the next 30 days."
   ]
  },
  {
   "cell_type": "code",
<<<<<<< HEAD
=======
   "execution_count": null,
>>>>>>> exp2
   "id": "nJ9QwZ_gdNzC",
   "metadata": {
    "colab": {
     "base_uri": "https://localhost:8080/",
     "height": 430,
     "referenced_widgets": [
      "dc46e3afe4534de8a51b0ab30994e22f",
      "4d2dbf92c42549baa231ba535e12356b"
     ]
    },
    "id": "nJ9QwZ_gdNzC",
    "outputId": "8f1fa296-99ea-4123-a1fb-d642b35196d2"
   },
<<<<<<< HEAD
=======
   "outputs": [],
>>>>>>> exp2
   "source": [
    "query = \"PREDICT LIST_DISTINCT(orders.item_id, 0, 30, days) RANK TOP 10 FOR users.user_id=123\"\n",
    "\n",
    "df = model.predict(query)\n",
    "display(df)"
   ],
   "outputs": [],
   "execution_count": null
  },
  {
   "cell_type": "markdown",
   "id": "A7apJCl4TYPO",
   "metadata": {
    "id": "A7apJCl4TYPO"
   },
   "source": [
    "How to interpret the result:\n",
    "1. `ENTITY`: The user with `user_id=123`\n",
    "1. `ANCHOR_TIMESTAMP`: Assuming we are predicting at this moment in time, what's happening in the next 30 days?\n",
    "1. `CLASS`: The items (`item_id`)\n",
    "1. `SCORE`: Higher score indicates higher likelihood"
   ]
  },
  {
   "cell_type": "markdown",
   "id": "l38SFpUuCPiT",
   "metadata": {
    "id": "l38SFpUuCPiT"
   },
   "source": [
    "**You can use the result to power product recommendation:**\n",
    "\n",
    "<div align=\"left\">\n",
    "  <img src=\"https://kumo-sdk-public.s3.us-west-2.amazonaws.com/rfm-colabs/product-recommendation.png\" width=\"500\" />\n",
    "</div>\n"
   ]
  },
  {
   "cell_type": "markdown",
   "id": "zUtpp0P13LKT",
   "metadata": {
    "id": "zUtpp0P13LKT"
   },
   "source": [
    "### Example 4. Infer entity attributes\n",
    "\n",
    "Predict the age of user with `user_id=8` (the original `age` field is `N/A` for this user)."
   ]
  },
  {
   "cell_type": "code",
<<<<<<< HEAD
=======
   "execution_count": null,
>>>>>>> exp2
   "id": "PK8aBsDt3bGQ",
   "metadata": {
    "colab": {
     "base_uri": "https://localhost:8080/",
     "height": 160,
     "referenced_widgets": [
      "6b98183e67f54c49964a7553441acbc7",
      "f57d0cbd539e415c86cdbd15dc9792e0"
     ]
    },
    "id": "PK8aBsDt3bGQ",
    "outputId": "a766f9b8-d4dc-41d7-dac1-7f01bf7a915f"
   },
<<<<<<< HEAD
=======
   "outputs": [],
>>>>>>> exp2
   "source": [
    "query = \"PREDICT users.age FOR users.user_id=8\"\n",
    "\n",
    "df = model.predict(query)\n",
    "display(df)"
   ],
   "outputs": [],
   "execution_count": null
  },
  {
   "cell_type": "markdown",
   "id": "aUidDrOzUC77",
   "metadata": {
    "id": "aUidDrOzUC77"
   },
   "source": [
    "How to interpret the result:\n",
    "1. `ENTITY`: the user with `user_id=8`\n",
    "1. `ANCHOR_TIMESTAMP`: assuming we are predicting at this moment in time\n",
    "1. `TARGET_PRED`: The predicted `age` of the user"
   ]
  },
  {
   "cell_type": "markdown",
   "id": "LTORudewDZpe",
   "metadata": {
    "id": "LTORudewDZpe"
   },
   "source": [
    "**You can use the result for customer segmentation:**\n",
    "\n",
    "<div align=\"left\">\n",
    "  <img src=\"https://kumo-sdk-public.s3.us-west-2.amazonaws.com/rfm-colabs/customer-segmantation.png\" width=\"500\" />\n",
    "</div>\n"
   ]
  },
  {
   "cell_type": "markdown",
   "id": "zulLbR3AhQHX",
   "metadata": {
    "id": "zulLbR3AhQHX"
   },
   "source": [
    "## We'd love to hear from you!\n",
    "\n",
    "1. **Found a bug or have a feature request?**  \n",
    "\n",
    "   Submit issues directly on [GitHub](https://github.com/kumo-ai/kumo-rfm). Your feedback helps us improve RFM for everyone.\n",
    "\n",
    "1. **Built something cool with RFM? We'd love to see it!**  \n",
    "\n",
    "   Share your project on LinkedIn and tag @kumo.  \n",
    "   We regularly spotlight on our official channels—yours could be next!\n",
    "\n",
    "<div align=\"left\">\n",
    "  <img src=\"https://kumo-sdk-public.s3.us-west-2.amazonaws.com/rfm-colabs/kumo_ai_logo.jpeg\" width=\"30\" />\n",
    "</div>\n",
    "\n"
   ]
  }
 ],
 "metadata": {
  "colab": {
   "provenance": []
  },
  "kernelspec": {
   "display_name": "Python 3 (ipykernel)",
   "language": "python",
   "name": "python3"
  },
  "language_info": {
   "codemirror_mode": {
    "name": "ipython",
    "version": 3
   },
   "file_extension": ".py",
   "mimetype": "text/x-python",
   "name": "python",
   "nbconvert_exporter": "python",
   "pygments_lexer": "ipython3",
   "version": "3.11.13"
  },
  "widgets": {
   "application/vnd.jupyter.widget-state+json": {
    "01b5c85ca2b746119417bb5b4aedcc5d": {
     "model_module": "@jupyter-widgets/base",
     "model_module_version": "1.2.0",
     "model_name": "LayoutModel",
     "state": {
      "_model_module": "@jupyter-widgets/base",
      "_model_module_version": "1.2.0",
      "_model_name": "LayoutModel",
      "_view_count": null,
      "_view_module": "@jupyter-widgets/base",
      "_view_module_version": "1.2.0",
      "_view_name": "LayoutView",
      "align_content": null,
      "align_items": null,
      "align_self": null,
      "border": null,
      "bottom": null,
      "display": null,
      "flex": null,
      "flex_flow": null,
      "grid_area": null,
      "grid_auto_columns": null,
      "grid_auto_flow": null,
      "grid_auto_rows": null,
      "grid_column": null,
      "grid_gap": null,
      "grid_row": null,
      "grid_template_areas": null,
      "grid_template_columns": null,
      "grid_template_rows": null,
      "height": null,
      "justify_content": null,
      "justify_items": null,
      "left": null,
      "margin": null,
      "max_height": null,
      "max_width": null,
      "min_height": null,
      "min_width": null,
      "object_fit": null,
      "object_position": null,
      "order": null,
      "overflow": null,
      "overflow_x": null,
      "overflow_y": null,
      "padding": null,
      "right": null,
      "top": null,
      "visibility": null,
      "width": null
     }
    },
    "0847c0654ce7455180d34d8eb5822ead": {
     "model_module": "@jupyter-widgets/output",
     "model_module_version": "1.0.0",
     "model_name": "OutputModel",
     "state": {
      "_dom_classes": [],
      "_model_module": "@jupyter-widgets/output",
      "_model_module_version": "1.0.0",
      "_model_name": "OutputModel",
      "_view_count": null,
      "_view_module": "@jupyter-widgets/output",
      "_view_module_version": "1.0.0",
      "_view_name": "OutputView",
      "layout": "IPY_MODEL_01b5c85ca2b746119417bb5b4aedcc5d",
      "msg_id": "",
      "outputs": [
       {
        "data": {
         "text/html": "<pre style=\"white-space:pre;overflow-x:auto;line-height:normal;font-family:Menlo,'DejaVu Sans Mono',consolas,'Courier New',monospace\"><span style=\"color: #008000; text-decoration-color: #008000\">✅</span> <span style=\"color: #008000; text-decoration-color: #008000; font-weight: bold\">PREDICT</span><span style=\"color: #008000; text-decoration-color: #008000\"> </span><span style=\"color: #008000; text-decoration-color: #008000; font-weight: bold\">SUM</span><span style=\"color: #008000; text-decoration-color: #008000\">(orders.price, 0, 30, days) </span><span style=\"color: #008000; text-decoration-color: #008000; font-weight: bold\">FOR</span><span style=\"color: #008000; text-decoration-color: #008000\"> items.item_id=42 (0.95s)      </span>\n   <span style=\"color: #7f7f7f; text-decoration-color: #7f7f7f\">↳ Identified temporal regression task                                    </span>\n   <span style=\"color: #7f7f7f; text-decoration-color: #7f7f7f\">↳ Collected 1,000 in-context examples with targets between 51.4 and 704.7</span>\n   <span style=\"color: #7f7f7f; text-decoration-color: #7f7f7f\">↳ Generated context of size 0.26MB                                       </span>\n</pre>\n",
         "text/plain": "\u001B[32m✅\u001B[0m \u001B[1;32mPREDICT\u001B[0m\u001B[32m \u001B[0m\u001B[1;32mSUM\u001B[0m\u001B[32m(orders.price, 0, 30, days) \u001B[0m\u001B[1;32mFOR\u001B[0m\u001B[32m items.item_id=42 (0.95s)      \u001B[0m\n   \u001B[2m↳ Identified temporal regression task                                    \u001B[0m\n   \u001B[2m↳ Collected 1,000 in-context examples with targets between 51.4 and 704.7\u001B[0m\n   \u001B[2m↳ Generated context of size 0.26MB                                       \u001B[0m\n"
        },
        "metadata": {},
        "output_type": "display_data"
       }
      ]
     }
    },
    "1ce86dfa3a0542d0ad33f10326769989": {
     "model_module": "@jupyter-widgets/base",
     "model_module_version": "1.2.0",
     "model_name": "LayoutModel",
     "state": {
      "_model_module": "@jupyter-widgets/base",
      "_model_module_version": "1.2.0",
      "_model_name": "LayoutModel",
      "_view_count": null,
      "_view_module": "@jupyter-widgets/base",
      "_view_module_version": "1.2.0",
      "_view_name": "LayoutView",
      "align_content": null,
      "align_items": null,
      "align_self": null,
      "border": null,
      "bottom": null,
      "display": null,
      "flex": null,
      "flex_flow": null,
      "grid_area": null,
      "grid_auto_columns": null,
      "grid_auto_flow": null,
      "grid_auto_rows": null,
      "grid_column": null,
      "grid_gap": null,
      "grid_row": null,
      "grid_template_areas": null,
      "grid_template_columns": null,
      "grid_template_rows": null,
      "height": null,
      "justify_content": null,
      "justify_items": null,
      "left": null,
      "margin": null,
      "max_height": null,
      "max_width": null,
      "min_height": null,
      "min_width": null,
      "object_fit": null,
      "object_position": null,
      "order": null,
      "overflow": null,
      "overflow_x": null,
      "overflow_y": null,
      "padding": null,
      "right": null,
      "top": null,
      "visibility": null,
      "width": null
     }
    },
    "26d5c52ea45340ac9d126bcc36a18806": {
     "model_module": "@jupyter-widgets/output",
     "model_module_version": "1.0.0",
     "model_name": "OutputModel",
     "state": {
      "_dom_classes": [],
      "_model_module": "@jupyter-widgets/output",
      "_model_module_version": "1.0.0",
      "_model_name": "OutputModel",
      "_view_count": null,
      "_view_module": "@jupyter-widgets/output",
      "_view_module_version": "1.0.0",
      "_view_name": "OutputView",
      "layout": "IPY_MODEL_1ce86dfa3a0542d0ad33f10326769989",
      "msg_id": "",
      "outputs": [
       {
        "data": {
         "text/html": "<pre style=\"white-space:pre;overflow-x:auto;line-height:normal;font-family:Menlo,'DejaVu Sans Mono',consolas,'Courier New',monospace\"><span style=\"color: #008000; text-decoration-color: #008000\">✅</span> <span style=\"color: #008000; text-decoration-color: #008000\">Materializing graph (0.25s)                              </span>\n   <span style=\"color: #7f7f7f; text-decoration-color: #7f7f7f\">↳ Sanitized input data                                   </span>\n   <span style=\"color: #7f7f7f; text-decoration-color: #7f7f7f\">↳ Collected primary keys from 3 tables                   </span>\n   <span style=\"color: #7f7f7f; text-decoration-color: #7f7f7f\">↳ Identified temporal graph from 2022-09-20 to 2024-09-19</span>\n   <span style=\"color: #7f7f7f; text-decoration-color: #7f7f7f\">↳ Created graph with 269,774 nodes and 1,071,096 edges   </span>\n</pre>\n",
         "text/plain": "\u001B[32m✅\u001B[0m \u001B[32mMaterializing graph (0.25s)                              \u001B[0m\n   \u001B[2m↳ Sanitized input data                                   \u001B[0m\n   \u001B[2m↳ Collected primary keys from 3 tables                   \u001B[0m\n   \u001B[2m↳ Identified temporal graph from 2022-09-20 to 2024-09-19\u001B[0m\n   \u001B[2m↳ Created graph with 269,774 nodes and 1,071,096 edges   \u001B[0m\n"
        },
        "metadata": {},
        "output_type": "display_data"
       }
      ]
     }
    },
    "32bb350ba41f440e81a3046c5fb1c816": {
     "model_module": "@jupyter-widgets/base",
     "model_module_version": "1.2.0",
     "model_name": "LayoutModel",
     "state": {
      "_model_module": "@jupyter-widgets/base",
      "_model_module_version": "1.2.0",
      "_model_name": "LayoutModel",
      "_view_count": null,
      "_view_module": "@jupyter-widgets/base",
      "_view_module_version": "1.2.0",
      "_view_name": "LayoutView",
      "align_content": null,
      "align_items": null,
      "align_self": null,
      "border": null,
      "bottom": null,
      "display": null,
      "flex": null,
      "flex_flow": null,
      "grid_area": null,
      "grid_auto_columns": null,
      "grid_auto_flow": null,
      "grid_auto_rows": null,
      "grid_column": null,
      "grid_gap": null,
      "grid_row": null,
      "grid_template_areas": null,
      "grid_template_columns": null,
      "grid_template_rows": null,
      "height": null,
      "justify_content": null,
      "justify_items": null,
      "left": null,
      "margin": null,
      "max_height": null,
      "max_width": null,
      "min_height": null,
      "min_width": null,
      "object_fit": null,
      "object_position": null,
      "order": null,
      "overflow": null,
      "overflow_x": null,
      "overflow_y": null,
      "padding": null,
      "right": null,
      "top": null,
      "visibility": null,
      "width": null
     }
    },
    "4d2dbf92c42549baa231ba535e12356b": {
     "model_module": "@jupyter-widgets/base",
     "model_module_version": "1.2.0",
     "model_name": "LayoutModel",
     "state": {
      "_model_module": "@jupyter-widgets/base",
      "_model_module_version": "1.2.0",
      "_model_name": "LayoutModel",
      "_view_count": null,
      "_view_module": "@jupyter-widgets/base",
      "_view_module_version": "1.2.0",
      "_view_name": "LayoutView",
      "align_content": null,
      "align_items": null,
      "align_self": null,
      "border": null,
      "bottom": null,
      "display": null,
      "flex": null,
      "flex_flow": null,
      "grid_area": null,
      "grid_auto_columns": null,
      "grid_auto_flow": null,
      "grid_auto_rows": null,
      "grid_column": null,
      "grid_gap": null,
      "grid_row": null,
      "grid_template_areas": null,
      "grid_template_columns": null,
      "grid_template_rows": null,
      "height": null,
      "justify_content": null,
      "justify_items": null,
      "left": null,
      "margin": null,
      "max_height": null,
      "max_width": null,
      "min_height": null,
      "min_width": null,
      "object_fit": null,
      "object_position": null,
      "order": null,
      "overflow": null,
      "overflow_x": null,
      "overflow_y": null,
      "padding": null,
      "right": null,
      "top": null,
      "visibility": null,
      "width": null
     }
    },
    "6b98183e67f54c49964a7553441acbc7": {
     "model_module": "@jupyter-widgets/output",
     "model_module_version": "1.0.0",
     "model_name": "OutputModel",
     "state": {
      "_dom_classes": [],
      "_model_module": "@jupyter-widgets/output",
      "_model_module_version": "1.0.0",
      "_model_name": "OutputModel",
      "_view_count": null,
      "_view_module": "@jupyter-widgets/output",
      "_view_module_version": "1.0.0",
      "_view_name": "OutputView",
      "layout": "IPY_MODEL_f57d0cbd539e415c86cdbd15dc9792e0",
      "msg_id": "",
      "outputs": [
       {
        "data": {
         "text/html": "<pre style=\"white-space:pre;overflow-x:auto;line-height:normal;font-family:Menlo,'DejaVu Sans Mono',consolas,'Courier New',monospace\"><span style=\"color: #008000; text-decoration-color: #008000\">✅</span> <span style=\"color: #008000; text-decoration-color: #008000; font-weight: bold\">PREDICT</span><span style=\"color: #008000; text-decoration-color: #008000\"> users.age </span><span style=\"color: #008000; text-decoration-color: #008000; font-weight: bold\">FOR</span><span style=\"color: #008000; text-decoration-color: #008000\"> users.user_id=8 (0.82s)                       </span>\n   <span style=\"color: #7f7f7f; text-decoration-color: #7f7f7f\">↳ Identified static regression task                                 </span>\n   <span style=\"color: #7f7f7f; text-decoration-color: #7f7f7f\">↳ Collected 888 in-context examples with targets between 21 and 60.6</span>\n   <span style=\"color: #7f7f7f; text-decoration-color: #7f7f7f\">↳ Generated context of size 0.23MB                                  </span>\n</pre>\n",
         "text/plain": "\u001B[32m✅\u001B[0m \u001B[1;32mPREDICT\u001B[0m\u001B[32m users.age \u001B[0m\u001B[1;32mFOR\u001B[0m\u001B[32m users.user_id=8 (0.82s)                       \u001B[0m\n   \u001B[2m↳ Identified static regression task                                 \u001B[0m\n   \u001B[2m↳ Collected 888 in-context examples with targets between 21 and 60.6\u001B[0m\n   \u001B[2m↳ Generated context of size 0.23MB                                  \u001B[0m\n"
        },
        "metadata": {},
        "output_type": "display_data"
       }
      ]
     }
    },
    "7374a7a88ae64f948e6d83f42b5ca3ef": {
     "model_module": "@jupyter-widgets/base",
     "model_module_version": "1.2.0",
     "model_name": "LayoutModel",
     "state": {
      "_model_module": "@jupyter-widgets/base",
      "_model_module_version": "1.2.0",
      "_model_name": "LayoutModel",
      "_view_count": null,
      "_view_module": "@jupyter-widgets/base",
      "_view_module_version": "1.2.0",
      "_view_name": "LayoutView",
      "align_content": null,
      "align_items": null,
      "align_self": null,
      "border": null,
      "bottom": null,
      "display": null,
      "flex": null,
      "flex_flow": null,
      "grid_area": null,
      "grid_auto_columns": null,
      "grid_auto_flow": null,
      "grid_auto_rows": null,
      "grid_column": null,
      "grid_gap": null,
      "grid_row": null,
      "grid_template_areas": null,
      "grid_template_columns": null,
      "grid_template_rows": null,
      "height": null,
      "justify_content": null,
      "justify_items": null,
      "left": null,
      "margin": null,
      "max_height": null,
      "max_width": null,
      "min_height": null,
      "min_width": null,
      "object_fit": null,
      "object_position": null,
      "order": null,
      "overflow": null,
      "overflow_x": null,
      "overflow_y": null,
      "padding": null,
      "right": null,
      "top": null,
      "visibility": null,
      "width": null
     }
    },
    "771e4cef1ef541ff937be9370c135feb": {
     "model_module": "@jupyter-widgets/output",
     "model_module_version": "1.0.0",
     "model_name": "OutputModel",
     "state": {
      "_dom_classes": [],
      "_model_module": "@jupyter-widgets/output",
      "_model_module_version": "1.0.0",
      "_model_name": "OutputModel",
      "_view_count": null,
      "_view_module": "@jupyter-widgets/output",
      "_view_module_version": "1.0.0",
      "_view_name": "OutputView",
      "layout": "IPY_MODEL_7374a7a88ae64f948e6d83f42b5ca3ef",
      "msg_id": "",
      "outputs": [
       {
        "data": {
         "text/html": "<pre style=\"white-space:pre;overflow-x:auto;line-height:normal;font-family:Menlo,'DejaVu Sans Mono',consolas,'Courier New',monospace\"><span style=\"color: #008000; text-decoration-color: #008000\">✅</span> <span style=\"color: #008000; text-decoration-color: #008000; font-weight: bold\">PREDICT</span><span style=\"color: #008000; text-decoration-color: #008000\"> </span><span style=\"color: #008000; text-decoration-color: #008000; font-weight: bold\">SUM</span><span style=\"color: #008000; text-decoration-color: #008000\">(orders.price, 0, 30, days) </span><span style=\"color: #008000; text-decoration-color: #008000; font-weight: bold\">FOR</span><span style=\"color: #008000; text-decoration-color: #008000\"> items.item_id=42 (0.99s)      </span>\n   <span style=\"color: #7f7f7f; text-decoration-color: #7f7f7f\">↳ Identified temporal regression task                                    </span>\n   <span style=\"color: #7f7f7f; text-decoration-color: #7f7f7f\">↳ Collected 1,000 in-context examples with targets between 59.6 and 721.8</span>\n   <span style=\"color: #7f7f7f; text-decoration-color: #7f7f7f\">↳ Generated context of size 0.26MB                                       </span>\n</pre>\n",
         "text/plain": "\u001B[32m✅\u001B[0m \u001B[1;32mPREDICT\u001B[0m\u001B[32m \u001B[0m\u001B[1;32mSUM\u001B[0m\u001B[32m(orders.price, 0, 30, days) \u001B[0m\u001B[1;32mFOR\u001B[0m\u001B[32m items.item_id=42 (0.99s)      \u001B[0m\n   \u001B[2m↳ Identified temporal regression task                                    \u001B[0m\n   \u001B[2m↳ Collected 1,000 in-context examples with targets between 59.6 and 721.8\u001B[0m\n   \u001B[2m↳ Generated context of size 0.26MB                                       \u001B[0m\n"
        },
        "metadata": {},
        "output_type": "display_data"
       }
      ]
     }
    },
    "dc46e3afe4534de8a51b0ab30994e22f": {
     "model_module": "@jupyter-widgets/output",
     "model_module_version": "1.0.0",
     "model_name": "OutputModel",
     "state": {
      "_dom_classes": [],
      "_model_module": "@jupyter-widgets/output",
      "_model_module_version": "1.0.0",
      "_model_name": "OutputModel",
      "_view_count": null,
      "_view_module": "@jupyter-widgets/output",
      "_view_module_version": "1.0.0",
      "_view_name": "OutputView",
      "layout": "IPY_MODEL_4d2dbf92c42549baa231ba535e12356b",
      "msg_id": "",
      "outputs": [
       {
        "data": {
         "text/html": "<pre style=\"white-space:pre;overflow-x:auto;line-height:normal;font-family:Menlo,'DejaVu Sans Mono',consolas,'Courier New',monospace\"><span style=\"color: #008000; text-decoration-color: #008000\">✅</span> <span style=\"color: #008000; text-decoration-color: #008000; font-weight: bold\">PREDICT</span><span style=\"color: #008000; text-decoration-color: #008000\"> </span><span style=\"color: #008000; text-decoration-color: #008000; font-weight: bold\">LIST_DISTINCT</span><span style=\"color: #008000; text-decoration-color: #008000\">(orders.item_id, 0, 30, days) </span><span style=\"color: #008000; text-decoration-color: #008000; font-weight: bold\">RANK TOP</span><span style=\"color: #008000; text-decoration-color: #008000\"> 10 </span><span style=\"color: #008000; text-decoration-color: #008000; font-weight: bold\">FOR</span><span style=\"color: #008000; text-decoration-color: #008000\"> users.user_id=123 (0.86s)</span>\n   <span style=\"color: #7f7f7f; text-decoration-color: #7f7f7f\">↳ Identified temporal link prediction task                                                  </span>\n   <span style=\"color: #7f7f7f; text-decoration-color: #7f7f7f\">↳ Collected 1,000 in-context examples with 999 unique items                                 </span>\n   <span style=\"color: #7f7f7f; text-decoration-color: #7f7f7f\">↳ Generated context of size 0.35MB                                                          </span>\n</pre>\n",
         "text/plain": "\u001B[32m✅\u001B[0m \u001B[1;32mPREDICT\u001B[0m\u001B[32m \u001B[0m\u001B[1;32mLIST_DISTINCT\u001B[0m\u001B[32m(orders.item_id, 0, 30, days) \u001B[0m\u001B[1;32mRANK TOP\u001B[0m\u001B[32m 10 \u001B[0m\u001B[1;32mFOR\u001B[0m\u001B[32m users.user_id=123 (0.86s)\u001B[0m\n   \u001B[2m↳ Identified temporal link prediction task                                                  \u001B[0m\n   \u001B[2m↳ Collected 1,000 in-context examples with 999 unique items                                 \u001B[0m\n   \u001B[2m↳ Generated context of size 0.35MB                                                          \u001B[0m\n"
        },
        "metadata": {},
        "output_type": "display_data"
       }
      ]
     }
    },
    "e5834332da19480ebaed64f97e269aee": {
     "model_module": "@jupyter-widgets/output",
     "model_module_version": "1.0.0",
     "model_name": "OutputModel",
     "state": {
      "_dom_classes": [],
      "_model_module": "@jupyter-widgets/output",
      "_model_module_version": "1.0.0",
      "_model_name": "OutputModel",
      "_view_count": null,
      "_view_module": "@jupyter-widgets/output",
      "_view_module_version": "1.0.0",
      "_view_name": "OutputView",
      "layout": "IPY_MODEL_32bb350ba41f440e81a3046c5fb1c816",
      "msg_id": "",
      "outputs": [
       {
        "data": {
         "text/html": "<pre style=\"white-space:pre;overflow-x:auto;line-height:normal;font-family:Menlo,'DejaVu Sans Mono',consolas,'Courier New',monospace\"><span style=\"color: #008000; text-decoration-color: #008000\">✅</span> <span style=\"color: #008000; text-decoration-color: #008000; font-weight: bold\">PREDICT</span><span style=\"color: #008000; text-decoration-color: #008000\"> </span><span style=\"color: #008000; text-decoration-color: #008000; font-weight: bold\">COUNT</span><span style=\"color: #008000; text-decoration-color: #008000\">(orders.*, 0, 90, days)=0 </span><span style=\"color: #008000; text-decoration-color: #008000; font-weight: bold\">FOR</span><span style=\"color: #008000; text-decoration-color: #008000\"> users.user_id </span><span style=\"color: #008000; text-decoration-color: #008000; font-weight: bold\">IN</span><span style=\"color: #008000; text-decoration-color: #008000\"> (42, 123) (0.80s)</span>\n   <span style=\"color: #7f7f7f; text-decoration-color: #7f7f7f\">↳ Identified temporal binary classification task                             </span>\n   <span style=\"color: #7f7f7f; text-decoration-color: #7f7f7f\">↳ Collected 1,000 in-context examples with 0.40% positive cases              </span>\n   <span style=\"color: #7f7f7f; text-decoration-color: #7f7f7f\">↳ Generated context of size 0.26MB                                           </span>\n</pre>\n",
         "text/plain": "\u001B[32m✅\u001B[0m \u001B[1;32mPREDICT\u001B[0m\u001B[32m \u001B[0m\u001B[1;32mCOUNT\u001B[0m\u001B[32m(orders.*, 0, 90, days)=0 \u001B[0m\u001B[1;32mFOR\u001B[0m\u001B[32m users.user_id \u001B[0m\u001B[1;32mIN\u001B[0m\u001B[32m (42, 123) (0.80s)\u001B[0m\n   \u001B[2m↳ Identified temporal binary classification task                             \u001B[0m\n   \u001B[2m↳ Collected 1,000 in-context examples with 0.40% positive cases              \u001B[0m\n   \u001B[2m↳ Generated context of size 0.26MB                                           \u001B[0m\n"
        },
        "metadata": {},
        "output_type": "display_data"
       }
      ]
     }
    },
    "f57d0cbd539e415c86cdbd15dc9792e0": {
     "model_module": "@jupyter-widgets/base",
     "model_module_version": "1.2.0",
     "model_name": "LayoutModel",
     "state": {
      "_model_module": "@jupyter-widgets/base",
      "_model_module_version": "1.2.0",
      "_model_name": "LayoutModel",
      "_view_count": null,
      "_view_module": "@jupyter-widgets/base",
      "_view_module_version": "1.2.0",
      "_view_name": "LayoutView",
      "align_content": null,
      "align_items": null,
      "align_self": null,
      "border": null,
      "bottom": null,
      "display": null,
      "flex": null,
      "flex_flow": null,
      "grid_area": null,
      "grid_auto_columns": null,
      "grid_auto_flow": null,
      "grid_auto_rows": null,
      "grid_column": null,
      "grid_gap": null,
      "grid_row": null,
      "grid_template_areas": null,
      "grid_template_columns": null,
      "grid_template_rows": null,
      "height": null,
      "justify_content": null,
      "justify_items": null,
      "left": null,
      "margin": null,
      "max_height": null,
      "max_width": null,
      "min_height": null,
      "min_width": null,
      "object_fit": null,
      "object_position": null,
      "order": null,
      "overflow": null,
      "overflow_x": null,
      "overflow_y": null,
      "padding": null,
      "right": null,
      "top": null,
      "visibility": null,
      "width": null
     }
    }
   }
  }
 },
 "nbformat": 4,
 "nbformat_minor": 5
}
