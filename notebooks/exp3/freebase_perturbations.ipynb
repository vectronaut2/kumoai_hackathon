{
 "cells": [
  {
   "cell_type": "markdown",
   "id": "9982e9c7-14dd-4e48-8e9e-e0f3c04dd917",
   "metadata": {},
   "source": [
    "## Ablation - modify (a,b), (c,d) to (a,d) and (c,b) "
   ]
  },
  {
   "cell_type": "code",
   "execution_count": 40,
   "id": "6122729a-9f40-49c4-b8a8-b14ae12ab23a",
   "metadata": {},
   "outputs": [],
   "source": [
    "import pandas as pd\n",
    "import numpy as np"
   ]
  },
  {
   "cell_type": "code",
   "execution_count": 41,
   "id": "d7b2e692-df07-4b1e-8622-8eb294d8ba49",
   "metadata": {},
   "outputs": [],
   "source": [
    "import random"
   ]
  },
  {
   "cell_type": "code",
   "execution_count": 42,
   "id": "5da8c1e0-e168-4a47-91db-cd27909027e3",
   "metadata": {},
   "outputs": [],
   "source": [
    "data_path = \"../../datasets/fb15k-237/\""
   ]
  },
  {
   "cell_type": "code",
   "execution_count": 43,
   "id": "0351829e-0924-4fe2-830d-c8aa46b8b4a0",
   "metadata": {},
   "outputs": [],
   "source": [
    "relations_df = pd.read_csv(f\"{data_path}/derived/relations_with_ids.csv\")"
   ]
  },
  {
   "cell_type": "code",
   "execution_count": 44,
   "id": "c1b7274d-fce8-4f8d-b33d-dbc2e0ae86a3",
   "metadata": {},
   "outputs": [],
   "source": [
    "freebase_vs_wiki_df =  pd.read_csv(f\"{data_path}/fb_wiki_mapping.tsv\", sep='\\t')"
   ]
  },
  {
   "cell_type": "code",
   "execution_count": 45,
   "id": "dcb290cc-006d-4fdb-b36c-eefd8708f0b3",
   "metadata": {},
   "outputs": [],
   "source": [
    "triplets_with_src_dst_wiki_ids_df = pd.read_csv(f\"{data_path}/derived/triplets_with_src_dst_wiki_ids.csv\")"
   ]
  },
  {
   "cell_type": "code",
   "execution_count": 46,
   "id": "8a07b846-f6cb-41fd-9701-7ef3f643404b",
   "metadata": {},
   "outputs": [],
   "source": [
    "# add test split with empty labels\n",
    "df_test = pd.read_csv(f\"{data_path}/derived/triplets_with_src_dst_wiki_ids.test.csv\")"
   ]
  },
  {
   "cell_type": "code",
   "execution_count": null,
   "id": "e7212e76-dd7a-4f34-9e7f-9c946cbc6eb4",
   "metadata": {},
   "outputs": [],
   "source": []
  },
  {
   "cell_type": "code",
   "execution_count": 65,
   "id": "ac45fa2c-2684-4305-a4f7-c04516e07209",
   "metadata": {},
   "outputs": [],
   "source": [
    "def perturb_graph(df):\n",
    "    n = len(df)\n",
    "    num_errors = int(0.25*n)\n",
    "\n",
    "    triple_ids = list(df.triple_id.values)\n",
    "    # permute triple_ids and select top 2*num_errors\n",
    "    # rather select small \n",
    "    selected_edges = random.sample(triple_ids, 2*num_errors)\n",
    "\n",
    "    perturbed_rows_dicts = []\n",
    "    for i in range(num_errors):\n",
    "        edge_ab = int(selected_edges[2*i])\n",
    "        edge_cd = int(selected_edges[2*i+1])\n",
    "        if i < 5:\n",
    "            print(f\"swapping {edge_ab} and {edge_cd}\")\n",
    "    \n",
    "        row_ab = df.loc[df['triple_id']==edge_ab]\n",
    "        row_cd = df.loc[df['triple_id']==edge_cd]\n",
    "    \n",
    "        row_ab_dict = row_ab.to_dict(orient='records')[0]\n",
    "        row_cd_dict = row_cd.to_dict(orient='records')[0]\n",
    "    \n",
    "        a = row_ab_dict['src_wikidata_id']\n",
    "        b = row_ab_dict['dest_wikidata_id']\n",
    "    \n",
    "        c = row_cd_dict['src_wikidata_id']\n",
    "        d = row_cd_dict['dest_wikidata_id']\n",
    "    \n",
    "        if i < 5:\n",
    "            print(f\"{a}->{b} , {c}->{d}\")\n",
    "    \n",
    "        row_ad_new = row_ab_dict.copy()\n",
    "        row_ad_new['dest_wikidata_id'] = d\n",
    "    \n",
    "        row_ad_new['freebase_id_y'] = row_cd_dict['freebase_id_y']\n",
    "        row_ad_new['label_y'] = row_cd_dict['label_y']\n",
    "        \n",
    "        row_cb_new = row_cd_dict.copy()\n",
    "        row_cb_new['dest_wikidata_id'] = b\n",
    "    \n",
    "        row_cb_new['freebase_id_y'] = row_ab_dict['freebase_id_y']\n",
    "        row_cb_new['label_y'] = row_ab_dict['label_y']\n",
    "    \n",
    "        perturbed_rows_dicts.append(row_ad_new)\n",
    "        perturbed_rows_dicts.append(row_cb_new)\n",
    "    \n",
    "    df_errors = pd.DataFrame.from_dict(perturbed_rows_dicts)\n",
    "    print(len(df_errors))\n",
    "\n",
    "    df_clean = df[~df['triple_id'].isin(selected_edges)]\n",
    "    print(len(df_clean))\n",
    "\n",
    "    # For train dataset\n",
    "    df_errors['disapprove'] = 1\n",
    "    df_clean['disapprove'] = 0\n",
    "    \n",
    "    return pd.concat([df_clean, df_errors])"
   ]
  },
  {
   "cell_type": "code",
   "execution_count": 66,
   "id": "a229a0fa-1bb9-43ce-a2e3-72ee612b2417",
   "metadata": {},
   "outputs": [
    {
     "name": "stdout",
     "output_type": "stream",
     "text": [
      "swapping 131286 and 250881\n",
      "280658->8723 , 60->376880\n",
      "swapping 168257 and 155864\n",
      "151599->213 , 822946->884\n",
      "swapping 15180 and 124388\n",
      "71243->242729 , 455545->639669\n",
      "swapping 201681 and 47172\n",
      "128581->7212330 , 180224->220192\n",
      "swapping 55061 and 1544\n",
      "233868->3218669 , 336865->60\n",
      "121818\n",
      "120912\n"
     ]
    },
    {
     "name": "stderr",
     "output_type": "stream",
     "text": [
      "/var/folders/9f/_45_cttj01b5lmh5x5njvlp00000gn/T/ipykernel_99317/1457424304.py:55: SettingWithCopyWarning: \n",
      "A value is trying to be set on a copy of a slice from a DataFrame.\n",
      "Try using .loc[row_indexer,col_indexer] = value instead\n",
      "\n",
      "See the caveats in the documentation: https://pandas.pydata.org/pandas-docs/stable/user_guide/indexing.html#returning-a-view-versus-a-copy\n",
      "  df_clean['disapprove'] = 0\n"
     ]
    }
   ],
   "source": [
    "df_train_perturbed = perturb_graph(triplets_with_src_dst_wiki_ids_df)"
   ]
  },
  {
   "cell_type": "code",
   "execution_count": 67,
   "id": "25819e15-a165-48ca-8a7e-7e8d5cd20e0f",
   "metadata": {},
   "outputs": [],
   "source": [
    "df_train_perturbed.to_csv(f\"{data_path}/exp3/triplets_with_src_dst_wiki_ids.csv\", index=False)"
   ]
  },
  {
   "cell_type": "code",
   "execution_count": 69,
   "id": "aa335e4e-3e50-49e3-a647-b1766d495d58",
   "metadata": {},
   "outputs": [
    {
     "name": "stdout",
     "output_type": "stream",
     "text": [
      "swapping 283384 and 280120\n",
      "155653->16 , 122563->811595\n",
      "swapping 275023 and 275870\n",
      "7414->132863 , 305250->213\n",
      "swapping 289246 and 273087\n",
      "8567->236 , 1215884->224164\n",
      "swapping 273401 and 288610\n",
      "240869->223316 , 6607->858388\n",
      "swapping 285753 and 276360\n",
      "34069->104000 , 937->70\n",
      "9142\n",
      "9144\n"
     ]
    },
    {
     "name": "stderr",
     "output_type": "stream",
     "text": [
      "/var/folders/9f/_45_cttj01b5lmh5x5njvlp00000gn/T/ipykernel_99317/1457424304.py:55: SettingWithCopyWarning: \n",
      "A value is trying to be set on a copy of a slice from a DataFrame.\n",
      "Try using .loc[row_indexer,col_indexer] = value instead\n",
      "\n",
      "See the caveats in the documentation: https://pandas.pydata.org/pandas-docs/stable/user_guide/indexing.html#returning-a-view-versus-a-copy\n",
      "  df_clean['disapprove'] = 0\n"
     ]
    }
   ],
   "source": [
    "df_test_perturbed = perturb_graph(df_test)"
   ]
  },
  {
   "cell_type": "code",
   "execution_count": 70,
   "id": "326bdfd3-e525-4452-b9df-1a8aad7e1e00",
   "metadata": {},
   "outputs": [],
   "source": [
    "df_test_perturbed.to_csv(f\"{data_path}/exp3/triplets_with_src_dst_wiki_ids.test.csv\", index=False)"
   ]
  },
  {
   "cell_type": "code",
   "execution_count": null,
   "id": "0f05d955-a66f-4346-961c-f68988017308",
   "metadata": {},
   "outputs": [],
   "source": []
  },
  {
   "cell_type": "code",
   "execution_count": 62,
   "id": "1334958b-2b7e-4dae-8ed0-2d00c0d666d6",
   "metadata": {},
   "outputs": [],
   "source": [
    "# Evaluation on test set, do the same perturbation\n",
    "# for them label to be empty per guidelines - https://kumo.ai/docs/examples/fraud-chargeback-abuse/"
   ]
  },
  {
   "cell_type": "code",
   "execution_count": null,
   "id": "e8635cb3-21eb-4790-88a2-0b2e8bf27267",
   "metadata": {},
   "outputs": [],
   "source": []
  },
  {
   "cell_type": "code",
   "execution_count": null,
   "id": "cbddae3f-f06c-488a-bbb8-3c4b44008479",
   "metadata": {},
   "outputs": [],
   "source": []
  },
  {
   "cell_type": "code",
   "execution_count": null,
   "id": "87983c9e-ca16-475b-ac80-aa8edae479b1",
   "metadata": {},
   "outputs": [],
   "source": []
  },
  {
   "cell_type": "code",
   "execution_count": 63,
   "id": "0f34110c-a7db-46fc-97ce-a984db75f922",
   "metadata": {},
   "outputs": [],
   "source": [
    "# permute as earlier\n"
   ]
  },
  {
   "cell_type": "code",
   "execution_count": null,
   "id": "26787ae7-080f-4d8f-9195-9f0914093f3e",
   "metadata": {},
   "outputs": [],
   "source": []
  },
  {
   "cell_type": "code",
   "execution_count": null,
   "id": "42b12142-7e20-4aa0-90ca-7f259eea8831",
   "metadata": {},
   "outputs": [],
   "source": []
  },
  {
   "cell_type": "code",
   "execution_count": null,
   "id": "7ea3424f-ee49-4225-898e-49d04086c6fd",
   "metadata": {},
   "outputs": [],
   "source": []
  },
  {
   "cell_type": "code",
   "execution_count": null,
   "id": "339074ee-b3b4-49a6-ad99-79518ee8c416",
   "metadata": {},
   "outputs": [],
   "source": []
  },
  {
   "cell_type": "code",
   "execution_count": null,
   "id": "218f0be1-5ea6-4a41-9929-ef234797453b",
   "metadata": {},
   "outputs": [],
   "source": []
  }
 ],
 "metadata": {
  "kernelspec": {
   "display_name": "Python [conda env:kumo-hackathon-py311] *",
   "language": "python",
   "name": "conda-env-kumo-hackathon-py311-py"
  },
  "language_info": {
   "codemirror_mode": {
    "name": "ipython",
    "version": 3
   },
   "file_extension": ".py",
   "mimetype": "text/x-python",
   "name": "python",
   "nbconvert_exporter": "python",
   "pygments_lexer": "ipython3",
   "version": "3.11.13"
  }
 },
 "nbformat": 4,
 "nbformat_minor": 5
}
