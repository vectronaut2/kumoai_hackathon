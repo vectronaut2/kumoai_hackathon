{
 "cells": [
  {
   "cell_type": "markdown",
   "id": "3ea59964-9083-48d5-845b-c92272f1596c",
   "metadata": {},
   "source": [
    "## FB15k-237 semantic graph\n",
    "\n",
    "https://www.kaggle.com/datasets/latebloomer/fb15k-237/data\n",
    "\n",
    "https://www.kaggle.com/datasets/latebloomer/freebase-wikidata-mapping"
   ]
  },
  {
   "cell_type": "code",
   "id": "a746ebde-7bf3-4b30-8547-db9f363b6f7b",
   "metadata": {
    "ExecuteTime": {
     "end_time": "2025-08-20T23:48:16.262890Z",
     "start_time": "2025-08-20T23:48:16.257865Z"
    }
   },
   "source": [
    "# !pip install kagglehub"
   ],
   "outputs": [],
   "execution_count": 101
  },
  {
   "cell_type": "code",
   "id": "2cc5a3d6-20ce-4366-be01-010454932820",
   "metadata": {
    "ExecuteTime": {
     "end_time": "2025-08-20T23:48:16.269484Z",
     "start_time": "2025-08-20T23:48:16.267784Z"
    }
   },
   "source": [
    "# import kagglehub\n",
    "\n",
    "# path = kagglehub.dataset_download(\"latebloomer/fb15k-237\")\n",
    "# print(\"Path to dataset files:\", path)"
   ],
   "outputs": [],
   "execution_count": 102
  },
  {
   "cell_type": "code",
   "id": "1eed983c-bbff-4212-b946-48193716e725",
   "metadata": {
    "ExecuteTime": {
     "end_time": "2025-08-20T23:48:16.274241Z",
     "start_time": "2025-08-20T23:48:16.272500Z"
    }
   },
   "source": [
    "import pandas as pd\n",
    "import numpy as np"
   ],
   "outputs": [],
   "execution_count": 103
  },
  {
   "cell_type": "code",
   "id": "27520b0a-8a13-4ef1-b05e-8cc615303b0b",
   "metadata": {
    "ExecuteTime": {
     "end_time": "2025-08-20T23:48:16.278860Z",
     "start_time": "2025-08-20T23:48:16.277114Z"
    }
   },
   "source": [
    "data_path = \"../datasets/fb15k-237/\""
   ],
   "outputs": [],
   "execution_count": 104
  },
  {
   "cell_type": "markdown",
   "id": "fc53c651-9279-4c33-8a99-ca1dc0abe264",
   "metadata": {},
   "source": [
    "### Load triples and augment from source"
   ]
  },
  {
   "cell_type": "markdown",
   "id": "49018c5b-c4f5-43e5-81f5-93a1353fd7f7",
   "metadata": {},
   "source": [
    "### Load augmented triples directly"
   ]
  },
  {
   "cell_type": "code",
   "id": "9ede7d2f-fd20-4124-9388-c32bb23998fe",
   "metadata": {
    "ExecuteTime": {
     "end_time": "2025-08-20T23:48:16.291587Z",
     "start_time": "2025-08-20T23:48:16.281682Z"
    }
   },
   "source": [
    "relations_df = pd.read_csv(f\"{data_path}/derived/relations_with_ids.csv\")"
   ],
   "outputs": [],
   "execution_count": 105
  },
  {
   "cell_type": "code",
   "id": "7ff77b9c-dee3-4ac2-b9fe-9fff9d86cf59",
   "metadata": {
    "ExecuteTime": {
     "end_time": "2025-08-20T23:48:16.301147Z",
     "start_time": "2025-08-20T23:48:16.296394Z"
    }
   },
   "source": [
    "relations_df.head()"
   ],
   "outputs": [
    {
     "data": {
      "text/plain": [
       "                                       relation_name  relation_id\n",
       "0               /location/country/form_of_government            0\n",
       "1  /tv/tv_program/regular_cast./tv/regular_tv_app...            1\n",
       "2                 /media_common/netflix_genre/titles            2\n",
       "3  /award/award_winner/awards_won./award/award_ho...            3\n",
       "4  /soccer/football_team/current_roster./sports/s...            4"
      ],
      "text/html": [
       "<div>\n",
       "<style scoped>\n",
       "    .dataframe tbody tr th:only-of-type {\n",
       "        vertical-align: middle;\n",
       "    }\n",
       "\n",
       "    .dataframe tbody tr th {\n",
       "        vertical-align: top;\n",
       "    }\n",
       "\n",
       "    .dataframe thead th {\n",
       "        text-align: right;\n",
       "    }\n",
       "</style>\n",
       "<table border=\"1\" class=\"dataframe\">\n",
       "  <thead>\n",
       "    <tr style=\"text-align: right;\">\n",
       "      <th></th>\n",
       "      <th>relation_name</th>\n",
       "      <th>relation_id</th>\n",
       "    </tr>\n",
       "  </thead>\n",
       "  <tbody>\n",
       "    <tr>\n",
       "      <th>0</th>\n",
       "      <td>/location/country/form_of_government</td>\n",
       "      <td>0</td>\n",
       "    </tr>\n",
       "    <tr>\n",
       "      <th>1</th>\n",
       "      <td>/tv/tv_program/regular_cast./tv/regular_tv_app...</td>\n",
       "      <td>1</td>\n",
       "    </tr>\n",
       "    <tr>\n",
       "      <th>2</th>\n",
       "      <td>/media_common/netflix_genre/titles</td>\n",
       "      <td>2</td>\n",
       "    </tr>\n",
       "    <tr>\n",
       "      <th>3</th>\n",
       "      <td>/award/award_winner/awards_won./award/award_ho...</td>\n",
       "      <td>3</td>\n",
       "    </tr>\n",
       "    <tr>\n",
       "      <th>4</th>\n",
       "      <td>/soccer/football_team/current_roster./sports/s...</td>\n",
       "      <td>4</td>\n",
       "    </tr>\n",
       "  </tbody>\n",
       "</table>\n",
       "</div>"
      ]
     },
     "execution_count": 106,
     "metadata": {},
     "output_type": "execute_result"
    }
   ],
   "execution_count": 106
  },
  {
   "cell_type": "code",
   "id": "2e0ba3e7-2dae-4983-bc54-6114eb2741f4",
   "metadata": {
    "ExecuteTime": {
     "end_time": "2025-08-20T23:48:16.532168Z",
     "start_time": "2025-08-20T23:48:16.334990Z"
    }
   },
   "source": [
    "freebase_vs_wiki_df =  pd.read_csv(f\"{data_path}/derived/fb_wiki_mapping_incl_wiki_extracts.csv\")\n",
    "# strip Q from wikidata id for easier use with Kumo AI\n",
    "freebase_vs_wiki_df['wikidata_int_id'] = freebase_vs_wiki_df.apply(lambda row: int(row['wikidata_id'][1:]), axis=1)\n",
    "freebase_vs_wiki_df.drop('wikidata_id', axis=1, inplace=True)\n",
    "freebase_vs_wiki_df.rename(columns={'wikidata_int_id':'wikidata_id'}, inplace=True)\n",
    "freebase_vs_wiki_df_mini = freebase_vs_wiki_df[['wikidata_id', 'Title', 'Extract']]\n",
    "freebase_vs_wiki_df.head(3)"
   ],
   "outputs": [
    {
     "data": {
      "text/plain": [
       "  freebase_id     label            Title  \\\n",
       "0   /m/010016    Denton    Denton, Texas   \n",
       "1   /m/0100mt   El Paso   El Paso, Texas   \n",
       "2   /m/0102t4  Marshall  Marshall, Texas   \n",
       "\n",
       "                                             Extract  wikidata_id  \n",
       "0  Denton is a city in the U.S. state of Texas an...       128306  \n",
       "1  El Paso is a city in and the county seat of El...        16562  \n",
       "2  Marshall is a city in the U.S. state of Texas....        52996  "
      ],
      "text/html": [
       "<div>\n",
       "<style scoped>\n",
       "    .dataframe tbody tr th:only-of-type {\n",
       "        vertical-align: middle;\n",
       "    }\n",
       "\n",
       "    .dataframe tbody tr th {\n",
       "        vertical-align: top;\n",
       "    }\n",
       "\n",
       "    .dataframe thead th {\n",
       "        text-align: right;\n",
       "    }\n",
       "</style>\n",
       "<table border=\"1\" class=\"dataframe\">\n",
       "  <thead>\n",
       "    <tr style=\"text-align: right;\">\n",
       "      <th></th>\n",
       "      <th>freebase_id</th>\n",
       "      <th>label</th>\n",
       "      <th>Title</th>\n",
       "      <th>Extract</th>\n",
       "      <th>wikidata_id</th>\n",
       "    </tr>\n",
       "  </thead>\n",
       "  <tbody>\n",
       "    <tr>\n",
       "      <th>0</th>\n",
       "      <td>/m/010016</td>\n",
       "      <td>Denton</td>\n",
       "      <td>Denton, Texas</td>\n",
       "      <td>Denton is a city in the U.S. state of Texas an...</td>\n",
       "      <td>128306</td>\n",
       "    </tr>\n",
       "    <tr>\n",
       "      <th>1</th>\n",
       "      <td>/m/0100mt</td>\n",
       "      <td>El Paso</td>\n",
       "      <td>El Paso, Texas</td>\n",
       "      <td>El Paso is a city in and the county seat of El...</td>\n",
       "      <td>16562</td>\n",
       "    </tr>\n",
       "    <tr>\n",
       "      <th>2</th>\n",
       "      <td>/m/0102t4</td>\n",
       "      <td>Marshall</td>\n",
       "      <td>Marshall, Texas</td>\n",
       "      <td>Marshall is a city in the U.S. state of Texas....</td>\n",
       "      <td>52996</td>\n",
       "    </tr>\n",
       "  </tbody>\n",
       "</table>\n",
       "</div>"
      ]
     },
     "execution_count": 107,
     "metadata": {},
     "output_type": "execute_result"
    }
   ],
   "execution_count": 107
  },
  {
   "metadata": {
    "ExecuteTime": {
     "end_time": "2025-08-20T23:48:17.011806Z",
     "start_time": "2025-08-20T23:48:16.590406Z"
    }
   },
   "cell_type": "code",
   "source": [
    "def denormalize(triplets):\n",
    "    triplets['disapprove'] = triplets['disapprove'].astype('bool')\n",
    "    triplets = pd.merge(triplets, freebase_vs_wiki_df_mini, how='left',left_on='src_wikidata_id', right_on='wikidata_id')\n",
    "    triplets.rename(columns={'Title':'src_title'}, inplace=True)\n",
    "    triplets.rename(columns={'Extract':'src_extract'}, inplace=True)\n",
    "\n",
    "    triplets = pd.merge(triplets, freebase_vs_wiki_df_mini, how='left',left_on='dest_wikidata_id', right_on='wikidata_id')\n",
    "    triplets.rename(columns={'Title':'dest_title'}, inplace=True)\n",
    "    triplets.rename(columns={'Extract':'dest_extract'}, inplace=True)\n",
    "\n",
    "    triplets['src_title'] = triplets['src_title'].astype('string')\n",
    "    triplets['src_extract'] = triplets['src_extract'].astype('string')\n",
    "    triplets['dest_title'] = triplets['dest_title'].astype('string')\n",
    "    triplets['dest_extract'] = triplets['dest_extract'].astype('string')\n",
    "    triplets.reset_index(inplace=True)\n",
    "    return triplets\n",
    "\n",
    "triplets = (pd.read_csv(f\"{data_path}/exp3/triplets_with_src_dst_wiki_ids.csv\"))\n",
    "triplets = denormalize(triplets)\n",
    "triplets.head()"
   ],
   "id": "a353bf43b56958b",
   "outputs": [
    {
     "data": {
      "text/plain": [
       "   index src_freebase_id                                           relation  \\\n",
       "0      0        /m/027rn               /location/country/form_of_government   \n",
       "1      1      /m/07s9rl0                 /media_common/netflix_genre/titles   \n",
       "2      2       /m/0cnk2q  /soccer/football_team/current_roster./sports/s...   \n",
       "3      3        /m/0q9kd  /award/award_nominee/award_nominations./award/...   \n",
       "4      4      /m/0b76d_m  /film/film/release_date_s./film/film_regional_...   \n",
       "\n",
       "  dest_freebase_id  triple_id   timestamp  \\\n",
       "0         /m/06cx9          0  2024-10-06   \n",
       "1        /m/0170z3          2  2024-12-08   \n",
       "2        /m/02nzb8          4  2024-11-26   \n",
       "3        /m/0184jc          8  2024-10-13   \n",
       "4         /m/029j_         11  2024-12-06   \n",
       "\n",
       "                                       relation_name  relation_id  \\\n",
       "0               /location/country/form_of_government            0   \n",
       "1                 /media_common/netflix_genre/titles            2   \n",
       "2  /soccer/football_team/current_roster./sports/s...            4   \n",
       "3  /award/award_nominee/award_nominations./award/...            8   \n",
       "4  /film/film/release_date_s./film/film_regional_...           11   \n",
       "\n",
       "  freebase_id_x                               label_x  ...  freebase_id_y  \\\n",
       "0      /m/027rn                    Dominican Republic  ...       /m/06cx9   \n",
       "1    /m/07s9rl0                            drama film  ...      /m/0170z3   \n",
       "2     /m/0cnk2q  Australia men's national soccer team  ...      /m/02nzb8   \n",
       "3      /m/0q9kd                          Danny DeVito  ...      /m/0184jc   \n",
       "4    /m/0b76d_m                             Anonymous  ...       /m/029j_   \n",
       "\n",
       "              label_y dest_wikidata_id  disapprove  wikidata_id_x  \\\n",
       "0            republic             7270       False          786.0   \n",
       "1  American History X           208572       False       130232.0   \n",
       "2          midfielder           193592       False       268208.0   \n",
       "3          Guy Pearce           223745       False        26806.0   \n",
       "4                 DVD             5294       False       313819.0   \n",
       "\n",
       "                              src_title  \\\n",
       "0                    Dominican Republic   \n",
       "1           Drama (film and television)   \n",
       "2  Australia men's national soccer team   \n",
       "3                          Danny DeVito   \n",
       "4                      Anonymous (film)   \n",
       "\n",
       "                                         src_extract wikidata_id_y  \\\n",
       "0  The Dominican Republic is a country in the Car...        7270.0   \n",
       "1  In film and television, drama is a category or...      208572.0   \n",
       "2  The Australia men's national soccer team repre...      193592.0   \n",
       "3  Daniel Michael DeVito Jr. (born November 17, 1...      223745.0   \n",
       "4  Anonymous is a 2011 period drama film directed...        5294.0   \n",
       "\n",
       "           dest_title                                       dest_extract  \n",
       "0            Republic  A republic, based on the Latin phrase res publ...  \n",
       "1  American History X  American History X is a 1998 American crime dr...  \n",
       "2          Midfielder  In association football, a midfielder takes an...  \n",
       "3          Guy Pearce  Guy Edward Pearce (born 5 October 1967) is an ...  \n",
       "4                 DVD  The DVD (common abbreviation for digital video...  \n",
       "\n",
       "[5 rows x 21 columns]"
      ],
      "text/html": [
       "<div>\n",
       "<style scoped>\n",
       "    .dataframe tbody tr th:only-of-type {\n",
       "        vertical-align: middle;\n",
       "    }\n",
       "\n",
       "    .dataframe tbody tr th {\n",
       "        vertical-align: top;\n",
       "    }\n",
       "\n",
       "    .dataframe thead th {\n",
       "        text-align: right;\n",
       "    }\n",
       "</style>\n",
       "<table border=\"1\" class=\"dataframe\">\n",
       "  <thead>\n",
       "    <tr style=\"text-align: right;\">\n",
       "      <th></th>\n",
       "      <th>index</th>\n",
       "      <th>src_freebase_id</th>\n",
       "      <th>relation</th>\n",
       "      <th>dest_freebase_id</th>\n",
       "      <th>triple_id</th>\n",
       "      <th>timestamp</th>\n",
       "      <th>relation_name</th>\n",
       "      <th>relation_id</th>\n",
       "      <th>freebase_id_x</th>\n",
       "      <th>label_x</th>\n",
       "      <th>...</th>\n",
       "      <th>freebase_id_y</th>\n",
       "      <th>label_y</th>\n",
       "      <th>dest_wikidata_id</th>\n",
       "      <th>disapprove</th>\n",
       "      <th>wikidata_id_x</th>\n",
       "      <th>src_title</th>\n",
       "      <th>src_extract</th>\n",
       "      <th>wikidata_id_y</th>\n",
       "      <th>dest_title</th>\n",
       "      <th>dest_extract</th>\n",
       "    </tr>\n",
       "  </thead>\n",
       "  <tbody>\n",
       "    <tr>\n",
       "      <th>0</th>\n",
       "      <td>0</td>\n",
       "      <td>/m/027rn</td>\n",
       "      <td>/location/country/form_of_government</td>\n",
       "      <td>/m/06cx9</td>\n",
       "      <td>0</td>\n",
       "      <td>2024-10-06</td>\n",
       "      <td>/location/country/form_of_government</td>\n",
       "      <td>0</td>\n",
       "      <td>/m/027rn</td>\n",
       "      <td>Dominican Republic</td>\n",
       "      <td>...</td>\n",
       "      <td>/m/06cx9</td>\n",
       "      <td>republic</td>\n",
       "      <td>7270</td>\n",
       "      <td>False</td>\n",
       "      <td>786.0</td>\n",
       "      <td>Dominican Republic</td>\n",
       "      <td>The Dominican Republic is a country in the Car...</td>\n",
       "      <td>7270.0</td>\n",
       "      <td>Republic</td>\n",
       "      <td>A republic, based on the Latin phrase res publ...</td>\n",
       "    </tr>\n",
       "    <tr>\n",
       "      <th>1</th>\n",
       "      <td>1</td>\n",
       "      <td>/m/07s9rl0</td>\n",
       "      <td>/media_common/netflix_genre/titles</td>\n",
       "      <td>/m/0170z3</td>\n",
       "      <td>2</td>\n",
       "      <td>2024-12-08</td>\n",
       "      <td>/media_common/netflix_genre/titles</td>\n",
       "      <td>2</td>\n",
       "      <td>/m/07s9rl0</td>\n",
       "      <td>drama film</td>\n",
       "      <td>...</td>\n",
       "      <td>/m/0170z3</td>\n",
       "      <td>American History X</td>\n",
       "      <td>208572</td>\n",
       "      <td>False</td>\n",
       "      <td>130232.0</td>\n",
       "      <td>Drama (film and television)</td>\n",
       "      <td>In film and television, drama is a category or...</td>\n",
       "      <td>208572.0</td>\n",
       "      <td>American History X</td>\n",
       "      <td>American History X is a 1998 American crime dr...</td>\n",
       "    </tr>\n",
       "    <tr>\n",
       "      <th>2</th>\n",
       "      <td>2</td>\n",
       "      <td>/m/0cnk2q</td>\n",
       "      <td>/soccer/football_team/current_roster./sports/s...</td>\n",
       "      <td>/m/02nzb8</td>\n",
       "      <td>4</td>\n",
       "      <td>2024-11-26</td>\n",
       "      <td>/soccer/football_team/current_roster./sports/s...</td>\n",
       "      <td>4</td>\n",
       "      <td>/m/0cnk2q</td>\n",
       "      <td>Australia men's national soccer team</td>\n",
       "      <td>...</td>\n",
       "      <td>/m/02nzb8</td>\n",
       "      <td>midfielder</td>\n",
       "      <td>193592</td>\n",
       "      <td>False</td>\n",
       "      <td>268208.0</td>\n",
       "      <td>Australia men's national soccer team</td>\n",
       "      <td>The Australia men's national soccer team repre...</td>\n",
       "      <td>193592.0</td>\n",
       "      <td>Midfielder</td>\n",
       "      <td>In association football, a midfielder takes an...</td>\n",
       "    </tr>\n",
       "    <tr>\n",
       "      <th>3</th>\n",
       "      <td>3</td>\n",
       "      <td>/m/0q9kd</td>\n",
       "      <td>/award/award_nominee/award_nominations./award/...</td>\n",
       "      <td>/m/0184jc</td>\n",
       "      <td>8</td>\n",
       "      <td>2024-10-13</td>\n",
       "      <td>/award/award_nominee/award_nominations./award/...</td>\n",
       "      <td>8</td>\n",
       "      <td>/m/0q9kd</td>\n",
       "      <td>Danny DeVito</td>\n",
       "      <td>...</td>\n",
       "      <td>/m/0184jc</td>\n",
       "      <td>Guy Pearce</td>\n",
       "      <td>223745</td>\n",
       "      <td>False</td>\n",
       "      <td>26806.0</td>\n",
       "      <td>Danny DeVito</td>\n",
       "      <td>Daniel Michael DeVito Jr. (born November 17, 1...</td>\n",
       "      <td>223745.0</td>\n",
       "      <td>Guy Pearce</td>\n",
       "      <td>Guy Edward Pearce (born 5 October 1967) is an ...</td>\n",
       "    </tr>\n",
       "    <tr>\n",
       "      <th>4</th>\n",
       "      <td>4</td>\n",
       "      <td>/m/0b76d_m</td>\n",
       "      <td>/film/film/release_date_s./film/film_regional_...</td>\n",
       "      <td>/m/029j_</td>\n",
       "      <td>11</td>\n",
       "      <td>2024-12-06</td>\n",
       "      <td>/film/film/release_date_s./film/film_regional_...</td>\n",
       "      <td>11</td>\n",
       "      <td>/m/0b76d_m</td>\n",
       "      <td>Anonymous</td>\n",
       "      <td>...</td>\n",
       "      <td>/m/029j_</td>\n",
       "      <td>DVD</td>\n",
       "      <td>5294</td>\n",
       "      <td>False</td>\n",
       "      <td>313819.0</td>\n",
       "      <td>Anonymous (film)</td>\n",
       "      <td>Anonymous is a 2011 period drama film directed...</td>\n",
       "      <td>5294.0</td>\n",
       "      <td>DVD</td>\n",
       "      <td>The DVD (common abbreviation for digital video...</td>\n",
       "    </tr>\n",
       "  </tbody>\n",
       "</table>\n",
       "<p>5 rows × 21 columns</p>\n",
       "</div>"
      ]
     },
     "execution_count": 108,
     "metadata": {},
     "output_type": "execute_result"
    }
   ],
   "execution_count": 108
  },
  {
   "metadata": {
    "ExecuteTime": {
     "end_time": "2025-08-20T23:48:17.075088Z",
     "start_time": "2025-08-20T23:48:17.034169Z"
    }
   },
   "cell_type": "code",
   "source": [
    "triplets_test = pd.read_csv(f\"{data_path}/exp3/triplets_with_src_dst_wiki_ids.test.csv\")\n",
    "triplets_test = denormalize(triplets_test)\n",
    "triplets_test.head()"
   ],
   "id": "d00733931c5b1f58",
   "outputs": [
    {
     "data": {
      "text/plain": [
       "   index src_freebase_id                                           relation  \\\n",
       "0      0        /m/02jx1                        /location/location/contains   \n",
       "1      1      /m/05zrvfd  /award/award_category/nominees./award/award_no...   \n",
       "2      2       /m/07l450                                   /film/film/genre   \n",
       "3      3       /m/07h1h5  /sports/pro_athlete/teams./sports/sports_team_...   \n",
       "4      4        /m/0kbws    /olympics/olympic_games/participating_countries   \n",
       "\n",
       "  dest_freebase_id   timestamp  \\\n",
       "0        /m/013t85  2025-01-02   \n",
       "1       /m/04y9mm8  2025-01-02   \n",
       "2         /m/082gq  2025-01-02   \n",
       "3        /m/029q3k  2025-01-02   \n",
       "4         /m/027jk  2025-01-02   \n",
       "\n",
       "                                       relation_name  relation_id  \\\n",
       "0                        /location/location/contains           15   \n",
       "1  /award/award_category/nominees./award/award_no...            7   \n",
       "2                                   /film/film/genre           31   \n",
       "3  /sports/pro_athlete/teams./sports/sports_team_...           40   \n",
       "4    /olympics/olympic_games/participating_countries          157   \n",
       "\n",
       "  freebase_id_x                                            label_x  \\\n",
       "0      /m/02jx1                                            England   \n",
       "1    /m/05zrvfd  MTV Movie Award for Best Scared-As-S**t Perfor...   \n",
       "2     /m/07l450                          The Last King of Scotland   \n",
       "3     /m/07h1h5                                  Kasper Schmeichel   \n",
       "4      /m/0kbws                               2008 Summer Olympics   \n",
       "\n",
       "   src_wikidata_id  ...            label_y dest_wikidata_id  triple_id  \\\n",
       "0               21  ...         Pontefract          1009235     272118   \n",
       "1           425675  ...         Piranha 3D           733995     272121   \n",
       "2           176826  ...           war film           369747     272123   \n",
       "3           295797  ...  Notts County F.C.            19598     272124   \n",
       "4             8567  ...           Djibouti              977     272133   \n",
       "\n",
       "   disapprove  wikidata_id_x  \\\n",
       "0       False           21.0   \n",
       "1       False       425675.0   \n",
       "2       False       176826.0   \n",
       "3       False       295797.0   \n",
       "4       False         8567.0   \n",
       "\n",
       "                                           src_title  \\\n",
       "0                                            England   \n",
       "1  MTV Movie Award for Best Scared-As-Shit Perfor...   \n",
       "2                   The Last King of Scotland (film)   \n",
       "3                                  Kasper Schmeichel   \n",
       "4                               2008 Summer Olympics   \n",
       "\n",
       "                                         src_extract wikidata_id_y  \\\n",
       "0  England is a country that is part of the Unite...     1009235.0   \n",
       "1  The following is a list for the MTV Movie & TV...      733995.0   \n",
       "2  The Last King of Scotland is a 2006 historical...      369747.0   \n",
       "3  Kasper Peter Schmeichel (born 5 November 1986)...       19598.0   \n",
       "4  The 2008 Summer Olympics (Chinese: 2008年夏季奥运会)...         977.0   \n",
       "\n",
       "          dest_title                                       dest_extract  \n",
       "0         Pontefract  Pontefract is a historic market town in the Ci...  \n",
       "1         Piranha 3D  Piranha 3D is a 2010 American 3D horror comedy...  \n",
       "2           War film  War film is a film genre concerned with warfar...  \n",
       "3  Notts County F.C.  Notts County Football Club is a professional f...  \n",
       "4           Djibouti  Djibouti, officially the Republic of Djibouti,...  \n",
       "\n",
       "[5 rows x 21 columns]"
      ],
      "text/html": [
       "<div>\n",
       "<style scoped>\n",
       "    .dataframe tbody tr th:only-of-type {\n",
       "        vertical-align: middle;\n",
       "    }\n",
       "\n",
       "    .dataframe tbody tr th {\n",
       "        vertical-align: top;\n",
       "    }\n",
       "\n",
       "    .dataframe thead th {\n",
       "        text-align: right;\n",
       "    }\n",
       "</style>\n",
       "<table border=\"1\" class=\"dataframe\">\n",
       "  <thead>\n",
       "    <tr style=\"text-align: right;\">\n",
       "      <th></th>\n",
       "      <th>index</th>\n",
       "      <th>src_freebase_id</th>\n",
       "      <th>relation</th>\n",
       "      <th>dest_freebase_id</th>\n",
       "      <th>timestamp</th>\n",
       "      <th>relation_name</th>\n",
       "      <th>relation_id</th>\n",
       "      <th>freebase_id_x</th>\n",
       "      <th>label_x</th>\n",
       "      <th>src_wikidata_id</th>\n",
       "      <th>...</th>\n",
       "      <th>label_y</th>\n",
       "      <th>dest_wikidata_id</th>\n",
       "      <th>triple_id</th>\n",
       "      <th>disapprove</th>\n",
       "      <th>wikidata_id_x</th>\n",
       "      <th>src_title</th>\n",
       "      <th>src_extract</th>\n",
       "      <th>wikidata_id_y</th>\n",
       "      <th>dest_title</th>\n",
       "      <th>dest_extract</th>\n",
       "    </tr>\n",
       "  </thead>\n",
       "  <tbody>\n",
       "    <tr>\n",
       "      <th>0</th>\n",
       "      <td>0</td>\n",
       "      <td>/m/02jx1</td>\n",
       "      <td>/location/location/contains</td>\n",
       "      <td>/m/013t85</td>\n",
       "      <td>2025-01-02</td>\n",
       "      <td>/location/location/contains</td>\n",
       "      <td>15</td>\n",
       "      <td>/m/02jx1</td>\n",
       "      <td>England</td>\n",
       "      <td>21</td>\n",
       "      <td>...</td>\n",
       "      <td>Pontefract</td>\n",
       "      <td>1009235</td>\n",
       "      <td>272118</td>\n",
       "      <td>False</td>\n",
       "      <td>21.0</td>\n",
       "      <td>England</td>\n",
       "      <td>England is a country that is part of the Unite...</td>\n",
       "      <td>1009235.0</td>\n",
       "      <td>Pontefract</td>\n",
       "      <td>Pontefract is a historic market town in the Ci...</td>\n",
       "    </tr>\n",
       "    <tr>\n",
       "      <th>1</th>\n",
       "      <td>1</td>\n",
       "      <td>/m/05zrvfd</td>\n",
       "      <td>/award/award_category/nominees./award/award_no...</td>\n",
       "      <td>/m/04y9mm8</td>\n",
       "      <td>2025-01-02</td>\n",
       "      <td>/award/award_category/nominees./award/award_no...</td>\n",
       "      <td>7</td>\n",
       "      <td>/m/05zrvfd</td>\n",
       "      <td>MTV Movie Award for Best Scared-As-S**t Perfor...</td>\n",
       "      <td>425675</td>\n",
       "      <td>...</td>\n",
       "      <td>Piranha 3D</td>\n",
       "      <td>733995</td>\n",
       "      <td>272121</td>\n",
       "      <td>False</td>\n",
       "      <td>425675.0</td>\n",
       "      <td>MTV Movie Award for Best Scared-As-Shit Perfor...</td>\n",
       "      <td>The following is a list for the MTV Movie &amp; TV...</td>\n",
       "      <td>733995.0</td>\n",
       "      <td>Piranha 3D</td>\n",
       "      <td>Piranha 3D is a 2010 American 3D horror comedy...</td>\n",
       "    </tr>\n",
       "    <tr>\n",
       "      <th>2</th>\n",
       "      <td>2</td>\n",
       "      <td>/m/07l450</td>\n",
       "      <td>/film/film/genre</td>\n",
       "      <td>/m/082gq</td>\n",
       "      <td>2025-01-02</td>\n",
       "      <td>/film/film/genre</td>\n",
       "      <td>31</td>\n",
       "      <td>/m/07l450</td>\n",
       "      <td>The Last King of Scotland</td>\n",
       "      <td>176826</td>\n",
       "      <td>...</td>\n",
       "      <td>war film</td>\n",
       "      <td>369747</td>\n",
       "      <td>272123</td>\n",
       "      <td>False</td>\n",
       "      <td>176826.0</td>\n",
       "      <td>The Last King of Scotland (film)</td>\n",
       "      <td>The Last King of Scotland is a 2006 historical...</td>\n",
       "      <td>369747.0</td>\n",
       "      <td>War film</td>\n",
       "      <td>War film is a film genre concerned with warfar...</td>\n",
       "    </tr>\n",
       "    <tr>\n",
       "      <th>3</th>\n",
       "      <td>3</td>\n",
       "      <td>/m/07h1h5</td>\n",
       "      <td>/sports/pro_athlete/teams./sports/sports_team_...</td>\n",
       "      <td>/m/029q3k</td>\n",
       "      <td>2025-01-02</td>\n",
       "      <td>/sports/pro_athlete/teams./sports/sports_team_...</td>\n",
       "      <td>40</td>\n",
       "      <td>/m/07h1h5</td>\n",
       "      <td>Kasper Schmeichel</td>\n",
       "      <td>295797</td>\n",
       "      <td>...</td>\n",
       "      <td>Notts County F.C.</td>\n",
       "      <td>19598</td>\n",
       "      <td>272124</td>\n",
       "      <td>False</td>\n",
       "      <td>295797.0</td>\n",
       "      <td>Kasper Schmeichel</td>\n",
       "      <td>Kasper Peter Schmeichel (born 5 November 1986)...</td>\n",
       "      <td>19598.0</td>\n",
       "      <td>Notts County F.C.</td>\n",
       "      <td>Notts County Football Club is a professional f...</td>\n",
       "    </tr>\n",
       "    <tr>\n",
       "      <th>4</th>\n",
       "      <td>4</td>\n",
       "      <td>/m/0kbws</td>\n",
       "      <td>/olympics/olympic_games/participating_countries</td>\n",
       "      <td>/m/027jk</td>\n",
       "      <td>2025-01-02</td>\n",
       "      <td>/olympics/olympic_games/participating_countries</td>\n",
       "      <td>157</td>\n",
       "      <td>/m/0kbws</td>\n",
       "      <td>2008 Summer Olympics</td>\n",
       "      <td>8567</td>\n",
       "      <td>...</td>\n",
       "      <td>Djibouti</td>\n",
       "      <td>977</td>\n",
       "      <td>272133</td>\n",
       "      <td>False</td>\n",
       "      <td>8567.0</td>\n",
       "      <td>2008 Summer Olympics</td>\n",
       "      <td>The 2008 Summer Olympics (Chinese: 2008年夏季奥运会)...</td>\n",
       "      <td>977.0</td>\n",
       "      <td>Djibouti</td>\n",
       "      <td>Djibouti, officially the Republic of Djibouti,...</td>\n",
       "    </tr>\n",
       "  </tbody>\n",
       "</table>\n",
       "<p>5 rows × 21 columns</p>\n",
       "</div>"
      ]
     },
     "execution_count": 109,
     "metadata": {},
     "output_type": "execute_result"
    }
   ],
   "execution_count": 109
  },
  {
   "cell_type": "code",
   "id": "598ca258-1931-4247-ba18-93e63f8ed12e",
   "metadata": {
    "ExecuteTime": {
     "end_time": "2025-08-20T23:48:17.229747Z",
     "start_time": "2025-08-20T23:48:17.140668Z"
    }
   },
   "source": [
    "combined_triplets = pd.concat([triplets, triplets_test])\n",
    "# combined_triplets['disapprove'] = combined_triplets['disapprove'].astype('float')\n",
    "combined_triplets[['disapprove']].value_counts()\n",
    "combined_triplets['timestamp'] = pd.to_datetime(combined_triplets['timestamp'])"
   ],
   "outputs": [],
   "execution_count": 110
  },
  {
   "cell_type": "code",
   "id": "624df7d3-8c8b-4d5e-87a6-8fb5d3518cb2",
   "metadata": {
    "ExecuteTime": {
     "end_time": "2025-08-20T23:48:17.256669Z",
     "start_time": "2025-08-20T23:48:17.234172Z"
    }
   },
   "source": [
    "data_quality_df = combined_triplets[['triple_id', 'disapprove']].copy()\n",
    "data_quality_df['id'] = data_quality_df.index\n",
    "data_quality_df['disapprove'] = data_quality_df['disapprove'].astype('int')\n",
    "\n",
    "# add random timestamps to force fit into KumoAI restrictions\n",
    "base_date = pd.Timestamp('2025-02-01')\n",
    "num_triples = len(data_quality_df)\n",
    "random_days_ago_integers = np.random.randint(1, 24, size=num_triples)\n",
    "time_deltas = pd.to_timedelta(random_days_ago_integers, unit='days')\n",
    "data_quality_df['created_at'] = base_date - time_deltas\n",
    "data_quality_df.head()"
   ],
   "outputs": [
    {
     "data": {
      "text/plain": [
       "   triple_id  disapprove  id created_at\n",
       "0          0           0   0 2025-01-28\n",
       "1          2           0   1 2025-01-26\n",
       "2          4           0   2 2025-01-22\n",
       "3          8           0   3 2025-01-23\n",
       "4         11           0   4 2025-01-09"
      ],
      "text/html": [
       "<div>\n",
       "<style scoped>\n",
       "    .dataframe tbody tr th:only-of-type {\n",
       "        vertical-align: middle;\n",
       "    }\n",
       "\n",
       "    .dataframe tbody tr th {\n",
       "        vertical-align: top;\n",
       "    }\n",
       "\n",
       "    .dataframe thead th {\n",
       "        text-align: right;\n",
       "    }\n",
       "</style>\n",
       "<table border=\"1\" class=\"dataframe\">\n",
       "  <thead>\n",
       "    <tr style=\"text-align: right;\">\n",
       "      <th></th>\n",
       "      <th>triple_id</th>\n",
       "      <th>disapprove</th>\n",
       "      <th>id</th>\n",
       "      <th>created_at</th>\n",
       "    </tr>\n",
       "  </thead>\n",
       "  <tbody>\n",
       "    <tr>\n",
       "      <th>0</th>\n",
       "      <td>0</td>\n",
       "      <td>0</td>\n",
       "      <td>0</td>\n",
       "      <td>2025-01-28</td>\n",
       "    </tr>\n",
       "    <tr>\n",
       "      <th>1</th>\n",
       "      <td>2</td>\n",
       "      <td>0</td>\n",
       "      <td>1</td>\n",
       "      <td>2025-01-26</td>\n",
       "    </tr>\n",
       "    <tr>\n",
       "      <th>2</th>\n",
       "      <td>4</td>\n",
       "      <td>0</td>\n",
       "      <td>2</td>\n",
       "      <td>2025-01-22</td>\n",
       "    </tr>\n",
       "    <tr>\n",
       "      <th>3</th>\n",
       "      <td>8</td>\n",
       "      <td>0</td>\n",
       "      <td>3</td>\n",
       "      <td>2025-01-23</td>\n",
       "    </tr>\n",
       "    <tr>\n",
       "      <th>4</th>\n",
       "      <td>11</td>\n",
       "      <td>0</td>\n",
       "      <td>4</td>\n",
       "      <td>2025-01-09</td>\n",
       "    </tr>\n",
       "  </tbody>\n",
       "</table>\n",
       "</div>"
      ]
     },
     "execution_count": 111,
     "metadata": {},
     "output_type": "execute_result"
    }
   ],
   "execution_count": 111
  },
  {
   "cell_type": "code",
   "id": "8616a5e8-0969-4cd5-a455-667a157673e2",
   "metadata": {
    "ExecuteTime": {
     "end_time": "2025-08-20T23:48:17.292768Z",
     "start_time": "2025-08-20T23:48:17.277473Z"
    }
   },
   "source": [
    "import kumoai as kumo\n",
    "import kumoai.experimental.rfm as rfm\n",
    "import os\n",
    "if not os.environ.get(\"KUMO_API_KEY\"):\n",
    "    rfm.authenticate()\n",
    "KUMO_API_KEY = os.environ.get(\"KUMO_API_KEY\")\n",
    "rfm.init(api_key=KUMO_API_KEY)"
   ],
   "outputs": [
    {
     "name": "stdout",
     "output_type": "stream",
     "text": [
      "Client has already been created. To re-initialize Kumo, please start a new interpreter. No changes will be made to the current session.\n"
     ]
    }
   ],
   "execution_count": 112
  },
  {
   "cell_type": "code",
   "id": "992faf10-6e3e-4ed5-a4a2-8314f8491204",
   "metadata": {
    "ExecuteTime": {
     "end_time": "2025-08-20T23:48:17.612012Z",
     "start_time": "2025-08-20T23:48:17.332783Z"
    }
   },
   "source": [
    "#combined_triplets.reset_index(inplace=True)\n",
    "triples = rfm.LocalTable(\n",
    "    combined_triplets[['triple_id', 'src_wikidata_id', 'relation_id', 'dest_wikidata_id', 'timestamp', 'src_title', 'src_extract', 'dest_title', 'dest_extract']],\n",
    "    name=\"triples\"\n",
    ").infer_metadata()\n",
    "\n",
    "#relations_df.reset_index(inplace=True)\n",
    "relations = rfm.LocalTable(\n",
    "    relations_df, name=\"relations\", primary_key='relation_id'\n",
    ").infer_metadata()\n",
    "\n",
    "data_quality_df.reset_index(inplace=True)\n",
    "data_quality = rfm.LocalTable(\n",
    "    data_quality_df, name=\"data_quality\"\n",
    ").infer_metadata()\n",
    "data_quality.column(\"disapprove\").stype = \"numerical\"\n",
    "\n",
    "freebase_vs_wiki_df.reset_index(inplace=True)\n",
    "freebase_vs_wiki1 = rfm.LocalTable(\n",
    "    freebase_vs_wiki_df,\n",
    "    name=\"freebase_vs_wiki_src\",\n",
    "    primary_key=\"wikidata_id\"\n",
    ").infer_metadata()\n",
    "\n",
    "freebase_vs_wiki_df.reset_index(inplace=True)\n",
    "freebase_vs_wiki2 = rfm.LocalTable(\n",
    "    freebase_vs_wiki_df.copy(),\n",
    "    name=\"freebase_vs_wiki_dest\",\n",
    "    primary_key=\"wikidata_id\"\n",
    ").infer_metadata()"
   ],
   "outputs": [
    {
     "name": "stdout",
     "output_type": "stream",
     "text": [
      "Detected primary key 'triple_id' and time column 'timestamp' in table 'triples'\n",
      "Detected primary key 'id' and time column 'created_at' in table 'data_quality'\n"
     ]
    }
   ],
   "execution_count": 113
  },
  {
   "cell_type": "code",
   "id": "67084f87-e410-41db-a354-48bf192f38a2",
   "metadata": {
    "ExecuteTime": {
     "end_time": "2025-08-20T23:48:18.166464Z",
     "start_time": "2025-08-20T23:48:17.615076Z"
    }
   },
   "source": [
    "graph = rfm.LocalGraph(tables=[\n",
    "    triples,\n",
    "    relations,\n",
    "    freebase_vs_wiki1,\n",
    "    freebase_vs_wiki2,\n",
    "    data_quality,\n",
    "])\n",
    "# graph.link(src_table=\"freebase_vs_wiki\", fkey=\"src_wikidata_id\", dst_table=\"triples\")\n",
    "graph.link(src_table=\"triples\", fkey=\"src_wikidata_id\", dst_table=\"freebase_vs_wiki_src\")\n",
    "graph.link(src_table=\"data_quality\", fkey=\"triple_id\", dst_table=\"triples\")\n",
    "graph.link(src_table=\"triples\",fkey=\"relation_id\", dst_table=\"relations\")\n",
    "graph.link(src_table=\"triples\", fkey=\"dest_wikidata_id\", dst_table=\"freebase_vs_wiki_dest\")\n",
    "graph.visualize()"
   ],
   "outputs": [
    {
     "data": {
      "image/svg+xml": "<?xml version=\"1.0\" encoding=\"UTF-8\" standalone=\"no\"?>\n<!DOCTYPE svg PUBLIC \"-//W3C//DTD SVG 1.1//EN\"\n \"http://www.w3.org/Graphics/SVG/1.1/DTD/svg11.dtd\">\n<!-- Generated by graphviz version 13.1.2 (20250808.2320)\n -->\n<!-- Pages: 1 -->\n<svg width=\"497pt\" height=\"681pt\"\n viewBox=\"0.00 0.00 497.00 681.00\" xmlns=\"http://www.w3.org/2000/svg\" xmlns:xlink=\"http://www.w3.org/1999/xlink\">\n<g id=\"graph0\" class=\"graph\" transform=\"scale(1 1) rotate(0) translate(4 677)\">\n<polygon fill=\"white\" stroke=\"none\" points=\"-4,4 -4,-677 493.12,-677 493.12,4 -4,4\"/>\n<!-- triples -->\n<g id=\"node1\" class=\"node\">\n<title>triples</title>\n<polygon fill=\"none\" stroke=\"black\" points=\"174.62,-272 174.62,-461 334.62,-461 334.62,-272 174.62,-272\"/>\n<text xml:space=\"preserve\" text-anchor=\"middle\" x=\"254.62\" y=\"-443.7\" font-family=\"Times,serif\" font-size=\"14.00\">triples</text>\n<polyline fill=\"none\" stroke=\"black\" points=\"174.62,-436.5 334.62,-436.5\"/>\n<text xml:space=\"preserve\" text-anchor=\"start\" x=\"182.62\" y=\"-419.2\" font-family=\"Times,serif\" font-size=\"14.00\">triple_id: PK (int)</text>\n<text xml:space=\"preserve\" text-anchor=\"start\" x=\"182.62\" y=\"-402.7\" font-family=\"Times,serif\" font-size=\"14.00\">src_wikidata_id: FK (int)</text>\n<text xml:space=\"preserve\" text-anchor=\"start\" x=\"182.62\" y=\"-386.2\" font-family=\"Times,serif\" font-size=\"14.00\">relation_id: FK (int)</text>\n<text xml:space=\"preserve\" text-anchor=\"start\" x=\"182.62\" y=\"-369.7\" font-family=\"Times,serif\" font-size=\"14.00\">dest_wikidata_id: FK (int)</text>\n<text xml:space=\"preserve\" text-anchor=\"start\" x=\"182.62\" y=\"-353.2\" font-family=\"Times,serif\" font-size=\"14.00\">timestamp: Time (date)</text>\n<polyline fill=\"none\" stroke=\"black\" points=\"174.62,-346 334.62,-346\"/>\n<text xml:space=\"preserve\" text-anchor=\"start\" x=\"182.62\" y=\"-328.7\" font-family=\"Times,serif\" font-size=\"14.00\">src_title: text (string)</text>\n<text xml:space=\"preserve\" text-anchor=\"start\" x=\"182.62\" y=\"-312.2\" font-family=\"Times,serif\" font-size=\"14.00\">src_extract: text (string)</text>\n<text xml:space=\"preserve\" text-anchor=\"start\" x=\"182.62\" y=\"-295.7\" font-family=\"Times,serif\" font-size=\"14.00\">dest_title: text (string)</text>\n<text xml:space=\"preserve\" text-anchor=\"start\" x=\"182.62\" y=\"-279.2\" font-family=\"Times,serif\" font-size=\"14.00\">dest_extract: text (string)</text>\n</g>\n<!-- relations -->\n<g id=\"node2\" class=\"node\">\n<title>relations</title>\n<polygon fill=\"none\" stroke=\"black\" points=\"0,-41.75 0,-115.25 165.25,-115.25 165.25,-41.75 0,-41.75\"/>\n<text xml:space=\"preserve\" text-anchor=\"middle\" x=\"82.62\" y=\"-97.95\" font-family=\"Times,serif\" font-size=\"14.00\">relations</text>\n<polyline fill=\"none\" stroke=\"black\" points=\"0,-90.75 165.25,-90.75\"/>\n<text xml:space=\"preserve\" text-anchor=\"start\" x=\"8\" y=\"-73.45\" font-family=\"Times,serif\" font-size=\"14.00\">relation_id: PK (int)</text>\n<polyline fill=\"none\" stroke=\"black\" points=\"0,-66.25 165.25,-66.25\"/>\n<text xml:space=\"preserve\" text-anchor=\"start\" x=\"8\" y=\"-48.95\" font-family=\"Times,serif\" font-size=\"14.00\">relation_name: text (string)</text>\n</g>\n<!-- triples&#45;&#45;relations -->\n<g id=\"edge3\" class=\"edge\">\n<title>triples&#45;&#45;relations</title>\n<path fill=\"none\" stroke=\"black\" d=\"M198.31,-271.85C166.17,-218.42 127.73,-154.51 104.26,-115.47\"/>\n<text xml:space=\"preserve\" text-anchor=\"middle\" x=\"202.41\" y=\"-210.55\" font-family=\"Times,serif\" font-size=\"11.00\"> relation_id </text>\n<text xml:space=\"preserve\" text-anchor=\"middle\" x=\"116.7\" y=\"-120.15\" font-family=\"Times,serif\" font-size=\"11.00\">1</text>\n<text xml:space=\"preserve\" text-anchor=\"middle\" x=\"185.87\" y=\"-259.77\" font-family=\"Times,serif\" font-size=\"11.00\">*</text>\n</g>\n<!-- freebase_vs_wiki_src -->\n<g id=\"node3\" class=\"node\">\n<title>freebase_vs_wiki_src</title>\n<polygon fill=\"none\" stroke=\"black\" points=\"182.88,-8.75 182.88,-148.25 326.38,-148.25 326.38,-8.75 182.88,-8.75\"/>\n<text xml:space=\"preserve\" text-anchor=\"middle\" x=\"254.62\" y=\"-130.95\" font-family=\"Times,serif\" font-size=\"14.00\">freebase_vs_wiki_src</text>\n<polyline fill=\"none\" stroke=\"black\" points=\"182.88,-123.75 326.38,-123.75\"/>\n<text xml:space=\"preserve\" text-anchor=\"start\" x=\"190.88\" y=\"-106.45\" font-family=\"Times,serif\" font-size=\"14.00\">wikidata_id: PK (int)</text>\n<polyline fill=\"none\" stroke=\"black\" points=\"182.88,-99.25 326.38,-99.25\"/>\n<text xml:space=\"preserve\" text-anchor=\"start\" x=\"190.88\" y=\"-81.95\" font-family=\"Times,serif\" font-size=\"14.00\">index: numerical (int)</text>\n<text xml:space=\"preserve\" text-anchor=\"start\" x=\"190.88\" y=\"-65.45\" font-family=\"Times,serif\" font-size=\"14.00\">freebase_id: ID (string)</text>\n<text xml:space=\"preserve\" text-anchor=\"start\" x=\"190.88\" y=\"-48.95\" font-family=\"Times,serif\" font-size=\"14.00\">label: text (string)</text>\n<text xml:space=\"preserve\" text-anchor=\"start\" x=\"190.88\" y=\"-32.45\" font-family=\"Times,serif\" font-size=\"14.00\">Title: text (string)</text>\n<text xml:space=\"preserve\" text-anchor=\"start\" x=\"190.88\" y=\"-15.95\" font-family=\"Times,serif\" font-size=\"14.00\">Extract: text (string)</text>\n</g>\n<!-- triples&#45;&#45;freebase_vs_wiki_src -->\n<g id=\"edge1\" class=\"edge\">\n<title>triples&#45;&#45;freebase_vs_wiki_src</title>\n<path fill=\"none\" stroke=\"black\" d=\"M254.62,-271.85C254.62,-231.61 254.62,-185.43 254.62,-148.41\"/>\n<text xml:space=\"preserve\" text-anchor=\"middle\" x=\"291.38\" y=\"-224.05\" font-family=\"Times,serif\" font-size=\"11.00\"> src_wikidata_id</text>\n<text xml:space=\"preserve\" text-anchor=\"middle\" x=\"291.38\" y=\"-210.55\" font-family=\"Times,serif\" font-size=\"11.00\">&lt; &gt;</text>\n<text xml:space=\"preserve\" text-anchor=\"middle\" x=\"291.38\" y=\"-197.05\" font-family=\"Times,serif\" font-size=\"11.00\">wikidata_id </text>\n<text xml:space=\"preserve\" text-anchor=\"middle\" x=\"260.96\" y=\"-158.3\" font-family=\"Times,serif\" font-size=\"11.00\">1</text>\n<text xml:space=\"preserve\" text-anchor=\"middle\" x=\"248.29\" y=\"-254.56\" font-family=\"Times,serif\" font-size=\"11.00\">*</text>\n</g>\n<!-- freebase_vs_wiki_dest -->\n<g id=\"node4\" class=\"node\">\n<title>freebase_vs_wiki_dest</title>\n<polygon fill=\"none\" stroke=\"black\" points=\"344.12,-0.5 344.12,-156.5 489.12,-156.5 489.12,-0.5 344.12,-0.5\"/>\n<text xml:space=\"preserve\" text-anchor=\"middle\" x=\"416.62\" y=\"-139.2\" font-family=\"Times,serif\" font-size=\"14.00\">freebase_vs_wiki_dest</text>\n<polyline fill=\"none\" stroke=\"black\" points=\"344.12,-132 489.12,-132\"/>\n<text xml:space=\"preserve\" text-anchor=\"start\" x=\"352.12\" y=\"-114.7\" font-family=\"Times,serif\" font-size=\"14.00\">wikidata_id: PK (int)</text>\n<polyline fill=\"none\" stroke=\"black\" points=\"344.12,-107.5 489.12,-107.5\"/>\n<text xml:space=\"preserve\" text-anchor=\"start\" x=\"352.12\" y=\"-90.2\" font-family=\"Times,serif\" font-size=\"14.00\">level_0: numerical (int)</text>\n<text xml:space=\"preserve\" text-anchor=\"start\" x=\"352.12\" y=\"-73.7\" font-family=\"Times,serif\" font-size=\"14.00\">index: numerical (int)</text>\n<text xml:space=\"preserve\" text-anchor=\"start\" x=\"352.12\" y=\"-57.2\" font-family=\"Times,serif\" font-size=\"14.00\">freebase_id: ID (string)</text>\n<text xml:space=\"preserve\" text-anchor=\"start\" x=\"352.12\" y=\"-40.7\" font-family=\"Times,serif\" font-size=\"14.00\">label: text (string)</text>\n<text xml:space=\"preserve\" text-anchor=\"start\" x=\"352.12\" y=\"-24.2\" font-family=\"Times,serif\" font-size=\"14.00\">Title: text (string)</text>\n<text xml:space=\"preserve\" text-anchor=\"start\" x=\"352.12\" y=\"-7.7\" font-family=\"Times,serif\" font-size=\"14.00\">Extract: text (string)</text>\n</g>\n<!-- triples&#45;&#45;freebase_vs_wiki_dest -->\n<g id=\"edge4\" class=\"edge\">\n<title>triples&#45;&#45;freebase_vs_wiki_dest</title>\n<path fill=\"none\" stroke=\"black\" d=\"M311.11,-271.67C318.43,-259.22 325.76,-246.58 332.62,-234.5 346.92,-209.35 362.1,-181.65 375.58,-156.71\"/>\n<text xml:space=\"preserve\" text-anchor=\"middle\" x=\"393.92\" y=\"-224.05\" font-family=\"Times,serif\" font-size=\"11.00\"> dest_wikidata_id</text>\n<text xml:space=\"preserve\" text-anchor=\"middle\" x=\"393.92\" y=\"-210.55\" font-family=\"Times,serif\" font-size=\"11.00\">&lt; &gt;</text>\n<text xml:space=\"preserve\" text-anchor=\"middle\" x=\"393.92\" y=\"-197.05\" font-family=\"Times,serif\" font-size=\"11.00\">wikidata_id </text>\n<text xml:space=\"preserve\" text-anchor=\"middle\" x=\"374.68\" y=\"-167.98\" font-family=\"Times,serif\" font-size=\"11.00\">1</text>\n<text xml:space=\"preserve\" text-anchor=\"middle\" x=\"312.52\" y=\"-253.04\" font-family=\"Times,serif\" font-size=\"11.00\">*</text>\n</g>\n<!-- data_quality -->\n<g id=\"node5\" class=\"node\">\n<title>data_quality</title>\n<polygon fill=\"none\" stroke=\"black\" points=\"172.38,-549.5 172.38,-672.5 336.88,-672.5 336.88,-549.5 172.38,-549.5\"/>\n<text xml:space=\"preserve\" text-anchor=\"middle\" x=\"254.62\" y=\"-655.2\" font-family=\"Times,serif\" font-size=\"14.00\">data_quality</text>\n<polyline fill=\"none\" stroke=\"black\" points=\"172.38,-648 336.88,-648\"/>\n<text xml:space=\"preserve\" text-anchor=\"start\" x=\"180.38\" y=\"-630.7\" font-family=\"Times,serif\" font-size=\"14.00\">id: PK (int)</text>\n<text xml:space=\"preserve\" text-anchor=\"start\" x=\"180.38\" y=\"-614.2\" font-family=\"Times,serif\" font-size=\"14.00\">triple_id: FK (int)</text>\n<text xml:space=\"preserve\" text-anchor=\"start\" x=\"180.38\" y=\"-597.7\" font-family=\"Times,serif\" font-size=\"14.00\">created_at: Time (date)</text>\n<polyline fill=\"none\" stroke=\"black\" points=\"172.38,-590.5 336.88,-590.5\"/>\n<text xml:space=\"preserve\" text-anchor=\"start\" x=\"180.38\" y=\"-573.2\" font-family=\"Times,serif\" font-size=\"14.00\">index: numerical (int)</text>\n<text xml:space=\"preserve\" text-anchor=\"start\" x=\"180.38\" y=\"-556.7\" font-family=\"Times,serif\" font-size=\"14.00\">disapprove: numerical (int)</text>\n</g>\n<!-- data_quality&#45;&#45;triples -->\n<g id=\"edge2\" class=\"edge\">\n<title>data_quality&#45;&#45;triples</title>\n<path fill=\"none\" stroke=\"black\" d=\"M254.62,-549.12C254.62,-522.6 254.62,-490.92 254.62,-461.49\"/>\n<text xml:space=\"preserve\" text-anchor=\"middle\" x=\"276\" y=\"-501.55\" font-family=\"Times,serif\" font-size=\"11.00\"> triple_id </text>\n<text xml:space=\"preserve\" text-anchor=\"middle\" x=\"260.96\" y=\"-471.38\" font-family=\"Times,serif\" font-size=\"11.00\">1</text>\n<text xml:space=\"preserve\" text-anchor=\"middle\" x=\"248.29\" y=\"-531.83\" font-family=\"Times,serif\" font-size=\"11.00\">*</text>\n</g>\n</g>\n</svg>\n",
      "text/plain": [
       "<graphviz.graphs.Graph at 0x123ab8f50>"
      ]
     },
     "metadata": {},
     "output_type": "display_data"
    },
    {
     "data": {
      "image/svg+xml": "<?xml version=\"1.0\" encoding=\"UTF-8\" standalone=\"no\"?>\n<!DOCTYPE svg PUBLIC \"-//W3C//DTD SVG 1.1//EN\"\n \"http://www.w3.org/Graphics/SVG/1.1/DTD/svg11.dtd\">\n<!-- Generated by graphviz version 13.1.2 (20250808.2320)\n -->\n<!-- Pages: 1 -->\n<svg width=\"497pt\" height=\"681pt\"\n viewBox=\"0.00 0.00 497.00 681.00\" xmlns=\"http://www.w3.org/2000/svg\" xmlns:xlink=\"http://www.w3.org/1999/xlink\">\n<g id=\"graph0\" class=\"graph\" transform=\"scale(1 1) rotate(0) translate(4 677)\">\n<polygon fill=\"white\" stroke=\"none\" points=\"-4,4 -4,-677 493.12,-677 493.12,4 -4,4\"/>\n<!-- triples -->\n<g id=\"node1\" class=\"node\">\n<title>triples</title>\n<polygon fill=\"none\" stroke=\"black\" points=\"174.62,-272 174.62,-461 334.62,-461 334.62,-272 174.62,-272\"/>\n<text xml:space=\"preserve\" text-anchor=\"middle\" x=\"254.62\" y=\"-443.7\" font-family=\"Times,serif\" font-size=\"14.00\">triples</text>\n<polyline fill=\"none\" stroke=\"black\" points=\"174.62,-436.5 334.62,-436.5\"/>\n<text xml:space=\"preserve\" text-anchor=\"start\" x=\"182.62\" y=\"-419.2\" font-family=\"Times,serif\" font-size=\"14.00\">triple_id: PK (int)</text>\n<text xml:space=\"preserve\" text-anchor=\"start\" x=\"182.62\" y=\"-402.7\" font-family=\"Times,serif\" font-size=\"14.00\">src_wikidata_id: FK (int)</text>\n<text xml:space=\"preserve\" text-anchor=\"start\" x=\"182.62\" y=\"-386.2\" font-family=\"Times,serif\" font-size=\"14.00\">relation_id: FK (int)</text>\n<text xml:space=\"preserve\" text-anchor=\"start\" x=\"182.62\" y=\"-369.7\" font-family=\"Times,serif\" font-size=\"14.00\">dest_wikidata_id: FK (int)</text>\n<text xml:space=\"preserve\" text-anchor=\"start\" x=\"182.62\" y=\"-353.2\" font-family=\"Times,serif\" font-size=\"14.00\">timestamp: Time (date)</text>\n<polyline fill=\"none\" stroke=\"black\" points=\"174.62,-346 334.62,-346\"/>\n<text xml:space=\"preserve\" text-anchor=\"start\" x=\"182.62\" y=\"-328.7\" font-family=\"Times,serif\" font-size=\"14.00\">src_title: text (string)</text>\n<text xml:space=\"preserve\" text-anchor=\"start\" x=\"182.62\" y=\"-312.2\" font-family=\"Times,serif\" font-size=\"14.00\">src_extract: text (string)</text>\n<text xml:space=\"preserve\" text-anchor=\"start\" x=\"182.62\" y=\"-295.7\" font-family=\"Times,serif\" font-size=\"14.00\">dest_title: text (string)</text>\n<text xml:space=\"preserve\" text-anchor=\"start\" x=\"182.62\" y=\"-279.2\" font-family=\"Times,serif\" font-size=\"14.00\">dest_extract: text (string)</text>\n</g>\n<!-- relations -->\n<g id=\"node2\" class=\"node\">\n<title>relations</title>\n<polygon fill=\"none\" stroke=\"black\" points=\"0,-41.75 0,-115.25 165.25,-115.25 165.25,-41.75 0,-41.75\"/>\n<text xml:space=\"preserve\" text-anchor=\"middle\" x=\"82.62\" y=\"-97.95\" font-family=\"Times,serif\" font-size=\"14.00\">relations</text>\n<polyline fill=\"none\" stroke=\"black\" points=\"0,-90.75 165.25,-90.75\"/>\n<text xml:space=\"preserve\" text-anchor=\"start\" x=\"8\" y=\"-73.45\" font-family=\"Times,serif\" font-size=\"14.00\">relation_id: PK (int)</text>\n<polyline fill=\"none\" stroke=\"black\" points=\"0,-66.25 165.25,-66.25\"/>\n<text xml:space=\"preserve\" text-anchor=\"start\" x=\"8\" y=\"-48.95\" font-family=\"Times,serif\" font-size=\"14.00\">relation_name: text (string)</text>\n</g>\n<!-- triples&#45;&#45;relations -->\n<g id=\"edge3\" class=\"edge\">\n<title>triples&#45;&#45;relations</title>\n<path fill=\"none\" stroke=\"black\" d=\"M198.31,-271.85C166.17,-218.42 127.73,-154.51 104.26,-115.47\"/>\n<text xml:space=\"preserve\" text-anchor=\"middle\" x=\"202.41\" y=\"-210.55\" font-family=\"Times,serif\" font-size=\"11.00\"> relation_id </text>\n<text xml:space=\"preserve\" text-anchor=\"middle\" x=\"116.7\" y=\"-120.15\" font-family=\"Times,serif\" font-size=\"11.00\">1</text>\n<text xml:space=\"preserve\" text-anchor=\"middle\" x=\"185.87\" y=\"-259.77\" font-family=\"Times,serif\" font-size=\"11.00\">*</text>\n</g>\n<!-- freebase_vs_wiki_src -->\n<g id=\"node3\" class=\"node\">\n<title>freebase_vs_wiki_src</title>\n<polygon fill=\"none\" stroke=\"black\" points=\"182.88,-8.75 182.88,-148.25 326.38,-148.25 326.38,-8.75 182.88,-8.75\"/>\n<text xml:space=\"preserve\" text-anchor=\"middle\" x=\"254.62\" y=\"-130.95\" font-family=\"Times,serif\" font-size=\"14.00\">freebase_vs_wiki_src</text>\n<polyline fill=\"none\" stroke=\"black\" points=\"182.88,-123.75 326.38,-123.75\"/>\n<text xml:space=\"preserve\" text-anchor=\"start\" x=\"190.88\" y=\"-106.45\" font-family=\"Times,serif\" font-size=\"14.00\">wikidata_id: PK (int)</text>\n<polyline fill=\"none\" stroke=\"black\" points=\"182.88,-99.25 326.38,-99.25\"/>\n<text xml:space=\"preserve\" text-anchor=\"start\" x=\"190.88\" y=\"-81.95\" font-family=\"Times,serif\" font-size=\"14.00\">index: numerical (int)</text>\n<text xml:space=\"preserve\" text-anchor=\"start\" x=\"190.88\" y=\"-65.45\" font-family=\"Times,serif\" font-size=\"14.00\">freebase_id: ID (string)</text>\n<text xml:space=\"preserve\" text-anchor=\"start\" x=\"190.88\" y=\"-48.95\" font-family=\"Times,serif\" font-size=\"14.00\">label: text (string)</text>\n<text xml:space=\"preserve\" text-anchor=\"start\" x=\"190.88\" y=\"-32.45\" font-family=\"Times,serif\" font-size=\"14.00\">Title: text (string)</text>\n<text xml:space=\"preserve\" text-anchor=\"start\" x=\"190.88\" y=\"-15.95\" font-family=\"Times,serif\" font-size=\"14.00\">Extract: text (string)</text>\n</g>\n<!-- triples&#45;&#45;freebase_vs_wiki_src -->\n<g id=\"edge1\" class=\"edge\">\n<title>triples&#45;&#45;freebase_vs_wiki_src</title>\n<path fill=\"none\" stroke=\"black\" d=\"M254.62,-271.85C254.62,-231.61 254.62,-185.43 254.62,-148.41\"/>\n<text xml:space=\"preserve\" text-anchor=\"middle\" x=\"291.38\" y=\"-224.05\" font-family=\"Times,serif\" font-size=\"11.00\"> src_wikidata_id</text>\n<text xml:space=\"preserve\" text-anchor=\"middle\" x=\"291.38\" y=\"-210.55\" font-family=\"Times,serif\" font-size=\"11.00\">&lt; &gt;</text>\n<text xml:space=\"preserve\" text-anchor=\"middle\" x=\"291.38\" y=\"-197.05\" font-family=\"Times,serif\" font-size=\"11.00\">wikidata_id </text>\n<text xml:space=\"preserve\" text-anchor=\"middle\" x=\"260.96\" y=\"-158.3\" font-family=\"Times,serif\" font-size=\"11.00\">1</text>\n<text xml:space=\"preserve\" text-anchor=\"middle\" x=\"248.29\" y=\"-254.56\" font-family=\"Times,serif\" font-size=\"11.00\">*</text>\n</g>\n<!-- freebase_vs_wiki_dest -->\n<g id=\"node4\" class=\"node\">\n<title>freebase_vs_wiki_dest</title>\n<polygon fill=\"none\" stroke=\"black\" points=\"344.12,-0.5 344.12,-156.5 489.12,-156.5 489.12,-0.5 344.12,-0.5\"/>\n<text xml:space=\"preserve\" text-anchor=\"middle\" x=\"416.62\" y=\"-139.2\" font-family=\"Times,serif\" font-size=\"14.00\">freebase_vs_wiki_dest</text>\n<polyline fill=\"none\" stroke=\"black\" points=\"344.12,-132 489.12,-132\"/>\n<text xml:space=\"preserve\" text-anchor=\"start\" x=\"352.12\" y=\"-114.7\" font-family=\"Times,serif\" font-size=\"14.00\">wikidata_id: PK (int)</text>\n<polyline fill=\"none\" stroke=\"black\" points=\"344.12,-107.5 489.12,-107.5\"/>\n<text xml:space=\"preserve\" text-anchor=\"start\" x=\"352.12\" y=\"-90.2\" font-family=\"Times,serif\" font-size=\"14.00\">level_0: numerical (int)</text>\n<text xml:space=\"preserve\" text-anchor=\"start\" x=\"352.12\" y=\"-73.7\" font-family=\"Times,serif\" font-size=\"14.00\">index: numerical (int)</text>\n<text xml:space=\"preserve\" text-anchor=\"start\" x=\"352.12\" y=\"-57.2\" font-family=\"Times,serif\" font-size=\"14.00\">freebase_id: ID (string)</text>\n<text xml:space=\"preserve\" text-anchor=\"start\" x=\"352.12\" y=\"-40.7\" font-family=\"Times,serif\" font-size=\"14.00\">label: text (string)</text>\n<text xml:space=\"preserve\" text-anchor=\"start\" x=\"352.12\" y=\"-24.2\" font-family=\"Times,serif\" font-size=\"14.00\">Title: text (string)</text>\n<text xml:space=\"preserve\" text-anchor=\"start\" x=\"352.12\" y=\"-7.7\" font-family=\"Times,serif\" font-size=\"14.00\">Extract: text (string)</text>\n</g>\n<!-- triples&#45;&#45;freebase_vs_wiki_dest -->\n<g id=\"edge4\" class=\"edge\">\n<title>triples&#45;&#45;freebase_vs_wiki_dest</title>\n<path fill=\"none\" stroke=\"black\" d=\"M311.11,-271.67C318.43,-259.22 325.76,-246.58 332.62,-234.5 346.92,-209.35 362.1,-181.65 375.58,-156.71\"/>\n<text xml:space=\"preserve\" text-anchor=\"middle\" x=\"393.92\" y=\"-224.05\" font-family=\"Times,serif\" font-size=\"11.00\"> dest_wikidata_id</text>\n<text xml:space=\"preserve\" text-anchor=\"middle\" x=\"393.92\" y=\"-210.55\" font-family=\"Times,serif\" font-size=\"11.00\">&lt; &gt;</text>\n<text xml:space=\"preserve\" text-anchor=\"middle\" x=\"393.92\" y=\"-197.05\" font-family=\"Times,serif\" font-size=\"11.00\">wikidata_id </text>\n<text xml:space=\"preserve\" text-anchor=\"middle\" x=\"374.68\" y=\"-167.98\" font-family=\"Times,serif\" font-size=\"11.00\">1</text>\n<text xml:space=\"preserve\" text-anchor=\"middle\" x=\"312.52\" y=\"-253.04\" font-family=\"Times,serif\" font-size=\"11.00\">*</text>\n</g>\n<!-- data_quality -->\n<g id=\"node5\" class=\"node\">\n<title>data_quality</title>\n<polygon fill=\"none\" stroke=\"black\" points=\"172.38,-549.5 172.38,-672.5 336.88,-672.5 336.88,-549.5 172.38,-549.5\"/>\n<text xml:space=\"preserve\" text-anchor=\"middle\" x=\"254.62\" y=\"-655.2\" font-family=\"Times,serif\" font-size=\"14.00\">data_quality</text>\n<polyline fill=\"none\" stroke=\"black\" points=\"172.38,-648 336.88,-648\"/>\n<text xml:space=\"preserve\" text-anchor=\"start\" x=\"180.38\" y=\"-630.7\" font-family=\"Times,serif\" font-size=\"14.00\">id: PK (int)</text>\n<text xml:space=\"preserve\" text-anchor=\"start\" x=\"180.38\" y=\"-614.2\" font-family=\"Times,serif\" font-size=\"14.00\">triple_id: FK (int)</text>\n<text xml:space=\"preserve\" text-anchor=\"start\" x=\"180.38\" y=\"-597.7\" font-family=\"Times,serif\" font-size=\"14.00\">created_at: Time (date)</text>\n<polyline fill=\"none\" stroke=\"black\" points=\"172.38,-590.5 336.88,-590.5\"/>\n<text xml:space=\"preserve\" text-anchor=\"start\" x=\"180.38\" y=\"-573.2\" font-family=\"Times,serif\" font-size=\"14.00\">index: numerical (int)</text>\n<text xml:space=\"preserve\" text-anchor=\"start\" x=\"180.38\" y=\"-556.7\" font-family=\"Times,serif\" font-size=\"14.00\">disapprove: numerical (int)</text>\n</g>\n<!-- data_quality&#45;&#45;triples -->\n<g id=\"edge2\" class=\"edge\">\n<title>data_quality&#45;&#45;triples</title>\n<path fill=\"none\" stroke=\"black\" d=\"M254.62,-549.12C254.62,-522.6 254.62,-490.92 254.62,-461.49\"/>\n<text xml:space=\"preserve\" text-anchor=\"middle\" x=\"276\" y=\"-501.55\" font-family=\"Times,serif\" font-size=\"11.00\"> triple_id </text>\n<text xml:space=\"preserve\" text-anchor=\"middle\" x=\"260.96\" y=\"-471.38\" font-family=\"Times,serif\" font-size=\"11.00\">1</text>\n<text xml:space=\"preserve\" text-anchor=\"middle\" x=\"248.29\" y=\"-531.83\" font-family=\"Times,serif\" font-size=\"11.00\">*</text>\n</g>\n</g>\n</svg>\n",
      "text/plain": [
       "<graphviz.graphs.Graph at 0x123ab8f50>"
      ]
     },
     "execution_count": 114,
     "metadata": {},
     "output_type": "execute_result"
    }
   ],
   "execution_count": 114
  },
  {
   "cell_type": "code",
   "id": "4362a6a5-f722-48d7-84fd-1870c6ca4c1a",
   "metadata": {
    "ExecuteTime": {
     "end_time": "2025-08-20T23:48:18.180380Z",
     "start_time": "2025-08-20T23:48:18.178918Z"
    }
   },
   "source": [
    "# graph['triples']['relation'].stype\n",
    "# graph['triples']['relation_id'].stype"
   ],
   "outputs": [],
   "execution_count": 115
  },
  {
   "cell_type": "code",
   "id": "67af4edd-3cbf-456d-8afe-29b84033b289",
   "metadata": {
    "ExecuteTime": {
     "end_time": "2025-08-20T23:51:56.689291Z",
     "start_time": "2025-08-20T23:48:18.186640Z"
    }
   },
   "source": [
    "model = rfm.KumoRFM(graph)"
   ],
   "outputs": [
    {
     "data": {
      "text/plain": [
       "Output()"
      ],
      "application/vnd.jupyter.widget-view+json": {
       "version_major": 2,
       "version_minor": 0,
       "model_id": "7e90c816bd654cd3bbfee55214ada536"
      }
     },
     "metadata": {},
     "output_type": "display_data"
    },
    {
     "data": {
      "text/plain": [],
      "text/html": [
       "<pre style=\"white-space:pre;overflow-x:auto;line-height:normal;font-family:Menlo,'DejaVu Sans Mono',consolas,'Courier New',monospace\"></pre>\n"
      ]
     },
     "metadata": {},
     "output_type": "display_data"
    }
   ],
   "execution_count": 116
  },
  {
   "cell_type": "code",
   "id": "45f67cf5-3354-4059-98a8-897c9171f7bb",
   "metadata": {
    "ExecuteTime": {
     "end_time": "2025-08-20T23:51:56.850898Z",
     "start_time": "2025-08-20T23:51:56.848787Z"
    }
   },
   "source": [
    "# PREDICT triples.relation\n",
    "# Couldn't pick a unique triples.relation for each freebase_vs_wiki. row 1, column 8: Encountered an error, we have found \n",
    "# multiple 'relation' values in the 'triples' table for a single 'freebase_vs_wiki'. To fix this, you have two options:\n",
    "## 1. Aggregate the values: If your 'triples' table has a 'created at' column, use an aggregation function to reduce them to one value. \n",
    "##   For example: PREDICT LAST(triples.relation, 0, 30, days).\n",
    "## 2. Rewrite your query: If you are writing a static node prediction predictive query, make sure that you \n",
    "##   either use the same table to define your target and entity, or you have a foreign key from the entity pointing to the target table, \n",
    "##   not the other way around.\n",
    "\n",
    "# PREDICT triples.relation RANK TOP 10\n",
    "## Problem type 'ProblemType.RANK' is only supported for multicategorical targets. . row 1, column 8: Target 'triples.relation' is \n",
    "## not multicategorical. Either drop the problem type ProblemType.RANK OR \n",
    "## change the target to a multicategorical column, 'LAST'/'FIRST' aggregation of a multicategorical column, or a 'LIST_DISTINCT' aggregation.\n",
    "\n",
    "# FOR triples.src_wikidata_id=7413907\n",
    "# Invalid entity. row 2, column 4: Entity 'triples.src_wikidata_id' is not a primary key. \n",
    "# The column used in 'FOR EACH' has to be a primary key.\n",
    "\n",
    "# FOR \n",
    "\n",
    "# WHERE triples.relation contains 'place'\n"
   ],
   "outputs": [],
   "execution_count": 117
  },
  {
   "cell_type": "code",
   "id": "a4a212aa-acd0-43b0-9570-32a97d63287e",
   "metadata": {
    "ExecuteTime": {
     "end_time": "2025-08-20T23:51:56.855816Z",
     "start_time": "2025-08-20T23:51:56.854543Z"
    }
   },
   "source": [
    "# kumo.init(api_key=KUMO_API_KEY)"
   ],
   "outputs": [],
   "execution_count": 118
  },
  {
   "cell_type": "code",
   "id": "efecb7cd-7df4-4710-bc90-eb15987bf37c",
   "metadata": {
    "ExecuteTime": {
     "end_time": "2025-08-20T23:51:56.875941Z",
     "start_time": "2025-08-20T23:51:56.872809Z"
    }
   },
   "source": [
    "# Working queries\n",
    "\n",
    "query = \"\"\"\n",
    "PREDICT freebase_vs_wiki.freebase_id \n",
    "FOR freebase_vs_wiki.wikidata_id=7413907 \n",
    "\"\"\"\n",
    "\n",
    "query = \"\"\"\n",
    "PREDICT LIST_DISTINCT(triples.relation_id, 0, 80, days)\n",
    "FOR freebase_vs_wiki.wikidata_id=486860 \n",
    "\"\"\"\n",
    "\n",
    "# relations / types of edges for Arnold Schwarzenegger\n",
    "query = \"\"\"\n",
    "PREDICT LIST_DISTINCT(triples.relation_id, 0, 80, days)\n",
    "FOR freebase_vs_wiki_src.wikidata_id=2685 \n",
    "\"\"\"\n",
    "\n",
    "query1 = \"\"\"\n",
    "PREDICT triples.inaccurate\n",
    "FOR triples.triple_id =2685 \n",
    "\"\"\"\n",
    "\n",
    "# FOR triples.triple_id IN (1,2,3,4,168229,155507,15727) \n",
    "\n",
    "\"\"\"\n",
    "PREDICT LIST_DISTINCT(triples.relation_id WHERE triples.inaccurate = 1, 0, 80, days)\n",
    "FOR freebase_vs_wiki_src.wikidata_id=2685  \n",
    "\"\"\"\n"
   ],
   "outputs": [
    {
     "data": {
      "text/plain": [
       "'\\nPREDICT LIST_DISTINCT(triples.relation_id WHERE triples.inaccurate = 1, 0, 80, days)\\nFOR freebase_vs_wiki_src.wikidata_id=2685  \\n'"
      ]
     },
     "execution_count": 119,
     "metadata": {},
     "output_type": "execute_result"
    }
   ],
   "execution_count": 119
  },
  {
   "metadata": {
    "ExecuteTime": {
     "end_time": "2025-08-20T23:51:57.022541Z",
     "start_time": "2025-08-20T23:51:56.903759Z"
    }
   },
   "cell_type": "code",
   "source": [
    "# all triples associated with 2685\n",
    "triple_ids_arnie=triplets.loc[triplets['src_wikidata_id']==2685].triple_id.to_list()"
   ],
   "id": "ed64f1ad-20ec-492e-a1f5-01e28446f662",
   "outputs": [],
   "execution_count": 120
  },
  {
   "cell_type": "code",
   "id": "2f808047-5e6c-440f-920d-8c68025032f0",
   "metadata": {
    "ExecuteTime": {
     "end_time": "2025-08-20T23:51:57.030418Z",
     "start_time": "2025-08-20T23:51:57.027195Z"
    }
   },
   "source": [
    "triple_ids_arnie_str = f\"{triple_ids_arnie}\"\n",
    "triple_ids_arnie_str = triple_ids_arnie_str.replace(\"[\",\"(\").replace(\"]\",\")\")"
   ],
   "outputs": [],
   "execution_count": 121
  },
  {
   "cell_type": "code",
   "id": "6220744d-ba2a-4d78-9cb2-e68a5e47b5e1",
   "metadata": {
    "ExecuteTime": {
     "end_time": "2025-08-20T23:51:57.036982Z",
     "start_time": "2025-08-20T23:51:57.035381Z"
    }
   },
   "source": [
    "query1 = \"\"\"\n",
    "PREDICT data_quality.disappove\n",
    "FOR triples.triple_id IN \"\"\" + triple_ids_arnie_str"
   ],
   "outputs": [],
   "execution_count": 122
  },
  {
   "cell_type": "code",
   "id": "01e05fc7-6820-4e48-a841-9a35ecbbb200",
   "metadata": {
    "ExecuteTime": {
     "end_time": "2025-08-20T23:51:57.181827Z",
     "start_time": "2025-08-20T23:51:57.039162Z"
    }
   },
   "source": [
    "# triples with label 1 / inaccurate facts from test set\n",
    "probe_triplet_ids_errors=triplets.loc[triplets['disapprove']==True].sample(100).triple_id.to_list()\n",
    "probe_triplet_ids_non_errors=triplets.loc[triplets['disapprove']==False].sample(100).triple_id.to_list()\n",
    "\n",
    "probe_triplet_ids_str = f\"{probe_triplet_ids_errors}\"\n",
    "probe_triplet_ids_str = probe_triplet_ids_str.replace(\"[\",\"(\").replace(\"]\",\")\")"
   ],
   "outputs": [],
   "execution_count": 123
  },
  {
   "cell_type": "code",
   "id": "a9c20a0e-e4a2-4d30-bf13-a081507bbfec",
   "metadata": {
    "ExecuteTime": {
     "end_time": "2025-08-20T23:52:19.505486Z",
     "start_time": "2025-08-20T23:51:57.185958Z"
    }
   },
   "source": [
    "probe_triplet_ids_str = f\"{probe_triplet_ids_errors}\"\n",
    "probe_triplet_ids_str = probe_triplet_ids_str.replace(\"[\",\"(\").replace(\"]\",\")\")\n",
    "# print(probe_triplet_ids_str)\n",
    "\n",
    "query1 = \"\"\"\n",
    "PREDICT AVG(data_quality.disapprove, 0, 80, days)\n",
    "FOR triples.triple_id IN \"\"\" + probe_triplet_ids_str\n",
    "\n",
    "pred1_df = model.predict(query1)\n",
    "\n",
    "probe_triplet_ids_str = f\"{probe_triplet_ids_non_errors}\"\n",
    "probe_triplet_ids_str = probe_triplet_ids_str.replace(\"[\",\"(\").replace(\"]\",\")\")\n",
    "query2 = \"\"\"\n",
    "PREDICT AVG(data_quality.disapprove, 0, 80, days)\n",
    "FOR triples.triple_id IN \"\"\" + probe_triplet_ids_str\n",
    "\n",
    "pred2_df = model.predict(query2)"
   ],
   "outputs": [
    {
     "data": {
      "text/plain": [
       "/Users/saikrishna/Documents/GitHub/kumoai_hackathon/.venv/lib/python3.13/site-packages/kumoai/experimental/rfm/rfm.\n",
       "py:360: UserWarning: Anchor timestamp is too early or aggregation time range is too large. To form proper input \n",
       "data, we would need data back to '2024-08-24 00:00:00', however, your data only contains data back to '2024-10-04 \n",
       "00:00:00'.\n",
       "  warnings.warn(f\"Anchor timestamp is too early or aggregation \"\n"
      ],
      "text/html": [
       "<pre style=\"white-space:pre;overflow-x:auto;line-height:normal;font-family:Menlo,'DejaVu Sans Mono',consolas,'Courier New',monospace\">/Users/saikrishna/Documents/GitHub/kumoai_hackathon/.venv/lib/python3.13/site-packages/kumoai/experimental/rfm/rfm.\n",
       "py:360: UserWarning: Anchor timestamp is too early or aggregation time range is too large. To form proper input \n",
       "data, we would need data back to '2024-08-24 00:00:00', however, your data only contains data back to '2024-10-04 \n",
       "00:00:00'.\n",
       "  warnings.warn(f\"Anchor timestamp is too early or aggregation \"\n",
       "</pre>\n"
      ]
     },
     "metadata": {},
     "output_type": "display_data"
    },
    {
     "data": {
      "text/plain": [
       "Output()"
      ],
      "application/vnd.jupyter.widget-view+json": {
       "version_major": 2,
       "version_minor": 0,
       "model_id": "f5b5cae678bf4d37b035285fcb440e71"
      }
     },
     "metadata": {},
     "output_type": "display_data"
    },
    {
     "data": {
      "text/plain": [],
      "text/html": [
       "<pre style=\"white-space:pre;overflow-x:auto;line-height:normal;font-family:Menlo,'DejaVu Sans Mono',consolas,'Courier New',monospace\"></pre>\n"
      ]
     },
     "metadata": {},
     "output_type": "display_data"
    },
    {
     "data": {
      "text/plain": [
       "/Users/saikrishna/Documents/GitHub/kumoai_hackathon/.venv/lib/python3.13/site-packages/kumoai/experimental/rfm/rfm.\n",
       "py:360: UserWarning: Anchor timestamp is too early or aggregation time range is too large. To form proper input \n",
       "data, we would need data back to '2024-08-24 00:00:00', however, your data only contains data back to '2024-10-04 \n",
       "00:00:00'.\n",
       "  warnings.warn(f\"Anchor timestamp is too early or aggregation \"\n"
      ],
      "text/html": [
       "<pre style=\"white-space:pre;overflow-x:auto;line-height:normal;font-family:Menlo,'DejaVu Sans Mono',consolas,'Courier New',monospace\">/Users/saikrishna/Documents/GitHub/kumoai_hackathon/.venv/lib/python3.13/site-packages/kumoai/experimental/rfm/rfm.\n",
       "py:360: UserWarning: Anchor timestamp is too early or aggregation time range is too large. To form proper input \n",
       "data, we would need data back to '2024-08-24 00:00:00', however, your data only contains data back to '2024-10-04 \n",
       "00:00:00'.\n",
       "  warnings.warn(f\"Anchor timestamp is too early or aggregation \"\n",
       "</pre>\n"
      ]
     },
     "metadata": {},
     "output_type": "display_data"
    },
    {
     "data": {
      "text/plain": [
       "Output()"
      ],
      "application/vnd.jupyter.widget-view+json": {
       "version_major": 2,
       "version_minor": 0,
       "model_id": "d75bda935eaf4bfd884506762b640056"
      }
     },
     "metadata": {},
     "output_type": "display_data"
    },
    {
     "data": {
      "text/plain": [],
      "text/html": [
       "<pre style=\"white-space:pre;overflow-x:auto;line-height:normal;font-family:Menlo,'DejaVu Sans Mono',consolas,'Courier New',monospace\"></pre>\n"
      ]
     },
     "metadata": {},
     "output_type": "display_data"
    }
   ],
   "execution_count": 124
  },
  {
   "cell_type": "code",
   "id": "cb5863c8-0214-4908-9f88-d88b9d6fea7f",
   "metadata": {
    "ExecuteTime": {
     "end_time": "2025-08-20T23:52:19.576192Z",
     "start_time": "2025-08-20T23:52:19.571729Z"
    }
   },
   "source": [
    "print(pred1_df.TARGET_PRED.describe())\n",
    "\n",
    "print(pred2_df.TARGET_PRED.describe())"
   ],
   "outputs": [
    {
     "name": "stdout",
     "output_type": "stream",
     "text": [
      "count    100.000000\n",
      "mean       0.402056\n",
      "std        0.019367\n",
      "min        0.365320\n",
      "25%        0.388034\n",
      "50%        0.402277\n",
      "75%        0.415679\n",
      "max        0.443488\n",
      "Name: TARGET_PRED, dtype: float64\n",
      "count    100.000000\n",
      "mean       0.404090\n",
      "std        0.020766\n",
      "min        0.365468\n",
      "25%        0.388119\n",
      "50%        0.404669\n",
      "75%        0.421635\n",
      "max        0.454708\n",
      "Name: TARGET_PRED, dtype: float64\n"
     ]
    }
   ],
   "execution_count": 125
  },
  {
   "cell_type": "code",
   "id": "2dda8820-8bcc-4456-a0e6-49a241cd6b9a",
   "metadata": {
    "ExecuteTime": {
     "end_time": "2025-08-20T23:52:19.598678Z",
     "start_time": "2025-08-20T23:52:19.593333Z"
    }
   },
   "source": [
    "# pred1_df.loc[pred1_df['PREDICTED']==False].sort_values(by='SCORE', ascending=False)\n",
    "pred1_df.sort_values(by='TARGET_PRED', ascending=False)"
   ],
   "outputs": [
    {
     "data": {
      "text/plain": [
       "    ENTITY  ANCHOR_TIMESTAMP  TARGET_PRED\n",
       "71   74203     1738281600000     0.443488\n",
       "87  238283     1738281600000     0.443391\n",
       "60   85995     1738281600000     0.442167\n",
       "24   21514     1738281600000     0.437735\n",
       "33  236456     1738281600000     0.435823\n",
       "..     ...               ...          ...\n",
       "16  176420     1738281600000     0.372166\n",
       "92  270099     1738281600000     0.370847\n",
       "14  212802     1738281600000     0.369565\n",
       "91  189273     1738281600000     0.369101\n",
       "94   48052     1738281600000     0.365320\n",
       "\n",
       "[100 rows x 3 columns]"
      ],
      "text/html": [
       "<div>\n",
       "<style scoped>\n",
       "    .dataframe tbody tr th:only-of-type {\n",
       "        vertical-align: middle;\n",
       "    }\n",
       "\n",
       "    .dataframe tbody tr th {\n",
       "        vertical-align: top;\n",
       "    }\n",
       "\n",
       "    .dataframe thead th {\n",
       "        text-align: right;\n",
       "    }\n",
       "</style>\n",
       "<table border=\"1\" class=\"dataframe\">\n",
       "  <thead>\n",
       "    <tr style=\"text-align: right;\">\n",
       "      <th></th>\n",
       "      <th>ENTITY</th>\n",
       "      <th>ANCHOR_TIMESTAMP</th>\n",
       "      <th>TARGET_PRED</th>\n",
       "    </tr>\n",
       "  </thead>\n",
       "  <tbody>\n",
       "    <tr>\n",
       "      <th>71</th>\n",
       "      <td>74203</td>\n",
       "      <td>1738281600000</td>\n",
       "      <td>0.443488</td>\n",
       "    </tr>\n",
       "    <tr>\n",
       "      <th>87</th>\n",
       "      <td>238283</td>\n",
       "      <td>1738281600000</td>\n",
       "      <td>0.443391</td>\n",
       "    </tr>\n",
       "    <tr>\n",
       "      <th>60</th>\n",
       "      <td>85995</td>\n",
       "      <td>1738281600000</td>\n",
       "      <td>0.442167</td>\n",
       "    </tr>\n",
       "    <tr>\n",
       "      <th>24</th>\n",
       "      <td>21514</td>\n",
       "      <td>1738281600000</td>\n",
       "      <td>0.437735</td>\n",
       "    </tr>\n",
       "    <tr>\n",
       "      <th>33</th>\n",
       "      <td>236456</td>\n",
       "      <td>1738281600000</td>\n",
       "      <td>0.435823</td>\n",
       "    </tr>\n",
       "    <tr>\n",
       "      <th>...</th>\n",
       "      <td>...</td>\n",
       "      <td>...</td>\n",
       "      <td>...</td>\n",
       "    </tr>\n",
       "    <tr>\n",
       "      <th>16</th>\n",
       "      <td>176420</td>\n",
       "      <td>1738281600000</td>\n",
       "      <td>0.372166</td>\n",
       "    </tr>\n",
       "    <tr>\n",
       "      <th>92</th>\n",
       "      <td>270099</td>\n",
       "      <td>1738281600000</td>\n",
       "      <td>0.370847</td>\n",
       "    </tr>\n",
       "    <tr>\n",
       "      <th>14</th>\n",
       "      <td>212802</td>\n",
       "      <td>1738281600000</td>\n",
       "      <td>0.369565</td>\n",
       "    </tr>\n",
       "    <tr>\n",
       "      <th>91</th>\n",
       "      <td>189273</td>\n",
       "      <td>1738281600000</td>\n",
       "      <td>0.369101</td>\n",
       "    </tr>\n",
       "    <tr>\n",
       "      <th>94</th>\n",
       "      <td>48052</td>\n",
       "      <td>1738281600000</td>\n",
       "      <td>0.365320</td>\n",
       "    </tr>\n",
       "  </tbody>\n",
       "</table>\n",
       "<p>100 rows × 3 columns</p>\n",
       "</div>"
      ]
     },
     "execution_count": 126,
     "metadata": {},
     "output_type": "execute_result"
    }
   ],
   "execution_count": 126
  },
  {
   "cell_type": "code",
   "id": "11d1c43f-4f0d-4ccc-9120-5772e9efc19a",
   "metadata": {
    "ExecuteTime": {
     "end_time": "2025-08-20T23:52:19.676669Z",
     "start_time": "2025-08-20T23:52:19.647032Z"
    }
   },
   "source": "triplets_test.loc[triplets_test['disapprove']==True].head()",
   "outputs": [
    {
     "data": {
      "text/plain": [
       "      index src_freebase_id  \\\n",
       "9144   9144        /m/0j6b5   \n",
       "9145   9145       /m/013nws   \n",
       "9146   9146        /m/09b3v   \n",
       "9147   9147      /m/06w839_   \n",
       "9148   9148        /m/0kbws   \n",
       "\n",
       "                                               relation dest_freebase_id  \\\n",
       "9144  /film/film/release_date_s./film/film_regional_...        /m/0d060g   \n",
       "9145  /location/hud_foreclosure_area/estimated_numbe...         /m/0jbk9   \n",
       "9146                 /media_common/netflix_genre/titles        /m/01jrbb   \n",
       "9147  /film/film/release_date_s./film/film_regional_...         /m/01mjq   \n",
       "9148    /olympics/olympic_games/participating_countries         /m/056vv   \n",
       "\n",
       "       timestamp                                      relation_name  \\\n",
       "9144  2025-01-02  /film/film/release_date_s./film/film_regional_...   \n",
       "9145  2025-01-02  /location/hud_foreclosure_area/estimated_numbe...   \n",
       "9146  2025-01-02                 /media_common/netflix_genre/titles   \n",
       "9147  2025-01-02  /film/film/release_date_s./film/film_regional_...   \n",
       "9148  2025-01-02    /olympics/olympic_games/participating_countries   \n",
       "\n",
       "      relation_id freebase_id_x                  label_x  src_wikidata_id  \\\n",
       "9144           13      /m/0j6b5            Spirited Away           155653   \n",
       "9145          120     /m/013nws               Eau Claire           122563   \n",
       "9146            2      /m/09b3v  The Walt Disney Company             7414   \n",
       "9147           13    /m/06w839_                  Ice Age           305250   \n",
       "9148          157      /m/0kbws     2008 Summer Olympics             8567   \n",
       "\n",
       "      ...                                            label_y dest_wikidata_id  \\\n",
       "9144  ...  United States Department of Housing and Urban ...           811595   \n",
       "9145  ...                                             Canada               16   \n",
       "9146  ...                                     Czech Republic              213   \n",
       "9147  ...                                       Finding Nemo           132863   \n",
       "9148  ...                                  Arizona Cardinals           224164   \n",
       "\n",
       "      triple_id  disapprove  wikidata_id_x                src_title  \\\n",
       "9144     283384        True       155653.0            Spirited Away   \n",
       "9145     280120        True       122563.0    Eau Claire, Wisconsin   \n",
       "9146     275023        True         7414.0  The Walt Disney Company   \n",
       "9147     275870        True       305250.0      Ice Age (2002 film)   \n",
       "9148     289246        True         8567.0     2008 Summer Olympics   \n",
       "\n",
       "                                            src_extract wikidata_id_y  \\\n",
       "9144  Spirited Away is a 2001 Japanese animated fant...      811595.0   \n",
       "9145  Eau Claire (  oh-KLAIR; French: [o klɛʁ] lit. ...          16.0   \n",
       "9146  The Walt Disney Company, commonly referred to ...         213.0   \n",
       "9147  Ice Age is a 2002 American animated adventure ...      132863.0   \n",
       "9148  The 2008 Summer Olympics (Chinese: 2008年夏季奥运会)...      224164.0   \n",
       "\n",
       "                                             dest_title  \\\n",
       "9144  United States Department of Housing and Urban ...   \n",
       "9145                                             Canada   \n",
       "9146                                     Czech Republic   \n",
       "9147                                       Finding Nemo   \n",
       "9148                                  Arizona Cardinals   \n",
       "\n",
       "                                           dest_extract  \n",
       "9144  The United States Department of Housing and Ur...  \n",
       "9145  Canada is a country in North America. Its ten ...  \n",
       "9146  The Czech Republic, also known as Czechia and ...  \n",
       "9147  Finding Nemo is a 2003 American animated comed...  \n",
       "9148  The Arizona Cardinals are a professional Ameri...  \n",
       "\n",
       "[5 rows x 21 columns]"
      ],
      "text/html": [
       "<div>\n",
       "<style scoped>\n",
       "    .dataframe tbody tr th:only-of-type {\n",
       "        vertical-align: middle;\n",
       "    }\n",
       "\n",
       "    .dataframe tbody tr th {\n",
       "        vertical-align: top;\n",
       "    }\n",
       "\n",
       "    .dataframe thead th {\n",
       "        text-align: right;\n",
       "    }\n",
       "</style>\n",
       "<table border=\"1\" class=\"dataframe\">\n",
       "  <thead>\n",
       "    <tr style=\"text-align: right;\">\n",
       "      <th></th>\n",
       "      <th>index</th>\n",
       "      <th>src_freebase_id</th>\n",
       "      <th>relation</th>\n",
       "      <th>dest_freebase_id</th>\n",
       "      <th>timestamp</th>\n",
       "      <th>relation_name</th>\n",
       "      <th>relation_id</th>\n",
       "      <th>freebase_id_x</th>\n",
       "      <th>label_x</th>\n",
       "      <th>src_wikidata_id</th>\n",
       "      <th>...</th>\n",
       "      <th>label_y</th>\n",
       "      <th>dest_wikidata_id</th>\n",
       "      <th>triple_id</th>\n",
       "      <th>disapprove</th>\n",
       "      <th>wikidata_id_x</th>\n",
       "      <th>src_title</th>\n",
       "      <th>src_extract</th>\n",
       "      <th>wikidata_id_y</th>\n",
       "      <th>dest_title</th>\n",
       "      <th>dest_extract</th>\n",
       "    </tr>\n",
       "  </thead>\n",
       "  <tbody>\n",
       "    <tr>\n",
       "      <th>9144</th>\n",
       "      <td>9144</td>\n",
       "      <td>/m/0j6b5</td>\n",
       "      <td>/film/film/release_date_s./film/film_regional_...</td>\n",
       "      <td>/m/0d060g</td>\n",
       "      <td>2025-01-02</td>\n",
       "      <td>/film/film/release_date_s./film/film_regional_...</td>\n",
       "      <td>13</td>\n",
       "      <td>/m/0j6b5</td>\n",
       "      <td>Spirited Away</td>\n",
       "      <td>155653</td>\n",
       "      <td>...</td>\n",
       "      <td>United States Department of Housing and Urban ...</td>\n",
       "      <td>811595</td>\n",
       "      <td>283384</td>\n",
       "      <td>True</td>\n",
       "      <td>155653.0</td>\n",
       "      <td>Spirited Away</td>\n",
       "      <td>Spirited Away is a 2001 Japanese animated fant...</td>\n",
       "      <td>811595.0</td>\n",
       "      <td>United States Department of Housing and Urban ...</td>\n",
       "      <td>The United States Department of Housing and Ur...</td>\n",
       "    </tr>\n",
       "    <tr>\n",
       "      <th>9145</th>\n",
       "      <td>9145</td>\n",
       "      <td>/m/013nws</td>\n",
       "      <td>/location/hud_foreclosure_area/estimated_numbe...</td>\n",
       "      <td>/m/0jbk9</td>\n",
       "      <td>2025-01-02</td>\n",
       "      <td>/location/hud_foreclosure_area/estimated_numbe...</td>\n",
       "      <td>120</td>\n",
       "      <td>/m/013nws</td>\n",
       "      <td>Eau Claire</td>\n",
       "      <td>122563</td>\n",
       "      <td>...</td>\n",
       "      <td>Canada</td>\n",
       "      <td>16</td>\n",
       "      <td>280120</td>\n",
       "      <td>True</td>\n",
       "      <td>122563.0</td>\n",
       "      <td>Eau Claire, Wisconsin</td>\n",
       "      <td>Eau Claire (  oh-KLAIR; French: [o klɛʁ] lit. ...</td>\n",
       "      <td>16.0</td>\n",
       "      <td>Canada</td>\n",
       "      <td>Canada is a country in North America. Its ten ...</td>\n",
       "    </tr>\n",
       "    <tr>\n",
       "      <th>9146</th>\n",
       "      <td>9146</td>\n",
       "      <td>/m/09b3v</td>\n",
       "      <td>/media_common/netflix_genre/titles</td>\n",
       "      <td>/m/01jrbb</td>\n",
       "      <td>2025-01-02</td>\n",
       "      <td>/media_common/netflix_genre/titles</td>\n",
       "      <td>2</td>\n",
       "      <td>/m/09b3v</td>\n",
       "      <td>The Walt Disney Company</td>\n",
       "      <td>7414</td>\n",
       "      <td>...</td>\n",
       "      <td>Czech Republic</td>\n",
       "      <td>213</td>\n",
       "      <td>275023</td>\n",
       "      <td>True</td>\n",
       "      <td>7414.0</td>\n",
       "      <td>The Walt Disney Company</td>\n",
       "      <td>The Walt Disney Company, commonly referred to ...</td>\n",
       "      <td>213.0</td>\n",
       "      <td>Czech Republic</td>\n",
       "      <td>The Czech Republic, also known as Czechia and ...</td>\n",
       "    </tr>\n",
       "    <tr>\n",
       "      <th>9147</th>\n",
       "      <td>9147</td>\n",
       "      <td>/m/06w839_</td>\n",
       "      <td>/film/film/release_date_s./film/film_regional_...</td>\n",
       "      <td>/m/01mjq</td>\n",
       "      <td>2025-01-02</td>\n",
       "      <td>/film/film/release_date_s./film/film_regional_...</td>\n",
       "      <td>13</td>\n",
       "      <td>/m/06w839_</td>\n",
       "      <td>Ice Age</td>\n",
       "      <td>305250</td>\n",
       "      <td>...</td>\n",
       "      <td>Finding Nemo</td>\n",
       "      <td>132863</td>\n",
       "      <td>275870</td>\n",
       "      <td>True</td>\n",
       "      <td>305250.0</td>\n",
       "      <td>Ice Age (2002 film)</td>\n",
       "      <td>Ice Age is a 2002 American animated adventure ...</td>\n",
       "      <td>132863.0</td>\n",
       "      <td>Finding Nemo</td>\n",
       "      <td>Finding Nemo is a 2003 American animated comed...</td>\n",
       "    </tr>\n",
       "    <tr>\n",
       "      <th>9148</th>\n",
       "      <td>9148</td>\n",
       "      <td>/m/0kbws</td>\n",
       "      <td>/olympics/olympic_games/participating_countries</td>\n",
       "      <td>/m/056vv</td>\n",
       "      <td>2025-01-02</td>\n",
       "      <td>/olympics/olympic_games/participating_countries</td>\n",
       "      <td>157</td>\n",
       "      <td>/m/0kbws</td>\n",
       "      <td>2008 Summer Olympics</td>\n",
       "      <td>8567</td>\n",
       "      <td>...</td>\n",
       "      <td>Arizona Cardinals</td>\n",
       "      <td>224164</td>\n",
       "      <td>289246</td>\n",
       "      <td>True</td>\n",
       "      <td>8567.0</td>\n",
       "      <td>2008 Summer Olympics</td>\n",
       "      <td>The 2008 Summer Olympics (Chinese: 2008年夏季奥运会)...</td>\n",
       "      <td>224164.0</td>\n",
       "      <td>Arizona Cardinals</td>\n",
       "      <td>The Arizona Cardinals are a professional Ameri...</td>\n",
       "    </tr>\n",
       "  </tbody>\n",
       "</table>\n",
       "<p>5 rows × 21 columns</p>\n",
       "</div>"
      ]
     },
     "execution_count": 127,
     "metadata": {},
     "output_type": "execute_result"
    }
   ],
   "execution_count": 127
  },
  {
   "cell_type": "markdown",
   "id": "2ac0966a-a52f-4f05-9c39-1d73a4e570d3",
   "metadata": {},
   "source": [
    "pquery_relations_for_entity = kumo.PredictiveQuery(\n",
    "\tgraph=graph,\n",
    "\tquery=query\n",
    ")\n",
    "\n",
    "pquery_relations_for_entity.validate()"
   ]
  },
  {
   "cell_type": "code",
   "id": "978d3e63-fb17-4e3d-9d8c-c8f9a98e5da8",
   "metadata": {
    "ExecuteTime": {
     "end_time": "2025-08-20T23:52:19.827834Z",
     "start_time": "2025-08-20T23:52:19.824913Z"
    }
   },
   "source": [
    "graph._to_api_graph_definition()"
   ],
   "outputs": [
    {
     "data": {
      "text/plain": [
       "GraphDefinition(tables={'triples': TableDefinition(cols=[Column(name='triple_id', stype=ID, dtype=int, timestamp_format=None), Column(name='src_wikidata_id', stype=ID, dtype=int, timestamp_format=None), Column(name='relation_id', stype=ID, dtype=int, timestamp_format=None), Column(name='dest_wikidata_id', stype=ID, dtype=int, timestamp_format=None), Column(name='timestamp', stype=timestamp, dtype=date, timestamp_format=None), Column(name='src_title', stype=text, dtype=string, timestamp_format=None), Column(name='src_extract', stype=text, dtype=string, timestamp_format=None), Column(name='dest_title', stype=text, dtype=string, timestamp_format=None), Column(name='dest_extract', stype=text, dtype=string, timestamp_format=None)], source_table=UnavailableSourceTable(table='triples', data_source_type=UNAVAILABLE), pkey='triple_id', time_col='timestamp', end_time_col=None), 'relations': TableDefinition(cols=[Column(name='relation_name', stype=text, dtype=string, timestamp_format=None), Column(name='relation_id', stype=ID, dtype=int, timestamp_format=None)], source_table=UnavailableSourceTable(table='relations', data_source_type=UNAVAILABLE), pkey='relation_id', time_col=None, end_time_col=None), 'freebase_vs_wiki_src': TableDefinition(cols=[Column(name='index', stype=numerical, dtype=int, timestamp_format=None), Column(name='freebase_id', stype=ID, dtype=string, timestamp_format=None), Column(name='label', stype=text, dtype=string, timestamp_format=None), Column(name='Title', stype=text, dtype=string, timestamp_format=None), Column(name='Extract', stype=text, dtype=string, timestamp_format=None), Column(name='wikidata_id', stype=ID, dtype=int, timestamp_format=None)], source_table=UnavailableSourceTable(table='freebase_vs_wiki_src', data_source_type=UNAVAILABLE), pkey='wikidata_id', time_col=None, end_time_col=None), 'freebase_vs_wiki_dest': TableDefinition(cols=[Column(name='level_0', stype=numerical, dtype=int, timestamp_format=None), Column(name='index', stype=numerical, dtype=int, timestamp_format=None), Column(name='freebase_id', stype=ID, dtype=string, timestamp_format=None), Column(name='label', stype=text, dtype=string, timestamp_format=None), Column(name='Title', stype=text, dtype=string, timestamp_format=None), Column(name='Extract', stype=text, dtype=string, timestamp_format=None), Column(name='wikidata_id', stype=ID, dtype=int, timestamp_format=None)], source_table=UnavailableSourceTable(table='freebase_vs_wiki_dest', data_source_type=UNAVAILABLE), pkey='wikidata_id', time_col=None, end_time_col=None), 'data_quality': TableDefinition(cols=[Column(name='index', stype=numerical, dtype=int, timestamp_format=None), Column(name='triple_id', stype=ID, dtype=int, timestamp_format=None), Column(name='disapprove', stype=numerical, dtype=int, timestamp_format=None), Column(name='id', stype=ID, dtype=int, timestamp_format=None), Column(name='created_at', stype=timestamp, dtype=date, timestamp_format=None)], source_table=UnavailableSourceTable(table='data_quality', data_source_type=UNAVAILABLE), pkey='id', time_col='created_at', end_time_col=None)}, col_groups=[ColumnKeyGroup(columns=(ColumnKey(table_name='data_quality', col_name='triple_id'), ColumnKey(table_name='triples', col_name='triple_id'))), ColumnKeyGroup(columns=(ColumnKey(table_name='relations', col_name='relation_id'), ColumnKey(table_name='triples', col_name='relation_id'))), ColumnKeyGroup(columns=(ColumnKey(table_name='freebase_vs_wiki_src', col_name='wikidata_id'), ColumnKey(table_name='triples', col_name='src_wikidata_id'))), ColumnKeyGroup(columns=(ColumnKey(table_name='freebase_vs_wiki_dest', col_name='wikidata_id'), ColumnKey(table_name='triples', col_name='dest_wikidata_id')))])"
      ]
     },
     "execution_count": 128,
     "metadata": {},
     "output_type": "execute_result"
    }
   ],
   "execution_count": 128
  },
  {
   "cell_type": "markdown",
   "id": "b216357a-ad7e-4f32-bb81-2f69027b953f",
   "metadata": {},
   "source": [
    "triplets_with_src_dst_wiki_ids_df.loc[triplets_with_src_dst_wiki_ids_df['src_wikidata_id']==2685].to_csv(\n",
    "    \"~/Downloads/arnold_schwarzenegger_outgoing_edges.csv\", index=False\n",
    ")\n"
   ]
  }
 ],
 "metadata": {
  "kernelspec": {
   "display_name": "Python 3 (ipykernel)",
   "language": "python",
   "name": "python3"
  },
  "language_info": {
   "codemirror_mode": {
    "name": "ipython",
    "version": 3
   },
   "file_extension": ".py",
   "mimetype": "text/x-python",
   "name": "python",
   "nbconvert_exporter": "python",
   "pygments_lexer": "ipython3",
   "version": "3.11.13"
  }
 },
 "nbformat": 4,
 "nbformat_minor": 5
}
