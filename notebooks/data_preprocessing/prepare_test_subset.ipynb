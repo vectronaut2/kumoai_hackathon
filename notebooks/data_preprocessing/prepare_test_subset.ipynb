{
 "cells": [
  {
   "cell_type": "code",
   "execution_count": 2,
   "id": "b44d641b-c56e-4385-8029-2811a2b34314",
   "metadata": {},
   "outputs": [],
   "source": [
    "import pandas as pd"
   ]
  },
  {
   "cell_type": "code",
   "execution_count": 4,
   "id": "3bc4603f-390c-48fd-a026-ac2d38138d12",
   "metadata": {},
   "outputs": [],
   "source": [
    "data_path = \"../datasets/fb15k-237/\""
   ]
  },
  {
   "cell_type": "code",
   "execution_count": null,
   "id": "cca8c37a-aad6-4e43-8e58-25568e061830",
   "metadata": {},
   "outputs": [],
   "source": []
  },
  {
   "cell_type": "code",
   "execution_count": 5,
   "id": "5be88dab-933d-42ca-b55d-cb4e7bb747a8",
   "metadata": {},
   "outputs": [],
   "source": [
    "column_names = ['src_freebase_id', 'relation', 'dest_freebase_id']\n",
    "triples_df = pd.read_csv(f\"{data_path}/test.txt\", header=None, names=column_names)"
   ]
  },
  {
   "cell_type": "code",
   "execution_count": null,
   "id": "0bf81e14-91eb-4797-9247-d8021b9078bc",
   "metadata": {},
   "outputs": [],
   "source": []
  },
  {
   "cell_type": "code",
   "execution_count": 7,
   "id": "3c450f18-2fb6-4b8c-9194-7c3b82fcf2ea",
   "metadata": {},
   "outputs": [],
   "source": [
    "base_date = pd.Timestamp('2025-01-02')\n",
    "\n",
    "num_triples = len(triples_df)\n",
    "# random_days_ago_integers = np.random.randint(1, 90, size=num_triples)\n",
    "# time_deltas = pd.to_timedelta(random_days_ago_integers, unit='days')\n",
    "\n",
    "triples_df['timestamp'] = base_date"
   ]
  },
  {
   "cell_type": "code",
   "execution_count": 9,
   "id": "c27415fc-5550-4023-ba73-c5a42b14823f",
   "metadata": {},
   "outputs": [],
   "source": [
    "relations_df = pd.read_csv(f\"{data_path}/derived/relations_with_ids.csv\")"
   ]
  },
  {
   "cell_type": "code",
   "execution_count": 10,
   "id": "8e7af36f-0346-4f23-ad6f-ea0fe91ae1d7",
   "metadata": {},
   "outputs": [],
   "source": [
    "freebase_vs_wiki_df =  pd.read_csv(f\"{data_path}/fb_wiki_mapping.tsv\", sep='\\t')"
   ]
  },
  {
   "cell_type": "code",
   "execution_count": 11,
   "id": "40287cb1-f028-49d1-a08c-e3d825b4a059",
   "metadata": {},
   "outputs": [],
   "source": [
    "# strip Q from wikidata id for easier use with Kumo AI\n",
    "freebase_vs_wiki_df['wikidata_int_id'] = freebase_vs_wiki_df.apply(lambda row: int(row['wikidata_id'][1:]), axis=1)\n",
    "freebase_vs_wiki_df.drop('wikidata_id', axis=1, inplace=True)\n",
    "freebase_vs_wiki_df.rename(columns={'wikidata_int_id':'wikidata_id'}, inplace=True)"
   ]
  },
  {
   "cell_type": "code",
   "execution_count": 13,
   "id": "66912023-3619-42f5-bc71-8f70b4f5d9ea",
   "metadata": {},
   "outputs": [],
   "source": [
    "triples_use_relation_id_df =  pd.merge(triples_df, relations_df, left_on ='relation', right_on='relation_name')"
   ]
  },
  {
   "cell_type": "code",
   "execution_count": 14,
   "id": "ea320f2e-f1f1-4a81-aed1-244d5ccd7596",
   "metadata": {},
   "outputs": [],
   "source": [
    "triplets_with_src_wiki_ids_df = pd.merge(triples_use_relation_id_df, freebase_vs_wiki_df, left_on='src_freebase_id', right_on='freebase_id')"
   ]
  },
  {
   "cell_type": "code",
   "execution_count": 15,
   "id": "270cc73d-e083-444e-9e5b-79c37ca4c7ae",
   "metadata": {},
   "outputs": [],
   "source": [
    "triplets_with_src_dst_wiki_ids_df = pd.merge(triplets_with_src_wiki_ids_df, freebase_vs_wiki_df, left_on='dest_freebase_id', right_on='freebase_id')"
   ]
  },
  {
   "cell_type": "code",
   "execution_count": 16,
   "id": "759e3826-a5a9-42bf-9449-35a1a2dadbaf",
   "metadata": {},
   "outputs": [
    {
     "name": "stdout",
     "output_type": "stream",
     "text": [
      "<class 'pandas.core.frame.DataFrame'>\n",
      "RangeIndex: 18286 entries, 0 to 18285\n",
      "Data columns (total 12 columns):\n",
      " #   Column            Non-Null Count  Dtype        \n",
      "---  ------            --------------  -----        \n",
      " 0   src_freebase_id   18286 non-null  object       \n",
      " 1   relation          18286 non-null  object       \n",
      " 2   dest_freebase_id  18286 non-null  object       \n",
      " 3   timestamp         18286 non-null  datetime64[s]\n",
      " 4   relation_name     18286 non-null  object       \n",
      " 5   relation_id       18286 non-null  int64        \n",
      " 6   freebase_id_x     18286 non-null  object       \n",
      " 7   label_x           18286 non-null  object       \n",
      " 8   wikidata_id_x     18286 non-null  int64        \n",
      " 9   freebase_id_y     18286 non-null  object       \n",
      " 10  label_y           18286 non-null  object       \n",
      " 11  wikidata_id_y     18286 non-null  int64        \n",
      "dtypes: datetime64[s](1), int64(3), object(8)\n",
      "memory usage: 1.7+ MB\n"
     ]
    }
   ],
   "source": [
    "triplets_with_src_dst_wiki_ids_df.info()"
   ]
  },
  {
   "cell_type": "code",
   "execution_count": 17,
   "id": "26505c88-e8a8-4589-b3ec-bb85d73a7283",
   "metadata": {},
   "outputs": [],
   "source": [
    "triplets_with_src_dst_wiki_ids_df.rename(columns={'wikidata_id_x':'src_wikidata_id', 'wikidata_id_y':'dest_wikidata_id'}, inplace=True)"
   ]
  },
  {
   "cell_type": "code",
   "execution_count": null,
   "id": "d4373b61-9eda-465c-ba84-29a2cc2c0d93",
   "metadata": {},
   "outputs": [],
   "source": []
  },
  {
   "cell_type": "code",
   "execution_count": 18,
   "id": "28ac76de-d6fa-4135-9a71-adb9b5779cb2",
   "metadata": {},
   "outputs": [],
   "source": [
    "# get max id for train\n",
    "train_triples_df = pd.read_csv(f\"{data_path}/derived/fb_train_triples.csv\")"
   ]
  },
  {
   "cell_type": "code",
   "execution_count": 20,
   "id": "6a5fa3f5-21ac-485c-b119-5417c5ad691d",
   "metadata": {},
   "outputs": [
    {
     "data": {
      "text/plain": [
       "count    272115.000000\n",
       "mean     136057.000000\n",
       "std       78552.978588\n",
       "min           0.000000\n",
       "25%       68028.500000\n",
       "50%      136057.000000\n",
       "75%      204085.500000\n",
       "max      272114.000000\n",
       "Name: triple_id, dtype: float64"
      ]
     },
     "execution_count": 20,
     "metadata": {},
     "output_type": "execute_result"
    }
   ],
   "source": [
    "train_triples_df.triple_id.describe()"
   ]
  },
  {
   "cell_type": "code",
   "execution_count": null,
   "id": "f4932000-ba4e-4443-9970-2c9517d59c59",
   "metadata": {},
   "outputs": [],
   "source": []
  },
  {
   "cell_type": "code",
   "execution_count": 23,
   "id": "a025cd13-fe66-4773-91f6-4cc2f341614a",
   "metadata": {},
   "outputs": [],
   "source": [
    "max_triple_id_train = 272114\n",
    "triplets_with_src_dst_wiki_ids_df['triple_id'] = triplets_with_src_dst_wiki_ids_df.index + max_triple_id_train + 1"
   ]
  },
  {
   "cell_type": "code",
   "execution_count": 24,
   "id": "2a3b676c-1a37-4947-b707-e45d6b8e4c17",
   "metadata": {},
   "outputs": [],
   "source": [
    "triplets_with_src_dst_wiki_ids_df.to_csv(f\"{data_path}/derived/triplets_with_src_dst_wiki_ids.test.csv\", index=False)"
   ]
  },
  {
   "cell_type": "code",
   "execution_count": null,
   "id": "b58abcac-f07b-4e37-b513-1fcb4ad0e322",
   "metadata": {},
   "outputs": [],
   "source": []
  },
  {
   "cell_type": "code",
   "execution_count": null,
   "id": "c59b41ce-96c1-4ee6-9a52-510291f81fe6",
   "metadata": {},
   "outputs": [],
   "source": []
  }
 ],
 "metadata": {
  "kernelspec": {
   "display_name": "Python [conda env:kumo-hackathon-py311] *",
   "language": "python",
   "name": "conda-env-kumo-hackathon-py311-py"
  },
  "language_info": {
   "codemirror_mode": {
    "name": "ipython",
    "version": 3
   },
   "file_extension": ".py",
   "mimetype": "text/x-python",
   "name": "python",
   "nbconvert_exporter": "python",
   "pygments_lexer": "ipython3",
   "version": "3.11.13"
  }
 },
 "nbformat": 4,
 "nbformat_minor": 5
}
