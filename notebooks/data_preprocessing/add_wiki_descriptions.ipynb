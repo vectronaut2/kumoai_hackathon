{
 "cells": [
  {
   "cell_type": "code",
   "execution_count": 1,
   "id": "9d339a47-8590-4cae-a831-f2cd2d102a01",
   "metadata": {},
   "outputs": [],
   "source": [
    "import pandas as pd"
   ]
  },
  {
   "cell_type": "code",
   "execution_count": null,
   "id": "eff90455-e00f-46c5-a23b-53bda0119f12",
   "metadata": {},
   "outputs": [],
   "source": []
  },
  {
   "cell_type": "code",
   "execution_count": 2,
   "id": "ee25ffd5-1b32-4e61-85d7-bc6ecd7f1fdb",
   "metadata": {},
   "outputs": [],
   "source": [
    "data_path = \"../../datasets/fb15k-237/\""
   ]
  },
  {
   "cell_type": "code",
   "execution_count": null,
   "id": "0eeb51bb-5fd6-4fdc-a69f-c86301c61806",
   "metadata": {},
   "outputs": [],
   "source": []
  },
  {
   "cell_type": "code",
   "execution_count": 3,
   "id": "0aecbdb7-1ab9-444f-99f4-9a75396ad3bc",
   "metadata": {},
   "outputs": [],
   "source": [
    "freebase_vs_wiki_df =  pd.read_csv(f\"{data_path}/fb_wiki_mapping.tsv\", sep='\\t')"
   ]
  },
  {
   "cell_type": "code",
   "execution_count": 4,
   "id": "c96cfe7b-9f5f-474a-809e-15892c6eda95",
   "metadata": {},
   "outputs": [
    {
     "name": "stdout",
     "output_type": "stream",
     "text": [
      "<class 'pandas.core.frame.DataFrame'>\n",
      "RangeIndex: 2096636 entries, 0 to 2096635\n",
      "Data columns (total 3 columns):\n",
      " #   Column       Dtype \n",
      "---  ------       ----- \n",
      " 0   freebase_id  object\n",
      " 1   wikidata_id  object\n",
      " 2   label        object\n",
      "dtypes: object(3)\n",
      "memory usage: 48.0+ MB\n"
     ]
    }
   ],
   "source": [
    "freebase_vs_wiki_df.info()"
   ]
  },
  {
   "cell_type": "code",
   "execution_count": 9,
   "id": "1c329870-f1a7-4753-b067-2f9d1c963c58",
   "metadata": {},
   "outputs": [
    {
     "data": {
      "text/html": [
       "<div>\n",
       "<style scoped>\n",
       "    .dataframe tbody tr th:only-of-type {\n",
       "        vertical-align: middle;\n",
       "    }\n",
       "\n",
       "    .dataframe tbody tr th {\n",
       "        vertical-align: top;\n",
       "    }\n",
       "\n",
       "    .dataframe thead th {\n",
       "        text-align: right;\n",
       "    }\n",
       "</style>\n",
       "<table border=\"1\" class=\"dataframe\">\n",
       "  <thead>\n",
       "    <tr style=\"text-align: right;\">\n",
       "      <th></th>\n",
       "      <th>freebase_id</th>\n",
       "      <th>wikidata_id</th>\n",
       "      <th>label</th>\n",
       "    </tr>\n",
       "  </thead>\n",
       "  <tbody>\n",
       "    <tr>\n",
       "      <th>0</th>\n",
       "      <td>/m/010005</td>\n",
       "      <td>Q974334</td>\n",
       "      <td>Corinth</td>\n",
       "    </tr>\n",
       "    <tr>\n",
       "      <th>1</th>\n",
       "      <td>/m/01000j</td>\n",
       "      <td>Q981582</td>\n",
       "      <td>Draper</td>\n",
       "    </tr>\n",
       "    <tr>\n",
       "      <th>2</th>\n",
       "      <td>/m/01000w</td>\n",
       "      <td>Q977417</td>\n",
       "      <td>Cross Roads</td>\n",
       "    </tr>\n",
       "    <tr>\n",
       "      <th>3</th>\n",
       "      <td>/m/010016</td>\n",
       "      <td>Q128306</td>\n",
       "      <td>Denton</td>\n",
       "    </tr>\n",
       "    <tr>\n",
       "      <th>4</th>\n",
       "      <td>/m/01001l</td>\n",
       "      <td>Q981426</td>\n",
       "      <td>Double Oak</td>\n",
       "    </tr>\n",
       "  </tbody>\n",
       "</table>\n",
       "</div>"
      ],
      "text/plain": [
       "  freebase_id wikidata_id        label\n",
       "0   /m/010005     Q974334      Corinth\n",
       "1   /m/01000j     Q981582       Draper\n",
       "2   /m/01000w     Q977417  Cross Roads\n",
       "3   /m/010016     Q128306       Denton\n",
       "4   /m/01001l     Q981426   Double Oak"
      ]
     },
     "execution_count": 9,
     "metadata": {},
     "output_type": "execute_result"
    }
   ],
   "source": [
    "freebase_vs_wiki_df.head()"
   ]
  },
  {
   "cell_type": "code",
   "execution_count": 10,
   "id": "f8c95955-a3d5-41ae-8826-349f017ff12d",
   "metadata": {},
   "outputs": [],
   "source": [
    "wiki_descriptions_df = pd.read_csv(f\"../wiki_processing/wiki_entities_text_dedup.csv\")"
   ]
  },
  {
   "cell_type": "code",
   "execution_count": 11,
   "id": "e0d9da5c-2328-46e2-8bd4-c550a0390548",
   "metadata": {},
   "outputs": [
    {
     "name": "stdout",
     "output_type": "stream",
     "text": [
      "<class 'pandas.core.frame.DataFrame'>\n",
      "RangeIndex: 13756 entries, 0 to 13755\n",
      "Data columns (total 3 columns):\n",
      " #   Column   Non-Null Count  Dtype \n",
      "---  ------   --------------  ----- \n",
      " 0   QID      13756 non-null  object\n",
      " 1   Title    13756 non-null  object\n",
      " 2   Extract  13756 non-null  object\n",
      "dtypes: object(3)\n",
      "memory usage: 322.5+ KB\n"
     ]
    }
   ],
   "source": [
    "wiki_descriptions_df.info()"
   ]
  },
  {
   "cell_type": "code",
   "execution_count": 12,
   "id": "6c05d030-2749-4842-ad54-4afad82bddd9",
   "metadata": {},
   "outputs": [
    {
     "data": {
      "text/html": [
       "<div>\n",
       "<style scoped>\n",
       "    .dataframe tbody tr th:only-of-type {\n",
       "        vertical-align: middle;\n",
       "    }\n",
       "\n",
       "    .dataframe tbody tr th {\n",
       "        vertical-align: top;\n",
       "    }\n",
       "\n",
       "    .dataframe thead th {\n",
       "        text-align: right;\n",
       "    }\n",
       "</style>\n",
       "<table border=\"1\" class=\"dataframe\">\n",
       "  <thead>\n",
       "    <tr style=\"text-align: right;\">\n",
       "      <th></th>\n",
       "      <th>QID</th>\n",
       "      <th>Title</th>\n",
       "      <th>Extract</th>\n",
       "    </tr>\n",
       "  </thead>\n",
       "  <tbody>\n",
       "    <tr>\n",
       "      <th>0</th>\n",
       "      <td>Q100</td>\n",
       "      <td>Boston</td>\n",
       "      <td>Boston is the capital and most populous city o...</td>\n",
       "    </tr>\n",
       "    <tr>\n",
       "      <th>1</th>\n",
       "      <td>Q1000</td>\n",
       "      <td>Gabon</td>\n",
       "      <td>Gabon ( gə-BON; French pronunciation: [ɡabɔ̃] ...</td>\n",
       "    </tr>\n",
       "    <tr>\n",
       "      <th>2</th>\n",
       "      <td>Q1000222</td>\n",
       "      <td>Port Huron, Michigan</td>\n",
       "      <td>Port Huron is a city in and the county seat of...</td>\n",
       "    </tr>\n",
       "    <tr>\n",
       "      <th>3</th>\n",
       "      <td>Q1000597</td>\n",
       "      <td>Burton upon Trent</td>\n",
       "      <td>Burton upon Trent, also known as Burton-on-Tre...</td>\n",
       "    </tr>\n",
       "    <tr>\n",
       "      <th>4</th>\n",
       "      <td>Q1000642</td>\n",
       "      <td>Summit, New Jersey</td>\n",
       "      <td>Summit is the northernmost city of Union Count...</td>\n",
       "    </tr>\n",
       "  </tbody>\n",
       "</table>\n",
       "</div>"
      ],
      "text/plain": [
       "        QID                 Title  \\\n",
       "0      Q100                Boston   \n",
       "1     Q1000                 Gabon   \n",
       "2  Q1000222  Port Huron, Michigan   \n",
       "3  Q1000597     Burton upon Trent   \n",
       "4  Q1000642    Summit, New Jersey   \n",
       "\n",
       "                                             Extract  \n",
       "0  Boston is the capital and most populous city o...  \n",
       "1  Gabon ( gə-BON; French pronunciation: [ɡabɔ̃] ...  \n",
       "2  Port Huron is a city in and the county seat of...  \n",
       "3  Burton upon Trent, also known as Burton-on-Tre...  \n",
       "4  Summit is the northernmost city of Union Count...  "
      ]
     },
     "execution_count": 12,
     "metadata": {},
     "output_type": "execute_result"
    }
   ],
   "source": [
    "wiki_descriptions_df.head()"
   ]
  },
  {
   "cell_type": "code",
   "execution_count": 13,
   "id": "4d46bd40-27d4-427c-814a-8da2260d8474",
   "metadata": {},
   "outputs": [],
   "source": [
    "# wiki_descriptions_df['wikidata_id'] = wiki_descriptions_df.apply(lambda row: int(row['QID'][1:]), axis=1)"
   ]
  },
  {
   "cell_type": "code",
   "execution_count": 14,
   "id": "1a867662-1baa-4c71-b5dc-5d0b2b033012",
   "metadata": {},
   "outputs": [],
   "source": [
    "df = pd.merge(freebase_vs_wiki_df, wiki_descriptions_df, left_on='wikidata_id', right_on='QID')"
   ]
  },
  {
   "cell_type": "code",
   "execution_count": 16,
   "id": "dc30ad55-351a-4453-9e10-bb1c851c43b4",
   "metadata": {},
   "outputs": [
    {
     "data": {
      "text/plain": [
       "Index(['freebase_id', 'wikidata_id', 'label', 'QID', 'Title', 'Extract'], dtype='object')"
      ]
     },
     "execution_count": 16,
     "metadata": {},
     "output_type": "execute_result"
    }
   ],
   "source": [
    "df.columns"
   ]
  },
  {
   "cell_type": "code",
   "execution_count": 17,
   "id": "d438fa96-0871-480c-b5db-6f5806c174a8",
   "metadata": {},
   "outputs": [],
   "source": [
    "df[['freebase_id', 'wikidata_id', 'label', 'Title', 'Extract']].to_csv(\n",
    "    f\"{data_path}/derived/fb_wiki_mapping_incl_wiki_extracts.csv\", index=False\n",
    ")"
   ]
  },
  {
   "cell_type": "code",
   "execution_count": null,
   "id": "c5123d00-2794-4359-a5dd-c5f5929ae9fa",
   "metadata": {},
   "outputs": [],
   "source": []
  }
 ],
 "metadata": {
  "kernelspec": {
   "display_name": "Python [conda env:kumo-hackathon-py311] *",
   "language": "python",
   "name": "conda-env-kumo-hackathon-py311-py"
  },
  "language_info": {
   "codemirror_mode": {
    "name": "ipython",
    "version": 3
   },
   "file_extension": ".py",
   "mimetype": "text/x-python",
   "name": "python",
   "nbconvert_exporter": "python",
   "pygments_lexer": "ipython3",
   "version": "3.11.13"
  }
 },
 "nbformat": 4,
 "nbformat_minor": 5
}
